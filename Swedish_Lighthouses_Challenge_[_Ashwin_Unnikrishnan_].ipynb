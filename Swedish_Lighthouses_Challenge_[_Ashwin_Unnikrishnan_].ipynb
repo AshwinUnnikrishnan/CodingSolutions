{
  "nbformat": 4,
  "nbformat_minor": 0,
  "metadata": {
    "colab": {
      "name": "Swedish Lighthouses Challenge - [ Ashwin Unnikrishnan ]",
      "provenance": [],
      "collapsed_sections": [],
      "include_colab_link": true
    },
    "kernelspec": {
      "name": "python3",
      "display_name": "Python 3"
    },
    "language_info": {
      "name": "python"
    }
  },
  "cells": [
    {
      "cell_type": "markdown",
      "metadata": {
        "id": "view-in-github",
        "colab_type": "text"
      },
      "source": [
        "<a href=\"https://colab.research.google.com/github/AshwinUnnikrishnan/Solutions/blob/master/Swedish_Lighthouses_Challenge_%5B_Ashwin_Unnikrishnan_%5D.ipynb\" target=\"_parent\"><img src=\"https://colab.research.google.com/assets/colab-badge.svg\" alt=\"Open In Colab\"/></a>"
      ]
    },
    {
      "cell_type": "markdown",
      "metadata": {
        "id": "IlQWxVjP4EUq"
      },
      "source": [
        "# Swedish Lighthouses Challenge\n"
      ]
    },
    {
      "cell_type": "markdown",
      "metadata": {
        "id": "O84gQ87s4IZi"
      },
      "source": [
        "Skydio is scoping out a project to aid the search and rescue operations of the Swedish Coast Guard. Their goal is to establish a network of docked drones along the coastline that provide a rapid response to emergency transmissions.\n",
        "\n",
        "(The Skydio Dock is a cloud-connected, weatherproof home base and charging station that enables our drones to fly without a pilot on-scene.)\n",
        "\n",
        "The customer is interested in establishing coverage from their main office in Stockholm east to the island of Vindö and then southwest to Torö.\n",
        "\n",
        "They have permission to build a dock into any lighthouse in the region. They are interested in building a route such that a drone can hop from dock to dock from Stockholm to Torö, so that they can recover their fleet and swap drones without sending humans to the lighthouses.\n",
        "\n",
        "**Submission** - Make a copy of this notebook and fill out the code and writeup. Feel free to download and run locally if helpful. Share the completed Google Colab link with us by setting the permission to *Anyone with the link can view*.\n",
        "\n",
        "**Guidelines** - This challenge tests the ability to write quality code, interact with APIs, visualize data, and employ algorithms to solve problems. We score submissions by the clarity of the code, visuals, and written documentation. We do not score by the amount of time spent, so go as deep as you like, or if you are short on time then take a simpler approach to Part 2 and 3.\n",
        "\n",
        "<img width=\"500px\" src=\"https://i.imgur.com/5H88NQ3.png\"/>"
      ]
    },
    {
      "cell_type": "markdown",
      "metadata": {
        "id": "oNKo62Ap43qC"
      },
      "source": [
        "# Part 1: Find all of the lighthouses\n",
        "\n",
        "Use [OpenStreetMap](https://en.wikipedia.org/wiki/OpenStreetMap) to find known lighthouses in the region and get that data into your notebook. OSM provides APIs to query their geographic database by structure type. Plot the lighthouses on a map using [pydeck](https://deckgl.readthedocs.io/en/latest/).\n",
        "\n",
        "Note that you are free to install python packages in colab: `!pip install pydeck`"
      ]
    },
    {
      "cell_type": "markdown",
      "source": [
        "### Learning Overpass\n"
      ],
      "metadata": {
        "id": "sr_eye0i1zxj"
      }
    },
    {
      "cell_type": "markdown",
      "source": [
        "Info about how to query in turbo [Turbo Overpass](https://wiki.openstreetmap.org/wiki/Overpass_API/Overpass_QL)\n",
        "\n",
        "How to use tags in Nodes : [Map_features](https://wiki.openstreetmap.org/wiki/Map_features)"
      ],
      "metadata": {
        "id": "X0DSA-I_13rg"
      }
    },
    {
      "cell_type": "markdown",
      "source": [
        "### Lighthouse identification summary"
      ],
      "metadata": {
        "id": "htISmF1OGiCU"
      }
    },
    {
      "cell_type": "markdown",
      "source": [
        "For finding lighthouses we are taking the 3 major points(lat and lon) as input from user.\n",
        "\n",
        "\n",
        "*   The code is written in such a way that given any set of points it will find the lighthouses covering all those points in a bounding box. The code can be reused.\n",
        "* Corner case that I am not considering for a generic solution is, where the route is more around the land rather than the shortest line between two destination. Example diagram is shown in the link .[CornerCase](https://drive.google.com/file/d/18cX4yR_VH7GpOKiax9Qm94F6lwWtrWtT/view?usp=sharing)\n",
        "* Considering the ground speed and battery time to increase the range of corner points to include more lighthouses to select from.\n",
        "      Example : Stockholm being the west most point, I am taking a longitude\n",
        "      that is 0.34 degree(20kms calculated using battery life of 28 mins( \n",
        "      reducing 2 mins for take off and landing and other corner cases )\n",
        "      and ground speed of 12 mts/second."
      ],
      "metadata": {
        "id": "YcdiRRuH-XQp"
      }
    },
    {
      "cell_type": "markdown",
      "source": [
        "### Installing pydeck and other tools"
      ],
      "metadata": {
        "id": "hyT8qyUFGpl5"
      }
    },
    {
      "cell_type": "code",
      "source": [
        "!pip install pydeck --quiet"
      ],
      "metadata": {
        "colab": {
          "base_uri": "https://localhost:8080/"
        },
        "id": "4uNRz3jsGvQ-",
        "outputId": "7a21e7be-95e9-4aeb-d029-8bfa825a04bf"
      },
      "execution_count": 1,
      "outputs": [
        {
          "output_type": "stream",
          "name": "stdout",
          "text": [
            "\u001b[K     |████████████████████████████████| 4.3 MB 5.1 MB/s \n",
            "\u001b[K     |████████████████████████████████| 132 kB 24.9 MB/s \n",
            "\u001b[K     |████████████████████████████████| 793 kB 3.9 MB/s \n",
            "\u001b[K     |████████████████████████████████| 423 kB 55.8 MB/s \n",
            "\u001b[K     |████████████████████████████████| 132 kB 13.4 MB/s \n",
            "\u001b[K     |████████████████████████████████| 381 kB 19.9 MB/s \n",
            "\u001b[31mERROR: pip's dependency resolver does not currently take into account all the packages that are installed. This behaviour is the source of the following dependency conflicts.\n",
            "nbclient 0.6.6 requires traitlets>=5.2.2, but you have traitlets 5.1.1 which is incompatible.\n",
            "jupyter-console 5.2.0 requires prompt-toolkit<2.0.0,>=1.0.0, but you have prompt-toolkit 3.0.30 which is incompatible.\n",
            "google-colab 1.0.0 requires ipykernel~=4.10, but you have ipykernel 6.15.1 which is incompatible.\n",
            "google-colab 1.0.0 requires ipython~=5.5.0, but you have ipython 7.34.0 which is incompatible.\n",
            "google-colab 1.0.0 requires tornado~=5.1.0, but you have tornado 6.2 which is incompatible.\u001b[0m\n",
            "\u001b[?25h"
          ]
        }
      ]
    },
    {
      "cell_type": "code",
      "source": [
        "!pip install osmpythontools --quiet"
      ],
      "metadata": {
        "colab": {
          "base_uri": "https://localhost:8080/"
        },
        "id": "BqKLaKsfGvt2",
        "outputId": "e37c1b09-7f13-4572-b260-e1afe9902b54"
      },
      "execution_count": 2,
      "outputs": [
        {
          "output_type": "stream",
          "name": "stdout",
          "text": [
            "  Building wheel for osmpythontools (setup.py) ... \u001b[?25l\u001b[?25hdone\n"
          ]
        }
      ]
    },
    {
      "cell_type": "markdown",
      "source": [
        "### Importing pydeck to plot the lighthouses on a"
      ],
      "metadata": {
        "id": "TIZ1npASG2uB"
      }
    },
    {
      "cell_type": "code",
      "source": [
        "import pandas as pd\n",
        "import pydeck as pdk\n",
        "from OSMPythonTools.overpass import Overpass"
      ],
      "metadata": {
        "id": "0UwG_NGVvggT"
      },
      "execution_count": 3,
      "outputs": []
    },
    {
      "cell_type": "code",
      "source": [
        "overpass = Overpass()"
      ],
      "metadata": {
        "id": "QXj8cbbsYeb7"
      },
      "execution_count": 4,
      "outputs": []
    },
    {
      "cell_type": "markdown",
      "source": [
        "### Taking input about the locations the drone should visit"
      ],
      "metadata": {
        "id": "951bR4LMYoWw"
      }
    },
    {
      "cell_type": "markdown",
      "source": [
        "Get input lat and lon list of places to visit, by default this is taken as Stockholm, Vindo and Toro"
      ],
      "metadata": {
        "id": "RFafyZGQYfnK"
      }
    },
    {
      "cell_type": "code",
      "source": [
        "#noOfPlaces = int(input(\"Enter total number of places : \"))"
      ],
      "metadata": {
        "id": "-3qaoBUCY1qn"
      },
      "execution_count": 5,
      "outputs": []
    },
    {
      "cell_type": "code",
      "source": [
        "'''placeList = []                #Stores a set containing lat and lon for each of the place\n",
        "for i in range(noOfPlaces):\n",
        "  lat = float(input(\"Enter {0} destination lat value \".format(str(i))))\n",
        "  lon = float(input(\"Enter {0} destination lon value \".format(str(i))))\n",
        "  placeList.append((lat,lon))\n",
        "'''"
      ],
      "metadata": {
        "id": "QUCOcVP0ZNCc",
        "colab": {
          "base_uri": "https://localhost:8080/",
          "height": 53
        },
        "outputId": "8b4e7d05-208f-4242-e89b-2b589a323cb4"
      },
      "execution_count": 6,
      "outputs": [
        {
          "output_type": "execute_result",
          "data": {
            "text/plain": [
              "'placeList = []                #Stores a set containing lat and lon for each of the place\\nfor i in range(noOfPlaces):\\n  lat = float(input(\"Enter {0} destination lat value \".format(str(i))))\\n  lon = float(input(\"Enter {0} destination lon value \".format(str(i))))\\n  placeList.append((lat,lon))\\n'"
            ],
            "application/vnd.google.colaboratory.intrinsic+json": {
              "type": "string"
            }
          },
          "metadata": {},
          "execution_count": 6
        }
      ]
    },
    {
      "cell_type": "markdown",
      "source": [
        "Assigning Default Values for now"
      ],
      "metadata": {
        "id": "idEo9FsPocMO"
      }
    },
    {
      "cell_type": "code",
      "source": [
        "placeList = [(59.328982, 18.068531), (59.3763143, 18.6734587), (58.834266, 17.840492)]\n",
        "placeList"
      ],
      "metadata": {
        "id": "WljBWQdbaMg5",
        "colab": {
          "base_uri": "https://localhost:8080/"
        },
        "outputId": "d5f99220-24ed-4f32-9625-122f4ee1ac27"
      },
      "execution_count": 7,
      "outputs": [
        {
          "output_type": "execute_result",
          "data": {
            "text/plain": [
              "[(59.328982, 18.068531), (59.3763143, 18.6734587), (58.834266, 17.840492)]"
            ]
          },
          "metadata": {},
          "execution_count": 7
        }
      ]
    },
    {
      "cell_type": "markdown",
      "source": [
        "### Calculating the BBox boundaries\n",
        "\n"
      ],
      "metadata": {
        "id": "jAOq6pf4PdNr"
      }
    },
    {
      "cell_type": "code",
      "source": [
        "def getBoundingBox(placeLists, droneFlightTime = 28):\n",
        "  '''\n",
        "  Based on the input of locations we find the end corners north, south, east, west\n",
        "  to find the bounding box inside which we need to find the lighthouses.\n",
        "  Extra degrees are added to max, considering the drone flight time.\n",
        "  Assuming the flight time as 28 mins instead of 30, considering time to take \n",
        "  off and land.\n",
        "  \n",
        "  Input Parameters:\n",
        "                    placeLists : List of places to consider\n",
        "                    droneFlightTime (int): Air time of the drone\n",
        "\n",
        "  Returns:  south, west, north, east : The bounding box lat and lng in all four \n",
        "                                       direction.\n",
        "  '''\n",
        "  north, south, east, west = None, None, None, None\n",
        "  for lat, lon in placeLists:\n",
        "    if south == None or lat < south:\n",
        "      south = lat\n",
        "    if north == None or lat > north:\n",
        "      north = lat\n",
        "    if west == None or lon < west:\n",
        "      west = lon\n",
        "    if east == None or lon > east:       #can combine with above as if else\n",
        "      east = lon\n",
        "\n",
        "    #Add extra coverage as drone can fly out 28 mins in any direction by default\n",
        "    #Ground Speed of Drone 12mts/second\n",
        "    #additional lat and lng it can travel = 0.18 and 0.34 degree respectively\n",
        "    # Values added here can change based on the speed and flight time and we can\n",
        "    # write function to calculate the degree\n",
        "  south -= 0.18\n",
        "  west -= 0.34\n",
        "  north += 0.18\n",
        "  east += 0.34\n",
        "    \n",
        "  return south, west, north, east\n",
        "    "
      ],
      "metadata": {
        "id": "Eyy9y_WamYKO"
      },
      "execution_count": 8,
      "outputs": []
    },
    {
      "cell_type": "code",
      "source": [
        "south, west, north, east = getBoundingBox(placeList)"
      ],
      "metadata": {
        "id": "gVbJ_dbOuuvB"
      },
      "execution_count": 9,
      "outputs": []
    },
    {
      "cell_type": "markdown",
      "source": [
        "### Getting the light house data from OSM using overpass"
      ],
      "metadata": {
        "id": "Xjzu2yZEZNGE"
      }
    },
    {
      "cell_type": "markdown",
      "source": [
        "Searching the OSM with the bounding box coordinates found for lighthouses"
      ],
      "metadata": {
        "id": "P1_cLLG-p0kM"
      }
    },
    {
      "cell_type": "code",
      "source": [
        "query = '''\n",
        "(\n",
        "  node[\"man_made\"=\"lighthouse\"]({0},{1},{2},{3});\n",
        ");\n",
        "out body;'''.format(south,west,north,east)"
      ],
      "metadata": {
        "id": "XnK3OyUTu12u"
      },
      "execution_count": 10,
      "outputs": []
    },
    {
      "cell_type": "code",
      "source": [
        "query"
      ],
      "metadata": {
        "colab": {
          "base_uri": "https://localhost:8080/",
          "height": 35
        },
        "id": "r3HW4p7_vA5D",
        "outputId": "20997db4-79b6-47e8-9d22-1caed8a90082"
      },
      "execution_count": 11,
      "outputs": [
        {
          "output_type": "execute_result",
          "data": {
            "text/plain": [
              "'\\n(\\n  node[\"man_made\"=\"lighthouse\"](58.654266,17.500492,59.5563143,19.0134587);\\n);\\nout body;'"
            ],
            "application/vnd.google.colaboratory.intrinsic+json": {
              "type": "string"
            }
          },
          "metadata": {},
          "execution_count": 11
        }
      ]
    },
    {
      "cell_type": "code",
      "source": [
        "res = overpass.query(query)"
      ],
      "metadata": {
        "colab": {
          "base_uri": "https://localhost:8080/"
        },
        "id": "VYpg5hX8vX0k",
        "outputId": "3b189fb1-1049-4ad7-8d64-e85c8fb3fb90"
      },
      "execution_count": 12,
      "outputs": [
        {
          "output_type": "stream",
          "name": "stderr",
          "text": [
            "[overpass] downloading data: [timeout:25][out:json];\n",
            "(\n",
            "  node[\"man_made\"=\"lighthouse\"](58.654266,17.500492,59.5563143,19.0134587);\n",
            ");\n",
            "out body;\n"
          ]
        }
      ]
    },
    {
      "cell_type": "code",
      "source": [
        "res.toJSON().keys()"
      ],
      "metadata": {
        "colab": {
          "base_uri": "https://localhost:8080/"
        },
        "id": "qCdIVvGXp9KB",
        "outputId": "e8da3123-fc90-4567-e82e-1fadfe50e456"
      },
      "execution_count": 13,
      "outputs": [
        {
          "output_type": "execute_result",
          "data": {
            "text/plain": [
              "dict_keys(['version', 'generator', 'osm3s', 'elements'])"
            ]
          },
          "metadata": {},
          "execution_count": 13
        }
      ]
    },
    {
      "cell_type": "code",
      "source": [
        "#filtering the elements from the resultant of overpass query\n",
        "filtered = [i for i in res.toJSON()['elements'] ]"
      ],
      "metadata": {
        "id": "w1OYLbN2vdhr"
      },
      "execution_count": 14,
      "outputs": []
    },
    {
      "cell_type": "code",
      "source": [
        "# converting the result into a dataframe to easily handle\n",
        "df = pd.DataFrame(filtered)"
      ],
      "metadata": {
        "id": "CMgtFT2WvjFJ"
      },
      "execution_count": 15,
      "outputs": []
    },
    {
      "cell_type": "code",
      "source": [
        "df.head()"
      ],
      "metadata": {
        "colab": {
          "base_uri": "https://localhost:8080/",
          "height": 206
        },
        "id": "1RRFAsjvvjvl",
        "outputId": "dea5f739-1176-44f4-f3b6-5bb2f5b16508"
      },
      "execution_count": 16,
      "outputs": [
        {
          "output_type": "execute_result",
          "data": {
            "text/plain": [
              "   type          id        lat        lon  \\\n",
              "0  node   358356239  59.320767  18.154908   \n",
              "1  node   799793245  59.256482  18.946644   \n",
              "2  node  1029352189  59.182294  18.492252   \n",
              "3  node  1029397338  59.223811  18.618563   \n",
              "4  node  1029397342  59.207756  18.565901   \n",
              "\n",
              "                                                tags  \n",
              "0  {'man_made': 'lighthouse', 'name': 'Blockhusud...  \n",
              "1  {'man_made': 'lighthouse', 'name': 'Österskär'...  \n",
              "2  {'man_made': 'lighthouse', 'name': 'Östra Sten...  \n",
              "3  {'man_made': 'lighthouse', 'name': 'Kofoten', ...  \n",
              "4  {'man_made': 'lighthouse', 'name': 'Grönö', 's...  "
            ],
            "text/html": [
              "\n",
              "  <div id=\"df-29212953-f7a7-4626-89ed-5be31ab432c4\">\n",
              "    <div class=\"colab-df-container\">\n",
              "      <div>\n",
              "<style scoped>\n",
              "    .dataframe tbody tr th:only-of-type {\n",
              "        vertical-align: middle;\n",
              "    }\n",
              "\n",
              "    .dataframe tbody tr th {\n",
              "        vertical-align: top;\n",
              "    }\n",
              "\n",
              "    .dataframe thead th {\n",
              "        text-align: right;\n",
              "    }\n",
              "</style>\n",
              "<table border=\"1\" class=\"dataframe\">\n",
              "  <thead>\n",
              "    <tr style=\"text-align: right;\">\n",
              "      <th></th>\n",
              "      <th>type</th>\n",
              "      <th>id</th>\n",
              "      <th>lat</th>\n",
              "      <th>lon</th>\n",
              "      <th>tags</th>\n",
              "    </tr>\n",
              "  </thead>\n",
              "  <tbody>\n",
              "    <tr>\n",
              "      <th>0</th>\n",
              "      <td>node</td>\n",
              "      <td>358356239</td>\n",
              "      <td>59.320767</td>\n",
              "      <td>18.154908</td>\n",
              "      <td>{'man_made': 'lighthouse', 'name': 'Blockhusud...</td>\n",
              "    </tr>\n",
              "    <tr>\n",
              "      <th>1</th>\n",
              "      <td>node</td>\n",
              "      <td>799793245</td>\n",
              "      <td>59.256482</td>\n",
              "      <td>18.946644</td>\n",
              "      <td>{'man_made': 'lighthouse', 'name': 'Österskär'...</td>\n",
              "    </tr>\n",
              "    <tr>\n",
              "      <th>2</th>\n",
              "      <td>node</td>\n",
              "      <td>1029352189</td>\n",
              "      <td>59.182294</td>\n",
              "      <td>18.492252</td>\n",
              "      <td>{'man_made': 'lighthouse', 'name': 'Östra Sten...</td>\n",
              "    </tr>\n",
              "    <tr>\n",
              "      <th>3</th>\n",
              "      <td>node</td>\n",
              "      <td>1029397338</td>\n",
              "      <td>59.223811</td>\n",
              "      <td>18.618563</td>\n",
              "      <td>{'man_made': 'lighthouse', 'name': 'Kofoten', ...</td>\n",
              "    </tr>\n",
              "    <tr>\n",
              "      <th>4</th>\n",
              "      <td>node</td>\n",
              "      <td>1029397342</td>\n",
              "      <td>59.207756</td>\n",
              "      <td>18.565901</td>\n",
              "      <td>{'man_made': 'lighthouse', 'name': 'Grönö', 's...</td>\n",
              "    </tr>\n",
              "  </tbody>\n",
              "</table>\n",
              "</div>\n",
              "      <button class=\"colab-df-convert\" onclick=\"convertToInteractive('df-29212953-f7a7-4626-89ed-5be31ab432c4')\"\n",
              "              title=\"Convert this dataframe to an interactive table.\"\n",
              "              style=\"display:none;\">\n",
              "        \n",
              "  <svg xmlns=\"http://www.w3.org/2000/svg\" height=\"24px\"viewBox=\"0 0 24 24\"\n",
              "       width=\"24px\">\n",
              "    <path d=\"M0 0h24v24H0V0z\" fill=\"none\"/>\n",
              "    <path d=\"M18.56 5.44l.94 2.06.94-2.06 2.06-.94-2.06-.94-.94-2.06-.94 2.06-2.06.94zm-11 1L8.5 8.5l.94-2.06 2.06-.94-2.06-.94L8.5 2.5l-.94 2.06-2.06.94zm10 10l.94 2.06.94-2.06 2.06-.94-2.06-.94-.94-2.06-.94 2.06-2.06.94z\"/><path d=\"M17.41 7.96l-1.37-1.37c-.4-.4-.92-.59-1.43-.59-.52 0-1.04.2-1.43.59L10.3 9.45l-7.72 7.72c-.78.78-.78 2.05 0 2.83L4 21.41c.39.39.9.59 1.41.59.51 0 1.02-.2 1.41-.59l7.78-7.78 2.81-2.81c.8-.78.8-2.07 0-2.86zM5.41 20L4 18.59l7.72-7.72 1.47 1.35L5.41 20z\"/>\n",
              "  </svg>\n",
              "      </button>\n",
              "      \n",
              "  <style>\n",
              "    .colab-df-container {\n",
              "      display:flex;\n",
              "      flex-wrap:wrap;\n",
              "      gap: 12px;\n",
              "    }\n",
              "\n",
              "    .colab-df-convert {\n",
              "      background-color: #E8F0FE;\n",
              "      border: none;\n",
              "      border-radius: 50%;\n",
              "      cursor: pointer;\n",
              "      display: none;\n",
              "      fill: #1967D2;\n",
              "      height: 32px;\n",
              "      padding: 0 0 0 0;\n",
              "      width: 32px;\n",
              "    }\n",
              "\n",
              "    .colab-df-convert:hover {\n",
              "      background-color: #E2EBFA;\n",
              "      box-shadow: 0px 1px 2px rgba(60, 64, 67, 0.3), 0px 1px 3px 1px rgba(60, 64, 67, 0.15);\n",
              "      fill: #174EA6;\n",
              "    }\n",
              "\n",
              "    [theme=dark] .colab-df-convert {\n",
              "      background-color: #3B4455;\n",
              "      fill: #D2E3FC;\n",
              "    }\n",
              "\n",
              "    [theme=dark] .colab-df-convert:hover {\n",
              "      background-color: #434B5C;\n",
              "      box-shadow: 0px 1px 3px 1px rgba(0, 0, 0, 0.15);\n",
              "      filter: drop-shadow(0px 1px 2px rgba(0, 0, 0, 0.3));\n",
              "      fill: #FFFFFF;\n",
              "    }\n",
              "  </style>\n",
              "\n",
              "      <script>\n",
              "        const buttonEl =\n",
              "          document.querySelector('#df-29212953-f7a7-4626-89ed-5be31ab432c4 button.colab-df-convert');\n",
              "        buttonEl.style.display =\n",
              "          google.colab.kernel.accessAllowed ? 'block' : 'none';\n",
              "\n",
              "        async function convertToInteractive(key) {\n",
              "          const element = document.querySelector('#df-29212953-f7a7-4626-89ed-5be31ab432c4');\n",
              "          const dataTable =\n",
              "            await google.colab.kernel.invokeFunction('convertToInteractive',\n",
              "                                                     [key], {});\n",
              "          if (!dataTable) return;\n",
              "\n",
              "          const docLinkHtml = 'Like what you see? Visit the ' +\n",
              "            '<a target=\"_blank\" href=https://colab.research.google.com/notebooks/data_table.ipynb>data table notebook</a>'\n",
              "            + ' to learn more about interactive tables.';\n",
              "          element.innerHTML = '';\n",
              "          dataTable['output_type'] = 'display_data';\n",
              "          await google.colab.output.renderOutput(dataTable, element);\n",
              "          const docLink = document.createElement('div');\n",
              "          docLink.innerHTML = docLinkHtml;\n",
              "          element.appendChild(docLink);\n",
              "        }\n",
              "      </script>\n",
              "    </div>\n",
              "  </div>\n",
              "  "
            ]
          },
          "metadata": {},
          "execution_count": 16
        }
      ]
    },
    {
      "cell_type": "code",
      "source": [
        "df.keys()"
      ],
      "metadata": {
        "colab": {
          "base_uri": "https://localhost:8080/"
        },
        "id": "VLbnx4wByxNL",
        "outputId": "323eabfe-6609-4296-92d6-a63560ba827f"
      },
      "execution_count": 17,
      "outputs": [
        {
          "output_type": "execute_result",
          "data": {
            "text/plain": [
              "Index(['type', 'id', 'lat', 'lon', 'tags'], dtype='object')"
            ]
          },
          "metadata": {},
          "execution_count": 17
        }
      ]
    },
    {
      "cell_type": "markdown",
      "source": [
        "Taking the height of the lighthouse as we can plot a 3D map in pydeck\n",
        "Some of the lighthouses have missing values for *seamark:light:1:height* so we assign 3 by default"
      ],
      "metadata": {
        "id": "Cjo-wrdVSfbG"
      }
    },
    {
      "cell_type": "code",
      "source": [
        "listOfHeight = [ h['seamark:light:1:height'] if 'seamark:light:1:height' in h.keys() else 3 for h in df['tags'] ]"
      ],
      "metadata": {
        "id": "v8OGr7SESeLZ"
      },
      "execution_count": 18,
      "outputs": []
    },
    {
      "cell_type": "code",
      "source": [
        "df['height'] = listOfHeight"
      ],
      "metadata": {
        "id": "3WmCeaHOSvQ5"
      },
      "execution_count": 19,
      "outputs": []
    },
    {
      "cell_type": "code",
      "source": [
        "df.head()"
      ],
      "metadata": {
        "colab": {
          "base_uri": "https://localhost:8080/",
          "height": 206
        },
        "id": "dJI3VxkATHne",
        "outputId": "e3c787b6-f1c9-4c16-fed3-b58abddad87c"
      },
      "execution_count": 20,
      "outputs": [
        {
          "output_type": "execute_result",
          "data": {
            "text/plain": [
              "   type          id        lat        lon  \\\n",
              "0  node   358356239  59.320767  18.154908   \n",
              "1  node   799793245  59.256482  18.946644   \n",
              "2  node  1029352189  59.182294  18.492252   \n",
              "3  node  1029397338  59.223811  18.618563   \n",
              "4  node  1029397342  59.207756  18.565901   \n",
              "\n",
              "                                                tags height  \n",
              "0  {'man_made': 'lighthouse', 'name': 'Blockhusud...      6  \n",
              "1  {'man_made': 'lighthouse', 'name': 'Österskär'...      7  \n",
              "2  {'man_made': 'lighthouse', 'name': 'Östra Sten...      3  \n",
              "3  {'man_made': 'lighthouse', 'name': 'Kofoten', ...      6  \n",
              "4  {'man_made': 'lighthouse', 'name': 'Grönö', 's...      7  "
            ],
            "text/html": [
              "\n",
              "  <div id=\"df-ab7514ed-625f-4980-8e3d-b1e3eef5175b\">\n",
              "    <div class=\"colab-df-container\">\n",
              "      <div>\n",
              "<style scoped>\n",
              "    .dataframe tbody tr th:only-of-type {\n",
              "        vertical-align: middle;\n",
              "    }\n",
              "\n",
              "    .dataframe tbody tr th {\n",
              "        vertical-align: top;\n",
              "    }\n",
              "\n",
              "    .dataframe thead th {\n",
              "        text-align: right;\n",
              "    }\n",
              "</style>\n",
              "<table border=\"1\" class=\"dataframe\">\n",
              "  <thead>\n",
              "    <tr style=\"text-align: right;\">\n",
              "      <th></th>\n",
              "      <th>type</th>\n",
              "      <th>id</th>\n",
              "      <th>lat</th>\n",
              "      <th>lon</th>\n",
              "      <th>tags</th>\n",
              "      <th>height</th>\n",
              "    </tr>\n",
              "  </thead>\n",
              "  <tbody>\n",
              "    <tr>\n",
              "      <th>0</th>\n",
              "      <td>node</td>\n",
              "      <td>358356239</td>\n",
              "      <td>59.320767</td>\n",
              "      <td>18.154908</td>\n",
              "      <td>{'man_made': 'lighthouse', 'name': 'Blockhusud...</td>\n",
              "      <td>6</td>\n",
              "    </tr>\n",
              "    <tr>\n",
              "      <th>1</th>\n",
              "      <td>node</td>\n",
              "      <td>799793245</td>\n",
              "      <td>59.256482</td>\n",
              "      <td>18.946644</td>\n",
              "      <td>{'man_made': 'lighthouse', 'name': 'Österskär'...</td>\n",
              "      <td>7</td>\n",
              "    </tr>\n",
              "    <tr>\n",
              "      <th>2</th>\n",
              "      <td>node</td>\n",
              "      <td>1029352189</td>\n",
              "      <td>59.182294</td>\n",
              "      <td>18.492252</td>\n",
              "      <td>{'man_made': 'lighthouse', 'name': 'Östra Sten...</td>\n",
              "      <td>3</td>\n",
              "    </tr>\n",
              "    <tr>\n",
              "      <th>3</th>\n",
              "      <td>node</td>\n",
              "      <td>1029397338</td>\n",
              "      <td>59.223811</td>\n",
              "      <td>18.618563</td>\n",
              "      <td>{'man_made': 'lighthouse', 'name': 'Kofoten', ...</td>\n",
              "      <td>6</td>\n",
              "    </tr>\n",
              "    <tr>\n",
              "      <th>4</th>\n",
              "      <td>node</td>\n",
              "      <td>1029397342</td>\n",
              "      <td>59.207756</td>\n",
              "      <td>18.565901</td>\n",
              "      <td>{'man_made': 'lighthouse', 'name': 'Grönö', 's...</td>\n",
              "      <td>7</td>\n",
              "    </tr>\n",
              "  </tbody>\n",
              "</table>\n",
              "</div>\n",
              "      <button class=\"colab-df-convert\" onclick=\"convertToInteractive('df-ab7514ed-625f-4980-8e3d-b1e3eef5175b')\"\n",
              "              title=\"Convert this dataframe to an interactive table.\"\n",
              "              style=\"display:none;\">\n",
              "        \n",
              "  <svg xmlns=\"http://www.w3.org/2000/svg\" height=\"24px\"viewBox=\"0 0 24 24\"\n",
              "       width=\"24px\">\n",
              "    <path d=\"M0 0h24v24H0V0z\" fill=\"none\"/>\n",
              "    <path d=\"M18.56 5.44l.94 2.06.94-2.06 2.06-.94-2.06-.94-.94-2.06-.94 2.06-2.06.94zm-11 1L8.5 8.5l.94-2.06 2.06-.94-2.06-.94L8.5 2.5l-.94 2.06-2.06.94zm10 10l.94 2.06.94-2.06 2.06-.94-2.06-.94-.94-2.06-.94 2.06-2.06.94z\"/><path d=\"M17.41 7.96l-1.37-1.37c-.4-.4-.92-.59-1.43-.59-.52 0-1.04.2-1.43.59L10.3 9.45l-7.72 7.72c-.78.78-.78 2.05 0 2.83L4 21.41c.39.39.9.59 1.41.59.51 0 1.02-.2 1.41-.59l7.78-7.78 2.81-2.81c.8-.78.8-2.07 0-2.86zM5.41 20L4 18.59l7.72-7.72 1.47 1.35L5.41 20z\"/>\n",
              "  </svg>\n",
              "      </button>\n",
              "      \n",
              "  <style>\n",
              "    .colab-df-container {\n",
              "      display:flex;\n",
              "      flex-wrap:wrap;\n",
              "      gap: 12px;\n",
              "    }\n",
              "\n",
              "    .colab-df-convert {\n",
              "      background-color: #E8F0FE;\n",
              "      border: none;\n",
              "      border-radius: 50%;\n",
              "      cursor: pointer;\n",
              "      display: none;\n",
              "      fill: #1967D2;\n",
              "      height: 32px;\n",
              "      padding: 0 0 0 0;\n",
              "      width: 32px;\n",
              "    }\n",
              "\n",
              "    .colab-df-convert:hover {\n",
              "      background-color: #E2EBFA;\n",
              "      box-shadow: 0px 1px 2px rgba(60, 64, 67, 0.3), 0px 1px 3px 1px rgba(60, 64, 67, 0.15);\n",
              "      fill: #174EA6;\n",
              "    }\n",
              "\n",
              "    [theme=dark] .colab-df-convert {\n",
              "      background-color: #3B4455;\n",
              "      fill: #D2E3FC;\n",
              "    }\n",
              "\n",
              "    [theme=dark] .colab-df-convert:hover {\n",
              "      background-color: #434B5C;\n",
              "      box-shadow: 0px 1px 3px 1px rgba(0, 0, 0, 0.15);\n",
              "      filter: drop-shadow(0px 1px 2px rgba(0, 0, 0, 0.3));\n",
              "      fill: #FFFFFF;\n",
              "    }\n",
              "  </style>\n",
              "\n",
              "      <script>\n",
              "        const buttonEl =\n",
              "          document.querySelector('#df-ab7514ed-625f-4980-8e3d-b1e3eef5175b button.colab-df-convert');\n",
              "        buttonEl.style.display =\n",
              "          google.colab.kernel.accessAllowed ? 'block' : 'none';\n",
              "\n",
              "        async function convertToInteractive(key) {\n",
              "          const element = document.querySelector('#df-ab7514ed-625f-4980-8e3d-b1e3eef5175b');\n",
              "          const dataTable =\n",
              "            await google.colab.kernel.invokeFunction('convertToInteractive',\n",
              "                                                     [key], {});\n",
              "          if (!dataTable) return;\n",
              "\n",
              "          const docLinkHtml = 'Like what you see? Visit the ' +\n",
              "            '<a target=\"_blank\" href=https://colab.research.google.com/notebooks/data_table.ipynb>data table notebook</a>'\n",
              "            + ' to learn more about interactive tables.';\n",
              "          element.innerHTML = '';\n",
              "          dataTable['output_type'] = 'display_data';\n",
              "          await google.colab.output.renderOutput(dataTable, element);\n",
              "          const docLink = document.createElement('div');\n",
              "          docLink.innerHTML = docLinkHtml;\n",
              "          element.appendChild(docLink);\n",
              "        }\n",
              "      </script>\n",
              "    </div>\n",
              "  </div>\n",
              "  "
            ]
          },
          "metadata": {},
          "execution_count": 20
        }
      ]
    },
    {
      "cell_type": "markdown",
      "source": [
        "### Creating the map with the data got from OSM"
      ],
      "metadata": {
        "id": "lYBbuPtSZXDC"
      }
    },
    {
      "cell_type": "code",
      "source": [
        "def drawMapBoxMap(df):\n",
        "  '''\n",
        "    Function to draw the map with the lng,lat values provided in the df\n",
        "    Input Parameter : \n",
        "                      df : dataframe containing the lat, lng, height of the lighthouses\n",
        "  '''\n",
        "  view_state = pdk.ViewState(**{  \n",
        "    \"latitude\": 59.196318798583725,\n",
        "    \"longitude\": 18.599920729657768,\n",
        "    \"bearing\": -1.45748987854251,\n",
        "    \"pitch\": 0.5797101449275388,\n",
        "    \"zoom\": 8,\n",
        "  })\n",
        "\n",
        "\n",
        "  column_layer = pdk.Layer(\n",
        "      \"ColumnLayer\",\n",
        "      data=df,\n",
        "      get_position=[\"lon\", \"lat\"],\n",
        "      get_elevation=\"height\",\n",
        "      elevation_scale=100,\n",
        "      radius=500,\n",
        "      min_radius = 10,\n",
        "      get_fill_color=[0, 0, 255, 140],\n",
        "      pickable=True,\n",
        "      auto_highlight=True,\n",
        "      opacity=True,\n",
        "      filled=True,\n",
        "      radiusUnits='pixels',\n",
        "\n",
        "  )\n",
        "  MAPBOX_API_KEY = \"pk.eyJ1IjoiaGlzdHJhdmVsc3RvcmllcyIsImEiOiJjbDZmYTRqa20wMWp3M2ltcTBkdWhudjdwIn0.TZUuKeVMFdSDZZtX_MPjzw\"\n",
        "  r = pdk.Deck(column_layer, \n",
        "             initial_view_state=view_state,\n",
        "             api_keys={'mapbox' : MAPBOX_API_KEY},\n",
        "             map_provider='mapbox',\n",
        "            map_style='mapbox://styles/mapbox/streets-v11',         #Styles light, dark, streets, outdoors, imagery\n",
        "  )\n",
        "  resMapBoxMap = r.to_html(notebook_display=True, iframe_height=500, iframe_width=100)"
      ],
      "metadata": {
        "id": "4BrHcHQPkojr"
      },
      "execution_count": 21,
      "outputs": []
    },
    {
      "cell_type": "markdown",
      "source": [
        "**Result of Part 1** : Shows all the lighthouses"
      ],
      "metadata": {
        "id": "c59pruhaqcpR"
      }
    },
    {
      "cell_type": "markdown",
      "source": [
        "Using a Jpeg image because the pydeck plugin randomly disconnects and shows blank map."
      ],
      "metadata": {
        "id": "_SpqkJKZoFu8"
      }
    },
    {
      "cell_type": "markdown",
      "source": [
        "![](https://drive.google.com/uc?export=view&id=1IQCdO-QgX7dB4R7WtSEXxxDWZMNuTX0p)\n"
      ],
      "metadata": {
        "id": "2lwQFb6bn9Vt"
      }
    },
    {
      "cell_type": "code",
      "source": [
        "drawMapBoxMap(df)"
      ],
      "metadata": {
        "colab": {
          "base_uri": "https://localhost:8080/",
          "height": 500
        },
        "id": "uQ_fVaZly25v",
        "outputId": "06ec06a9-2594-42e4-e7da-69cd8f3f5f3e"
      },
      "execution_count": 22,
      "outputs": [
        {
          "output_type": "display_data",
          "data": {
            "text/plain": [
              "<IPython.core.display.Javascript object>"
            ],
            "application/javascript": [
              "google.colab.output.setIframeHeight(500, true, {minHeight: 500})"
            ]
          },
          "metadata": {}
        },
        {
          "output_type": "display_data",
          "data": {
            "text/plain": [
              "<IPython.core.display.HTML object>"
            ],
            "text/html": [
              "<!DOCTYPE html>\n",
              "<html>\n",
              "  <head>\n",
              "    <meta http-equiv=\"content-type\" content=\"text/html; charset=UTF-8\" />\n",
              "    <title>pydeck</title>\n",
              "        <script src=\"https://api.tiles.mapbox.com/mapbox-gl-js/v1.13.0/mapbox-gl.js\"></script>\n",
              "        <link rel=\"stylesheet\" href=\"https://maxcdn.bootstrapcdn.com/bootstrap/3.2.0/css/bootstrap-theme.min.css\" />\n",
              "    <link rel=\"stylesheet\" href=\"https://maxcdn.bootstrapcdn.com/font-awesome/4.6.3/css/font-awesome.min.css\" />\n",
              "    <script src='https://cdn.jsdelivr.net/npm/@deck.gl/jupyter-widget@~8.5.*/dist/index.js'></script>\n",
              "    <style>\n",
              "    body {\n",
              "  margin: 0;\n",
              "  padding: 0;\n",
              "  overflow: hidden;\n",
              "}\n",
              "\n",
              "#deck-map-container {\n",
              "  width: 100%;\n",
              "  height: 100%;\n",
              "  background-color: black;\n",
              "}\n",
              "\n",
              "#map {\n",
              "  pointer-events: none;\n",
              "  height: 100%;\n",
              "  width: 100%;\n",
              "  position: absolute;\n",
              "  z-index: 1;\n",
              "}\n",
              "\n",
              "#deckgl-overlay {\n",
              "  z-index: 2;\n",
              "  background: none;\n",
              "}\n",
              "\n",
              "#deck-map-wrapper {\n",
              "  width: 100%;\n",
              "  height: 100%;\n",
              "}\n",
              "\n",
              "#deck-container {\n",
              "  width: 100vw;\n",
              "  height: 100vh;\n",
              "}\n",
              "    </style>\n",
              "  </head>\n",
              "  <body>\n",
              "    <div id=\"deck-container\">\n",
              "    </div>\n",
              "  </body>\n",
              "  <script>\n",
              "    const jsonInput = {\"initialViewState\": {\"bearing\": -1.45748987854251, \"latitude\": 59.196318798583725, \"longitude\": 18.599920729657768, \"pitch\": 0.5797101449275388, \"zoom\": 8}, \"layers\": [{\"@@type\": \"ColumnLayer\", \"autoHighlight\": true, \"data\": [{\"height\": \"6\", \"id\": 358356239, \"lat\": 59.3207673, \"lon\": 18.1549076, \"tags\": {\"man_made\": \"lighthouse\", \"name\": \"Blockhusudden\", \"seamark:light:1:character\": \"Fl\", \"seamark:light:1:colour\": \"red\", \"seamark:light:1:group\": \"2\", \"seamark:light:1:height\": \"6\", \"seamark:light:1:period\": \"6\", \"seamark:light:1:range\": \"4\", \"seamark:light:1:sector_end\": \"222\", \"seamark:light:2:character\": \"Fl\", \"seamark:light:2:colour\": \"green\", \"seamark:light:2:group\": \"2\", \"seamark:light:2:height\": \"6\", \"seamark:light:2:period\": \"6\", \"seamark:light:2:range\": \"3\", \"seamark:light:2:sector_end\": \"244\", \"seamark:light:2:sector_start\": \"222\", \"seamark:light:3:character\": \"Fl\", \"seamark:light:3:colour\": \"white\", \"seamark:light:3:group\": \"2\", \"seamark:light:3:height\": \"6\", \"seamark:light:3:period\": \"6\", \"seamark:light:3:range\": \"6\", \"seamark:light:3:sector_end\": \"86.5\", \"seamark:light:3:sector_start\": \"244\", \"seamark:light:reference\": \"C 6558\", \"seamark:name\": \"Blockhusudden\", \"seamark:type\": \"light_minor\", \"wikidata\": \"Q10431416\"}, \"type\": \"node\"}, {\"height\": \"7\", \"id\": 799793245, \"lat\": 59.2564822, \"lon\": 18.9466436, \"tags\": {\"man_made\": \"lighthouse\", \"name\": \"\\u00d6stersk\\u00e4r\", \"seamark:light:1:character\": \"Fl\", \"seamark:light:1:colour\": \"green\", \"seamark:light:1:height\": \"7\", \"seamark:light:1:period\": \"3\", \"seamark:light:1:range\": \"6\", \"seamark:light:1:sector_end\": \"118.5\", \"seamark:light:1:sector_start\": \"97\", \"seamark:light:1:sequence\": \"0.7+(2.3)\", \"seamark:light:2:character\": \"Fl\", \"seamark:light:2:colour\": \"white\", \"seamark:light:2:height\": \"7\", \"seamark:light:2:period\": \"3\", \"seamark:light:2:range\": \"6\", \"seamark:light:2:sector_end\": \"126\", \"seamark:light:2:sector_start\": \"118.5\", \"seamark:light:2:sequence\": \"0.7+(2.3)\", \"seamark:light:3:character\": \"Fl\", \"seamark:light:3:colour\": \"red\", \"seamark:light:3:height\": \"7\", \"seamark:light:3:period\": \"3\", \"seamark:light:3:range\": \"6\", \"seamark:light:3:sector_end\": \"135\", \"seamark:light:3:sector_start\": \"126\", \"seamark:light:3:sequence\": \"0.7+(2.3)\", \"seamark:light:4:character\": \"Fl\", \"seamark:light:4:colour\": \"green\", \"seamark:light:4:height\": \"7\", \"seamark:light:4:period\": \"3\", \"seamark:light:4:range\": \"6\", \"seamark:light:4:sector_end\": \"177\", \"seamark:light:4:sector_start\": \"135\", \"seamark:light:4:sequence\": \"0.7+(2.3)\", \"seamark:light:5:character\": \"Fl\", \"seamark:light:5:colour\": \"white\", \"seamark:light:5:height\": \"7\", \"seamark:light:5:period\": \"3\", \"seamark:light:5:range\": \"6\", \"seamark:light:5:sector_end\": \"191.5\", \"seamark:light:5:sector_start\": \"177\", \"seamark:light:5:sequence\": \"0.7+(2.3)\", \"seamark:light:6:character\": \"Fl\", \"seamark:light:6:colour\": \"red\", \"seamark:light:6:height\": \"7\", \"seamark:light:6:period\": \"3\", \"seamark:light:6:range\": \"6\", \"seamark:light:6:sector_end\": \"220\", \"seamark:light:6:sector_start\": \"191.5\", \"seamark:light:6:sequence\": \"0.7+(2.3)\", \"seamark:light:reference\": \"C 6488\", \"seamark:name\": \"Osterskar\", \"seamark:type\": \"light_minor\", \"wikidata\": \"Q33227459\"}, \"type\": \"node\"}, {\"height\": 3, \"id\": 1029352189, \"lat\": 59.182294, \"lon\": 18.4922522, \"tags\": {\"man_made\": \"lighthouse\", \"name\": \"\\u00d6stra Stend\\u00f6rren\", \"wikidata\": \"Q10728413\"}, \"type\": \"node\"}, {\"height\": \"6\", \"id\": 1029397338, \"lat\": 59.2238111, \"lon\": 18.6185628, \"tags\": {\"man_made\": \"lighthouse\", \"name\": \"Kofoten\", \"seamark:light:1:character\": \"Fl\", \"seamark:light:1:colour\": \"white\", \"seamark:light:1:height\": \"6\", \"seamark:light:1:period\": \"3\", \"seamark:light:1:range\": \"6\", \"seamark:light:1:sector_end\": \"0\", \"seamark:light:1:sector_start\": \"213\", \"seamark:light:1:sequence\": \"0.5+(2.5)\", \"seamark:light:2:character\": \"Fl\", \"seamark:light:2:colour\": \"green\", \"seamark:light:2:height\": \"6\", \"seamark:light:2:period\": \"3\", \"seamark:light:2:range\": \"3\", \"seamark:light:2:sector_end\": \"30\", \"seamark:light:2:sector_start\": \"0\", \"seamark:light:2:sequence\": \"0.5+(2.5)\", \"seamark:light:3:character\": \"Fl\", \"seamark:light:3:colour\": \"white\", \"seamark:light:3:height\": \"6\", \"seamark:light:3:period\": \"3\", \"seamark:light:3:range\": \"6\", \"seamark:light:3:sector_end\": \"44\", \"seamark:light:3:sector_start\": \"30\", \"seamark:light:3:sequence\": \"0.5+(2.5)\", \"seamark:light:4:character\": \"Fl\", \"seamark:light:4:colour\": \"red\", \"seamark:light:4:height\": \"6\", \"seamark:light:4:period\": \"3\", \"seamark:light:4:range\": \"4\", \"seamark:light:4:sector_end\": \"53\", \"seamark:light:4:sector_start\": \"44\", \"seamark:light:4:sequence\": \"0.5+(2.5)\", \"seamark:light:reference\": \"C 6664\", \"seamark:name\": \"Kofoten\", \"seamark:type\": \"light_minor\", \"wikidata\": \"Q33135499\"}, \"type\": \"node\"}, {\"height\": \"7\", \"id\": 1029397342, \"lat\": 59.2077557, \"lon\": 18.565901, \"tags\": {\"man_made\": \"lighthouse\", \"name\": \"Gr\\u00f6n\\u00f6\", \"seamark:light:1:character\": \"Iso\", \"seamark:light:1:colour\": \"green\", \"seamark:light:1:height\": \"7\", \"seamark:light:1:period\": \"4\", \"seamark:light:1:range\": \"3\", \"seamark:light:1:sector_end\": \"246\", \"seamark:light:1:sector_start\": \"220\", \"seamark:light:2:character\": \"Iso\", \"seamark:light:2:colour\": \"white\", \"seamark:light:2:height\": \"7\", \"seamark:light:2:period\": \"4\", \"seamark:light:2:range\": \"6\", \"seamark:light:2:sector_end\": \"307.5\", \"seamark:light:2:sector_start\": \"246\", \"seamark:light:3:character\": \"Iso\", \"seamark:light:3:colour\": \"red\", \"seamark:light:3:height\": \"7\", \"seamark:light:3:period\": \"4\", \"seamark:light:3:range\": \"4\", \"seamark:light:3:sector_end\": \"331\", \"seamark:light:3:sector_start\": \"307.5\", \"seamark:light:4:character\": \"Iso\", \"seamark:light:4:colour\": \"green\", \"seamark:light:4:height\": \"7\", \"seamark:light:4:period\": \"4\", \"seamark:light:4:range\": \"3\", \"seamark:light:4:sector_end\": \"352\", \"seamark:light:4:sector_start\": \"331\", \"seamark:light:5:character\": \"Iso\", \"seamark:light:5:colour\": \"white\", \"seamark:light:5:height\": \"7\", \"seamark:light:5:period\": \"4\", \"seamark:light:5:range\": \"6\", \"seamark:light:5:sector_end\": \"358\", \"seamark:light:5:sector_start\": \"352\", \"seamark:light:6:character\": \"Iso\", \"seamark:light:6:colour\": \"red\", \"seamark:light:6:height\": \"7\", \"seamark:light:6:period\": \"4\", \"seamark:light:6:range\": \"4\", \"seamark:light:6:sector_end\": \"15\", \"seamark:light:6:sector_start\": \"358\", \"seamark:light:7:character\": \"Iso\", \"seamark:light:7:colour\": \"green\", \"seamark:light:7:height\": \"7\", \"seamark:light:7:period\": \"4\", \"seamark:light:7:range\": \"3\", \"seamark:light:7:sector_end\": \"53.5\", \"seamark:light:7:sector_start\": \"15\", \"seamark:light:8:character\": \"Iso\", \"seamark:light:8:colour\": \"white\", \"seamark:light:8:height\": \"7\", \"seamark:light:8:period\": \"4\", \"seamark:light:8:range\": \"6\", \"seamark:light:8:sector_end\": \"79\", \"seamark:light:8:sector_start\": \"53.5\", \"seamark:light:9:character\": \"Iso\", \"seamark:light:9:colour\": \"red\", \"seamark:light:9:height\": \"7\", \"seamark:light:9:period\": \"4\", \"seamark:light:9:range\": \"4\", \"seamark:light:9:sector_end\": \"92\", \"seamark:light:9:sector_start\": \"79\", \"seamark:light:reference\": \"C 6660\", \"seamark:name\": \"Grono\", \"seamark:source\": \"US NGA Pub. 116. 2011-07-07.\", \"seamark:type\": \"light_minor\", \"wikidata\": \"Q33132000\"}, \"type\": \"node\"}, {\"height\": \"7\", \"id\": 1029397346, \"lat\": 59.2178016, \"lon\": 18.6135129, \"tags\": {\"man_made\": \"lighthouse\", \"name\": \"Kofotsgrund\", \"seamark:light:10:colour\": \"white\", \"seamark:light:10:height\": \"7\", \"seamark:light:10:period\": \"9\", \"seamark:light:10:range\": \"6\", \"seamark:light:10:sector_end\": \"220\", \"seamark:light:10:sector_start\": \"213\", \"seamark:light:11:colour\": \"red\", \"seamark:light:11:height\": \"7\", \"seamark:light:11:period\": \"9\", \"seamark:light:11:range\": \"4\", \"seamark:light:11:sector_end\": \"234\", \"seamark:light:11:sector_start\": \"220\", \"seamark:light:12:colour\": \"red\", \"seamark:light:12:height\": \"7\", \"seamark:light:12:period\": \"9\", \"seamark:light:12:range\": \"4\", \"seamark:light:12:sector_end\": \"313\", \"seamark:light:12:sector_start\": \"234\", \"seamark:light:13:colour\": \"green\", \"seamark:light:13:height\": \"7\", \"seamark:light:13:period\": \"9\", \"seamark:light:13:range\": \"3\", \"seamark:light:13:sector_end\": \"15\", \"seamark:light:13:sector_start\": \"313\", \"seamark:light:1:colour\": \"green\", \"seamark:light:1:height\": \"7\", \"seamark:light:1:period\": \"9\", \"seamark:light:1:range\": \"3\", \"seamark:light:1:sector_end\": \"35\", \"seamark:light:1:sector_start\": \"15\", \"seamark:light:2:colour\": \"white\", \"seamark:light:2:height\": \"7\", \"seamark:light:2:period\": \"9\", \"seamark:light:2:range\": \"6\", \"seamark:light:2:sector_end\": \"38.5\", \"seamark:light:2:sector_start\": \"35\", \"seamark:light:3:colour\": \"red\", \"seamark:light:3:height\": \"7\", \"seamark:light:3:period\": \"9\", \"seamark:light:3:range\": \"4\", \"seamark:light:3:sector_end\": \"49\", \"seamark:light:3:sector_start\": \"38.5\", \"seamark:light:4:colour\": \"green\", \"seamark:light:4:height\": \"7\", \"seamark:light:4:period\": \"9\", \"seamark:light:4:range\": \"3\", \"seamark:light:4:sector_end\": \"63.5\", \"seamark:light:4:sector_start\": \"49\", \"seamark:light:5:colour\": \"white\", \"seamark:light:5:height\": \"7\", \"seamark:light:5:period\": \"9\", \"seamark:light:5:range\": \"6\", \"seamark:light:5:sector_end\": \"66\", \"seamark:light:5:sector_start\": \"63.5\", \"seamark:light:6:colour\": \"red\", \"seamark:light:6:height\": \"7\", \"seamark:light:6:period\": \"9\", \"seamark:light:6:range\": \"4\", \"seamark:light:6:sector_end\": \"75\", \"seamark:light:6:sector_start\": \"66\", \"seamark:light:7:colour\": \"red\", \"seamark:light:7:height\": \"7\", \"seamark:light:7:period\": \"9\", \"seamark:light:7:range\": \"4\", \"seamark:light:7:sector_end\": \"134\", \"seamark:light:7:sector_start\": \"75\", \"seamark:light:8:colour\": \"green\", \"seamark:light:8:height\": \"7\", \"seamark:light:8:period\": \"9\", \"seamark:light:8:range\": \"3\", \"seamark:light:8:sector_end\": \"203\", \"seamark:light:8:sector_start\": \"134\", \"seamark:light:9:colour\": \"green\", \"seamark:light:9:height\": \"7\", \"seamark:light:9:period\": \"9\", \"seamark:light:9:range\": \"3\", \"seamark:light:9:sector_end\": \"213\", \"seamark:light:9:sector_start\": \"203\", \"seamark:light:reference\": \"C 6662\", \"seamark:name\": \"Kofotsgrund\", \"seamark:type\": \"light_minor\", \"wikidata\": \"Q33135546\"}, \"type\": \"node\"}, {\"height\": \"12\", \"id\": 1030597815, \"lat\": 59.4302773, \"lon\": 18.9524248, \"tags\": {\"man_made\": \"lighthouse\", \"name\": \"Stenkobbsgrund\", \"seamark:light:10:character\": \"Fl\", \"seamark:light:10:colour\": \"red\", \"seamark:light:10:group\": \"2\", \"seamark:light:10:height\": \"12\", \"seamark:light:10:period\": \"6\", \"seamark:light:10:range\": \"6\", \"seamark:light:10:sector_end\": \"78\", \"seamark:light:10:sector_start\": \"62\", \"seamark:light:11:character\": \"Fl\", \"seamark:light:11:colour\": \"red\", \"seamark:light:11:group\": \"2\", \"seamark:light:11:height\": \"12\", \"seamark:light:11:period\": \"6\", \"seamark:light:11:range\": \"6\", \"seamark:light:11:sector_end\": \"129\", \"seamark:light:11:sector_start\": \"78\", \"seamark:light:1:character\": \"Fl\", \"seamark:light:1:colour\": \"green\", \"seamark:light:1:group\": \"2\", \"seamark:light:1:height\": \"12\", \"seamark:light:1:period\": \"6\", \"seamark:light:1:range\": \"5\", \"seamark:light:1:sector_end\": \"204\", \"seamark:light:1:sector_start\": \"129\", \"seamark:light:2:character\": \"Fl\", \"seamark:light:2:colour\": \"green\", \"seamark:light:2:group\": \"2\", \"seamark:light:2:height\": \"12\", \"seamark:light:2:period\": \"6\", \"seamark:light:2:range\": \"5\", \"seamark:light:2:sector_end\": \"221\", \"seamark:light:2:sector_start\": \"204\", \"seamark:light:3:character\": \"Fl\", \"seamark:light:3:colour\": \"white\", \"seamark:light:3:group\": \"2\", \"seamark:light:3:height\": \"12\", \"seamark:light:3:period\": \"6\", \"seamark:light:3:range\": \"8\", \"seamark:light:3:sector_end\": \"224\", \"seamark:light:3:sector_start\": \"221\", \"seamark:light:4:character\": \"Fl\", \"seamark:light:4:colour\": \"red\", \"seamark:light:4:group\": \"2\", \"seamark:light:4:height\": \"12\", \"seamark:light:4:period\": \"6\", \"seamark:light:4:range\": \"6\", \"seamark:light:4:sector_end\": \"235\", \"seamark:light:4:sector_start\": \"224\", \"seamark:light:5:character\": \"Fl\", \"seamark:light:5:colour\": \"red\", \"seamark:light:5:group\": \"2\", \"seamark:light:5:height\": \"12\", \"seamark:light:5:period\": \"6\", \"seamark:light:5:range\": \"6\", \"seamark:light:5:sector_end\": \"265\", \"seamark:light:5:sector_start\": \"235\", \"seamark:light:6:character\": \"Fl\", \"seamark:light:6:colour\": \"red\", \"seamark:light:6:group\": \"2\", \"seamark:light:6:height\": \"12\", \"seamark:light:6:period\": \"6\", \"seamark:light:6:range\": \"6\", \"seamark:light:6:sector_end\": \"305\", \"seamark:light:6:sector_start\": \"265\", \"seamark:light:7:character\": \"Fl\", \"seamark:light:7:colour\": \"green\", \"seamark:light:7:group\": \"2\", \"seamark:light:7:height\": \"12\", \"seamark:light:7:period\": \"6\", \"seamark:light:7:range\": \"5\", \"seamark:light:7:sector_end\": \"47\", \"seamark:light:7:sector_start\": \"305\", \"seamark:light:8:character\": \"Fl\", \"seamark:light:8:colour\": \"green\", \"seamark:light:8:group\": \"2\", \"seamark:light:8:height\": \"12\", \"seamark:light:8:period\": \"6\", \"seamark:light:8:range\": \"5\", \"seamark:light:8:sector_end\": \"52\", \"seamark:light:8:sector_start\": \"47\", \"seamark:light:9:character\": \"Fl\", \"seamark:light:9:colour\": \"white\", \"seamark:light:9:group\": \"2\", \"seamark:light:9:height\": \"12\", \"seamark:light:9:period\": \"6\", \"seamark:light:9:range\": \"8\", \"seamark:light:9:sector_end\": \"62\", \"seamark:light:9:sector_start\": \"52\", \"seamark:light:reference\": \"C 6404\", \"seamark:name\": \"Stenkobbsgrund\", \"seamark:type\": \"light_minor\", \"wikidata\": \"Q10678552\"}, \"type\": \"node\"}, {\"height\": \"10\", \"id\": 1030597817, \"lat\": 59.4111327, \"lon\": 18.9058001, \"tags\": {\"man_made\": \"lighthouse\", \"name\": \"P\\u00e5lkobb\", \"seamark:light:1:character\": \"Fl\", \"seamark:light:1:colour\": \"green\", \"seamark:light:1:group\": \"4\", \"seamark:light:1:height\": \"10\", \"seamark:light:1:period\": \"10\", \"seamark:light:1:range\": \"5\", \"seamark:light:1:sector_end\": \"22\", \"seamark:light:1:sector_start\": \"0\", \"seamark:light:1:visibility\": \"unintensified\", \"seamark:light:2:character\": \"Fl\", \"seamark:light:2:colour\": \"green\", \"seamark:light:2:group\": \"4\", \"seamark:light:2:height\": \"10\", \"seamark:light:2:period\": \"10\", \"seamark:light:2:range\": \"5\", \"seamark:light:2:sector_end\": \"36\", \"seamark:light:2:sector_start\": \"22\", \"seamark:light:3:character\": \"Fl\", \"seamark:light:3:colour\": \"white\", \"seamark:light:3:group\": \"4\", \"seamark:light:3:height\": \"10\", \"seamark:light:3:period\": \"10\", \"seamark:light:3:range\": \"8\", \"seamark:light:3:sector_end\": \"38.5\", \"seamark:light:3:sector_start\": \"36\", \"seamark:light:4:character\": \"Fl\", \"seamark:light:4:colour\": \"red\", \"seamark:light:4:group\": \"4\", \"seamark:light:4:height\": \"10\", \"seamark:light:4:period\": \"10\", \"seamark:light:4:range\": \"6\", \"seamark:light:4:sector_end\": \"51\", \"seamark:light:4:sector_start\": \"38.5\", \"seamark:light:5:character\": \"Fl\", \"seamark:light:5:colour\": \"red\", \"seamark:light:5:group\": \"4\", \"seamark:light:5:height\": \"10\", \"seamark:light:5:period\": \"10\", \"seamark:light:5:range\": \"6\", \"seamark:light:5:sector_end\": \"135\", \"seamark:light:5:sector_start\": \"51\", \"seamark:light:5:visibility\": \"unintensified\", \"seamark:light:6:character\": \"Fl\", \"seamark:light:6:colour\": \"green\", \"seamark:light:6:group\": \"4\", \"seamark:light:6:height\": \"10\", \"seamark:light:6:period\": \"10\", \"seamark:light:6:range\": \"5\", \"seamark:light:6:sector_end\": \"211\", \"seamark:light:6:sector_start\": \"135\", \"seamark:light:6:visibility\": \"unintensified\", \"seamark:light:7:character\": \"Fl\", \"seamark:light:7:colour\": \"green\", \"seamark:light:7:group\": \"4\", \"seamark:light:7:height\": \"10\", \"seamark:light:7:period\": \"10\", \"seamark:light:7:range\": \"5\", \"seamark:light:7:sector_end\": \"225\", \"seamark:light:7:sector_start\": \"211\", \"seamark:light:8:character\": \"Fl\", \"seamark:light:8:colour\": \"white\", \"seamark:light:8:group\": \"4\", \"seamark:light:8:height\": \"10\", \"seamark:light:8:period\": \"10\", \"seamark:light:8:range\": \"8\", \"seamark:light:8:sector_end\": \"228\", \"seamark:light:8:sector_start\": \"225\", \"seamark:light:9:character\": \"Fl\", \"seamark:light:9:colour\": \"red\", \"seamark:light:9:group\": \"4\", \"seamark:light:9:height\": \"10\", \"seamark:light:9:period\": \"10\", \"seamark:light:9:range\": \"6\", \"seamark:light:9:sector_end\": \"270\", \"seamark:light:9:sector_start\": \"228\", \"seamark:light:reference\": \"C 6406\", \"seamark:name\": \"Palkobb\", \"seamark:source\": \"US NGA Pub. 116. 2011-07-07.\", \"seamark:type\": \"light_minor\", \"wikidata\": \"Q28375663\"}, \"type\": \"node\"}, {\"height\": \"13\", \"id\": 1030663100, \"lat\": 58.8569614, \"lon\": 18.015065, \"tags\": {\"man_made\": \"lighthouse\", \"name\": \"M\\u00e5sknuv\", \"seamark:light:10:character\": \"Mo\", \"seamark:light:10:colour\": \"red\", \"seamark:light:10:group\": \"A\", \"seamark:light:10:height\": \"13\", \"seamark:light:10:period\": \"8\", \"seamark:light:10:range\": \"10\", \"seamark:light:10:sector_end\": \"217.1\", \"seamark:light:10:sector_start\": \"212\", \"seamark:light:10:sequence\": \"1+(1),3+(3)\", \"seamark:light:1:character\": \"Mo\", \"seamark:light:1:colour\": \"green\", \"seamark:light:1:group\": \"A\", \"seamark:light:1:height\": \"13\", \"seamark:light:1:period\": \"8\", \"seamark:light:1:range\": \"9\", \"seamark:light:1:sector_end\": \"20\", \"seamark:light:1:sector_start\": \"9.6\", \"seamark:light:1:sequence\": \"1+(1),3+(3)\", \"seamark:light:2:character\": \"Mo\", \"seamark:light:2:colour\": \"white\", \"seamark:light:2:group\": \"A\", \"seamark:light:2:height\": \"13\", \"seamark:light:2:period\": \"8\", \"seamark:light:2:range\": \"13\", \"seamark:light:2:sector_end\": \"23\", \"seamark:light:2:sector_start\": \"20\", \"seamark:light:2:sequence\": \"1+(1),3+(3)\", \"seamark:light:3:character\": \"Mo\", \"seamark:light:3:colour\": \"red\", \"seamark:light:3:group\": \"A\", \"seamark:light:3:height\": \"13\", \"seamark:light:3:period\": \"8\", \"seamark:light:3:range\": \"10\", \"seamark:light:3:sector_end\": \"29.8\", \"seamark:light:3:sector_start\": \"23\", \"seamark:light:3:sequence\": \"1+(1),3+(3)\", \"seamark:light:4:character\": \"Mo\", \"seamark:light:4:colour\": \"white\", \"seamark:light:4:group\": \"A\", \"seamark:light:4:height\": \"13\", \"seamark:light:4:period\": \"8\", \"seamark:light:4:range\": \"13\", \"seamark:light:4:sector_end\": \"157.8\", \"seamark:light:4:sector_start\": \"29.8\", \"seamark:light:4:sequence\": \"1+(1),3+(3)\", \"seamark:light:5:character\": \"Mo\", \"seamark:light:5:colour\": \"green\", \"seamark:light:5:group\": \"A\", \"seamark:light:5:height\": \"13\", \"seamark:light:5:period\": \"8\", \"seamark:light:5:range\": \"9\", \"seamark:light:5:sector_end\": \"171.5\", \"seamark:light:5:sector_start\": \"157.8\", \"seamark:light:5:sequence\": \"1+(1),3+(3)\", \"seamark:light:6:character\": \"Mo\", \"seamark:light:6:colour\": \"white\", \"seamark:light:6:group\": \"A\", \"seamark:light:6:height\": \"13\", \"seamark:light:6:period\": \"8\", \"seamark:light:6:range\": \"13\", \"seamark:light:6:sector_end\": \"182.2\", \"seamark:light:6:sector_start\": \"171.5\", \"seamark:light:6:sequence\": \"1+(1),3+(3)\", \"seamark:light:7:character\": \"Mo\", \"seamark:light:7:colour\": \"red\", \"seamark:light:7:group\": \"A\", \"seamark:light:7:height\": \"13\", \"seamark:light:7:period\": \"8\", \"seamark:light:7:range\": \"10\", \"seamark:light:7:sector_end\": \"189.3\", \"seamark:light:7:sector_start\": \"182.2\", \"seamark:light:7:sequence\": \"1+(1),3+(3)\", \"seamark:light:8:character\": \"Mo\", \"seamark:light:8:colour\": \"green\", \"seamark:light:8:group\": \"A\", \"seamark:light:8:height\": \"13\", \"seamark:light:8:period\": \"8\", \"seamark:light:8:range\": \"9\", \"seamark:light:8:sector_end\": \"196.7\", \"seamark:light:8:sector_start\": \"189.3\", \"seamark:light:8:sequence\": \"1+(1),3+(3)\", \"seamark:light:9:character\": \"Mo\", \"seamark:light:9:colour\": \"white\", \"seamark:light:9:group\": \"A\", \"seamark:light:9:height\": \"13\", \"seamark:light:9:period\": \"8\", \"seamark:light:9:range\": \"13\", \"seamark:light:9:sector_end\": \"212\", \"seamark:light:9:sector_start\": \"196.7\", \"seamark:light:9:sequence\": \"1+(1),3+(3)\", \"seamark:light:reference\": \"C 6596\", \"seamark:name\": \"Masknuv\", \"seamark:type\": \"light_minor\", \"wikidata\": \"Q33142452\"}, \"type\": \"node\"}, {\"height\": \"3\", \"id\": 1033001746, \"lat\": 59.4690126, \"lon\": 18.4180074, \"tags\": {\"man_made\": \"lighthouse\", \"name\": \"Ek\\u00f6ren\", \"seamark:light:1:character\": \"Fl\", \"seamark:light:1:colour\": \"green\", \"seamark:light:1:height\": \"3\", \"seamark:light:1:period\": \"4\", \"seamark:light:1:range\": \"6\", \"seamark:light:1:sector_end\": \"45.5\", \"seamark:light:1:sector_start\": \"39.5\", \"seamark:light:1:sequence\": \"1+(3)\", \"seamark:light:2:character\": \"Fl\", \"seamark:light:2:colour\": \"white\", \"seamark:light:2:height\": \"3\", \"seamark:light:2:period\": \"4\", \"seamark:light:2:range\": \"10\", \"seamark:light:2:sector_end\": \"51\", \"seamark:light:2:sector_start\": \"45.5\", \"seamark:light:2:sequence\": \"1+(3)\", \"seamark:light:3:character\": \"Fl\", \"seamark:light:3:colour\": \"red\", \"seamark:light:3:height\": \"3\", \"seamark:light:3:period\": \"4\", \"seamark:light:3:range\": \"8\", \"seamark:light:3:sector_end\": \"155\", \"seamark:light:3:sector_start\": \"51\", \"seamark:light:3:sequence\": \"1+(3)\", \"seamark:light:4:character\": \"Fl\", \"seamark:light:4:colour\": \"green\", \"seamark:light:4:height\": \"3\", \"seamark:light:4:period\": \"4\", \"seamark:light:4:range\": \"6\", \"seamark:light:4:sector_end\": \"223.5\", \"seamark:light:4:sector_start\": \"155\", \"seamark:light:4:sequence\": \"1+(3)\", \"seamark:light:reference\": \"C 6448\", \"seamark:name\": \"Ekoren\", \"seamark:type\": \"light_minor\", \"wikidata\": \"Q29167228\"}, \"type\": \"node\"}, {\"height\": \"4\", \"id\": 1033001748, \"lat\": 59.4566177, \"lon\": 18.4275561, \"tags\": {\"man_made\": \"lighthouse\", \"name\": \"Mj\\u00f6lk\\u00f6\", \"seamark:light:1:character\": \"Fl\", \"seamark:light:1:colour\": \"green\", \"seamark:light:1:group\": \"2\", \"seamark:light:1:height\": \"4\", \"seamark:light:1:period\": \"6\", \"seamark:light:1:range\": \"7\", \"seamark:light:1:sector_end\": \"195.5\", \"seamark:light:1:sector_start\": \"184\", \"seamark:light:1:sequence\": \"0.5+(1),0.5+(4)\", \"seamark:light:2:character\": \"Fl\", \"seamark:light:2:colour\": \"white\", \"seamark:light:2:group\": \"2\", \"seamark:light:2:height\": \"4\", \"seamark:light:2:period\": \"6\", \"seamark:light:2:range\": \"10\", \"seamark:light:2:sector_end\": \"203.5\", \"seamark:light:2:sector_start\": \"195.5\", \"seamark:light:2:sequence\": \"0.5+(1),0.5+(4)\", \"seamark:light:3:character\": \"Fl\", \"seamark:light:3:colour\": \"red\", \"seamark:light:3:group\": \"2\", \"seamark:light:3:height\": \"4\", \"seamark:light:3:period\": \"6\", \"seamark:light:3:range\": \"8\", \"seamark:light:3:sector_end\": \"307.5\", \"seamark:light:3:sector_start\": \"203.5\", \"seamark:light:3:sequence\": \"0.5+(1),0.5+(4)\", \"seamark:light:4:character\": \"Fl\", \"seamark:light:4:colour\": \"green\", \"seamark:light:4:group\": \"2\", \"seamark:light:4:height\": \"4\", \"seamark:light:4:period\": \"6\", \"seamark:light:4:range\": \"7\", \"seamark:light:4:sector_end\": \"353\", \"seamark:light:4:sector_start\": \"307.5\", \"seamark:light:4:sequence\": \"0.5+(1),0.5+(4)\", \"seamark:light:5:character\": \"Fl\", \"seamark:light:5:colour\": \"white\", \"seamark:light:5:group\": \"2\", \"seamark:light:5:height\": \"4\", \"seamark:light:5:period\": \"6\", \"seamark:light:5:range\": \"10\", \"seamark:light:5:sector_end\": \"28.5\", \"seamark:light:5:sector_start\": \"353\", \"seamark:light:5:sequence\": \"0.5+(1),0.5+(4)\", \"seamark:light:6:character\": \"Fl\", \"seamark:light:6:colour\": \"red\", \"seamark:light:6:group\": \"2\", \"seamark:light:6:height\": \"4\", \"seamark:light:6:period\": \"6\", \"seamark:light:6:range\": \"8\", \"seamark:light:6:sector_end\": \"39\", \"seamark:light:6:sector_start\": \"28.5\", \"seamark:light:6:sequence\": \"0.5+(1),0.5+(4)\", \"seamark:light:reference\": \"C 6446\", \"seamark:name\": \"Mjolko\", \"seamark:type\": \"light_minor\", \"wikidata\": \"Q33141889\"}, \"type\": \"node\"}, {\"height\": \"3\", \"id\": 1033001753, \"lat\": 59.4532248, \"lon\": 18.3874517, \"tags\": {\"man_made\": \"lighthouse\", \"name\": \"Lerviksudde\", \"seamark:light:1:character\": \"Fl\", \"seamark:light:1:colour\": \"green\", \"seamark:light:1:group\": \"2\", \"seamark:light:1:height\": \"3\", \"seamark:light:1:period\": \"6\", \"seamark:light:1:range\": \"7\", \"seamark:light:1:sector_end\": \"222.5\", \"seamark:light:1:sector_start\": \"185\", \"seamark:light:2:character\": \"Fl\", \"seamark:light:2:colour\": \"white\", \"seamark:light:2:group\": \"2\", \"seamark:light:2:height\": \"3\", \"seamark:light:2:period\": \"6\", \"seamark:light:2:range\": \"10\", \"seamark:light:2:sector_end\": \"224.5\", \"seamark:light:2:sector_start\": \"222.5\", \"seamark:light:3:character\": \"Fl\", \"seamark:light:3:colour\": \"red\", \"seamark:light:3:group\": \"2\", \"seamark:light:3:height\": \"3\", \"seamark:light:3:period\": \"6\", \"seamark:light:3:range\": \"8\", \"seamark:light:3:sector_end\": \"262\", \"seamark:light:3:sector_start\": \"224.5\", \"seamark:light:reference\": \"C 6450\", \"seamark:name\": \"Lerviksudde\", \"seamark:type\": \"light_minor\", \"wikidata\": \"Q32276945\"}, \"type\": \"node\"}, {\"height\": \"6\", \"id\": 1033001756, \"lat\": 59.4453718, \"lon\": 18.4162908, \"tags\": {\"man_made\": \"lighthouse\", \"name\": \"\\u00d6stra \\u00c4lg\\u00f6grund\", \"seamark:light:1:character\": \"Iso\", \"seamark:light:1:colour\": \"green\", \"seamark:light:1:height\": \"6\", \"seamark:light:1:period\": \"4\", \"seamark:light:1:range\": \"4\", \"seamark:light:1:sector_end\": \"216\", \"seamark:light:1:sector_start\": \"200\", \"seamark:light:2:character\": \"Iso\", \"seamark:light:2:colour\": \"white\", \"seamark:light:2:height\": \"6\", \"seamark:light:2:period\": \"4\", \"seamark:light:2:range\": \"7\", \"seamark:light:2:sector_end\": \"244\", \"seamark:light:2:sector_start\": \"216\", \"seamark:light:3:character\": \"Iso\", \"seamark:light:3:colour\": \"red\", \"seamark:light:3:height\": \"6\", \"seamark:light:3:period\": \"4\", \"seamark:light:3:range\": \"5\", \"seamark:light:3:sector_end\": \"271\", \"seamark:light:3:sector_start\": \"244\", \"seamark:light:4:character\": \"Iso\", \"seamark:light:4:colour\": \"green\", \"seamark:light:4:height\": \"6\", \"seamark:light:4:period\": \"4\", \"seamark:light:4:range\": \"4\", \"seamark:light:4:sector_end\": \"283\", \"seamark:light:4:sector_start\": \"271\", \"seamark:light:5:character\": \"Iso\", \"seamark:light:5:colour\": \"white\", \"seamark:light:5:height\": \"6\", \"seamark:light:5:period\": \"4\", \"seamark:light:5:range\": \"7\", \"seamark:light:5:sector_end\": \"53.5\", \"seamark:light:5:sector_start\": \"283\", \"seamark:light:6:character\": \"Iso\", \"seamark:light:6:colour\": \"white\", \"seamark:light:6:height\": \"6\", \"seamark:light:6:period\": \"4\", \"seamark:light:6:range\": \"7\", \"seamark:light:6:sector_end\": \"65.5\", \"seamark:light:6:sector_start\": \"53.5\", \"seamark:light:reference\": \"C 6452\", \"seamark:name\": \"Ostra Alogrundet\", \"seamark:type\": \"light_minor\", \"wikidata\": \"Q33227913\"}, \"type\": \"node\"}, {\"height\": \"3\", \"id\": 1033001764, \"lat\": 59.5316063, \"lon\": 18.5478026, \"tags\": {\"man_made\": \"lighthouse\", \"name\": \"Ryssmasterna\", \"seamark:light:1:character\": \"Fl\", \"seamark:light:1:colour\": \"green\", \"seamark:light:1:height\": \"3\", \"seamark:light:1:period\": \"6\", \"seamark:light:1:range\": \"7\", \"seamark:light:1:sector_end\": \"52.3\", \"seamark:light:1:sector_start\": \"46\", \"seamark:light:1:sequence\": \"1+(5)\", \"seamark:light:2:character\": \"Fl\", \"seamark:light:2:colour\": \"white\", \"seamark:light:2:height\": \"3\", \"seamark:light:2:period\": \"6\", \"seamark:light:2:range\": \"10\", \"seamark:light:2:sector_end\": \"52.9\", \"seamark:light:2:sector_start\": \"52.3\", \"seamark:light:2:sequence\": \"1+(5)\", \"seamark:light:3:character\": \"Fl\", \"seamark:light:3:colour\": \"red\", \"seamark:light:3:height\": \"3\", \"seamark:light:3:period\": \"6\", \"seamark:light:3:range\": \"8\", \"seamark:light:3:sector_end\": \"142\", \"seamark:light:3:sector_start\": \"52.9\", \"seamark:light:3:sequence\": \"1+(5)\", \"seamark:light:4:character\": \"Fl\", \"seamark:light:4:colour\": \"green\", \"seamark:light:4:height\": \"3\", \"seamark:light:4:period\": \"6\", \"seamark:light:4:range\": \"7\", \"seamark:light:4:sector_end\": \"232.5\", \"seamark:light:4:sector_start\": \"145\", \"seamark:light:4:sequence\": \"1+(5)\", \"seamark:light:5:character\": \"Fl\", \"seamark:light:5:colour\": \"white\", \"seamark:light:5:period\": \"6\", \"seamark:light:5:sector_end\": \"236.2\", \"seamark:light:5:sector_start\": \"232.5\", \"seamark:light:5:sequence\": \"1+(5)\", \"seamark:light:6:character\": \"Fl\", \"seamark:light:6:colour\": \"red\", \"seamark:light:6:period\": \"6\", \"seamark:light:6:sector_end\": \"241\", \"seamark:light:6:sector_start\": \"236.2\", \"seamark:light:6:sequence\": \"1+(5)\", \"seamark:light:reference\": \"C 6432\", \"seamark:name\": \"Ryssmasterna\", \"seamark:type\": \"light_minor\", \"wikidata\": \"Q28375691\"}, \"type\": \"node\"}, {\"height\": \"3\", \"id\": 1033001766, \"lat\": 59.5233845, \"lon\": 18.5208326, \"tags\": {\"man_made\": \"lighthouse\", \"name\": \"Gullholmen\", \"seamark:light:1:character\": \"Fl\", \"seamark:light:1:colour\": \"green\", \"seamark:light:1:group\": \"2\", \"seamark:light:1:height\": \"3\", \"seamark:light:1:period\": \"6\", \"seamark:light:1:range\": \"6\", \"seamark:light:1:sector_end\": \"1\", \"seamark:light:1:sector_start\": \"230\", \"seamark:light:2:character\": \"Fl\", \"seamark:light:2:colour\": \"white\", \"seamark:light:2:group\": \"2\", \"seamark:light:2:height\": \"3\", \"seamark:light:2:period\": \"6\", \"seamark:light:2:range\": \"10\", \"seamark:light:2:sector_end\": \"8\", \"seamark:light:2:sector_start\": \"1\", \"seamark:light:3:character\": \"Fl\", \"seamark:light:3:colour\": \"red\", \"seamark:light:3:group\": \"2\", \"seamark:light:3:height\": \"3\", \"seamark:light:3:period\": \"6\", \"seamark:light:3:range\": \"7\", \"seamark:light:3:sector_end\": \"56\", \"seamark:light:3:sector_start\": \"8\", \"seamark:light:reference\": \"C 6433\", \"seamark:name\": \"Gullholmen\", \"seamark:type\": \"light_minor\", \"wikidata\": \"Q33133916\"}, \"type\": \"node\"}, {\"height\": \"5\", \"id\": 1033001769, \"lat\": 59.5122384, \"lon\": 18.4942251, \"tags\": {\"man_made\": \"lighthouse\", \"name\": \"Nykvarnsholm\", \"seamark:light:1:character\": \"Iso\", \"seamark:light:1:colour\": \"green\", \"seamark:light:1:height\": \"5\", \"seamark:light:1:period\": \"4\", \"seamark:light:1:range\": \"6\", \"seamark:light:1:sector_end\": \"235\", \"seamark:light:1:sector_start\": \"200\", \"seamark:light:2:character\": \"Iso\", \"seamark:light:2:colour\": \"white\", \"seamark:light:2:height\": \"5\", \"seamark:light:2:period\": \"4\", \"seamark:light:2:range\": \"10\", \"seamark:light:2:sector_end\": \"54\", \"seamark:light:2:sector_start\": \"235\", \"seamark:light:3:character\": \"Iso\", \"seamark:light:3:colour\": \"red\", \"seamark:light:3:height\": \"5\", \"seamark:light:3:period\": \"4\", \"seamark:light:3:range\": \"7\", \"seamark:light:3:sector_end\": \"100\", \"seamark:light:3:sector_start\": \"54\", \"seamark:light:reference\": \"C 6440\", \"seamark:name\": \"Nykvarnsholmen\", \"seamark:type\": \"light_minor\", \"source\": \"US NGA Pub. 116. 2011-07-07.\", \"wikidata\": \"Q28375680\"}, \"type\": \"node\"}, {\"height\": \"3\", \"id\": 1033001774, \"lat\": 59.5024786, \"lon\": 18.5174352, \"tags\": {\"man_made\": \"lighthouse\", \"name\": \"Sandkullen\", \"seamark:light:1:character\": \"Iso\", \"seamark:light:1:colour\": \"green\", \"seamark:light:1:height\": \"3\", \"seamark:light:1:period\": \"4\", \"seamark:light:1:range\": \"7\", \"seamark:light:1:sector_end\": \"28.5\", \"seamark:light:1:sector_start\": \"21\", \"seamark:light:2:character\": \"Iso\", \"seamark:light:2:colour\": \"white\", \"seamark:light:2:height\": \"3\", \"seamark:light:2:period\": \"4\", \"seamark:light:2:range\": \"10\", \"seamark:light:2:sector_end\": \"40.5\", \"seamark:light:2:sector_start\": \"28.5\", \"seamark:light:3:character\": \"Iso\", \"seamark:light:3:colour\": \"red\", \"seamark:light:3:height\": \"3\", \"seamark:light:3:period\": \"4\", \"seamark:light:3:range\": \"7\", \"seamark:light:3:sector_end\": \"113\", \"seamark:light:3:sector_start\": \"40.5\", \"seamark:light:4:character\": \"Iso\", \"seamark:light:4:colour\": \"green\", \"seamark:light:4:height\": \"3\", \"seamark:light:4:period\": \"4\", \"seamark:light:4:range\": \"7\", \"seamark:light:4:sector_end\": \"174\", \"seamark:light:4:sector_start\": \"113\", \"seamark:light:reference\": \"C 6434\", \"seamark:name\": \"Sandkullen\", \"seamark:type\": \"light_minor\", \"source:position\": \"bing; ekonomiska\", \"wikidata\": \"Q33181084\"}, \"type\": \"node\"}, {\"height\": \"7\", \"id\": 1033001776, \"lat\": 59.4977779, \"lon\": 18.4592061, \"tags\": {\"man_made\": \"lighthouse\", \"name\": \"Vallersvik\", \"seamark:light:1:character\": \"Fl\", \"seamark:light:1:colour\": \"green\", \"seamark:light:1:group\": \"4\", \"seamark:light:1:height\": \"7\", \"seamark:light:1:period\": \"12\", \"seamark:light:1:range\": \"6\", \"seamark:light:1:sector_end\": \"231.5\", \"seamark:light:1:sector_start\": \"223\", \"seamark:light:1:sequence\": \"0.8+(1.2),0.8+(1.2),0.8+(1.2),0.8+(5.2)\", \"seamark:light:2:character\": \"Fl\", \"seamark:light:2:colour\": \"white\", \"seamark:light:2:group\": \"4\", \"seamark:light:2:height\": \"7\", \"seamark:light:2:period\": \"12\", \"seamark:light:2:range\": \"10\", \"seamark:light:2:sector_end\": \"234.5\", \"seamark:light:2:sector_start\": \"231.5\", \"seamark:light:2:sequence\": \"0.8+(1.2),0.8+(1.2),0.8+(1.2),0.8+(5.2)\", \"seamark:light:3:character\": \"Fl\", \"seamark:light:3:colour\": \"red\", \"seamark:light:3:group\": \"4\", \"seamark:light:3:height\": \"7\", \"seamark:light:3:period\": \"12\", \"seamark:light:3:range\": \"8\", \"seamark:light:3:sequence\": \"0.8+(1.2),0.8+(1.2),0.8+(1.2),0.8+(5.2)\", \"seamark:light:reference\": \"C 6444\", \"seamark:name\": \"Vallersvik\", \"seamark:type\": \"light_minor\", \"wikidata\": \"Q33198204\"}, \"type\": \"node\"}, {\"height\": 3, \"id\": 1033008551, \"lat\": 59.4427844, \"lon\": 18.4399153, \"tags\": {\"man_made\": \"lighthouse\", \"name\": \"Bjur\\u00f6grund\", \"wikidata\": \"Q33129589\"}, \"type\": \"node\"}, {\"height\": \"4\", \"id\": 1033008568, \"lat\": 59.4327159, \"lon\": 18.4977441, \"tags\": {\"man_made\": \"lighthouse\", \"name\": \"Val\\u00f6arna\", \"seamark:light:1:character\": \"Fl\", \"seamark:light:1:colour\": \"green\", \"seamark:light:1:group\": \"4\", \"seamark:light:1:height\": \"4\", \"seamark:light:1:period\": \"12\", \"seamark:light:1:range\": \"3\", \"seamark:light:1:sector_end\": \"329\", \"seamark:light:1:sector_start\": \"320\", \"seamark:light:1:sequence\": \"0.8+(1),0.8+(1),0.8+(1),0.8+(5.8)\", \"seamark:light:2:character\": \"Fl\", \"seamark:light:2:colour\": \"white\", \"seamark:light:2:group\": \"4\", \"seamark:light:2:height\": \"4\", \"seamark:light:2:period\": \"12\", \"seamark:light:2:range\": \"6\", \"seamark:light:2:sector_end\": \"338\", \"seamark:light:2:sector_start\": \"329\", \"seamark:light:2:sequence\": \"0.8+(1),0.8+(1),0.8+(1),0.8+(5.8)\", \"seamark:light:3:character\": \"Fl\", \"seamark:light:3:colour\": \"red\", \"seamark:light:3:group\": \"4\", \"seamark:light:3:height\": \"4\", \"seamark:light:3:period\": \"12\", \"seamark:light:3:range\": \"4\", \"seamark:light:3:sector_end\": \"34\", \"seamark:light:3:sector_start\": \"338\", \"seamark:light:3:sequence\": \"0.8+(1),0.8+(1),0.8+(1),0.8+(5.8)\", \"seamark:light:4:character\": \"Fl\", \"seamark:light:4:colour\": \"green\", \"seamark:light:4:group\": \"4\", \"seamark:light:4:height\": \"4\", \"seamark:light:4:period\": \"12\", \"seamark:light:4:range\": \"3\", \"seamark:light:4:sector_end\": \"104.5\", \"seamark:light:4:sector_start\": \"34\", \"seamark:light:4:sequence\": \"0.8+(1),0.8+(1),0.8+(1),0.8+(5.8)\", \"seamark:light:5:character\": \"Fl\", \"seamark:light:5:colour\": \"white\", \"seamark:light:5:group\": \"4\", \"seamark:light:5:height\": \"4\", \"seamark:light:5:period\": \"12\", \"seamark:light:5:range\": \"6\", \"seamark:light:5:sector_end\": \"107.5\", \"seamark:light:5:sector_start\": \"104.5\", \"seamark:light:5:sequence\": \"0.8+(1),0.8+(1),0.8+(1),0.8+(5.8)\", \"seamark:light:6:character\": \"Fl\", \"seamark:light:6:colour\": \"red\", \"seamark:light:6:group\": \"4\", \"seamark:light:6:height\": \"4\", \"seamark:light:6:period\": \"12\", \"seamark:light:6:range\": \"4\", \"seamark:light:6:sector_end\": \"124\", \"seamark:light:6:sector_start\": \"107.5\", \"seamark:light:6:sequence\": \"0.8+(1),0.8+(1),0.8+(1),0.8+(5.8)\", \"seamark:light:7:character\": \"Fl\", \"seamark:light:7:colour\": \"green\", \"seamark:light:7:group\": \"4\", \"seamark:light:7:height\": \"4\", \"seamark:light:7:period\": \"12\", \"seamark:light:7:range\": \"3\", \"seamark:light:7:sector_end\": \"188\", \"seamark:light:7:sector_start\": \"124\", \"seamark:light:7:sequence\": \"0.8+(1),0.8+(1),0.8+(1),0.8+(5.8)\", \"seamark:light:8:character\": \"Fl\", \"seamark:light:8:colour\": \"white\", \"seamark:light:8:group\": \"4\", \"seamark:light:8:height\": \"4\", \"seamark:light:8:period\": \"12\", \"seamark:light:8:range\": \"6\", \"seamark:light:8:sector_end\": \"240\", \"seamark:light:8:sector_start\": \"188\", \"seamark:light:8:sequence\": \"0.8+(1),0.8+(1),0.8+(1),0.8+(5.8)\", \"seamark:light:9:character\": \"Fl\", \"seamark:light:9:colour\": \"red\", \"seamark:light:9:group\": \"4\", \"seamark:light:9:height\": \"4\", \"seamark:light:9:period\": \"12\", \"seamark:light:9:range\": \"4\", \"seamark:light:9:sector_end\": \"270\", \"seamark:light:9:sector_start\": \"240\", \"seamark:light:9:sequence\": \"0.8+(1),0.8+(1),0.8+(1),0.8+(5.8)\", \"seamark:light:reference\": \"C 6454\", \"seamark:name\": \"Valoarna\", \"seamark:type\": \"light_minor\", \"wikidata\": \"Q33198330\"}, \"type\": \"node\"}, {\"height\": 3, \"id\": 1033008574, \"lat\": 59.4206775, \"lon\": 18.501467, \"tags\": {\"man_made\": \"lighthouse\", \"name\": \"Lindalen \\u00f6vre\", \"seamark:light:category\": \"upper\", \"seamark:light:character\": \"Q\", \"seamark:light:colour\": \"white\", \"seamark:light:height\": \"13\", \"seamark:light:range\": \"9\", \"seamark:light:reference\": \"C 6518.1\", \"seamark:type\": \"light_minor\", \"wikidata\": \"Q34766233\"}, \"type\": \"node\"}, {\"height\": \"5\", \"id\": 1033028456, \"lat\": 59.4275977, \"lon\": 18.3656936, \"tags\": {\"man_made\": \"lighthouse\", \"name\": \"V\\u00e4stra R\\u00f6nnholmen\", \"seamark:light:1:character\": \"Q\", \"seamark:light:1:colour\": \"white\", \"seamark:light:1:height\": \"5\", \"seamark:light:1:range\": \"5\", \"seamark:light:1:sector_end\": \"206\", \"seamark:light:2:character\": \"Q\", \"seamark:light:2:colour\": \"red\", \"seamark:light:2:height\": \"5\", \"seamark:light:2:range\": \"3\", \"seamark:light:2:sector_end\": \"220\", \"seamark:light:2:sector_start\": \"206\", \"seamark:light:3:character\": \"Q\", \"seamark:light:3:colour\": \"green\", \"seamark:light:3:height\": \"5\", \"seamark:light:3:range\": \"3\", \"seamark:light:3:sector_end\": \"224\", \"seamark:light:3:sector_start\": \"220\", \"seamark:light:4:character\": \"Q\", \"seamark:light:4:colour\": \"white\", \"seamark:light:4:height\": \"5\", \"seamark:light:4:range\": \"5\", \"seamark:light:4:sector_end\": \"236\", \"seamark:light:4:sector_start\": \"224\", \"seamark:light:5:character\": \"Q\", \"seamark:light:5:colour\": \"red\", \"seamark:light:5:height\": \"5\", \"seamark:light:5:range\": \"3\", \"seamark:light:5:sector_start\": \"236\", \"seamark:light:reference\": \"C 6525\", \"seamark:name\": \"Vastra Ronnholmen\", \"seamark:type\": \"light_minor\", \"wikidata\": \"Q33225232\"}, \"type\": \"node\"}, {\"height\": \"6\", \"id\": 1033028460, \"lat\": 59.3617991, \"lon\": 18.4522968, \"tags\": {\"man_made\": \"lighthouse\", \"name\": \"S\\u00f6dern\\u00e4s\", \"seamark:light:1:character\": \"Fl\", \"seamark:light:1:colour\": \"green\", \"seamark:light:1:height\": \"6\", \"seamark:light:1:period\": \"3\", \"seamark:light:1:range\": \"3\", \"seamark:light:1:sector_end\": \"49.5\", \"seamark:light:1:sector_start\": \"336\", \"seamark:light:2:character\": \"Fl\", \"seamark:light:2:colour\": \"white\", \"seamark:light:2:height\": \"6\", \"seamark:light:2:period\": \"3\", \"seamark:light:2:range\": \"6\", \"seamark:light:2:sector_end\": \"70\", \"seamark:light:2:sector_start\": \"49.5\", \"seamark:light:3:character\": \"Fl\", \"seamark:light:3:colour\": \"red\", \"seamark:light:3:height\": \"6\", \"seamark:light:3:period\": \"3\", \"seamark:light:3:range\": \"4\", \"seamark:light:3:sector_end\": \"97\", \"seamark:light:3:sector_start\": \"70\", \"seamark:light:4:character\": \"Fl\", \"seamark:light:4:colour\": \"green\", \"seamark:light:4:height\": \"6\", \"seamark:light:4:period\": \"3\", \"seamark:light:4:range\": \"3\", \"seamark:light:4:sector_end\": \"158\", \"seamark:light:4:sector_start\": \"97\", \"seamark:light:5:character\": \"Fl\", \"seamark:light:5:colour\": \"white\", \"seamark:light:5:height\": \"6\", \"seamark:light:5:period\": \"3\", \"seamark:light:5:range\": \"6\", \"seamark:light:5:sector_end\": \"175\", \"seamark:light:5:sector_start\": \"158\", \"seamark:light:6:character\": \"Fl\", \"seamark:light:6:colour\": \"red\", \"seamark:light:6:height\": \"6\", \"seamark:light:6:period\": \"3\", \"seamark:light:6:range\": \"4\", \"seamark:light:6:sector_end\": \"181\", \"seamark:light:6:sector_start\": \"175\", \"seamark:light:reference\": \"C 6572\", \"seamark:name\": \"Sodernas\", \"seamark:type\": \"light_minor\", \"wikidata\": \"Q28375626\"}, \"type\": \"node\"}, {\"height\": \"6\", \"id\": 1033028467, \"lat\": 59.358584, \"lon\": 18.4150892, \"tags\": {\"man_made\": \"lighthouse\", \"name\": \"Lagn\\u00f6grund\", \"seamark:light:1:character\": \"Fl\", \"seamark:light:1:colour\": \"green\", \"seamark:light:1:group\": \"3\", \"seamark:light:1:height\": \"6\", \"seamark:light:1:period\": \"4\", \"seamark:light:1:range\": \"6\", \"seamark:light:1:sector_end\": \"135\", \"seamark:light:1:sector_start\": \"108\", \"seamark:light:2:character\": \"Fl\", \"seamark:light:2:colour\": \"red\", \"seamark:light:2:group\": \"3\", \"seamark:light:2:height\": \"6\", \"seamark:light:2:period\": \"4\", \"seamark:light:2:range\": \"7\", \"seamark:light:2:sector_end\": \"187\", \"seamark:light:2:sector_start\": \"135\", \"seamark:light:3:character\": \"Fl\", \"seamark:light:3:colour\": \"green\", \"seamark:light:3:group\": \"3\", \"seamark:light:3:height\": \"6\", \"seamark:light:3:period\": \"4\", \"seamark:light:3:range\": \"6\", \"seamark:light:3:sector_end\": \"271.5\", \"seamark:light:3:sector_start\": \"187\", \"seamark:light:4:character\": \"Fl\", \"seamark:light:4:colour\": \"white\", \"seamark:light:4:group\": \"3\", \"seamark:light:4:height\": \"6\", \"seamark:light:4:period\": \"4\", \"seamark:light:4:range\": \"10\", \"seamark:light:4:sector_end\": \"298\", \"seamark:light:4:sector_start\": \"271.5\", \"seamark:light:reference\": \"C 6571\", \"seamark:name\": \"Lagnogrundet\", \"seamark:radar_reflector\": \"yes\", \"seamark:type\": \"light_minor\", \"wikidata\": \"Q33137877\"}, \"type\": \"node\"}, {\"height\": \"5\", \"id\": 1033028470, \"lat\": 59.3714207, \"lon\": 18.3891683, \"tags\": {\"man_made\": \"lighthouse\", \"name\": \"Tynning\\u00f6\", \"seamark:light:1:character\": \"Fl\", \"seamark:light:1:colour\": \"green\", \"seamark:light:1:group\": \"2\", \"seamark:light:1:height\": \"5\", \"seamark:light:1:period\": \"6\", \"seamark:light:1:range\": \"3\", \"seamark:light:1:sector_end\": \"306\", \"seamark:light:1:sector_start\": \"294\", \"seamark:light:2:character\": \"Fl\", \"seamark:light:2:colour\": \"white\", \"seamark:light:2:group\": \"2\", \"seamark:light:2:height\": \"5\", \"seamark:light:2:period\": \"6\", \"seamark:light:2:range\": \"6\", \"seamark:light:2:sector_end\": \"311.5\", \"seamark:light:2:sector_start\": \"306\", \"seamark:light:3:character\": \"Fl\", \"seamark:light:3:colour\": \"red\", \"seamark:light:3:group\": \"2\", \"seamark:light:3:height\": \"5\", \"seamark:light:3:period\": \"6\", \"seamark:light:3:range\": \"4\", \"seamark:light:3:sector_end\": \"343\", \"seamark:light:3:sector_start\": \"311.5\", \"seamark:light:4:character\": \"Fl\", \"seamark:light:4:colour\": \"white\", \"seamark:light:4:group\": \"2\", \"seamark:light:4:height\": \"5\", \"seamark:light:4:period\": \"6\", \"seamark:light:4:range\": \"6\", \"seamark:light:4:sector_end\": \"101\", \"seamark:light:4:sector_start\": \"343\", \"seamark:light:5:character\": \"Fl\", \"seamark:light:5:colour\": \"red\", \"seamark:light:5:group\": \"2\", \"seamark:light:5:height\": \"5\", \"seamark:light:5:period\": \"6\", \"seamark:light:5:range\": \"4\", \"seamark:light:5:sector_end\": \"120\", \"seamark:light:5:sector_start\": \"101\", \"seamark:light:reference\": \"C 6570\", \"seamark:name\": \"Tynningo\", \"seamark:type\": \"light_minor\", \"wikidata\": \"Q33196430\"}, \"type\": \"node\"}, {\"height\": \"2\", \"id\": 1033028474, \"lat\": 59.4216793, \"lon\": 18.485516, \"tags\": {\"man_made\": \"lighthouse\", \"name\": \"Lindalen nedre\", \"seamark:light:1:category\": \"lower\", \"seamark:light:1:character\": \"Iso\", \"seamark:light:1:colour\": \"green\", \"seamark:light:1:height\": \"2\", \"seamark:light:1:period\": \"4\", \"seamark:light:1:range\": \"3\", \"seamark:light:1:sector_end\": \"295\", \"seamark:light:1:sector_start\": \"265\", \"seamark:light:2:category\": \"lower\", \"seamark:light:2:character\": \"Iso\", \"seamark:light:2:colour\": \"white\", \"seamark:light:2:height\": \"2\", \"seamark:light:2:period\": \"4\", \"seamark:light:2:range\": \"6\", \"seamark:light:2:sector_end\": \"305.5\", \"seamark:light:2:sector_start\": \"295\", \"seamark:light:3:category\": \"lower\", \"seamark:light:3:character\": \"Iso\", \"seamark:light:3:colour\": \"red\", \"seamark:light:3:height\": \"2\", \"seamark:light:3:period\": \"4\", \"seamark:light:3:range\": \"4\", \"seamark:light:3:sector_end\": \"83\", \"seamark:light:3:sector_start\": \"305.5\", \"seamark:light:4:category\": \"lower\", \"seamark:light:4:character\": \"Iso\", \"seamark:light:4:colour\": \"green\", \"seamark:light:4:height\": \"2\", \"seamark:light:4:period\": \"4\", \"seamark:light:4:range\": \"3\", \"seamark:light:4:sector_end\": \"96\", \"seamark:light:4:sector_start\": \"83\", \"seamark:light:reference\": \"C 6518\", \"seamark:name\": \"Lindalen\", \"seamark:type\": \"light_minor\", \"wikidata\": \"Q33138270\"}, \"type\": \"node\"}, {\"height\": \"5\", \"id\": 1033028477, \"lat\": 59.4253824, \"lon\": 18.4112817, \"tags\": {\"man_made\": \"lighthouse\", \"name\": \"Stora Berteln\", \"seamark:light:1:character\": \"Q\", \"seamark:light:1:colour\": \"white\", \"seamark:light:1:height\": \"5\", \"seamark:light:1:range\": \"10\", \"seamark:light:1:sector_end\": \"278\", \"seamark:light:1:sector_start\": \"90\", \"seamark:light:reference\": \"C 6522\", \"seamark:name\": \"Stora Berteln\", \"seamark:type\": \"light_minor\", \"wikidata\": \"Q33184072\"}, \"type\": \"node\"}, {\"height\": \"4\", \"id\": 1033037682, \"lat\": 59.3629226, \"lon\": 18.3763635, \"tags\": {\"man_made\": \"lighthouse\", \"name\": \"V\\u00e4rmd\\u00f6-Garpen\", \"seamark:light:1:character\": \"Oc\", \"seamark:light:1:colour\": \"green\", \"seamark:light:1:height\": \"4\", \"seamark:light:1:period\": \"5\", \"seamark:light:1:range\": \"3\", \"seamark:light:1:sector_end\": \"99\", \"seamark:light:1:sector_start\": \"93\", \"seamark:light:2:character\": \"Oc\", \"seamark:light:2:colour\": \"white\", \"seamark:light:2:height\": \"4\", \"seamark:light:2:period\": \"5\", \"seamark:light:2:range\": \"6\", \"seamark:light:2:sector_end\": \"102.1\", \"seamark:light:2:sector_start\": \"99\", \"seamark:light:3:character\": \"Oc\", \"seamark:light:3:colour\": \"red\", \"seamark:light:3:height\": \"4\", \"seamark:light:3:period\": \"5\", \"seamark:light:3:range\": \"4\", \"seamark:light:3:sector_end\": \"259\", \"seamark:light:3:sector_start\": \"102.1\", \"seamark:light:4:character\": \"Oc\", \"seamark:light:4:colour\": \"green\", \"seamark:light:4:height\": \"4\", \"seamark:light:4:period\": \"5\", \"seamark:light:4:range\": \"3\", \"seamark:light:4:sector_end\": \"268.6\", \"seamark:light:4:sector_start\": \"259\", \"seamark:light:reference\": \"C 6568\", \"seamark:name\": \"Varmdo-Garpen\", \"seamark:type\": \"light_minor\", \"wikidata\": \"Q33200844\"}, \"type\": \"node\"}, {\"height\": \"5\", \"id\": 1033044031, \"lat\": 59.371713, \"lon\": 18.3352506, \"tags\": {\"man_made\": \"lighthouse\", \"name\": \"Furuholmen\", \"seamark:light:1:character\": \"Fl\", \"seamark:light:1:colour\": \"red\", \"seamark:light:1:height\": \"5\", \"seamark:light:1:period\": \"3\", \"seamark:light:1:range\": \"4\", \"seamark:light:1:sector_end\": \"44\", \"seamark:light:1:sector_start\": \"340\", \"seamark:light:2:character\": \"Fl\", \"seamark:light:2:colour\": \"green\", \"seamark:light:2:height\": \"5\", \"seamark:light:2:period\": \"3\", \"seamark:light:2:range\": \"3\", \"seamark:light:2:sector_end\": \"69.5\", \"seamark:light:2:sector_start\": \"44\", \"seamark:light:3:character\": \"Fl\", \"seamark:light:3:colour\": \"white\", \"seamark:light:3:height\": \"5\", \"seamark:light:3:period\": \"3\", \"seamark:light:3:range\": \"6\", \"seamark:light:3:sector_end\": \"71.5\", \"seamark:light:3:sector_start\": \"69.5\", \"seamark:light:4:character\": \"Fl\", \"seamark:light:4:colour\": \"red\", \"seamark:light:4:height\": \"5\", \"seamark:light:4:period\": \"3\", \"seamark:light:4:range\": \"4\", \"seamark:light:4:sector_end\": \"76.5\", \"seamark:light:4:sector_start\": \"71.5\", \"seamark:light:5:character\": \"Fl\", \"seamark:light:5:colour\": \"green\", \"seamark:light:5:height\": \"5\", \"seamark:light:5:period\": \"3\", \"seamark:light:5:range\": \"3\", \"seamark:light:5:sector_end\": \"205\", \"seamark:light:5:sector_start\": \"76.5\", \"seamark:light:reference\": \"C 6544\", \"seamark:name\": \"Furuholmen\", \"seamark:type\": \"light_minor\", \"wikidata\": \"Q33131160\"}, \"type\": \"node\"}, {\"height\": \"4\", \"id\": 1033044037, \"lat\": 59.3776595, \"lon\": 18.294481, \"tags\": {\"man_made\": \"lighthouse\", \"name\": \"Granholmen\", \"seamark:light:1:character\": \"Fl\", \"seamark:light:1:colour\": \"green\", \"seamark:light:1:height\": \"4\", \"seamark:light:1:period\": \"3\", \"seamark:light:1:range\": \"8\", \"seamark:light:1:sector_end\": \"319.5\", \"seamark:light:2:character\": \"Fl\", \"seamark:light:2:colour\": \"white\", \"seamark:light:2:height\": \"4\", \"seamark:light:2:period\": \"3\", \"seamark:light:2:range\": \"12\", \"seamark:light:2:sector_end\": \"350\", \"seamark:light:2:sector_start\": \"319.5\", \"seamark:light:3:character\": \"Fl\", \"seamark:light:3:colour\": \"red\", \"seamark:light:3:height\": \"4\", \"seamark:light:3:period\": \"3\", \"seamark:light:3:range\": \"9\", \"seamark:light:3:sector_end\": \"39\", \"seamark:light:3:sector_start\": \"350\", \"seamark:light:4:character\": \"Fl\", \"seamark:light:4:colour\": \"green\", \"seamark:light:4:height\": \"4\", \"seamark:light:4:period\": \"3\", \"seamark:light:4:range\": \"8\", \"seamark:light:4:sector_end\": \"49.5\", \"seamark:light:4:sector_start\": \"39\", \"seamark:light:5:character\": \"Fl\", \"seamark:light:5:colour\": \"white\", \"seamark:light:5:height\": \"4\", \"seamark:light:5:period\": \"3\", \"seamark:light:5:range\": \"12\", \"seamark:light:5:sector_end\": \"54.5\", \"seamark:light:5:sector_start\": \"49.5\", \"seamark:light:6:character\": \"Fl\", \"seamark:light:6:colour\": \"red\", \"seamark:light:6:height\": \"4\", \"seamark:light:6:period\": \"3\", \"seamark:light:6:range\": \"9\", \"seamark:light:6:sector_end\": \"84\", \"seamark:light:6:sector_start\": \"54.5\", \"seamark:light:7:character\": \"Fl\", \"seamark:light:7:colour\": \"green\", \"seamark:light:7:height\": \"4\", \"seamark:light:7:period\": \"3\", \"seamark:light:7:range\": \"8\", \"seamark:light:7:sector_start\": \"84\", \"seamark:light:reference\": \"C 6538\", \"seamark:name\": \"Granholmen\", \"seamark:type\": \"light_minor\", \"wikidata\": \"Q33131418\"}, \"type\": \"node\"}, {\"height\": \"4\", \"id\": 1033044045, \"lat\": 59.3808072, \"lon\": 18.3040082, \"tags\": {\"man_made\": \"lighthouse\", \"name\": \"Bogesund\", \"seamark:light:1:character\": \"Fl\", \"seamark:light:1:colour\": \"red\", \"seamark:light:1:group\": \"2\", \"seamark:light:1:height\": \"4\", \"seamark:light:1:period\": \"6\", \"seamark:light:1:range\": \"4\", \"seamark:light:1:sector_end\": \"268\", \"seamark:light:1:sector_start\": \"260\", \"seamark:light:2:character\": \"Fl\", \"seamark:light:2:colour\": \"green\", \"seamark:light:2:group\": \"2\", \"seamark:light:2:height\": \"4\", \"seamark:light:2:period\": \"6\", \"seamark:light:2:range\": \"3\", \"seamark:light:2:sector_end\": \"281.5\", \"seamark:light:2:sector_start\": \"268\", \"seamark:light:3:character\": \"Fl\", \"seamark:light:3:colour\": \"white\", \"seamark:light:3:group\": \"2\", \"seamark:light:3:height\": \"4\", \"seamark:light:3:period\": \"6\", \"seamark:light:3:range\": \"6\", \"seamark:light:3:sector_end\": \"284\", \"seamark:light:3:sector_start\": \"281.5\", \"seamark:light:4:character\": \"Fl\", \"seamark:light:4:colour\": \"red\", \"seamark:light:4:group\": \"2\", \"seamark:light:4:height\": \"4\", \"seamark:light:4:period\": \"6\", \"seamark:light:4:range\": \"4\", \"seamark:light:4:sector_end\": \"0\", \"seamark:light:4:sector_start\": \"284\", \"seamark:light:5:character\": \"Fl\", \"seamark:light:5:colour\": \"green\", \"seamark:light:5:group\": \"2\", \"seamark:light:5:height\": \"4\", \"seamark:light:5:period\": \"6\", \"seamark:light:5:range\": \"3\", \"seamark:light:5:sector_end\": \"90.5\", \"seamark:light:5:sector_start\": \"0\", \"seamark:light:6:character\": \"Fl\", \"seamark:light:6:colour\": \"white\", \"seamark:light:6:group\": \"2\", \"seamark:light:6:height\": \"4\", \"seamark:light:6:period\": \"6\", \"seamark:light:6:range\": \"6\", \"seamark:light:6:sector_end\": \"95\", \"seamark:light:6:sector_start\": \"90.5\", \"seamark:light:reference\": \"C 6536\", \"seamark:name\": \"Bogesund\", \"seamark:type\": \"light_minor\", \"wikidata\": \"Q33129608\"}, \"type\": \"node\"}, {\"height\": \"6\", \"id\": 1033048198, \"lat\": 59.3664653, \"lon\": 18.3105313, \"tags\": {\"man_made\": \"lighthouse\", \"name\": \"Bj\\u00f6rnsgrund\", \"seamark:light:1:character\": \"Iso\", \"seamark:light:1:colour\": \"green\", \"seamark:light:1:height\": \"6\", \"seamark:light:1:period\": \"4\", \"seamark:light:1:range\": \"2\", \"seamark:light:1:sector_end\": \"72\", \"seamark:light:1:sector_start\": \"28\", \"seamark:light:2:character\": \"Iso\", \"seamark:light:2:colour\": \"white\", \"seamark:light:2:height\": \"6\", \"seamark:light:2:period\": \"4\", \"seamark:light:2:range\": \"5\", \"seamark:light:2:sector_end\": \"81.5\", \"seamark:light:2:sector_start\": \"72\", \"seamark:light:3:character\": \"Iso\", \"seamark:light:3:colour\": \"red\", \"seamark:light:3:height\": \"6\", \"seamark:light:3:period\": \"4\", \"seamark:light:3:range\": \"3\", \"seamark:light:3:sector_end\": \"120\", \"seamark:light:3:sector_start\": \"81.5\", \"seamark:light:4:character\": \"Iso\", \"seamark:light:4:colour\": \"green\", \"seamark:light:4:height\": \"6\", \"seamark:light:4:period\": \"4\", \"seamark:light:4:range\": \"2\", \"seamark:light:4:sector_end\": \"130.5\", \"seamark:light:4:sector_start\": \"120\", \"seamark:light:5:character\": \"Iso\", \"seamark:light:5:colour\": \"white\", \"seamark:light:5:height\": \"6\", \"seamark:light:5:period\": \"4\", \"seamark:light:5:range\": \"5\", \"seamark:light:5:sector_end\": \"141\", \"seamark:light:5:sector_start\": \"130.5\", \"seamark:light:6:character\": \"Iso\", \"seamark:light:6:colour\": \"red\", \"seamark:light:6:height\": \"6\", \"seamark:light:6:period\": \"4\", \"seamark:light:6:range\": \"3\", \"seamark:light:6:sector_end\": \"173\", \"seamark:light:6:sector_start\": \"141\", \"seamark:light:7:character\": \"Iso\", \"seamark:light:7:colour\": \"green\", \"seamark:light:7:height\": \"6\", \"seamark:light:7:period\": \"4\", \"seamark:light:7:range\": \"2\", \"seamark:light:7:sector_end\": \"241\", \"seamark:light:7:sector_start\": \"173\", \"seamark:light:8:character\": \"Iso\", \"seamark:light:8:colour\": \"red\", \"seamark:light:8:height\": \"6\", \"seamark:light:8:period\": \"4\", \"seamark:light:8:range\": \"3\", \"seamark:light:8:sector_end\": \"28\", \"seamark:light:8:sector_start\": \"241\", \"seamark:light:reference\": \"C 6545\", \"seamark:name\": \"Bjornsgrundet\", \"seamark:radar_reflector\": \"yes\", \"seamark:type\": \"light_minor\", \"wikidata\": \"Q33129597\"}, \"type\": \"node\"}, {\"height\": \"7\", \"id\": 1033048200, \"lat\": 59.3741179, \"lon\": 18.2797181, \"tags\": {\"man_made\": \"lighthouse\", \"name\": \"Stora H\\u00f6ggarnsbank\", \"seamark:light:1:character\": \"Q\", \"seamark:light:1:colour\": \"green\", \"seamark:light:1:height\": \"7\", \"seamark:light:1:range\": \"5\", \"seamark:light:1:sector_end\": \"35.5\", \"seamark:light:1:sector_start\": \"0\", \"seamark:light:2:character\": \"Q\", \"seamark:light:2:colour\": \"white\", \"seamark:light:2:height\": \"7\", \"seamark:light:2:range\": \"8\", \"seamark:light:2:sector_end\": \"41\", \"seamark:light:2:sector_start\": \"35.5\", \"seamark:light:3:character\": \"Q\", \"seamark:light:3:colour\": \"red\", \"seamark:light:3:height\": \"7\", \"seamark:light:3:range\": \"6\", \"seamark:light:3:sector_end\": \"60\", \"seamark:light:3:sector_start\": \"41\", \"seamark:light:4:character\": \"Q\", \"seamark:light:4:colour\": \"green\", \"seamark:light:4:height\": \"7\", \"seamark:light:4:range\": \"5\", \"seamark:light:4:sector_end\": \"178\", \"seamark:light:4:sector_start\": \"60\", \"seamark:light:5:character\": \"Q\", \"seamark:light:5:colour\": \"red\", \"seamark:light:5:height\": \"7\", \"seamark:light:5:range\": \"6\", \"seamark:light:5:sector_end\": \"224\", \"seamark:light:5:sector_start\": \"178\", \"seamark:light:reference\": \"C 6539\", \"seamark:name\": \"Stora Hoggarnsbank\", \"seamark:type\": \"light_minor\", \"wikidata\": \"Q33184466\"}, \"type\": \"node\"}, {\"height\": 3, \"id\": 1033048202, \"lat\": 59.3656343, \"lon\": 18.2687318, \"tags\": {\"man_made\": \"lighthouse\", \"name\": \"Lilla H\\u00f6ggarnsbank\", \"seamark:light:character\": \"Q\", \"seamark:light:colour\": \"red\", \"seamark:light:height\": \"7\", \"seamark:light:range\": \"5\", \"seamark:light:reference\": \"C 6545.2\", \"seamark:name\": \"Lilla Hoggarnsbank\", \"seamark:radar_reflector\": \"yes\", \"seamark:type\": \"light_minor\", \"wikidata\": \"Q33139091\"}, \"type\": \"node\"}, {\"height\": \"6\", \"id\": 1033048204, \"lat\": 59.3639859, \"lon\": 18.2590061, \"tags\": {\"man_made\": \"lighthouse\", \"name\": \"Elfsviksgrund\", \"seamark:light:10:character\": \"Iso\", \"seamark:light:10:colour\": \"green\", \"seamark:light:10:height\": \"6\", \"seamark:light:10:period\": \"6\", \"seamark:light:10:range\": \"8\", \"seamark:light:10:sector_end\": \"33\", \"seamark:light:10:sector_start\": \"11\", \"seamark:light:11:character\": \"Iso\", \"seamark:light:11:colour\": \"white\", \"seamark:light:11:height\": \"6\", \"seamark:light:11:period\": \"6\", \"seamark:light:11:range\": \"12\", \"seamark:light:11:sector_end\": \"43.5\", \"seamark:light:11:sector_start\": \"33\", \"seamark:light:12:character\": \"Iso\", \"seamark:light:12:colour\": \"red\", \"seamark:light:12:height\": \"6\", \"seamark:light:12:period\": \"6\", \"seamark:light:12:sector_end\": \"54.5\", \"seamark:light:12:sector_start\": \"43.5\", \"seamark:light:13:character\": \"Iso\", \"seamark:light:13:colour\": \"green\", \"seamark:light:13:height\": \"6\", \"seamark:light:13:period\": \"6\", \"seamark:light:13:range\": \"8\", \"seamark:light:13:sector_end\": \"70\", \"seamark:light:13:sector_start\": \"54.5\", \"seamark:light:1:character\": \"Iso\", \"seamark:light:1:colour\": \"green\", \"seamark:light:1:height\": \"6\", \"seamark:light:1:period\": \"6\", \"seamark:light:1:range\": \"8\", \"seamark:light:1:sector_end\": \"174.5\", \"seamark:light:2:character\": \"Iso\", \"seamark:light:2:colour\": \"red\", \"seamark:light:2:height\": \"6\", \"seamark:light:2:period\": \"6\", \"seamark:light:2:sector_end\": \"187\", \"seamark:light:2:sector_start\": \"174.5\", \"seamark:light:3:character\": \"Iso\", \"seamark:light:3:colour\": \"red\", \"seamark:light:3:height\": \"6\", \"seamark:light:3:period\": \"6\", \"seamark:light:3:sector_end\": \"211\", \"seamark:light:3:sector_start\": \"187\", \"seamark:light:4:character\": \"Iso\", \"seamark:light:4:colour\": \"green\", \"seamark:light:4:height\": \"6\", \"seamark:light:4:period\": \"6\", \"seamark:light:4:range\": \"8\", \"seamark:light:4:sector_end\": \"229\", \"seamark:light:4:sector_start\": \"211\", \"seamark:light:5:character\": \"Iso\", \"seamark:light:5:colour\": \"white\", \"seamark:light:5:height\": \"6\", \"seamark:light:5:period\": \"6\", \"seamark:light:5:range\": \"12\", \"seamark:light:5:sector_end\": \"236\", \"seamark:light:5:sector_start\": \"229\", \"seamark:light:6:character\": \"Iso\", \"seamark:light:6:colour\": \"red\", \"seamark:light:6:height\": \"6\", \"seamark:light:6:period\": \"6\", \"seamark:light:6:sector_end\": \"250\", \"seamark:light:6:sector_start\": \"236\", \"seamark:light:7:character\": \"Iso\", \"seamark:light:7:colour\": \"green\", \"seamark:light:7:height\": \"6\", \"seamark:light:7:period\": \"6\", \"seamark:light:7:range\": \"8\", \"seamark:light:7:sector_end\": \"270.5\", \"seamark:light:7:sector_start\": \"250\", \"seamark:light:8:character\": \"Iso\", \"seamark:light:8:colour\": \"white\", \"seamark:light:8:height\": \"6\", \"seamark:light:8:period\": \"6\", \"seamark:light:8:range\": \"12\", \"seamark:light:8:sector_end\": \"343.5\", \"seamark:light:8:sector_start\": \"270.5\", \"seamark:light:9:character\": \"Iso\", \"seamark:light:9:colour\": \"red\", \"seamark:light:9:height\": \"6\", \"seamark:light:9:period\": \"6\", \"seamark:light:9:sector_end\": \"11\", \"seamark:light:9:sector_start\": \"343.5\", \"seamark:light:reference\": \"C 6546\", \"seamark:name\": \"Alvviksgrundet\", \"seamark:type\": \"light_minor\", \"wikidata\": \"Q28375621\"}, \"type\": \"node\"}, {\"height\": \"6\", \"id\": 1033058275, \"lat\": 59.3322815, \"lon\": 18.1764136, \"tags\": {\"man_made\": \"lighthouse\", \"name\": \"Libertus\", \"seamark:light:1:character\": \"Fl\", \"seamark:light:1:colour\": \"green\", \"seamark:light:1:group\": \"3\", \"seamark:light:1:height\": \"6\", \"seamark:light:1:period\": \"9\", \"seamark:light:1:range\": \"3\", \"seamark:light:1:sector_end\": \"123\", \"seamark:light:1:sector_start\": \"102\", \"seamark:light:1:sequence\": \"0.5+(1),0.5+(1),0.5+(5.5)\", \"seamark:light:2:character\": \"Fl\", \"seamark:light:2:colour\": \"white\", \"seamark:light:2:group\": \"3\", \"seamark:light:2:height\": \"6\", \"seamark:light:2:period\": \"9\", \"seamark:light:2:range\": \"6\", \"seamark:light:2:sector_end\": \"127\", \"seamark:light:2:sector_start\": \"123\", \"seamark:light:2:sequence\": \"0.5+(1),0.5+(1),0.5+(5.5)\", \"seamark:light:3:character\": \"Fl\", \"seamark:light:3:colour\": \"red\", \"seamark:light:3:group\": \"3\", \"seamark:light:3:height\": \"6\", \"seamark:light:3:period\": \"9\", \"seamark:light:3:range\": \"4\", \"seamark:light:3:sector_end\": \"192\", \"seamark:light:3:sector_start\": \"127\", \"seamark:light:3:sequence\": \"0.5+(1),0.5+(1),0.5+(5.5)\", \"seamark:light:4:character\": \"Fl\", \"seamark:light:4:colour\": \"white\", \"seamark:light:4:group\": \"3\", \"seamark:light:4:height\": \"6\", \"seamark:light:4:period\": \"9\", \"seamark:light:4:range\": \"6\", \"seamark:light:4:sector_end\": \"262\", \"seamark:light:4:sector_start\": \"192\", \"seamark:light:4:sequence\": \"0.5+(1),0.5+(1),0.5+(5.5)\", \"seamark:light:reference\": \"C 6550\", \"seamark:name\": \"Libertus\", \"seamark:type\": \"light_minor\", \"wikidata\": \"Q10561018\", \"wikipedia\": \"sv:Libertus (fyr)\"}, \"type\": \"node\"}, {\"height\": \"11\", \"id\": 1033068961, \"lat\": 59.3007854, \"lon\": 18.8745767, \"tags\": {\"man_made\": \"lighthouse\", \"name\": \"Getholmen\", \"seamark:light:1:character\": \"Fl\", \"seamark:light:1:colour\": \"green\", \"seamark:light:1:group\": \"2\", \"seamark:light:1:height\": \"11\", \"seamark:light:1:period\": \"6\", \"seamark:light:1:range\": \"3\", \"seamark:light:1:sector_end\": \"298\", \"seamark:light:2:character\": \"Fl\", \"seamark:light:2:colour\": \"white\", \"seamark:light:2:group\": \"2\", \"seamark:light:2:height\": \"11\", \"seamark:light:2:period\": \"6\", \"seamark:light:2:range\": \"6\", \"seamark:light:2:sector_end\": \"307\", \"seamark:light:2:sector_start\": \"298\", \"seamark:light:3:character\": \"Fl\", \"seamark:light:3:colour\": \"red\", \"seamark:light:3:group\": \"2\", \"seamark:light:3:height\": \"11\", \"seamark:light:3:period\": \"6\", \"seamark:light:3:range\": \"4\", \"seamark:light:3:sector_end\": \"32\", \"seamark:light:3:sector_start\": \"307\", \"seamark:light:4:character\": \"Fl\", \"seamark:light:4:colour\": \"green\", \"seamark:light:4:group\": \"2\", \"seamark:light:4:height\": \"11\", \"seamark:light:4:period\": \"6\", \"seamark:light:4:range\": \"3\", \"seamark:light:4:sector_end\": \"102\", \"seamark:light:4:sector_start\": \"32\", \"seamark:light:5:character\": \"Fl\", \"seamark:light:5:colour\": \"white\", \"seamark:light:5:group\": \"2\", \"seamark:light:5:height\": \"11\", \"seamark:light:5:period\": \"6\", \"seamark:light:5:range\": \"6\", \"seamark:light:5:sector_end\": \"110\", \"seamark:light:5:sector_start\": \"102\", \"seamark:light:reference\": \"C 6480\", \"seamark:name\": \"Getholmen\", \"seamark:type\": \"light_minor\", \"wikidata\": \"Q28375661\"}, \"type\": \"node\"}, {\"height\": 3, \"id\": 1033068962, \"lat\": 59.3004762, \"lon\": 18.8688062, \"tags\": {\"man_made\": \"lighthouse\", \"name\": \"Sm\\u00f6rasken\", \"seamark:light:character\": \"Q\", \"seamark:light:colour\": \"white\", \"seamark:light:height\": \"6\", \"seamark:light:range\": \"6\", \"seamark:light:reference\": \"C 6481\", \"seamark:name\": \"Smoraskan\", \"seamark:type\": \"light_minor\", \"wikidata\": \"Q33182366\"}, \"type\": \"node\"}, {\"height\": 3, \"id\": 1033068963, \"lat\": 59.3133074, \"lon\": 18.8102374, \"tags\": {\"man_made\": \"lighthouse\", \"name\": \"Yxhammaskobben\", \"seamark:light:character\": \"Q\", \"seamark:light:colour\": \"green\", \"seamark:light:height\": \"7\", \"seamark:light:range\": \"3\", \"seamark:light:reference\": \"C 6496\", \"seamark:name\": \"Gastholmsgrundet\", \"seamark:radar_reflector\": \"yes\", \"seamark:type\": \"light_minor\"}, \"type\": \"node\"}, {\"height\": \"8\", \"id\": 1033068964, \"lat\": 59.3182952, \"lon\": 18.8108168, \"tags\": {\"man_made\": \"lighthouse\", \"name\": \"Gastholmsgrund\", \"seamark:light:1:character\": \"Fl\", \"seamark:light:1:colour\": \"white\", \"seamark:light:1:group\": \"3\", \"seamark:light:1:height\": \"8\", \"seamark:light:1:period\": \"9\", \"seamark:light:1:range\": \"6\", \"seamark:light:1:sector_end\": \"166.5\", \"seamark:light:1:sector_start\": \"95\", \"seamark:light:1:sequence\": \"0.7+(1),0.7+(1),0.7+(4.9)\", \"seamark:light:2:character\": \"Fl\", \"seamark:light:2:colour\": \"red\", \"seamark:light:2:group\": \"3\", \"seamark:light:2:height\": \"8\", \"seamark:light:2:period\": \"9\", \"seamark:light:2:range\": \"4\", \"seamark:light:2:sector_end\": \"283\", \"seamark:light:2:sector_start\": \"166.5\", \"seamark:light:2:sequence\": \"0.7+(1),0.7+(1),0.7+(4.9)\", \"seamark:light:3:character\": \"Fl\", \"seamark:light:3:colour\": \"green\", \"seamark:light:3:group\": \"3\", \"seamark:light:3:height\": \"8\", \"seamark:light:3:period\": \"9\", \"seamark:light:3:range\": \"3\", \"seamark:light:3:sector_end\": \"292\", \"seamark:light:3:sector_start\": \"283\", \"seamark:light:3:sequence\": \"0.7+(1),0.7+(1),0.7+(4.9)\", \"seamark:light:4:character\": \"Fl\", \"seamark:light:4:colour\": \"white\", \"seamark:light:4:group\": \"3\", \"seamark:light:4:height\": \"8\", \"seamark:light:4:period\": \"9\", \"seamark:light:4:range\": \"6\", \"seamark:light:4:sector_end\": \"298\", \"seamark:light:4:sector_start\": \"292\", \"seamark:light:4:sequence\": \"0.7+(1),0.7+(1),0.7+(4.9)\", \"seamark:light:5:character\": \"Fl\", \"seamark:light:5:colour\": \"red\", \"seamark:light:5:group\": \"3\", \"seamark:light:5:height\": \"8\", \"seamark:light:5:period\": \"9\", \"seamark:light:5:range\": \"4\", \"seamark:light:5:sector_end\": \"22\", \"seamark:light:5:sector_start\": \"298\", \"seamark:light:5:sequence\": \"0.7+(1),0.7+(1),0.7+(4.9)\", \"seamark:light:reference\": \"C 6495\", \"seamark:name\": \"Yxhammarskubben\", \"seamark:type\": \"light_minor\"}, \"type\": \"node\"}, {\"height\": \"10\", \"id\": 1033068967, \"lat\": 59.2773535, \"lon\": 19.000052, \"tags\": {\"man_made\": \"lighthouse\", \"name\": \"Sandhamns St\\u00e5ngsk\\u00e4r\", \"seamark:light:1:character\": \"Iso\", \"seamark:light:1:colour\": \"green\", \"seamark:light:1:height\": \"10\", \"seamark:light:1:period\": \"4\", \"seamark:light:1:range\": \"5\", \"seamark:light:1:sector_end\": \"326.5\", \"seamark:light:1:sector_start\": \"295\", \"seamark:light:2:character\": \"Iso\", \"seamark:light:2:colour\": \"white\", \"seamark:light:2:height\": \"10\", \"seamark:light:2:period\": \"4\", \"seamark:light:2:range\": \"8\", \"seamark:light:2:sector_end\": \"343.5\", \"seamark:light:2:sector_start\": \"326.5\", \"seamark:light:3:character\": \"Iso\", \"seamark:light:3:colour\": \"red\", \"seamark:light:3:height\": \"10\", \"seamark:light:3:period\": \"4\", \"seamark:light:3:range\": \"6\", \"seamark:light:3:sector_end\": \"18\", \"seamark:light:3:sector_start\": \"343.5\", \"seamark:light:4:character\": \"Iso\", \"seamark:light:4:colour\": \"green\", \"seamark:light:4:height\": \"10\", \"seamark:light:4:period\": \"4\", \"seamark:light:4:range\": \"5\", \"seamark:light:4:sector_end\": \"70\", \"seamark:light:4:sector_start\": \"18\", \"seamark:light:5:character\": \"Iso\", \"seamark:light:5:colour\": \"white\", \"seamark:light:5:height\": \"10\", \"seamark:light:5:period\": \"4\", \"seamark:light:5:range\": \"8\", \"seamark:light:5:sector_end\": \"74.5\", \"seamark:light:5:sector_start\": \"70\", \"seamark:light:6:character\": \"Iso\", \"seamark:light:6:colour\": \"red\", \"seamark:light:6:height\": \"10\", \"seamark:light:6:period\": \"4\", \"seamark:light:6:range\": \"6\", \"seamark:light:6:sector_end\": \"94\", \"seamark:light:6:sector_start\": \"74.5\", \"seamark:light:7:character\": \"Iso\", \"seamark:light:7:colour\": \"green\", \"seamark:light:7:height\": \"10\", \"seamark:light:7:period\": \"4\", \"seamark:light:7:range\": \"5\", \"seamark:light:7:sector_end\": \"131\", \"seamark:light:7:sector_start\": \"94\", \"seamark:light:8:character\": \"Iso\", \"seamark:light:8:colour\": \"white\", \"seamark:light:8:height\": \"10\", \"seamark:light:8:period\": \"4\", \"seamark:light:8:range\": \"8\", \"seamark:light:8:sector_end\": \"138\", \"seamark:light:8:sector_start\": \"131\", \"seamark:light:reference\": \"C 6468\", \"seamark:name\": \"Sandhamn Stangskar\", \"seamark:type\": \"light_minor\", \"wikidata\": \"Q33180998\"}, \"type\": \"node\"}, {\"height\": \"7\", \"id\": 1033068970, \"lat\": 59.2637739, \"lon\": 18.8964651, \"tags\": {\"man_made\": \"lighthouse\", \"name\": \"\\u00c5dkubben\", \"seamark:light:1:category\": \"upper\", \"seamark:light:1:character\": \"Iso\", \"seamark:light:1:colour\": \"green\", \"seamark:light:1:height\": \"7\", \"seamark:light:1:period\": \"4\", \"seamark:light:1:range\": \"4\", \"seamark:light:1:sector_end\": \"171\", \"seamark:light:1:sector_start\": \"165\", \"seamark:light:2:category\": \"upper\", \"seamark:light:2:character\": \"Iso\", \"seamark:light:2:colour\": \"white\", \"seamark:light:2:height\": \"7\", \"seamark:light:2:period\": \"4\", \"seamark:light:2:range\": \"7\", \"seamark:light:2:sector_end\": \"179\", \"seamark:light:2:sector_start\": \"171\", \"seamark:light:3:category\": \"upper\", \"seamark:light:3:character\": \"Iso\", \"seamark:light:3:colour\": \"red\", \"seamark:light:3:height\": \"7\", \"seamark:light:3:period\": \"4\", \"seamark:light:3:range\": \"5\", \"seamark:light:3:sector_end\": \"188\", \"seamark:light:3:sector_start\": \"179\", \"seamark:light:4:category\": \"upper\", \"seamark:light:4:character\": \"Iso\", \"seamark:light:4:colour\": \"white\", \"seamark:light:4:height\": \"7\", \"seamark:light:4:period\": \"4\", \"seamark:light:4:range\": \"7\", \"seamark:light:4:sector_end\": \"217\", \"seamark:light:4:sector_start\": \"188\", \"seamark:light:4:visibility\": \"unintensified\", \"seamark:light:5:category\": \"upper\", \"seamark:light:5:character\": \"Iso\", \"seamark:light:5:colour\": \"green\", \"seamark:light:5:height\": \"7\", \"seamark:light:5:period\": \"4\", \"seamark:light:5:range\": \"4\", \"seamark:light:5:sector_end\": \"258.5\", \"seamark:light:5:sector_start\": \"217\", \"seamark:light:6:category\": \"upper\", \"seamark:light:6:character\": \"Iso\", \"seamark:light:6:colour\": \"white\", \"seamark:light:6:height\": \"7\", \"seamark:light:6:period\": \"4\", \"seamark:light:6:range\": \"7\", \"seamark:light:6:sector_end\": \"259.5\", \"seamark:light:6:sector_start\": \"258.5\", \"seamark:light:7:category\": \"upper\", \"seamark:light:7:character\": \"Iso\", \"seamark:light:7:colour\": \"red\", \"seamark:light:7:height\": \"7\", \"seamark:light:7:period\": \"4\", \"seamark:light:7:range\": \"5\", \"seamark:light:7:sector_end\": \"268\", \"seamark:light:7:sector_start\": \"259.5\", \"seamark:light:reference\": \"C 6484.1\", \"seamark:name\": \"Adkubben\", \"seamark:type\": \"light_minor\", \"source\": \"US NGA Pub. 116. 2021-03-27\", \"wikidata\": \"Q33184176\"}, \"type\": \"node\"}, {\"height\": 3, \"id\": 1033068973, \"lat\": 59.2581886, \"lon\": 18.8963954, \"tags\": {\"man_made\": \"lighthouse\", \"name\": \"Stora H\\u00e4stsk\\u00e4r\", \"seamark:light:1:character\": \"Fl\", \"seamark:light:1:colour\": \"red\", \"seamark:light:1:group\": \"3\", \"seamark:light:1:period\": \"9\", \"seamark:light:1:range\": \"5\", \"seamark:light:1:sector_end\": \"242\", \"seamark:light:1:sector_start\": \"238\", \"seamark:light:1:sequence\": \"0.8+(1.2)+0.8+(1.2)+0.8+(4.2)\", \"seamark:light:2:character\": \"Fl\", \"seamark:light:2:colour\": \"green\", \"seamark:light:2:group\": \"3\", \"seamark:light:2:period\": \"9\", \"seamark:light:2:range\": \"4\", \"seamark:light:2:sector_end\": \"248\", \"seamark:light:2:sector_start\": \"242\", \"seamark:light:2:sequence\": \"0.8+(1.2)+0.8+(1.2)+0.8+(4.2)\", \"seamark:light:3:character\": \"Fl\", \"seamark:light:3:colour\": \"white\", \"seamark:light:3:group\": \"3\", \"seamark:light:3:period\": \"9\", \"seamark:light:3:range\": \"7\", \"seamark:light:3:sector_end\": \"250\", \"seamark:light:3:sector_start\": \"248\", \"seamark:light:3:sequence\": \"0.8+(1.2),0.8+(1.2),0.8+(4.2)\", \"seamark:light:4:character\": \"Fl\", \"seamark:light:4:colour\": \"red\", \"seamark:light:4:group\": \"3\", \"seamark:light:4:period\": \"9\", \"seamark:light:4:range\": \"5\", \"seamark:light:4:sector_end\": \"256\", \"seamark:light:4:sector_start\": \"250\", \"seamark:light:4:sequence\": \"0.8+(1.2)+0.8+(1.2)+0.8+(4.2)\", \"seamark:light:5:character\": \"Fl\", \"seamark:light:5:colour\": \"green\", \"seamark:light:5:group\": \"3\", \"seamark:light:5:period\": \"9\", \"seamark:light:5:range\": \"4\", \"seamark:light:5:sector_end\": \"268.5\", \"seamark:light:5:sector_start\": \"256\", \"seamark:light:5:sequence\": \"0.8+(1.2)+0.8+(1.2)+0.8+(4.2)\", \"seamark:light:reference\": \"C 6485\", \"seamark:name\": \"Stora Hastskar\", \"seamark:type\": \"light_minor\", \"source\": \"US NGA Pub. 116. 2021-03-27\"}, \"type\": \"node\"}, {\"height\": \"3\", \"id\": 1033068976, \"lat\": 59.286577, \"lon\": 18.8940887, \"tags\": {\"man_made\": \"lighthouse\", \"name\": \"Sk\\u00f6tkobben\", \"seamark:light:1:category\": \"lower\", \"seamark:light:1:character\": \"Q\", \"seamark:light:1:colour\": \"green\", \"seamark:light:1:height\": \"3\", \"seamark:light:1:range\": \"6\", \"seamark:light:1:sector_end\": \"172.1\", \"seamark:light:1:sector_start\": \"162\", \"seamark:light:2:category\": \"lower\", \"seamark:light:2:character\": \"Q\", \"seamark:light:2:colour\": \"white\", \"seamark:light:2:height\": \"3\", \"seamark:light:2:range\": \"10\", \"seamark:light:2:sector_end\": \"182.8\", \"seamark:light:2:sector_start\": \"172.1\", \"seamark:light:3:category\": \"lower\", \"seamark:light:3:character\": \"Q\", \"seamark:light:3:colour\": \"red\", \"seamark:light:3:height\": \"3\", \"seamark:light:3:range\": \"7\", \"seamark:light:3:sector_end\": \"273\", \"seamark:light:3:sector_start\": \"182.8\", \"seamark:light:4:category\": \"lower\", \"seamark:light:4:character\": \"Q\", \"seamark:light:4:colour\": \"green\", \"seamark:light:4:height\": \"3\", \"seamark:light:4:range\": \"6\", \"seamark:light:4:sector_end\": \"346\", \"seamark:light:4:sector_start\": \"273\", \"seamark:light:5:category\": \"lower\", \"seamark:light:5:character\": \"Q\", \"seamark:light:5:colour\": \"white\", \"seamark:light:5:height\": \"3\", \"seamark:light:5:range\": \"10\", \"seamark:light:5:sector_end\": \"357\", \"seamark:light:5:sector_start\": \"346\", \"seamark:light:6:category\": \"lower\", \"seamark:light:6:character\": \"Q\", \"seamark:light:6:colour\": \"red\", \"seamark:light:6:height\": \"3\", \"seamark:light:6:range\": \"7\", \"seamark:light:6:sector_end\": \"16\", \"seamark:light:6:sector_start\": \"357\", \"seamark:light:7:category\": \"lower\", \"seamark:light:7:character\": \"Q\", \"seamark:light:7:colour\": \"green\", \"seamark:light:7:height\": \"3\", \"seamark:light:7:range\": \"6\", \"seamark:light:7:sector_end\": \"48\", \"seamark:light:7:sector_start\": \"16\", \"seamark:light:reference\": \"C 6484\", \"seamark:name\": \"Skotkubben\", \"seamark:type\": \"light_minor\", \"wikidata\": \"Q33182278\"}, \"type\": \"node\"}, {\"height\": \"12\", \"id\": 1033070541, \"lat\": 59.3169703, \"lon\": 18.7472377, \"tags\": {\"man_made\": \"lighthouse\", \"name\": \"Trollharan\", \"seamark:light:1:character\": \"Q\", \"seamark:light:1:colour\": \"green\", \"seamark:light:1:height\": \"12\", \"seamark:light:1:range\": \"2\", \"seamark:light:1:sector_end\": \"202\", \"seamark:light:1:sector_start\": \"180\", \"seamark:light:2:character\": \"Q\", \"seamark:light:2:colour\": \"white\", \"seamark:light:2:height\": \"12\", \"seamark:light:2:range\": \"5\", \"seamark:light:2:sector_end\": \"37.5\", \"seamark:light:2:sector_start\": \"202\", \"seamark:light:3:character\": \"Q\", \"seamark:light:3:colour\": \"red\", \"seamark:light:3:height\": \"12\", \"seamark:light:3:range\": \"3\", \"seamark:light:3:sector_end\": \"45\", \"seamark:light:3:sector_start\": \"37.5\", \"seamark:light:reference\": \"C 6673\", \"seamark:name\": \"Trollharan\", \"seamark:type\": \"light_minor\", \"wikidata\": \"Q33196203\"}, \"type\": \"node\"}, {\"height\": \"6\", \"id\": 1033073620, \"lat\": 59.3049249, \"lon\": 18.7590716, \"tags\": {\"man_made\": \"lighthouse\", \"name\": \"L\\u00e5ngholmen\", \"seamark:light:10:character\": \"Iso\", \"seamark:light:10:colour\": \"green\", \"seamark:light:10:height\": \"6\", \"seamark:light:10:period\": \"4\", \"seamark:light:10:range\": \"3\", \"seamark:light:10:sector_end\": \"234\", \"seamark:light:10:sector_start\": \"222\", \"seamark:light:1:character\": \"Iso\", \"seamark:light:1:colour\": \"green\", \"seamark:light:1:height\": \"6\", \"seamark:light:1:period\": \"4\", \"seamark:light:1:range\": \"3\", \"seamark:light:1:sector_end\": \"35\", \"seamark:light:1:sector_start\": \"31\", \"seamark:light:2:character\": \"Iso\", \"seamark:light:2:colour\": \"white\", \"seamark:light:2:height\": \"6\", \"seamark:light:2:period\": \"4\", \"seamark:light:2:range\": \"6\", \"seamark:light:2:sector_end\": \"42\", \"seamark:light:2:sector_start\": \"35\", \"seamark:light:3:character\": \"Iso\", \"seamark:light:3:colour\": \"red\", \"seamark:light:3:height\": \"6\", \"seamark:light:3:period\": \"4\", \"seamark:light:3:range\": \"4\", \"seamark:light:3:sector_end\": \"145\", \"seamark:light:3:sector_start\": \"42\", \"seamark:light:4:character\": \"Iso\", \"seamark:light:4:colour\": \"green\", \"seamark:light:4:height\": \"6\", \"seamark:light:4:period\": \"4\", \"seamark:light:4:range\": \"3\", \"seamark:light:4:sector_end\": \"179.5\", \"seamark:light:4:sector_start\": \"145\", \"seamark:light:5:character\": \"Iso\", \"seamark:light:5:colour\": \"white\", \"seamark:light:5:height\": \"6\", \"seamark:light:5:period\": \"4\", \"seamark:light:5:range\": \"6\", \"seamark:light:5:sector_end\": \"194\", \"seamark:light:5:sector_start\": \"179.5\", \"seamark:light:6:character\": \"Iso\", \"seamark:light:6:colour\": \"red\", \"seamark:light:6:height\": \"6\", \"seamark:light:6:period\": \"4\", \"seamark:light:6:range\": \"4\", \"seamark:light:6:sector_end\": \"204\", \"seamark:light:6:sector_start\": \"194\", \"seamark:light:7:character\": \"Iso\", \"seamark:light:7:colour\": \"green\", \"seamark:light:7:height\": \"6\", \"seamark:light:7:period\": \"4\", \"seamark:light:7:range\": \"3\", \"seamark:light:7:sector_end\": \"212\", \"seamark:light:7:sector_start\": \"204\", \"seamark:light:8:character\": \"Iso\", \"seamark:light:8:colour\": \"white\", \"seamark:light:8:height\": \"6\", \"seamark:light:8:period\": \"4\", \"seamark:light:8:range\": \"6\", \"seamark:light:8:sector_end\": \"214\", \"seamark:light:8:sector_start\": \"212\", \"seamark:light:9:character\": \"Iso\", \"seamark:light:9:colour\": \"red\", \"seamark:light:9:height\": \"6\", \"seamark:light:9:period\": \"4\", \"seamark:light:9:range\": \"4\", \"seamark:light:9:sector_end\": \"222\", \"seamark:light:9:sector_start\": \"214\", \"seamark:light:reference\": \"C 6672\", \"seamark:name\": \"Langholmen\", \"seamark:type\": \"light_minor\", \"wikidata\": \"Q33141239\"}, \"type\": \"node\"}, {\"height\": \"5\", \"id\": 1033073624, \"lat\": 59.3559285, \"lon\": 18.8304935, \"tags\": {\"man_made\": \"lighthouse\", \"name\": \"Fj\\u00e4rdholmen\", \"seamark:light:1:character\": \"Q\", \"seamark:light:1:colour\": \"green\", \"seamark:light:1:height\": \"5\", \"seamark:light:1:range\": \"4\", \"seamark:light:1:sector_end\": \"30\", \"seamark:light:1:sector_start\": \"24\", \"seamark:light:2:character\": \"Q\", \"seamark:light:2:colour\": \"white\", \"seamark:light:2:height\": \"5\", \"seamark:light:2:range\": \"8\", \"seamark:light:2:sector_end\": \"46\", \"seamark:light:2:sector_start\": \"30\", \"seamark:light:3:character\": \"Q\", \"seamark:light:3:colour\": \"red\", \"seamark:light:3:height\": \"5\", \"seamark:light:3:range\": \"5\", \"seamark:light:3:sector_end\": \"59\", \"seamark:light:3:sector_start\": \"46\", \"seamark:light:4:character\": \"Q\", \"seamark:light:4:colour\": \"green\", \"seamark:light:4:height\": \"5\", \"seamark:light:4:range\": \"4\", \"seamark:light:4:sector_end\": \"184\", \"seamark:light:4:sector_start\": \"59\", \"seamark:light:5:character\": \"Q\", \"seamark:light:5:colour\": \"red\", \"seamark:light:5:height\": \"5\", \"seamark:light:5:range\": \"5\", \"seamark:light:5:sector_end\": \"199\", \"seamark:light:5:sector_start\": \"184\", \"seamark:light:6:character\": \"Q\", \"seamark:light:6:colour\": \"green\", \"seamark:light:6:height\": \"5\", \"seamark:light:6:range\": \"4\", \"seamark:light:6:sector_end\": \"214.5\", \"seamark:light:6:sector_start\": \"199\", \"seamark:light:7:character\": \"Q\", \"seamark:light:7:colour\": \"white\", \"seamark:light:7:height\": \"5\", \"seamark:light:7:range\": \"8\", \"seamark:light:7:sector_end\": \"216\", \"seamark:light:7:sector_start\": \"214.5\", \"seamark:light:8:character\": \"Q\", \"seamark:light:8:colour\": \"red\", \"seamark:light:8:height\": \"5\", \"seamark:light:8:range\": \"5\", \"seamark:light:8:sector_end\": \"235\", \"seamark:light:8:sector_start\": \"216\", \"seamark:light:reference\": \"C 6409\", \"seamark:name\": \"Fjardholmen\", \"seamark:type\": \"light_minor\", \"wikidata\": \"Q33131059\"}, \"type\": \"node\"}, {\"height\": \"7\", \"id\": 1033073629, \"lat\": 59.3718491, \"lon\": 18.7534175, \"tags\": {\"man_made\": \"lighthouse\", \"name\": \"Kl\\u00f6vholmen\", \"seamark:light:1:character\": \"Fl\", \"seamark:light:1:colour\": \"green\", \"seamark:light:1:group\": \"2\", \"seamark:light:1:height\": \"7\", \"seamark:light:1:period\": \"6\", \"seamark:light:1:range\": \"4\", \"seamark:light:1:sector_end\": \"315\", \"seamark:light:1:sector_start\": \"298\", \"seamark:light:2:character\": \"Fl\", \"seamark:light:2:colour\": \"white\", \"seamark:light:2:group\": \"2\", \"seamark:light:2:height\": \"7\", \"seamark:light:2:period\": \"6\", \"seamark:light:2:range\": \"7\", \"seamark:light:2:sector_end\": \"347\", \"seamark:light:2:sector_start\": \"315\", \"seamark:light:3:character\": \"Fl\", \"seamark:light:3:colour\": \"red\", \"seamark:light:3:group\": \"2\", \"seamark:light:3:height\": \"7\", \"seamark:light:3:period\": \"6\", \"seamark:light:3:range\": \"5\", \"seamark:light:3:sector_end\": \"87.5\", \"seamark:light:3:sector_start\": \"347\", \"seamark:light:4:character\": \"Fl\", \"seamark:light:4:colour\": \"green\", \"seamark:light:4:group\": \"2\", \"seamark:light:4:height\": \"7\", \"seamark:light:4:period\": \"6\", \"seamark:light:4:range\": \"4\", \"seamark:light:4:sector_end\": \"94\", \"seamark:light:4:sector_start\": \"87.5\", \"seamark:light:5:character\": \"Fl\", \"seamark:light:5:colour\": \"white\", \"seamark:light:5:group\": \"2\", \"seamark:light:5:height\": \"7\", \"seamark:light:5:period\": \"6\", \"seamark:light:5:range\": \"7\", \"seamark:light:5:sector_end\": \"115\", \"seamark:light:5:sector_start\": \"94\", \"seamark:light:reference\": \"C 6498\", \"seamark:name\": \"Klovholmen\", \"seamark:radar_reflector\": \"yes\", \"seamark:type\": \"light_minor\", \"source\": \"US NGA Pub. 116. 2011-07-07.\", \"wikidata\": \"Q30306545\"}, \"type\": \"node\"}, {\"height\": 3, \"id\": 1033073630, \"lat\": 59.3696715, \"lon\": 18.7446213, \"tags\": {\"man_made\": \"lighthouse\", \"name\": \"Norra Kanholmen\", \"wikidata\": \"Q32297406\"}, \"type\": \"node\"}, {\"height\": \"7\", \"id\": 1033080035, \"lat\": 59.3697915, \"lon\": 18.6057853, \"tags\": {\"man_made\": \"lighthouse\", \"name\": \"Boda\", \"seamark:light:1:character\": \"Q\", \"seamark:light:1:colour\": \"green\", \"seamark:light:1:height\": \"7\", \"seamark:light:1:range\": \"3\", \"seamark:light:1:sector_end\": \"132\", \"seamark:light:1:sector_start\": \"120\", \"seamark:light:2:character\": \"Q\", \"seamark:light:2:colour\": \"white\", \"seamark:light:2:height\": \"7\", \"seamark:light:2:range\": \"6\", \"seamark:light:2:sector_end\": \"144\", \"seamark:light:2:sector_start\": \"132\", \"seamark:light:3:character\": \"Q\", \"seamark:light:3:colour\": \"red\", \"seamark:light:3:height\": \"7\", \"seamark:light:3:range\": \"4\", \"seamark:light:3:sector_end\": \"158\", \"seamark:light:3:sector_start\": \"144\", \"seamark:light:4:character\": \"Q\", \"seamark:light:4:colour\": \"green\", \"seamark:light:4:height\": \"7\", \"seamark:light:4:range\": \"3\", \"seamark:light:4:sector_end\": \"247\", \"seamark:light:4:sector_start\": \"158\", \"seamark:light:5:character\": \"Q\", \"seamark:light:5:colour\": \"red\", \"seamark:light:5:height\": \"7\", \"seamark:light:5:range\": \"4\", \"seamark:light:5:sector_start\": \"247\", \"seamark:light:reference\": \"C 6510\", \"seamark:name\": \"Boda\", \"seamark:type\": \"light_minor\", \"wikidata\": \"Q33129606\"}, \"type\": \"node\"}, {\"height\": \"8\", \"id\": 1033080045, \"lat\": 59.3840521, \"lon\": 18.5714369, \"tags\": {\"man_made\": \"lighthouse\", \"name\": \"Sand\\u00f6 Sugga\", \"seamark:light:1:character\": \"Fl\", \"seamark:light:1:colour\": \"green\", \"seamark:light:1:height\": \"8\", \"seamark:light:1:period\": \"3\", \"seamark:light:1:range\": \"4\", \"seamark:light:1:sector_end\": \"123.5\", \"seamark:light:1:sector_start\": \"115\", \"seamark:light:2:character\": \"Fl\", \"seamark:light:2:colour\": \"white\", \"seamark:light:2:height\": \"8\", \"seamark:light:2:period\": \"3\", \"seamark:light:2:range\": \"7\", \"seamark:light:2:sector_end\": \"130\", \"seamark:light:2:sector_start\": \"123.5\", \"seamark:light:3:character\": \"Fl\", \"seamark:light:3:colour\": \"red\", \"seamark:light:3:height\": \"8\", \"seamark:light:3:period\": \"3\", \"seamark:light:3:range\": \"5\", \"seamark:light:3:sector_end\": \"233\", \"seamark:light:3:sector_start\": \"130\", \"seamark:light:4:character\": \"Fl\", \"seamark:light:4:colour\": \"green\", \"seamark:light:4:height\": \"8\", \"seamark:light:4:period\": \"3\", \"seamark:light:4:range\": \"4\", \"seamark:light:4:sector_end\": \"299\", \"seamark:light:4:sector_start\": \"233\", \"seamark:light:5:character\": \"Fl\", \"seamark:light:5:colour\": \"white\", \"seamark:light:5:height\": \"8\", \"seamark:light:5:period\": \"3\", \"seamark:light:5:range\": \"7\", \"seamark:light:5:sector_end\": \"305.5\", \"seamark:light:5:sector_start\": \"299\", \"seamark:light:6:character\": \"Fl\", \"seamark:light:6:colour\": \"red\", \"seamark:light:6:height\": \"8\", \"seamark:light:6:period\": \"3\", \"seamark:light:6:range\": \"5\", \"seamark:light:6:sector_end\": \"325\", \"seamark:light:6:sector_start\": \"305.5\", \"seamark:light:7:character\": \"Fl\", \"seamark:light:7:colour\": \"white\", \"seamark:light:7:height\": \"8\", \"seamark:light:7:period\": \"3\", \"seamark:light:7:range\": \"7\", \"seamark:light:7:sector_end\": \"99\", \"seamark:light:7:sector_start\": \"55\", \"seamark:light:reference\": \"C 6514\", \"seamark:name\": \"Sando Sugga\", \"seamark:type\": \"light_minor\", \"wikidata\": \"Q33181168\"}, \"type\": \"node\"}, {\"height\": \"5\", \"id\": 1033080050, \"lat\": 59.4043866, \"lon\": 18.5234371, \"tags\": {\"man_made\": \"lighthouse\", \"name\": \"Nyvarp\", \"seamark:light:1:character\": \"Fl\", \"seamark:light:1:colour\": \"red\", \"seamark:light:1:height\": \"5\", \"seamark:light:1:period\": \"3\", \"seamark:light:1:range\": \"4\", \"seamark:light:1:sector_end\": \"140\", \"seamark:light:2:character\": \"Fl\", \"seamark:light:2:colour\": \"green\", \"seamark:light:2:height\": \"5\", \"seamark:light:2:period\": \"3\", \"seamark:light:2:range\": \"3\", \"seamark:light:2:sector_end\": \"151\", \"seamark:light:2:sector_start\": \"140\", \"seamark:light:3:character\": \"Fl\", \"seamark:light:3:colour\": \"white\", \"seamark:light:3:height\": \"5\", \"seamark:light:3:period\": \"3\", \"seamark:light:3:range\": \"6\", \"seamark:light:3:sector_end\": \"157\", \"seamark:light:3:sector_start\": \"151\", \"seamark:light:4:character\": \"Fl\", \"seamark:light:4:colour\": \"red\", \"seamark:light:4:height\": \"5\", \"seamark:light:4:period\": \"3\", \"seamark:light:4:range\": \"4\", \"seamark:light:4:sector_end\": \"162\", \"seamark:light:4:sector_start\": \"157\", \"seamark:light:5:character\": \"Fl\", \"seamark:light:5:colour\": \"green\", \"seamark:light:5:height\": \"5\", \"seamark:light:5:period\": \"3\", \"seamark:light:5:range\": \"3\", \"seamark:light:5:sector_end\": \"167\", \"seamark:light:5:sector_start\": \"162\", \"seamark:light:6:character\": \"Fl\", \"seamark:light:6:colour\": \"white\", \"seamark:light:6:height\": \"5\", \"seamark:light:6:period\": \"3\", \"seamark:light:6:range\": \"6\", \"seamark:light:6:sector_end\": \"312\", \"seamark:light:6:sector_start\": \"167\", \"seamark:light:7:character\": \"Fl\", \"seamark:light:7:colour\": \"red\", \"seamark:light:7:height\": \"5\", \"seamark:light:7:period\": \"3\", \"seamark:light:7:range\": \"4\", \"seamark:light:7:sector_end\": \"322\", \"seamark:light:7:sector_start\": \"312\", \"seamark:light:reference\": \"C 6516\", \"seamark:name\": \"Nyvarp\", \"seamark:type\": \"light_minor\", \"wikidata\": \"Q33177964\"}, \"type\": \"node\"}, {\"height\": \"24\", \"id\": 1033101005, \"lat\": 59.1317014, \"lon\": 18.4299884, \"tags\": {\"man_made\": \"lighthouse\", \"name\": \"Genb\\u00f6te\", \"seamark:light:1:character\": \"Iso\", \"seamark:light:1:colour\": \"white\", \"seamark:light:1:height\": \"24\", \"seamark:light:1:period\": \"3\", \"seamark:light:1:range\": \"10\", \"seamark:light:1:sector_end\": \"15.5\", \"seamark:light:1:sector_start\": \"6\", \"seamark:light:2:character\": \"Iso\", \"seamark:light:2:colour\": \"red\", \"seamark:light:2:height\": \"24\", \"seamark:light:2:period\": \"3\", \"seamark:light:2:range\": \"7\", \"seamark:light:2:sector_end\": \"38\", \"seamark:light:2:sector_start\": \"15.5\", \"seamark:light:3:character\": \"Iso\", \"seamark:light:3:colour\": \"green\", \"seamark:light:3:height\": \"24\", \"seamark:light:3:period\": \"3\", \"seamark:light:3:range\": \"6\", \"seamark:light:3:sector_end\": \"47.5\", \"seamark:light:3:sector_start\": \"38\", \"seamark:light:4:character\": \"Iso\", \"seamark:light:4:colour\": \"white\", \"seamark:light:4:height\": \"24\", \"seamark:light:4:period\": \"3\", \"seamark:light:4:range\": \"10\", \"seamark:light:4:sector_end\": \"50.5\", \"seamark:light:4:sector_start\": \"47.5\", \"seamark:light:5:character\": \"Iso\", \"seamark:light:5:colour\": \"red\", \"seamark:light:5:height\": \"24\", \"seamark:light:5:period\": \"3\", \"seamark:light:5:range\": \"7\", \"seamark:light:5:sector_end\": \"142\", \"seamark:light:5:sector_start\": \"50.5\", \"seamark:light:reference\": \"C 6644\", \"seamark:name\": \"Genbote\", \"seamark:type\": \"light_minor\", \"source\": \"US NGA Pub. 116. 2011-07-07.\", \"wikidata\": \"Q28375656\"}, \"type\": \"node\"}, {\"height\": \"5\", \"id\": 1033101008, \"lat\": 59.128426, \"lon\": 18.4223451, \"tags\": {\"man_made\": \"lighthouse\", \"name\": \"Stenholmen\", \"seamark:light:1:character\": \"Fl\", \"seamark:light:1:colour\": \"green\", \"seamark:light:1:height\": \"5\", \"seamark:light:1:period\": \"3\", \"seamark:light:1:range\": \"2\", \"seamark:light:1:sector_end\": \"214\", \"seamark:light:1:sector_start\": \"204\", \"seamark:light:2:character\": \"Fl\", \"seamark:light:2:colour\": \"white\", \"seamark:light:2:height\": \"5\", \"seamark:light:2:period\": \"3\", \"seamark:light:2:range\": \"5\", \"seamark:light:2:sector_end\": \"222\", \"seamark:light:2:sector_start\": \"214\", \"seamark:light:3:character\": \"Fl\", \"seamark:light:3:colour\": \"red\", \"seamark:light:3:height\": \"5\", \"seamark:light:3:period\": \"3\", \"seamark:light:3:range\": \"3\", \"seamark:light:3:sector_end\": \"282\", \"seamark:light:3:sector_start\": \"222\", \"seamark:light:reference\": \"C 6642\", \"seamark:name\": \"Stenholmen\", \"seamark:type\": \"light_minor\", \"wikidata\": \"Q33183774\"}, \"type\": \"node\"}, {\"height\": \"3\", \"id\": 1033101012, \"lat\": 59.1244125, \"lon\": 18.4075759, \"tags\": {\"man_made\": \"lighthouse\", \"name\": \"Jutholmen\", \"seamark:light:1:character\": \"Fl\", \"seamark:light:1:colour\": \"green\", \"seamark:light:1:group\": \"2\", \"seamark:light:1:height\": \"3\", \"seamark:light:1:period\": \"6\", \"seamark:light:1:range\": \"6\", \"seamark:light:1:sector_end\": \"30\", \"seamark:light:1:sector_start\": \"349\", \"seamark:light:2:character\": \"Fl\", \"seamark:light:2:colour\": \"white\", \"seamark:light:2:group\": \"2\", \"seamark:light:2:height\": \"3\", \"seamark:light:2:period\": \"6\", \"seamark:light:2:range\": \"10\", \"seamark:light:2:sector_end\": \"38.5\", \"seamark:light:2:sector_start\": \"30\", \"seamark:light:3:character\": \"Fl\", \"seamark:light:3:colour\": \"red\", \"seamark:light:3:group\": \"2\", \"seamark:light:3:height\": \"3\", \"seamark:light:3:period\": \"6\", \"seamark:light:3:range\": \"7\", \"seamark:light:3:sector_end\": \"44\", \"seamark:light:3:sector_start\": \"38.5\", \"seamark:light:4:character\": \"Fl\", \"seamark:light:4:colour\": \"green\", \"seamark:light:4:group\": \"2\", \"seamark:light:4:height\": \"3\", \"seamark:light:4:period\": \"6\", \"seamark:light:4:range\": \"6\", \"seamark:light:4:sector_end\": \"95\", \"seamark:light:4:sector_start\": \"44\", \"seamark:light:5:character\": \"Fl\", \"seamark:light:5:colour\": \"red\", \"seamark:light:5:group\": \"2\", \"seamark:light:5:height\": \"3\", \"seamark:light:5:period\": \"6\", \"seamark:light:5:range\": \"7\", \"seamark:light:5:sector_end\": \"110\", \"seamark:light:5:sector_start\": \"95\", \"seamark:light:reference\": \"C 6640\", \"seamark:name\": \"Jutholmen\", \"seamark:type\": \"light_minor\", \"wikidata\": \"Q33134417\"}, \"type\": \"node\"}, {\"height\": \"4\", \"id\": 1033101020, \"lat\": 59.1206518, \"lon\": 18.4264265, \"tags\": {\"man_made\": \"lighthouse\", \"name\": \"Riksdalersk\\u00e4ret\", \"seamark:light:1:character\": \"Fl\", \"seamark:light:1:colour\": \"green\", \"seamark:light:1:group\": \"2\", \"seamark:light:1:height\": \"4\", \"seamark:light:1:period\": \"6\", \"seamark:light:1:range\": \"6\", \"seamark:light:1:sector_end\": \"53\", \"seamark:light:1:sector_start\": \"38\", \"seamark:light:2:character\": \"Fl\", \"seamark:light:2:colour\": \"white\", \"seamark:light:2:group\": \"2\", \"seamark:light:2:height\": \"4\", \"seamark:light:2:period\": \"6\", \"seamark:light:2:range\": \"10\", \"seamark:light:2:sector_end\": \"55.5\", \"seamark:light:2:sector_start\": \"53\", \"seamark:light:3:character\": \"Fl\", \"seamark:light:3:colour\": \"red\", \"seamark:light:3:group\": \"2\", \"seamark:light:3:height\": \"4\", \"seamark:light:3:period\": \"6\", \"seamark:light:3:range\": \"7\", \"seamark:light:3:sector_end\": \"173\", \"seamark:light:3:sector_start\": \"55.5\", \"seamark:light:4:character\": \"Fl\", \"seamark:light:4:colour\": \"green\", \"seamark:light:4:group\": \"2\", \"seamark:light:4:height\": \"4\", \"seamark:light:4:period\": \"6\", \"seamark:light:4:range\": \"6\", \"seamark:light:4:sector_end\": \"180\", \"seamark:light:4:sector_start\": \"173\", \"seamark:light:5:character\": \"Fl\", \"seamark:light:5:colour\": \"white\", \"seamark:light:5:group\": \"2\", \"seamark:light:5:height\": \"4\", \"seamark:light:5:period\": \"6\", \"seamark:light:5:range\": \"10\", \"seamark:light:5:sector_end\": \"254\", \"seamark:light:5:sector_start\": \"180\", \"seamark:light:reference\": \"C 6636\", \"seamark:name\": \"Riksdalerskaret\", \"seamark:type\": \"light_minor\"}, \"type\": \"node\"}, {\"height\": \"6\", \"id\": 1033101028, \"lat\": 59.2964034, \"lon\": 18.7151269, \"tags\": {\"man_made\": \"lighthouse\", \"name\": \"Run\\u00f6\", \"seamark:light:1:character\": \"Fl\", \"seamark:light:1:colour\": \"green\", \"seamark:light:1:height\": \"6\", \"seamark:light:1:period\": \"3\", \"seamark:light:1:range\": \"6\", \"seamark:light:1:sector_end\": \"221\", \"seamark:light:1:sector_start\": \"201\", \"seamark:light:2:character\": \"Fl\", \"seamark:light:2:colour\": \"white\", \"seamark:light:2:height\": \"6\", \"seamark:light:2:period\": \"3\", \"seamark:light:2:range\": \"10\", \"seamark:light:2:sector_end\": \"224\", \"seamark:light:2:sector_start\": \"221\", \"seamark:light:3:character\": \"Fl\", \"seamark:light:3:colour\": \"red\", \"seamark:light:3:height\": \"6\", \"seamark:light:3:period\": \"3\", \"seamark:light:3:range\": \"7\", \"seamark:light:3:sector_end\": \"243.5\", \"seamark:light:3:sector_start\": \"224\", \"seamark:light:4:character\": \"Fl\", \"seamark:light:4:colour\": \"white\", \"seamark:light:4:height\": \"6\", \"seamark:light:4:period\": \"3\", \"seamark:light:4:range\": \"10\", \"seamark:light:4:sector_end\": \"335\", \"seamark:light:4:sector_start\": \"243.5\", \"seamark:light:5:character\": \"Fl\", \"seamark:light:5:colour\": \"green\", \"seamark:light:5:height\": \"6\", \"seamark:light:5:period\": \"3\", \"seamark:light:5:range\": \"6\", \"seamark:light:5:sector_end\": \"357.5\", \"seamark:light:5:sector_start\": \"335\", \"seamark:light:6:character\": \"Fl\", \"seamark:light:6:colour\": \"white\", \"seamark:light:6:height\": \"6\", \"seamark:light:6:period\": \"3\", \"seamark:light:6:range\": \"10\", \"seamark:light:6:sector_end\": \"3\", \"seamark:light:6:sector_start\": \"357.5\", \"seamark:light:7:character\": \"Fl\", \"seamark:light:7:colour\": \"red\", \"seamark:light:7:height\": \"6\", \"seamark:light:7:period\": \"3\", \"seamark:light:7:range\": \"7\", \"seamark:light:7:sector_end\": \"19\", \"seamark:light:7:sector_start\": \"3\", \"seamark:light:reference\": \"C 6670\", \"seamark:name\": \"Runo\", \"seamark:type\": \"light_minor\", \"wikidata\": \"Q33180060\"}, \"type\": \"node\"}, {\"height\": \"5\", \"id\": 1033101030, \"lat\": 59.2478587, \"lon\": 18.6654999, \"tags\": {\"man_made\": \"lighthouse\", \"name\": \"Franska Stenarna\", \"seamark:light:1:character\": \"Fl\", \"seamark:light:1:colour\": \"white\", \"seamark:light:1:group\": \"2\", \"seamark:light:1:height\": \"5\", \"seamark:light:1:period\": \"6\", \"seamark:light:1:range\": \"7\", \"seamark:light:1:sector_end\": \"305\", \"seamark:light:1:sector_start\": \"239.5\", \"seamark:light:2:character\": \"Fl\", \"seamark:light:2:colour\": \"green\", \"seamark:light:2:group\": \"2\", \"seamark:light:2:height\": \"5\", \"seamark:light:2:period\": \"6\", \"seamark:light:2:range\": \"4\", \"seamark:light:2:sector_end\": \"312\", \"seamark:light:2:sector_start\": \"305\", \"seamark:light:3:character\": \"Fl\", \"seamark:light:3:colour\": \"white\", \"seamark:light:3:group\": \"2\", \"seamark:light:3:height\": \"5\", \"seamark:light:3:period\": \"6\", \"seamark:light:3:range\": \"7\", \"seamark:light:3:sector_end\": \"314\", \"seamark:light:3:sector_start\": \"312\", \"seamark:light:4:character\": \"Fl\", \"seamark:light:4:colour\": \"red\", \"seamark:light:4:group\": \"2\", \"seamark:light:4:height\": \"5\", \"seamark:light:4:period\": \"6\", \"seamark:light:4:range\": \"4\", \"seamark:light:4:sector_end\": \"321\", \"seamark:light:4:sector_start\": \"314\", \"seamark:light:5:character\": \"Fl\", \"seamark:light:5:colour\": \"white\", \"seamark:light:5:group\": \"2\", \"seamark:light:5:height\": \"5\", \"seamark:light:5:period\": \"6\", \"seamark:light:5:range\": \"7\", \"seamark:light:5:sector_end\": \"35\", \"seamark:light:5:sector_start\": \"321\", \"seamark:light:6:character\": \"Fl\", \"seamark:light:6:colour\": \"green\", \"seamark:light:6:group\": \"2\", \"seamark:light:6:height\": \"5\", \"seamark:light:6:period\": \"6\", \"seamark:light:6:range\": \"4\", \"seamark:light:6:sector_end\": \"43.5\", \"seamark:light:6:sector_start\": \"35\", \"seamark:light:7:character\": \"Fl\", \"seamark:light:7:colour\": \"white\", \"seamark:light:7:group\": \"2\", \"seamark:light:7:height\": \"5\", \"seamark:light:7:period\": \"6\", \"seamark:light:7:range\": \"7\", \"seamark:light:7:sector_end\": \"64\", \"seamark:light:7:sector_start\": \"43.5\", \"seamark:light:8:character\": \"Fl\", \"seamark:light:8:colour\": \"white\", \"seamark:light:8:group\": \"2\", \"seamark:light:8:height\": \"5\", \"seamark:light:8:period\": \"6\", \"seamark:light:8:range\": \"7\", \"seamark:light:8:sector_end\": \"210.5\", \"seamark:light:8:sector_start\": \"64\", \"seamark:light:9:character\": \"Fl\", \"seamark:light:9:colour\": \"white\", \"seamark:light:9:group\": \"2\", \"seamark:light:9:height\": \"5\", \"seamark:light:9:period\": \"6\", \"seamark:light:9:range\": \"7\", \"seamark:light:9:sector_end\": \"239.5\", \"seamark:light:9:sector_start\": \"210.5\", \"seamark:light:reference\": \"C 6666\", \"seamark:name\": \"Franska Stenarna\", \"seamark:type\": \"light_minor\", \"wikidata\": \"Q10498603\"}, \"type\": \"node\"}, {\"height\": \"8\", \"id\": 1033101033, \"lat\": 59.1555416, \"lon\": 18.5546952, \"tags\": {\"man_made\": \"lighthouse\", \"name\": \"Fj\\u00e4rdh\\u00e4llan\", \"seamark:light:10:character\": \"Fl\", \"seamark:light:10:colour\": \"green\", \"seamark:light:10:height\": \"8\", \"seamark:light:10:period\": \"3\", \"seamark:light:10:range\": \"4\", \"seamark:light:10:sector_end\": \"63.5\", \"seamark:light:10:sector_start\": \"31\", \"seamark:light:11:character\": \"Fl\", \"seamark:light:11:colour\": \"white\", \"seamark:light:11:height\": \"8\", \"seamark:light:11:period\": \"3\", \"seamark:light:11:range\": \"8\", \"seamark:light:11:sector_end\": \"69\", \"seamark:light:11:sector_start\": \"63.5\", \"seamark:light:12:character\": \"Fl\", \"seamark:light:12:colour\": \"red\", \"seamark:light:12:height\": \"8\", \"seamark:light:12:period\": \"3\", \"seamark:light:12:range\": \"5\", \"seamark:light:12:sector_end\": \"109\", \"seamark:light:12:sector_start\": \"69\", \"seamark:light:1:character\": \"Fl\", \"seamark:light:1:colour\": \"green\", \"seamark:light:1:height\": \"8\", \"seamark:light:1:period\": \"3\", \"seamark:light:1:range\": \"4\", \"seamark:light:1:sector_end\": \"177\", \"seamark:light:1:sector_start\": \"109\", \"seamark:light:2:character\": \"Fl\", \"seamark:light:2:colour\": \"red\", \"seamark:light:2:height\": \"8\", \"seamark:light:2:period\": \"3\", \"seamark:light:2:range\": \"5\", \"seamark:light:2:sector_end\": \"199\", \"seamark:light:2:sector_start\": \"177\", \"seamark:light:3:character\": \"Fl\", \"seamark:light:3:colour\": \"green\", \"seamark:light:3:height\": \"8\", \"seamark:light:3:period\": \"3\", \"seamark:light:3:range\": \"4\", \"seamark:light:3:sector_end\": \"202\", \"seamark:light:3:sector_start\": \"199\", \"seamark:light:4:character\": \"Fl\", \"seamark:light:4:colour\": \"white\", \"seamark:light:4:height\": \"8\", \"seamark:light:4:period\": \"3\", \"seamark:light:4:range\": \"8\", \"seamark:light:4:sector_end\": \"205\", \"seamark:light:4:sector_start\": \"202\", \"seamark:light:5:character\": \"Fl\", \"seamark:light:5:colour\": \"red\", \"seamark:light:5:height\": \"8\", \"seamark:light:5:period\": \"3\", \"seamark:light:5:range\": \"5\", \"seamark:light:5:sector_end\": \"208\", \"seamark:light:5:sector_start\": \"205\", \"seamark:light:6:character\": \"Fl\", \"seamark:light:6:colour\": \"green\", \"seamark:light:6:height\": \"8\", \"seamark:light:6:period\": \"3\", \"seamark:light:6:range\": \"4\", \"seamark:light:6:sector_end\": \"245\", \"seamark:light:6:sector_start\": \"208\", \"seamark:light:7:character\": \"Fl\", \"seamark:light:7:colour\": \"white\", \"seamark:light:7:height\": \"8\", \"seamark:light:7:period\": \"3\", \"seamark:light:7:range\": \"8\", \"seamark:light:7:sector_end\": \"290\", \"seamark:light:7:sector_start\": \"245\", \"seamark:light:8:character\": \"Fl\", \"seamark:light:8:colour\": \"white\", \"seamark:light:8:height\": \"8\", \"seamark:light:8:period\": \"3\", \"seamark:light:8:range\": \"8\", \"seamark:light:8:sector_end\": \"6\", \"seamark:light:8:sector_start\": \"290\", \"seamark:light:9:character\": \"Fl\", \"seamark:light:9:colour\": \"red\", \"seamark:light:9:height\": \"8\", \"seamark:light:9:period\": \"3\", \"seamark:light:9:range\": \"5\", \"seamark:light:9:sector_end\": \"31\", \"seamark:light:9:sector_start\": \"6\", \"seamark:light:reference\": \"C 6658\", \"seamark:name\": \"Fjardhallan\", \"seamark:type\": \"light_minor\", \"wikidata\": \"Q28375654\"}, \"type\": \"node\"}, {\"height\": \"7\", \"id\": 1033101040, \"lat\": 59.142995, \"lon\": 18.4640525, \"tags\": {\"man_made\": \"lighthouse\", \"name\": \"Piltholmsknall\", \"seamark:light:1:character\": \"Fl\", \"seamark:light:1:colour\": \"red\", \"seamark:light:1:group\": \"2\", \"seamark:light:1:height\": \"7\", \"seamark:light:1:period\": \"6\", \"seamark:light:1:range\": \"6\", \"seamark:light:1:sector_end\": \"62\", \"seamark:light:1:sector_start\": \"30\", \"seamark:light:2:character\": \"Fl\", \"seamark:light:2:colour\": \"green\", \"seamark:light:2:group\": \"2\", \"seamark:light:2:height\": \"7\", \"seamark:light:2:period\": \"6\", \"seamark:light:2:range\": \"5\", \"seamark:light:2:sector_end\": \"67\", \"seamark:light:2:sector_start\": \"62\", \"seamark:light:3:character\": \"Fl\", \"seamark:light:3:colour\": \"white\", \"seamark:light:3:group\": \"2\", \"seamark:light:3:height\": \"7\", \"seamark:light:3:period\": \"6\", \"seamark:light:3:range\": \"9\", \"seamark:light:3:sector_end\": \"71.5\", \"seamark:light:3:sector_start\": \"67\", \"seamark:light:4:character\": \"Fl\", \"seamark:light:4:colour\": \"red\", \"seamark:light:4:group\": \"2\", \"seamark:light:4:height\": \"7\", \"seamark:light:4:period\": \"6\", \"seamark:light:4:range\": \"6\", \"seamark:light:4:sector_end\": \"213\", \"seamark:light:4:sector_start\": \"71.5\", \"seamark:light:5:character\": \"Fl\", \"seamark:light:5:colour\": \"green\", \"seamark:light:5:group\": \"2\", \"seamark:light:5:height\": \"7\", \"seamark:light:5:period\": \"6\", \"seamark:light:5:range\": \"5\", \"seamark:light:5:sector_end\": \"30\", \"seamark:light:5:sector_start\": \"213\", \"seamark:light:reference\": \"C 6650\", \"seamark:name\": \"Piltholmsknall\", \"seamark:source\": \"US NGA Pub. 116. 2011-07-07.\", \"seamark:type\": \"light_minor\", \"wikidata\": \"Q33178614\"}, \"type\": \"node\"}, {\"height\": \"6\", \"id\": 1033101047, \"lat\": 59.1401405, \"lon\": 18.4390356, \"tags\": {\"man_made\": \"lighthouse\", \"name\": \"Hummelkl\\u00e4pp\", \"seamark:light:10:character\": \"Iso\", \"seamark:light:10:colour\": \"green\", \"seamark:light:10:height\": \"6\", \"seamark:light:10:period\": \"4\", \"seamark:light:10:range\": \"6\", \"seamark:light:10:sector_end\": \"53.5\", \"seamark:light:10:sector_start\": \"48\", \"seamark:light:11:character\": \"Iso\", \"seamark:light:11:colour\": \"white\", \"seamark:light:11:height\": \"6\", \"seamark:light:11:period\": \"4\", \"seamark:light:11:range\": \"10\", \"seamark:light:11:sector_end\": \"55.5\", \"seamark:light:11:sector_start\": \"53.5\", \"seamark:light:12:character\": \"Iso\", \"seamark:light:12:colour\": \"red\", \"seamark:light:12:height\": \"6\", \"seamark:light:12:period\": \"4\", \"seamark:light:12:range\": \"7\", \"seamark:light:12:sector_end\": \"65\", \"seamark:light:12:sector_start\": \"55.5\", \"seamark:light:1:character\": \"Iso\", \"seamark:light:1:colour\": \"green\", \"seamark:light:1:height\": \"6\", \"seamark:light:1:period\": \"4\", \"seamark:light:1:range\": \"6\", \"seamark:light:1:sector_end\": \"252\", \"seamark:light:1:sector_start\": \"244\", \"seamark:light:2:character\": \"Iso\", \"seamark:light:2:colour\": \"white\", \"seamark:light:2:height\": \"6\", \"seamark:light:2:period\": \"4\", \"seamark:light:2:range\": \"10\", \"seamark:light:2:sector_end\": \"254.5\", \"seamark:light:2:sector_start\": \"252\", \"seamark:light:3:character\": \"Iso\", \"seamark:light:3:colour\": \"red\", \"seamark:light:3:height\": \"6\", \"seamark:light:3:period\": \"4\", \"seamark:light:3:range\": \"7\", \"seamark:light:3:sector_end\": \"282.5\", \"seamark:light:3:sector_start\": \"254.5\", \"seamark:light:4:character\": \"Iso\", \"seamark:light:4:colour\": \"green\", \"seamark:light:4:height\": \"6\", \"seamark:light:4:period\": \"4\", \"seamark:light:4:range\": \"6\", \"seamark:light:4:sector_end\": \"302.5\", \"seamark:light:4:sector_start\": \"282.5\", \"seamark:light:5:character\": \"Iso\", \"seamark:light:5:colour\": \"white\", \"seamark:light:5:height\": \"6\", \"seamark:light:5:period\": \"4\", \"seamark:light:5:range\": \"10\", \"seamark:light:5:sector_end\": \"310\", \"seamark:light:5:sector_start\": \"302.5\", \"seamark:light:6:character\": \"Iso\", \"seamark:light:6:colour\": \"red\", \"seamark:light:6:height\": \"6\", \"seamark:light:6:period\": \"4\", \"seamark:light:6:range\": \"7\", \"seamark:light:6:sector_end\": \"343.5\", \"seamark:light:6:sector_start\": \"310\", \"seamark:light:7:character\": \"Iso\", \"seamark:light:7:colour\": \"green\", \"seamark:light:7:height\": \"6\", \"seamark:light:7:period\": \"4\", \"seamark:light:7:range\": \"6\", \"seamark:light:7:sector_end\": \"32\", \"seamark:light:7:sector_start\": \"343.5\", \"seamark:light:8:character\": \"Iso\", \"seamark:light:8:colour\": \"white\", \"seamark:light:8:height\": \"6\", \"seamark:light:8:period\": \"4\", \"seamark:light:8:range\": \"10\", \"seamark:light:8:sector_end\": \"38\", \"seamark:light:8:sector_start\": \"32\", \"seamark:light:9:character\": \"Iso\", \"seamark:light:9:colour\": \"red\", \"seamark:light:9:height\": \"6\", \"seamark:light:9:period\": \"4\", \"seamark:light:9:range\": \"7\", \"seamark:light:9:sector_end\": \"48\", \"seamark:light:9:sector_start\": \"38\", \"seamark:light:reference\": \"C 6648\", \"seamark:name\": \"Hummelklapp\", \"seamark:type\": \"light_minor\", \"wikidata\": \"Q33134263\"}, \"type\": \"node\"}, {\"height\": \"6\", \"id\": 1033101053, \"lat\": 59.2818135, \"lon\": 18.867218, \"tags\": {\"man_made\": \"lighthouse\", \"name\": \"Svartgrund\", \"seamark:light:1:category\": \"lower\", \"seamark:light:1:character\": \"Iso\", \"seamark:light:1:colour\": \"green\", \"seamark:light:1:height\": \"6\", \"seamark:light:1:period\": \"4\", \"seamark:light:1:range\": \"4\", \"seamark:light:1:sector_end\": \"297\", \"seamark:light:1:sector_start\": \"270\", \"seamark:light:2:category\": \"lower\", \"seamark:light:2:character\": \"Iso\", \"seamark:light:2:colour\": \"white\", \"seamark:light:2:height\": \"6\", \"seamark:light:2:period\": \"4\", \"seamark:light:2:range\": \"7\", \"seamark:light:2:sector_end\": \"305\", \"seamark:light:2:sector_start\": \"297\", \"seamark:light:3:category\": \"lower\", \"seamark:light:3:character\": \"Iso\", \"seamark:light:3:colour\": \"red\", \"seamark:light:3:height\": \"6\", \"seamark:light:3:period\": \"4\", \"seamark:light:3:range\": \"5\", \"seamark:light:3:sector_end\": \"320\", \"seamark:light:3:sector_start\": \"305\", \"seamark:light:reference\": \"C 6482\", \"seamark:name\": \"Svartgrund\", \"seamark:radar_reflector\": \"yes\", \"seamark:type\": \"light_minor\", \"source\": \"position bing\", \"wikidata\": \"Q33193310\"}, \"type\": \"node\"}, {\"height\": 3, \"id\": 1033101060, \"lat\": 59.2853743, \"lon\": 18.8575916, \"tags\": {\"man_made\": \"lighthouse\", \"name\": \"Vindals\\u00f6\", \"seamark:light:category\": \"upper;leading\", \"seamark:light:character\": \"Q\", \"seamark:light:colour\": \"white\", \"seamark:light:height\": \"12\", \"seamark:light:range\": \"8\", \"seamark:light:reference\": \"C 6482.1\", \"seamark:name\": \"Vindalso\", \"seamark:radar_reflector\": \"yes\", \"seamark:type\": \"light_minor\", \"wikidata\": \"Q33200236\"}, \"type\": \"node\"}, {\"height\": \"7\", \"id\": 1033101066, \"lat\": 59.2867321, \"lon\": 18.7104698, \"tags\": {\"man_made\": \"lighthouse\", \"name\": \"Tegelh\\u00e4llan\", \"seamark:light:1:character\": \"Fl\", \"seamark:light:1:colour\": \"red\", \"seamark:light:1:group\": \"2\", \"seamark:light:1:height\": \"7\", \"seamark:light:1:period\": \"6\", \"seamark:light:1:range\": \"5\", \"seamark:light:1:sector_end\": \"169\", \"seamark:light:1:sector_start\": \"111\", \"seamark:light:2:character\": \"Fl\", \"seamark:light:2:colour\": \"green\", \"seamark:light:2:group\": \"2\", \"seamark:light:2:height\": \"7\", \"seamark:light:2:period\": \"6\", \"seamark:light:2:range\": \"4\", \"seamark:light:2:sector_end\": \"202.5\", \"seamark:light:2:sector_start\": \"169\", \"seamark:light:3:character\": \"Fl\", \"seamark:light:3:colour\": \"white\", \"seamark:light:3:group\": \"2\", \"seamark:light:3:height\": \"7\", \"seamark:light:3:period\": \"6\", \"seamark:light:3:range\": \"7\", \"seamark:light:3:sector_end\": \"209\", \"seamark:light:3:sector_start\": \"202.5\", \"seamark:light:4:character\": \"Fl\", \"seamark:light:4:colour\": \"red\", \"seamark:light:4:group\": \"2\", \"seamark:light:4:height\": \"7\", \"seamark:light:4:period\": \"6\", \"seamark:light:4:range\": \"5\", \"seamark:light:4:sector_end\": \"225\", \"seamark:light:4:sector_start\": \"209\", \"seamark:light:5:character\": \"Fl\", \"seamark:light:5:colour\": \"green\", \"seamark:light:5:group\": \"2\", \"seamark:light:5:height\": \"7\", \"seamark:light:5:period\": \"6\", \"seamark:light:5:range\": \"4\", \"seamark:light:5:sector_end\": \"309\", \"seamark:light:5:sector_start\": \"225\", \"seamark:light:6:character\": \"Fl\", \"seamark:light:6:colour\": \"white\", \"seamark:light:6:group\": \"2\", \"seamark:light:6:height\": \"7\", \"seamark:light:6:period\": \"6\", \"seamark:light:6:range\": \"7\", \"seamark:light:6:sector_end\": \"338.5\", \"seamark:light:6:sector_start\": \"309\", \"seamark:light:7:character\": \"Fl\", \"seamark:light:7:colour\": \"red\", \"seamark:light:7:group\": \"2\", \"seamark:light:7:height\": \"7\", \"seamark:light:7:period\": \"6\", \"seamark:light:7:range\": \"5\", \"seamark:light:7:sector_end\": \"36\", \"seamark:light:7:sector_start\": \"338.5\", \"seamark:light:8:character\": \"Fl\", \"seamark:light:8:colour\": \"green\", \"seamark:light:8:group\": \"2\", \"seamark:light:8:height\": \"7\", \"seamark:light:8:period\": \"6\", \"seamark:light:8:range\": \"4\", \"seamark:light:8:sector_end\": \"111\", \"seamark:light:8:sector_start\": \"36\", \"seamark:light:reference\": \"C 6669\", \"seamark:name\": \"Tegelh\\u00e4llan\", \"seamark:type\": \"light_minor\", \"wikidata\": \"Q10691829\"}, \"type\": \"node\"}, {\"height\": \"3\", \"id\": 1033105556, \"lat\": 59.1133937, \"lon\": 18.4098504, \"tags\": {\"man_made\": \"lighthouse\", \"name\": \"Segholmen\", \"seamark:light:1:character\": \"Fl\", \"seamark:light:1:colour\": \"green\", \"seamark:light:1:group\": \"4\", \"seamark:light:1:height\": \"3\", \"seamark:light:1:period\": \"12\", \"seamark:light:1:range\": \"6\", \"seamark:light:1:sector_end\": \"71\", \"seamark:light:1:sector_start\": \"58\", \"seamark:light:1:sequence\": \"0.8+(1.2),0.8+(1.2),0.8+(1.2),0.8+(5.2)\", \"seamark:light:2:character\": \"Fl\", \"seamark:light:2:colour\": \"white\", \"seamark:light:2:group\": \"4\", \"seamark:light:2:height\": \"3\", \"seamark:light:2:period\": \"12\", \"seamark:light:2:range\": \"10\", \"seamark:light:2:sector_end\": \"80\", \"seamark:light:2:sector_start\": \"71\", \"seamark:light:2:sequence\": \"0.8+(1.2),0.8+(1.2),0.8+(1.2),0.8+(5.2)\", \"seamark:light:3:character\": \"Fl\", \"seamark:light:3:colour\": \"red\", \"seamark:light:3:group\": \"4\", \"seamark:light:3:height\": \"3\", \"seamark:light:3:period\": \"12\", \"seamark:light:3:range\": \"7\", \"seamark:light:3:sector_end\": \"147\", \"seamark:light:3:sector_start\": \"80\", \"seamark:light:3:sequence\": \"0.8+(1.2),0.8+(1.2),0.8+(1.2),0.8+(5.2)\", \"seamark:light:4:character\": \"Fl\", \"seamark:light:4:colour\": \"green\", \"seamark:light:4:group\": \"4\", \"seamark:light:4:height\": \"3\", \"seamark:light:4:period\": \"12\", \"seamark:light:4:range\": \"6\", \"seamark:light:4:sector_end\": \"222\", \"seamark:light:4:sector_start\": \"147\", \"seamark:light:4:sequence\": \"0.8+(1.2),0.8+(1.2),0.8+(1.2),0.8+(5.2)\", \"seamark:light:reference\": \"C 6634\", \"seamark:name\": \"Segelholm\", \"seamark:type\": \"light_minor\", \"wikidata\": \"Q33181689\"}, \"type\": \"node\"}, {\"height\": \"6\", \"id\": 1033105561, \"lat\": 59.1141482, \"lon\": 18.397126, \"tags\": {\"man_made\": \"lighthouse\", \"name\": \"Asp\\u00f6sk\\u00e4r\", \"seamark:light:1:character\": \"Q\", \"seamark:light:1:colour\": \"green\", \"seamark:light:1:height\": \"6\", \"seamark:light:1:range\": \"6\", \"seamark:light:1:sector_end\": \"46\", \"seamark:light:1:sector_start\": \"329\", \"seamark:light:2:character\": \"Q\", \"seamark:light:2:colour\": \"white\", \"seamark:light:2:height\": \"6\", \"seamark:light:2:range\": \"10\", \"seamark:light:2:sector_end\": \"48\", \"seamark:light:2:sector_start\": \"46\", \"seamark:light:3:character\": \"Q\", \"seamark:light:3:colour\": \"red\", \"seamark:light:3:height\": \"6\", \"seamark:light:3:range\": \"7\", \"seamark:light:3:sector_end\": \"93\", \"seamark:light:3:sector_start\": \"48\", \"seamark:light:4:character\": \"Q\", \"seamark:light:4:colour\": \"green\", \"seamark:light:4:height\": \"6\", \"seamark:light:4:range\": \"6\", \"seamark:light:4:sector_end\": \"108\", \"seamark:light:4:sector_start\": \"93\", \"seamark:light:5:character\": \"Q\", \"seamark:light:5:colour\": \"white\", \"seamark:light:5:height\": \"6\", \"seamark:light:5:range\": \"10\", \"seamark:light:5:sector_end\": \"160\", \"seamark:light:5:sector_start\": \"108\", \"seamark:light:6:character\": \"Q\", \"seamark:light:6:colour\": \"red\", \"seamark:light:6:height\": \"6\", \"seamark:light:6:range\": \"7\", \"seamark:light:6:sector_end\": \"183\", \"seamark:light:6:sector_start\": \"160\", \"seamark:light:7:character\": \"Q\", \"seamark:light:7:colour\": \"green\", \"seamark:light:7:height\": \"6\", \"seamark:light:7:range\": \"6\", \"seamark:light:7:sector_end\": \"203\", \"seamark:light:7:sector_start\": \"183\", \"seamark:light:8:character\": \"Q\", \"seamark:light:8:colour\": \"white\", \"seamark:light:8:height\": \"6\", \"seamark:light:8:range\": \"10\", \"seamark:light:8:sector_end\": \"208\", \"seamark:light:8:sector_start\": \"203\", \"seamark:light:9:character\": \"Q\", \"seamark:light:9:colour\": \"red\", \"seamark:light:9:height\": \"6\", \"seamark:light:9:range\": \"7\", \"seamark:light:9:sector_end\": \"222\", \"seamark:light:9:sector_start\": \"208\", \"seamark:light:reference\": \"C 6632\", \"seamark:name\": \"Asposkar\", \"seamark:type\": \"light_minor\"}, \"type\": \"node\"}, {\"height\": \"6\", \"id\": 1033116553, \"lat\": 59.0734131, \"lon\": 18.2985709, \"tags\": {\"man_made\": \"lighthouse\", \"name\": \"L\\u00e5nggarn\", \"seamark:light:1:character\": \"Fl\", \"seamark:light:1:colour\": \"green\", \"seamark:light:1:group\": \"3\", \"seamark:light:1:height\": \"6\", \"seamark:light:1:period\": \"9\", \"seamark:light:1:range\": \"4\", \"seamark:light:1:sector_end\": \"233.6\", \"seamark:light:1:sector_start\": \"210.3\", \"seamark:light:2:character\": \"Fl\", \"seamark:light:2:colour\": \"white\", \"seamark:light:2:group\": \"3\", \"seamark:light:2:height\": \"6\", \"seamark:light:2:period\": \"9\", \"seamark:light:2:range\": \"7\", \"seamark:light:2:sector_end\": \"235.7\", \"seamark:light:2:sector_start\": \"233.6\", \"seamark:light:3:character\": \"Fl\", \"seamark:light:3:colour\": \"red\", \"seamark:light:3:group\": \"3\", \"seamark:light:3:height\": \"6\", \"seamark:light:3:period\": \"9\", \"seamark:light:3:range\": \"5\", \"seamark:light:3:sector_end\": \"244.5\", \"seamark:light:3:sector_start\": \"235.7\", \"seamark:light:4:character\": \"Fl\", \"seamark:light:4:colour\": \"green\", \"seamark:light:4:group\": \"3\", \"seamark:light:4:height\": \"6\", \"seamark:light:4:period\": \"9\", \"seamark:light:4:range\": \"4\", \"seamark:light:4:sector_end\": \"315.3\", \"seamark:light:4:sector_start\": \"244.5\", \"seamark:light:5:character\": \"Fl\", \"seamark:light:5:colour\": \"red\", \"seamark:light:5:group\": \"3\", \"seamark:light:5:height\": \"6\", \"seamark:light:5:period\": \"9\", \"seamark:light:5:range\": \"5\", \"seamark:light:5:sector_end\": \"355.1\", \"seamark:light:5:sector_start\": \"315.3\", \"seamark:light:6:character\": \"Fl\", \"seamark:light:6:colour\": \"green\", \"seamark:light:6:group\": \"3\", \"seamark:light:6:height\": \"6\", \"seamark:light:6:period\": \"9\", \"seamark:light:6:range\": \"4\", \"seamark:light:6:sector_end\": \"6.2\", \"seamark:light:6:sector_start\": \"355.1\", \"seamark:light:7:character\": \"Fl\", \"seamark:light:7:colour\": \"white\", \"seamark:light:7:group\": \"3\", \"seamark:light:7:height\": \"6\", \"seamark:light:7:period\": \"9\", \"seamark:light:7:range\": \"7\", \"seamark:light:7:sector_end\": \"22\", \"seamark:light:7:sector_start\": \"6.2\", \"seamark:light:8:character\": \"Fl\", \"seamark:light:8:colour\": \"red\", \"seamark:light:8:group\": \"3\", \"seamark:light:8:height\": \"6\", \"seamark:light:8:period\": \"9\", \"seamark:light:8:range\": \"5\", \"seamark:light:8:sector_end\": \"51.5\", \"seamark:light:8:sector_start\": \"22\", \"seamark:light:9:character\": \"Fl\", \"seamark:light:9:colour\": \"green\", \"seamark:light:9:group\": \"3\", \"seamark:light:9:height\": \"6\", \"seamark:light:9:period\": \"9\", \"seamark:light:9:range\": \"4\", \"seamark:light:9:sector_end\": \"90\", \"seamark:light:9:sector_start\": \"51.5\", \"seamark:light:reference\": \"C 6623\", \"seamark:name\": \"Langgarn\", \"seamark:type\": \"light_minor\", \"wikidata\": \"Q33139524\"}, \"type\": \"node\"}, {\"height\": \"5\", \"id\": 1033116554, \"lat\": 59.0119345, \"lon\": 18.2463722, \"tags\": {\"man_made\": \"lighthouse\", \"name\": \"S\\u00f6derh\\u00e4ll\", \"seamark:light:1:character\": \"Fl\", \"seamark:light:1:colour\": \"green\", \"seamark:light:1:group\": \"3\", \"seamark:light:1:height\": \"5\", \"seamark:light:1:period\": \"9\", \"seamark:light:1:range\": \"3\", \"seamark:light:1:sector_end\": \"161\", \"seamark:light:1:sector_start\": \"153\", \"seamark:light:2:character\": \"Fl\", \"seamark:light:2:colour\": \"white\", \"seamark:light:2:group\": \"3\", \"seamark:light:2:height\": \"5\", \"seamark:light:2:period\": \"9\", \"seamark:light:2:range\": \"6\", \"seamark:light:2:sector_end\": \"165\", \"seamark:light:2:sector_start\": \"161\", \"seamark:light:3:character\": \"Fl\", \"seamark:light:3:colour\": \"red\", \"seamark:light:3:group\": \"3\", \"seamark:light:3:height\": \"5\", \"seamark:light:3:period\": \"9\", \"seamark:light:3:range\": \"4\", \"seamark:light:3:sector_end\": \"202.5\", \"seamark:light:3:sector_start\": \"165\", \"seamark:light:4:character\": \"Fl\", \"seamark:light:4:colour\": \"green\", \"seamark:light:4:group\": \"3\", \"seamark:light:4:height\": \"5\", \"seamark:light:4:period\": \"9\", \"seamark:light:4:range\": \"3\", \"seamark:light:4:sector_end\": \"282.5\", \"seamark:light:4:sector_start\": \"202.5\", \"seamark:light:5:character\": \"Fl\", \"seamark:light:5:colour\": \"white\", \"seamark:light:5:group\": \"3\", \"seamark:light:5:height\": \"5\", \"seamark:light:5:period\": \"9\", \"seamark:light:5:range\": \"6\", \"seamark:light:5:sector_end\": \"285\", \"seamark:light:5:sector_start\": \"282.5\", \"seamark:light:6:character\": \"Fl\", \"seamark:light:6:colour\": \"red\", \"seamark:light:6:group\": \"3\", \"seamark:light:6:height\": \"5\", \"seamark:light:6:period\": \"9\", \"seamark:light:6:range\": \"4\", \"seamark:light:6:sector_end\": \"5\", \"seamark:light:6:sector_start\": \"285\", \"seamark:light:7:character\": \"Fl\", \"seamark:light:7:colour\": \"green\", \"seamark:light:7:group\": \"3\", \"seamark:light:7:height\": \"5\", \"seamark:light:7:period\": \"9\", \"seamark:light:7:range\": \"3\", \"seamark:light:7:sector_end\": \"38.5\", \"seamark:light:7:sector_start\": \"5\", \"seamark:light:8:character\": \"Fl\", \"seamark:light:8:colour\": \"red\", \"seamark:light:8:group\": \"3\", \"seamark:light:8:height\": \"5\", \"seamark:light:8:period\": \"9\", \"seamark:light:8:range\": \"4\", \"seamark:light:8:sector_end\": \"62\", \"seamark:light:8:sector_start\": \"38.5\", \"seamark:light:reference\": \"C 6620\", \"seamark:name\": \"Soderhall\", \"seamark:type\": \"light_minor\", \"source:position\": \"ekonomiska\", \"wikidata\": \"Q33194483\"}, \"type\": \"node\"}, {\"height\": \"8\", \"id\": 1033116556, \"lat\": 59.0027285, \"lon\": 18.2589386, \"tags\": {\"man_made\": \"lighthouse\", \"name\": \"Mysingeholm\", \"seamark:light:10:character\": \"Iso\", \"seamark:light:10:colour\": \"red\", \"seamark:light:10:height\": \"8\", \"seamark:light:10:period\": \"4\", \"seamark:light:10:range\": \"5\", \"seamark:light:10:sector_end\": \"204.5\", \"seamark:light:10:sector_start\": \"200\", \"seamark:light:11:character\": \"Iso\", \"seamark:light:11:colour\": \"green\", \"seamark:light:11:height\": \"8\", \"seamark:light:11:period\": \"4\", \"seamark:light:11:range\": \"4\", \"seamark:light:11:sector_end\": \"210\", \"seamark:light:11:sector_start\": \"204.5\", \"seamark:light:12:character\": \"Iso\", \"seamark:light:12:colour\": \"white\", \"seamark:light:12:height\": \"8\", \"seamark:light:12:period\": \"4\", \"seamark:light:12:range\": \"7\", \"seamark:light:12:sector_end\": \"211\", \"seamark:light:12:sector_start\": \"210\", \"seamark:light:13:character\": \"Iso\", \"seamark:light:13:colour\": \"red\", \"seamark:light:13:height\": \"8\", \"seamark:light:13:period\": \"4\", \"seamark:light:13:range\": \"5\", \"seamark:light:13:sector_end\": \"223\", \"seamark:light:13:sector_start\": \"211\", \"seamark:light:1:character\": \"Iso\", \"seamark:light:1:colour\": \"green\", \"seamark:light:1:height\": \"8\", \"seamark:light:1:period\": \"4\", \"seamark:light:1:range\": \"4\", \"seamark:light:1:sector_end\": \"43.2\", \"seamark:light:1:sector_start\": \"5\", \"seamark:light:2:character\": \"Iso\", \"seamark:light:2:colour\": \"green\", \"seamark:light:2:height\": \"8\", \"seamark:light:2:period\": \"4\", \"seamark:light:2:range\": \"4\", \"seamark:light:2:sector_end\": \"44.5\", \"seamark:light:2:sector_start\": \"43.2\", \"seamark:light:3:character\": \"Iso\", \"seamark:light:3:colour\": \"white\", \"seamark:light:3:height\": \"8\", \"seamark:light:3:period\": \"4\", \"seamark:light:3:range\": \"7\", \"seamark:light:3:sector_end\": \"46.5\", \"seamark:light:3:sector_start\": \"44.5\", \"seamark:light:4:character\": \"Iso\", \"seamark:light:4:colour\": \"red\", \"seamark:light:4:height\": \"8\", \"seamark:light:4:period\": \"4\", \"seamark:light:4:range\": \"5\", \"seamark:light:4:sector_end\": \"49.7\", \"seamark:light:4:sector_start\": \"46.5\", \"seamark:light:5:character\": \"Iso\", \"seamark:light:5:colour\": \"red\", \"seamark:light:5:height\": \"8\", \"seamark:light:5:period\": \"4\", \"seamark:light:5:range\": \"5\", \"seamark:light:5:sector_end\": \"84\", \"seamark:light:5:sector_start\": \"49.7\", \"seamark:light:6:character\": \"Iso\", \"seamark:light:6:colour\": \"green\", \"seamark:light:6:height\": \"8\", \"seamark:light:6:period\": \"4\", \"seamark:light:6:range\": \"4\", \"seamark:light:6:sector_end\": \"118\", \"seamark:light:6:sector_start\": \"84\", \"seamark:light:7:character\": \"Iso\", \"seamark:light:7:colour\": \"red\", \"seamark:light:7:height\": \"8\", \"seamark:light:7:period\": \"4\", \"seamark:light:7:range\": \"5\", \"seamark:light:7:sector_end\": \"164\", \"seamark:light:7:sector_start\": \"118\", \"seamark:light:8:character\": \"Iso\", \"seamark:light:8:colour\": \"green\", \"seamark:light:8:height\": \"8\", \"seamark:light:8:period\": \"4\", \"seamark:light:8:range\": \"4\", \"seamark:light:8:sector_end\": \"186\", \"seamark:light:8:sector_start\": \"164\", \"seamark:light:9:character\": \"Iso\", \"seamark:light:9:colour\": \"white\", \"seamark:light:9:height\": \"8\", \"seamark:light:9:period\": \"4\", \"seamark:light:9:range\": \"7\", \"seamark:light:9:sector_end\": \"200\", \"seamark:light:9:sector_start\": \"186\", \"seamark:light:reference\": \"C 6619\", \"seamark:name\": \"Mysingeholm\", \"seamark:type\": \"light_minor\", \"wikidata\": \"Q33142219\"}, \"type\": \"node\"}, {\"height\": \"7\", \"id\": 1033116557, \"lat\": 58.9782316, \"lon\": 18.1863258, \"tags\": {\"man_made\": \"lighthouse\", \"name\": \"\\u00c4lvsnabben\", \"seamark:light:1:character\": \"Q\", \"seamark:light:1:colour\": \"red\", \"seamark:light:1:height\": \"7\", \"seamark:light:1:range\": \"5\", \"seamark:light:1:sector_end\": \"218\", \"seamark:light:2:character\": \"Q\", \"seamark:light:2:colour\": \"green\", \"seamark:light:2:height\": \"7\", \"seamark:light:2:range\": \"4\", \"seamark:light:2:sector_end\": \"226\", \"seamark:light:2:sector_start\": \"218\", \"seamark:light:3:character\": \"Q\", \"seamark:light:3:colour\": \"white\", \"seamark:light:3:height\": \"7\", \"seamark:light:3:range\": \"5\", \"seamark:light:3:sector_end\": \"41\", \"seamark:light:3:sector_start\": \"226\", \"seamark:light:4:character\": \"Q\", \"seamark:light:4:colour\": \"red\", \"seamark:light:4:height\": \"7\", \"seamark:light:4:range\": \"5\", \"seamark:light:4:sector_end\": \"45\", \"seamark:light:4:sector_start\": \"41\", \"seamark:light:5:character\": \"Q\", \"seamark:light:5:colour\": \"green\", \"seamark:light:5:height\": \"7\", \"seamark:light:5:range\": \"4\", \"seamark:light:5:sector_end\": \"53\", \"seamark:light:5:sector_start\": \"45\", \"seamark:light:reference\": \"C 6618.4\", \"seamark:name\": \"Alvsnabben\", \"seamark:type\": \"light_minor\", \"wikidata\": \"Q33226993\"}, \"type\": \"node\"}, {\"height\": \"4\", \"id\": 1033116566, \"lat\": 59.1103886, \"lon\": 18.367085, \"tags\": {\"man_made\": \"lighthouse\", \"name\": \"Torrb\\u00e4nken\", \"seamark:light:1:character\": \"Fl\", \"seamark:light:1:colour\": \"green\", \"seamark:light:1:height\": \"4\", \"seamark:light:1:period\": \"3\", \"seamark:light:1:range\": \"6\", \"seamark:light:1:sector_end\": \"228\", \"seamark:light:1:sector_start\": \"213\", \"seamark:light:2:character\": \"Fl\", \"seamark:light:2:colour\": \"green\", \"seamark:light:2:height\": \"4\", \"seamark:light:2:period\": \"3\", \"seamark:light:2:range\": \"6\", \"seamark:light:2:sector_end\": \"239\", \"seamark:light:2:sector_start\": \"228\", \"seamark:light:3:character\": \"Fl\", \"seamark:light:3:colour\": \"white\", \"seamark:light:3:height\": \"4\", \"seamark:light:3:period\": \"3\", \"seamark:light:3:range\": \"9\", \"seamark:light:3:sector_end\": \"241.5\", \"seamark:light:3:sector_start\": \"239\", \"seamark:light:4:character\": \"Fl\", \"seamark:light:4:colour\": \"red\", \"seamark:light:4:height\": \"4\", \"seamark:light:4:period\": \"3\", \"seamark:light:4:range\": \"7\", \"seamark:light:4:sector_end\": \"258\", \"seamark:light:4:sector_start\": \"241.5\", \"seamark:light:5:character\": \"Fl\", \"seamark:light:5:colour\": \"red\", \"seamark:light:5:height\": \"4\", \"seamark:light:5:period\": \"3\", \"seamark:light:5:range\": \"7\", \"seamark:light:5:sector_end\": \"273\", \"seamark:light:5:sector_start\": \"258\", \"seamark:light:6:character\": \"Fl\", \"seamark:light:6:colour\": \"red\", \"seamark:light:6:height\": \"4\", \"seamark:light:6:period\": \"3\", \"seamark:light:6:range\": \"7\", \"seamark:light:6:sector_end\": \"285\", \"seamark:light:6:sector_start\": \"273\", \"seamark:light:7:character\": \"Fl\", \"seamark:light:7:colour\": \"green\", \"seamark:light:7:height\": \"4\", \"seamark:light:7:period\": \"3\", \"seamark:light:7:range\": \"6\", \"seamark:light:7:sector_end\": \"326\", \"seamark:light:7:sector_start\": \"285\", \"seamark:light:8:character\": \"Fl\", \"seamark:light:8:colour\": \"white\", \"seamark:light:8:height\": \"4\", \"seamark:light:8:period\": \"3\", \"seamark:light:8:range\": \"9\", \"seamark:light:8:sector_end\": \"342\", \"seamark:light:8:sector_start\": \"326\", \"seamark:light:9:character\": \"Fl\", \"seamark:light:9:colour\": \"red\", \"seamark:light:9:height\": \"4\", \"seamark:light:9:period\": \"3\", \"seamark:light:9:range\": \"7\", \"seamark:light:9:sector_end\": \"0\", \"seamark:light:9:sector_start\": \"342\", \"seamark:light:reference\": \"C 6626\", \"seamark:name\": \"Torrbanken\", \"seamark:type\": \"light_minor\", \"wikidata\": \"Q33195480\"}, \"type\": \"node\"}, {\"height\": \"10\", \"id\": 1033116571, \"lat\": 59.1066132, \"lon\": 18.3728788, \"tags\": {\"man_made\": \"lighthouse\", \"name\": \"Kycklingen\", \"seamark:light:1:character\": \"Iso\", \"seamark:light:1:colour\": \"green\", \"seamark:light:1:height\": \"10\", \"seamark:light:1:period\": \"4\", \"seamark:light:1:range\": \"7\", \"seamark:light:1:sector_end\": \"245\", \"seamark:light:1:sector_start\": \"266\", \"seamark:light:2:character\": \"Iso\", \"seamark:light:2:colour\": \"white\", \"seamark:light:2:height\": \"10\", \"seamark:light:2:period\": \"4\", \"seamark:light:2:range\": \"10\", \"seamark:light:2:sector_end\": \"248\", \"seamark:light:2:sector_start\": \"245\", \"seamark:light:3:character\": \"Iso\", \"seamark:light:3:colour\": \"red\", \"seamark:light:3:height\": \"10\", \"seamark:light:3:period\": \"4\", \"seamark:light:3:range\": \"8\", \"seamark:light:3:sector_end\": \"266\", \"seamark:light:3:sector_start\": \"248\", \"seamark:light:reference\": \"C 6628\", \"seamark:name\": \"Kycklingen\", \"seamark:type\": \"light_minor\", \"source\": \"US NGA Pub. 116. 2011-07-07.\", \"wikidata\": \"Q32272609\"}, \"type\": \"node\"}, {\"height\": \"4\", \"id\": 1033116577, \"lat\": 59.0936875, \"lon\": 18.3490608, \"tags\": {\"man_made\": \"lighthouse\", \"name\": \"G\\u00e5l\\u00f6\", \"seamark:light:1:character\": \"Iso\", \"seamark:light:1:colour\": \"green\", \"seamark:light:1:height\": \"4\", \"seamark:light:1:period\": \"8\", \"seamark:light:1:range\": \"6\", \"seamark:light:1:sector_end\": \"282\", \"seamark:light:1:sector_start\": \"141\", \"seamark:light:2:character\": \"Iso\", \"seamark:light:2:colour\": \"red\", \"seamark:light:2:height\": \"4\", \"seamark:light:2:period\": \"8\", \"seamark:light:2:range\": \"7\", \"seamark:light:2:sector_end\": \"16.5\", \"seamark:light:2:sector_start\": \"282\", \"seamark:light:3:character\": \"Iso\", \"seamark:light:3:colour\": \"green\", \"seamark:light:3:height\": \"4\", \"seamark:light:3:period\": \"8\", \"seamark:light:3:range\": \"6\", \"seamark:light:3:sector_end\": \"41.5\", \"seamark:light:3:sector_start\": \"16.5\", \"seamark:light:4:character\": \"Iso\", \"seamark:light:4:colour\": \"white\", \"seamark:light:4:height\": \"4\", \"seamark:light:4:period\": \"8\", \"seamark:light:4:range\": \"9\", \"seamark:light:4:sector_end\": \"49\", \"seamark:light:4:sector_start\": \"41.5\", \"seamark:light:5:character\": \"Iso\", \"seamark:light:5:colour\": \"red\", \"seamark:light:5:height\": \"4\", \"seamark:light:5:period\": \"8\", \"seamark:light:5:range\": \"7\", \"seamark:light:5:sector_end\": \"141\", \"seamark:light:5:sector_start\": \"49\", \"seamark:light:reference\": \"C 6625\", \"seamark:name\": \"Galo\", \"seamark:status\": \"illuminated\", \"seamark:type\": \"light_minor\", \"wikidata\": \"Q33133983\"}, \"type\": \"node\"}, {\"height\": \"8\", \"id\": 1033119413, \"lat\": 58.9066752, \"lon\": 18.082814, \"tags\": {\"man_made\": \"lighthouse\", \"name\": \"\\u00d6stra R\\u00f6ko\", \"seamark:light:10:character\": \"Fl\", \"seamark:light:10:colour\": \"green\", \"seamark:light:10:group\": \"2\", \"seamark:light:10:height\": \"8\", \"seamark:light:10:period\": \"6\", \"seamark:light:10:range\": \"3\", \"seamark:light:10:sector_end\": \"219\", \"seamark:light:10:sector_start\": \"211\", \"seamark:light:11:character\": \"Fl\", \"seamark:light:11:colour\": \"white\", \"seamark:light:11:group\": \"2\", \"seamark:light:11:height\": \"8\", \"seamark:light:11:period\": \"6\", \"seamark:light:11:range\": \"6\", \"seamark:light:11:sector_end\": \"222.5\", \"seamark:light:11:sector_start\": \"219\", \"seamark:light:12:character\": \"Fl\", \"seamark:light:12:colour\": \"red\", \"seamark:light:12:group\": \"2\", \"seamark:light:12:height\": \"8\", \"seamark:light:12:period\": \"6\", \"seamark:light:12:range\": \"4\", \"seamark:light:12:sector_end\": \"246\", \"seamark:light:12:sector_start\": \"222.5\", \"seamark:light:13:character\": \"Fl\", \"seamark:light:13:colour\": \"red\", \"seamark:light:13:group\": \"2\", \"seamark:light:13:height\": \"8\", \"seamark:light:13:period\": \"6\", \"seamark:light:13:range\": \"4\", \"seamark:light:13:sector_end\": \"269\", \"seamark:light:13:sector_start\": \"246\", \"seamark:light:14:character\": \"Fl\", \"seamark:light:14:colour\": \"green\", \"seamark:light:14:group\": \"2\", \"seamark:light:14:height\": \"8\", \"seamark:light:14:period\": \"6\", \"seamark:light:14:range\": \"3\", \"seamark:light:14:sector_end\": \"354\", \"seamark:light:14:sector_start\": \"269\", \"seamark:light:15:character\": \"Fl\", \"seamark:light:15:colour\": \"red\", \"seamark:light:15:group\": \"2\", \"seamark:light:15:height\": \"8\", \"seamark:light:15:period\": \"6\", \"seamark:light:15:range\": \"4\", \"seamark:light:15:sector_end\": \"7.5\", \"seamark:light:15:sector_start\": \"354\", \"seamark:light:16:character\": \"Fl\", \"seamark:light:16:colour\": \"red\", \"seamark:light:16:group\": \"2\", \"seamark:light:16:height\": \"8\", \"seamark:light:16:period\": \"6\", \"seamark:light:16:range\": \"4\", \"seamark:light:16:sector_end\": \"26\", \"seamark:light:16:sector_start\": \"7.5\", \"seamark:light:1:character\": \"Fl\", \"seamark:light:1:colour\": \"green\", \"seamark:light:1:group\": \"2\", \"seamark:light:1:height\": \"8\", \"seamark:light:1:period\": \"6\", \"seamark:light:1:range\": \"3\", \"seamark:light:1:sector_end\": \"36\", \"seamark:light:1:sector_start\": \"26\", \"seamark:light:2:character\": \"Fl\", \"seamark:light:2:colour\": \"white\", \"seamark:light:2:group\": \"2\", \"seamark:light:2:height\": \"8\", \"seamark:light:2:period\": \"6\", \"seamark:light:2:range\": \"6\", \"seamark:light:2:sector_end\": \"43\", \"seamark:light:2:sector_start\": \"36\", \"seamark:light:3:character\": \"Fl\", \"seamark:light:3:colour\": \"red\", \"seamark:light:3:group\": \"2\", \"seamark:light:3:height\": \"8\", \"seamark:light:3:period\": \"6\", \"seamark:light:3:range\": \"4\", \"seamark:light:3:sector_end\": \"59\", \"seamark:light:3:sector_start\": \"43\", \"seamark:light:4:character\": \"Fl\", \"seamark:light:4:colour\": \"green\", \"seamark:light:4:group\": \"2\", \"seamark:light:4:height\": \"8\", \"seamark:light:4:period\": \"6\", \"seamark:light:4:range\": \"3\", \"seamark:light:4:sector_end\": \"76.5\", \"seamark:light:4:sector_start\": \"59\", \"seamark:light:5:character\": \"Fl\", \"seamark:light:5:colour\": \"white\", \"seamark:light:5:group\": \"2\", \"seamark:light:5:height\": \"8\", \"seamark:light:5:period\": \"6\", \"seamark:light:5:range\": \"6\", \"seamark:light:5:sector_end\": \"84\", \"seamark:light:5:sector_start\": \"76.5\", \"seamark:light:6:character\": \"Fl\", \"seamark:light:6:colour\": \"red\", \"seamark:light:6:group\": \"2\", \"seamark:light:6:height\": \"8\", \"seamark:light:6:period\": \"6\", \"seamark:light:6:range\": \"4\", \"seamark:light:6:sector_end\": \"129\", \"seamark:light:6:sector_start\": \"84\", \"seamark:light:7:character\": \"Fl\", \"seamark:light:7:colour\": \"green\", \"seamark:light:7:group\": \"2\", \"seamark:light:7:height\": \"8\", \"seamark:light:7:period\": \"6\", \"seamark:light:7:range\": \"3\", \"seamark:light:7:sector_end\": \"143\", \"seamark:light:7:sector_start\": \"129\", \"seamark:light:8:character\": \"Fl\", \"seamark:light:8:colour\": \"white\", \"seamark:light:8:group\": \"2\", \"seamark:light:8:height\": \"8\", \"seamark:light:8:period\": \"6\", \"seamark:light:8:range\": \"6\", \"seamark:light:8:sector_end\": \"148\", \"seamark:light:8:sector_start\": \"143\", \"seamark:light:9:character\": \"Fl\", \"seamark:light:9:colour\": \"red\", \"seamark:light:9:group\": \"2\", \"seamark:light:9:height\": \"8\", \"seamark:light:9:period\": \"6\", \"seamark:light:9:range\": \"4\", \"seamark:light:9:sector_end\": \"211\", \"seamark:light:9:sector_start\": \"148\", \"seamark:light:reference\": \"C 6618\", \"seamark:name\": \"Ostra Roko\", \"seamark:type\": \"light_minor\", \"wikidata\": \"Q33227731\"}, \"type\": \"node\"}, {\"height\": \"10\", \"id\": 1033119415, \"lat\": 58.8973146, \"lon\": 18.0244386, \"tags\": {\"man_made\": \"lighthouse\", \"name\": \"\\u00d6rngrund\", \"seamark:light:10:character\": \"Q\", \"seamark:light:10:colour\": \"white\", \"seamark:light:10:height\": \"10\", \"seamark:light:10:range\": \"10\", \"seamark:light:10:sector_end\": \"344.5\", \"seamark:light:10:sector_start\": \"340.2\", \"seamark:light:11:character\": \"Q\", \"seamark:light:11:colour\": \"red\", \"seamark:light:11:height\": \"10\", \"seamark:light:11:range\": \"8\", \"seamark:light:11:sector_end\": \"358\", \"seamark:light:11:sector_start\": \"344.5\", \"seamark:light:12:character\": \"Q\", \"seamark:light:12:colour\": \"green\", \"seamark:light:12:height\": \"10\", \"seamark:light:12:range\": \"7\", \"seamark:light:12:sector_end\": \"10.8\", \"seamark:light:12:sector_start\": \"358\", \"seamark:light:1:character\": \"Q\", \"seamark:light:1:colour\": \"white\", \"seamark:light:1:height\": \"10\", \"seamark:light:1:range\": \"10\", \"seamark:light:1:sector_end\": \"20.5\", \"seamark:light:1:sector_start\": \"10.8\", \"seamark:light:2:character\": \"Q\", \"seamark:light:2:colour\": \"red\", \"seamark:light:2:height\": \"10\", \"seamark:light:2:range\": \"8\", \"seamark:light:2:sector_end\": \"105\", \"seamark:light:2:sector_start\": \"20.5\", \"seamark:light:3:character\": \"Q\", \"seamark:light:3:colour\": \"green\", \"seamark:light:3:height\": \"10\", \"seamark:light:3:range\": \"7\", \"seamark:light:3:sector_end\": \"131.5\", \"seamark:light:3:sector_start\": \"105\", \"seamark:light:4:character\": \"Q\", \"seamark:light:4:colour\": \"white\", \"seamark:light:4:height\": \"10\", \"seamark:light:4:range\": \"10\", \"seamark:light:4:sector_end\": \"146.5\", \"seamark:light:4:sector_start\": \"131.5\", \"seamark:light:5:character\": \"Q\", \"seamark:light:5:colour\": \"red\", \"seamark:light:5:height\": \"10\", \"seamark:light:5:range\": \"8\", \"seamark:light:5:sector_end\": \"195\", \"seamark:light:5:sector_start\": \"146.5\", \"seamark:light:6:character\": \"Q\", \"seamark:light:6:colour\": \"green\", \"seamark:light:6:height\": \"10\", \"seamark:light:6:range\": \"7\", \"seamark:light:6:sector_end\": \"232.8\", \"seamark:light:6:sector_start\": \"195\", \"seamark:light:7:character\": \"Q\", \"seamark:light:7:colour\": \"white\", \"seamark:light:7:height\": \"10\", \"seamark:light:7:range\": \"10\", \"seamark:light:7:sector_end\": \"245.5\", \"seamark:light:7:sector_start\": \"232.8\", \"seamark:light:8:character\": \"Q\", \"seamark:light:8:colour\": \"red\", \"seamark:light:8:height\": \"10\", \"seamark:light:8:range\": \"8\", \"seamark:light:8:sector_end\": \"290\", \"seamark:light:8:sector_start\": \"245.5\", \"seamark:light:9:character\": \"Q\", \"seamark:light:9:colour\": \"green\", \"seamark:light:9:height\": \"10\", \"seamark:light:9:range\": \"7\", \"seamark:light:9:sector_end\": \"340.2\", \"seamark:light:9:sector_start\": \"290\", \"seamark:light:reference\": \"C 6598\", \"seamark:name\": \"Orngrund\", \"seamark:source\": \"Ufs 2022:893/16495\", \"seamark:type\": \"light_minor\", \"wikidata\": \"Q10727616\"}, \"type\": \"node\"}, {\"height\": \"17\", \"id\": 1033122353, \"lat\": 58.792027, \"lon\": 17.9454345, \"tags\": {\"man_made\": \"lighthouse\", \"name\": \"Viksten NV\", \"seamark:light:10:character\": \"Fl\", \"seamark:light:10:colour\": \"white\", \"seamark:light:10:group\": \"2\", \"seamark:light:10:height\": \"17\", \"seamark:light:10:period\": \"6\", \"seamark:light:10:range\": \"8\", \"seamark:light:10:sector_end\": \"208\", \"seamark:light:10:sector_start\": \"201\", \"seamark:light:11:character\": \"Fl\", \"seamark:light:11:colour\": \"red\", \"seamark:light:11:group\": \"2\", \"seamark:light:11:height\": \"17\", \"seamark:light:11:period\": \"6\", \"seamark:light:11:range\": \"5\", \"seamark:light:11:sector_end\": \"216.5\", \"seamark:light:11:sector_start\": \"208\", \"seamark:light:1:character\": \"Fl\", \"seamark:light:1:colour\": \"green\", \"seamark:light:1:group\": \"2\", \"seamark:light:1:height\": \"17\", \"seamark:light:1:period\": \"6\", \"seamark:light:1:range\": \"4\", \"seamark:light:1:sector_end\": \"25\", \"seamark:light:1:sector_start\": \"18\", \"seamark:light:2:character\": \"Fl\", \"seamark:light:2:colour\": \"white\", \"seamark:light:2:group\": \"2\", \"seamark:light:2:height\": \"17\", \"seamark:light:2:period\": \"6\", \"seamark:light:2:range\": \"8\", \"seamark:light:2:sector_end\": \"29\", \"seamark:light:2:sector_start\": \"25\", \"seamark:light:3:character\": \"Fl\", \"seamark:light:3:colour\": \"red\", \"seamark:light:3:group\": \"2\", \"seamark:light:3:height\": \"17\", \"seamark:light:3:period\": \"6\", \"seamark:light:3:range\": \"5\", \"seamark:light:3:sector_end\": \"65\", \"seamark:light:3:sector_start\": \"29\", \"seamark:light:4:character\": \"Fl\", \"seamark:light:4:colour\": \"green\", \"seamark:light:4:group\": \"2\", \"seamark:light:4:height\": \"17\", \"seamark:light:4:period\": \"6\", \"seamark:light:4:range\": \"4\", \"seamark:light:4:sector_end\": \"97\", \"seamark:light:4:sector_start\": \"65\", \"seamark:light:5:character\": \"Fl\", \"seamark:light:5:colour\": \"white\", \"seamark:light:5:group\": \"2\", \"seamark:light:5:height\": \"17\", \"seamark:light:5:period\": \"6\", \"seamark:light:5:range\": \"8\", \"seamark:light:5:sector_end\": \"98\", \"seamark:light:5:sector_start\": \"97\", \"seamark:light:6:character\": \"Fl\", \"seamark:light:6:colour\": \"red\", \"seamark:light:6:group\": \"2\", \"seamark:light:6:height\": \"17\", \"seamark:light:6:period\": \"6\", \"seamark:light:6:range\": \"5\", \"seamark:light:6:sector_end\": \"118\", \"seamark:light:6:sector_start\": \"98\", \"seamark:light:7:character\": \"Fl\", \"seamark:light:7:colour\": \"green\", \"seamark:light:7:group\": \"2\", \"seamark:light:7:height\": \"17\", \"seamark:light:7:period\": \"6\", \"seamark:light:7:range\": \"4\", \"seamark:light:7:sector_end\": \"154\", \"seamark:light:7:sector_start\": \"118\", \"seamark:light:8:character\": \"Fl\", \"seamark:light:8:colour\": \"red\", \"seamark:light:8:group\": \"2\", \"seamark:light:8:height\": \"17\", \"seamark:light:8:period\": \"6\", \"seamark:light:8:range\": \"5\", \"seamark:light:8:sector_end\": \"187\", \"seamark:light:8:sector_start\": \"154\", \"seamark:light:9:character\": \"Fl\", \"seamark:light:9:colour\": \"green\", \"seamark:light:9:group\": \"2\", \"seamark:light:9:height\": \"17\", \"seamark:light:9:period\": \"6\", \"seamark:light:9:range\": \"4\", \"seamark:light:9:sector_end\": \"201\", \"seamark:light:9:sector_start\": \"187\", \"seamark:light:reference\": \"C 6590\", \"seamark:type\": \"light_minor\", \"wikidata\": \"Q33199992\"}, \"type\": \"node\"}, {\"height\": \"19\", \"id\": 1033122355, \"lat\": 58.7301639, \"lon\": 17.8764771, \"tags\": {\"man_made\": \"lighthouse\", \"name\": \"Landsorts Bredgrund\", \"seamark:light:10:character\": \"Iso\", \"seamark:light:10:colour\": \"red\", \"seamark:light:10:height\": \"19\", \"seamark:light:10:period\": \"4\", \"seamark:light:10:sector_end\": \"224\", \"seamark:light:10:sector_start\": \"219\", \"seamark:light:11:character\": \"Iso\", \"seamark:light:11:colour\": \"green\", \"seamark:light:11:height\": \"19\", \"seamark:light:11:period\": \"4\", \"seamark:light:11:range\": \"12\", \"seamark:light:11:sector_end\": \"234\", \"seamark:light:11:sector_start\": \"224\", \"seamark:light:12:character\": \"Iso\", \"seamark:light:12:colour\": \"red\", \"seamark:light:12:height\": \"19\", \"seamark:light:12:period\": \"4\", \"seamark:light:12:sector_end\": \"273\", \"seamark:light:12:sector_start\": \"234\", \"seamark:light:13:character\": \"Iso\", \"seamark:light:13:colour\": \"green\", \"seamark:light:13:height\": \"19\", \"seamark:light:13:period\": \"4\", \"seamark:light:13:range\": \"12\", \"seamark:light:13:sector_end\": \"321.5\", \"seamark:light:13:sector_start\": \"273\", \"seamark:light:14:character\": \"Iso\", \"seamark:light:14:colour\": \"red\", \"seamark:light:14:height\": \"19\", \"seamark:light:14:period\": \"4\", \"seamark:light:14:sector_end\": \"345\", \"seamark:light:14:sector_start\": \"321.5\", \"seamark:light:15:character\": \"Iso\", \"seamark:light:15:colour\": \"green\", \"seamark:light:15:height\": \"19\", \"seamark:light:15:period\": \"4\", \"seamark:light:15:range\": \"12\", \"seamark:light:15:sector_end\": \"356.5\", \"seamark:light:15:sector_start\": \"345\", \"seamark:light:16:character\": \"Iso\", \"seamark:light:16:colour\": \"white\", \"seamark:light:16:height\": \"19\", \"seamark:light:16:period\": \"4\", \"seamark:light:16:range\": \"16\", \"seamark:light:16:sector_end\": \"1\", \"seamark:light:16:sector_start\": \"356.5\", \"seamark:light:1:character\": \"Iso\", \"seamark:light:1:colour\": \"red\", \"seamark:light:1:height\": \"19\", \"seamark:light:1:period\": \"4\", \"seamark:light:1:sector_end\": \"13\", \"seamark:light:1:sector_start\": \"1\", \"seamark:light:2:character\": \"Iso\", \"seamark:light:2:colour\": \"green\", \"seamark:light:2:height\": \"19\", \"seamark:light:2:period\": \"4\", \"seamark:light:2:range\": \"12\", \"seamark:light:2:sector_end\": \"47.5\", \"seamark:light:2:sector_start\": \"13\", \"seamark:light:3:character\": \"Iso\", \"seamark:light:3:colour\": \"red\", \"seamark:light:3:height\": \"19\", \"seamark:light:3:period\": \"4\", \"seamark:light:3:sector_end\": \"86\", \"seamark:light:3:sector_start\": \"47.5\", \"seamark:light:4:character\": \"Iso\", \"seamark:light:4:colour\": \"green\", \"seamark:light:4:height\": \"19\", \"seamark:light:4:period\": \"4\", \"seamark:light:4:range\": \"12\", \"seamark:light:4:sector_end\": \"127\", \"seamark:light:4:sector_start\": \"86\", \"seamark:light:5:character\": \"Iso\", \"seamark:light:5:colour\": \"red\", \"seamark:light:5:height\": \"19\", \"seamark:light:5:period\": \"4\", \"seamark:light:5:sector_end\": \"159\", \"seamark:light:5:sector_start\": \"127\", \"seamark:light:6:character\": \"Iso\", \"seamark:light:6:colour\": \"green\", \"seamark:light:6:height\": \"19\", \"seamark:light:6:period\": \"4\", \"seamark:light:6:range\": \"12\", \"seamark:light:6:sector_end\": \"177\", \"seamark:light:6:sector_start\": \"159\", \"seamark:light:7:character\": \"Iso\", \"seamark:light:7:colour\": \"red\", \"seamark:light:7:height\": \"19\", \"seamark:light:7:period\": \"4\", \"seamark:light:7:sector_end\": \"210\", \"seamark:light:7:sector_start\": \"177\", \"seamark:light:8:character\": \"Iso\", \"seamark:light:8:colour\": \"green\", \"seamark:light:8:height\": \"19\", \"seamark:light:8:period\": \"4\", \"seamark:light:8:range\": \"12\", \"seamark:light:8:sector_end\": \"217\", \"seamark:light:8:sector_start\": \"210\", \"seamark:light:9:character\": \"Iso\", \"seamark:light:9:colour\": \"white\", \"seamark:light:9:height\": \"19\", \"seamark:light:9:period\": \"4\", \"seamark:light:9:range\": \"16\", \"seamark:light:9:sector_end\": \"219\", \"seamark:light:9:sector_start\": \"217\", \"seamark:light:reference\": \"C 6583.6\", \"seamark:name\": \"Landsort Bredgrund\", \"seamark:radar_transponder:category\": \"racon\", \"seamark:radar_transponder:period\": \"30\", \"seamark:type\": \"light_major\", \"wikidata\": \"Q33137951\"}, \"type\": \"node\"}, {\"height\": \"14\", \"id\": 1033125260, \"lat\": 58.7750031, \"lon\": 18.0523883, \"tags\": {\"man_made\": \"lighthouse\", \"name\": \"Gunnarstenarna\", \"seamark:light:1:character\": \"LFl\", \"seamark:light:1:colour\": \"red\", \"seamark:light:1:group\": \"2\", \"seamark:light:1:height\": \"14\", \"seamark:light:1:period\": \"15\", \"seamark:light:1:range\": \"6\", \"seamark:light:1:sector_end\": \"19\", \"seamark:light:1:sector_start\": \"0\", \"seamark:light:2:character\": \"LFl\", \"seamark:light:2:colour\": \"green\", \"seamark:light:2:group\": \"2\", \"seamark:light:2:height\": \"14\", \"seamark:light:2:period\": \"15\", \"seamark:light:2:range\": \"5\", \"seamark:light:2:sector_end\": \"38\", \"seamark:light:2:sector_start\": \"19\", \"seamark:light:3:character\": \"LFl\", \"seamark:light:3:colour\": \"red\", \"seamark:light:3:group\": \"2\", \"seamark:light:3:height\": \"14\", \"seamark:light:3:period\": \"15\", \"seamark:light:3:range\": \"6\", \"seamark:light:3:sector_end\": \"102\", \"seamark:light:3:sector_start\": \"38\", \"seamark:light:4:character\": \"LFl\", \"seamark:light:4:colour\": \"green\", \"seamark:light:4:group\": \"2\", \"seamark:light:4:height\": \"14\", \"seamark:light:4:period\": \"15\", \"seamark:light:4:range\": \"5\", \"seamark:light:4:sector_end\": \"142.5\", \"seamark:light:4:sector_start\": \"102\", \"seamark:light:5:character\": \"LFl\", \"seamark:light:5:colour\": \"white\", \"seamark:light:5:group\": \"2\", \"seamark:light:5:height\": \"14\", \"seamark:light:5:period\": \"15\", \"seamark:light:5:range\": \"8\", \"seamark:light:5:sector_end\": \"152.5\", \"seamark:light:5:sector_start\": \"142.5\", \"seamark:light:6:character\": \"LFl\", \"seamark:light:6:colour\": \"red\", \"seamark:light:6:group\": \"2\", \"seamark:light:6:height\": \"14\", \"seamark:light:6:period\": \"15\", \"seamark:light:6:range\": \"6\", \"seamark:light:6:sector_end\": \"180\", \"seamark:light:6:sector_start\": \"152.5\", \"seamark:light:7:character\": \"LFl\", \"seamark:light:7:colour\": \"green\", \"seamark:light:7:group\": \"2\", \"seamark:light:7:height\": \"14\", \"seamark:light:7:period\": \"15\", \"seamark:light:7:range\": \"5\", \"seamark:light:7:sector_end\": \"235\", \"seamark:light:7:sector_start\": \"180\", \"seamark:light:8:character\": \"LFl\", \"seamark:light:8:colour\": \"white\", \"seamark:light:8:group\": \"2\", \"seamark:light:8:height\": \"14\", \"seamark:light:8:period\": \"15\", \"seamark:light:8:range\": \"8\", \"seamark:light:8:sector_end\": \"0\", \"seamark:light:8:sector_start\": \"235\", \"seamark:light:reference\": \"C 6594\", \"seamark:name\": \"Gunnarstenarna\", \"seamark:type\": \"light_minor\", \"source\": \"US NGA Pub. 116. 2011-07-07.\", \"wikidata\": \"Q28375675\"}, \"type\": \"node\"}, {\"height\": \"20\", \"id\": 1033231059, \"lat\": 59.2509444, \"lon\": 19.0128333, \"tags\": {\"man_made\": \"lighthouse\", \"name\": \"Revengegrundet\", \"seamark:light:10:character\": \"LFl\", \"seamark:light:10:colour\": \"green\", \"seamark:light:10:group\": \"2\", \"seamark:light:10:height\": \"20\", \"seamark:light:10:period\": \"18\", \"seamark:light:10:range\": \"12\", \"seamark:light:10:sector_end\": \"110\", \"seamark:light:10:sector_start\": \"11\", \"seamark:light:10:sequence\": \"3+(3),3+(9)\", \"seamark:light:1:character\": \"LFl\", \"seamark:light:1:colour\": \"red\", \"seamark:light:1:group\": \"2\", \"seamark:light:1:height\": \"20\", \"seamark:light:1:period\": \"18\", \"seamark:light:1:sector_end\": \"124\", \"seamark:light:1:sector_start\": \"110\", \"seamark:light:1:sequence\": \"3+(3),3+(9)\", \"seamark:light:2:character\": \"LFl\", \"seamark:light:2:colour\": \"green\", \"seamark:light:2:group\": \"2\", \"seamark:light:2:height\": \"20\", \"seamark:light:2:period\": \"18\", \"seamark:light:2:range\": \"12\", \"seamark:light:2:sector_end\": \"137\", \"seamark:light:2:sector_start\": \"124\", \"seamark:light:2:sequence\": \"3+(3),3+(9)\", \"seamark:light:3:character\": \"LFl\", \"seamark:light:3:colour\": \"red\", \"seamark:light:3:group\": \"2\", \"seamark:light:3:height\": \"20\", \"seamark:light:3:period\": \"18\", \"seamark:light:3:sector_end\": \"160\", \"seamark:light:3:sector_start\": \"137\", \"seamark:light:3:sequence\": \"3+(3),3+(9)\", \"seamark:light:4:character\": \"LFl\", \"seamark:light:4:colour\": \"green\", \"seamark:light:4:group\": \"2\", \"seamark:light:4:height\": \"20\", \"seamark:light:4:period\": \"18\", \"seamark:light:4:range\": \"12\", \"seamark:light:4:sector_end\": \"295\", \"seamark:light:4:sector_start\": \"160\", \"seamark:light:4:sequence\": \"3+(3),3+(9)\", \"seamark:light:5:character\": \"LFl\", \"seamark:light:5:colour\": \"white\", \"seamark:light:5:group\": \"2\", \"seamark:light:5:height\": \"20\", \"seamark:light:5:period\": \"18\", \"seamark:light:5:range\": \"16\", \"seamark:light:5:sector_end\": \"307.5\", \"seamark:light:5:sector_start\": \"295\", \"seamark:light:5:sequence\": \"3+(3),3+(9)\", \"seamark:light:6:character\": \"LFl\", \"seamark:light:6:colour\": \"red\", \"seamark:light:6:group\": \"2\", \"seamark:light:6:height\": \"20\", \"seamark:light:6:period\": \"18\", \"seamark:light:6:sector_end\": \"314\", \"seamark:light:6:sector_start\": \"307.5\", \"seamark:light:6:sequence\": \"3+(3),3+(9)\", \"seamark:light:7:character\": \"LFl\", \"seamark:light:7:colour\": \"green\", \"seamark:light:7:group\": \"2\", \"seamark:light:7:height\": \"20\", \"seamark:light:7:period\": \"18\", \"seamark:light:7:range\": \"12\", \"seamark:light:7:sector_end\": \"0\", \"seamark:light:7:sector_start\": \"314\", \"seamark:light:7:sequence\": \"3+(3),3+(9)\", \"seamark:light:8:character\": \"LFl\", \"seamark:light:8:colour\": \"white\", \"seamark:light:8:group\": \"2\", \"seamark:light:8:height\": \"20\", \"seamark:light:8:period\": \"18\", \"seamark:light:8:range\": \"16\", \"seamark:light:8:sector_end\": \"5.5\", \"seamark:light:8:sector_start\": \"0\", \"seamark:light:8:sequence\": \"3+(3),3+(9)\", \"seamark:light:9:character\": \"LFl\", \"seamark:light:9:colour\": \"red\", \"seamark:light:9:group\": \"2\", \"seamark:light:9:height\": \"20\", \"seamark:light:9:period\": \"18\", \"seamark:light:9:sector_end\": \"11\", \"seamark:light:9:sector_start\": \"5.5\", \"seamark:light:9:sequence\": \"3+(3),3+(9)\", \"seamark:light:reference\": \"C 6470\", \"seamark:name\": \"Revengegrundet\", \"seamark:radar_transponder:category\": \"racon\", \"seamark:radar_transponder:period\": \"30\", \"seamark:type\": \"light_major\", \"wikidata\": \"Q10651527\"}, \"type\": \"node\"}, {\"height\": \"14\", \"id\": 1033235521, \"lat\": 59.2699444, \"lon\": 18.9744444, \"tags\": {\"man_made\": \"lighthouse\", \"name\": \"Sv\\u00e4ngen\", \"seamark:light:1:character\": \"Q\", \"seamark:light:1:colour\": \"red\", \"seamark:light:1:height\": \"14\", \"seamark:light:1:range\": \"9\", \"seamark:light:1:sector_end\": \"117\", \"seamark:light:1:sector_start\": \"83\", \"seamark:light:2:character\": \"Q\", \"seamark:light:2:colour\": \"white\", \"seamark:light:2:height\": \"14\", \"seamark:light:2:range\": \"12\", \"seamark:light:2:sector_end\": \"122\", \"seamark:light:2:sector_start\": \"117\", \"seamark:light:3:character\": \"Q\", \"seamark:light:3:colour\": \"red\", \"seamark:light:3:height\": \"14\", \"seamark:light:3:range\": \"9\", \"seamark:light:3:sector_end\": \"186\", \"seamark:light:3:sector_start\": \"122\", \"seamark:light:4:character\": \"Q\", \"seamark:light:4:colour\": \"green\", \"seamark:light:4:height\": \"14\", \"seamark:light:4:range\": \"8\", \"seamark:light:4:sector_end\": \"282.5\", \"seamark:light:4:sector_start\": \"186\", \"seamark:light:reference\": \"C 6471.6\", \"seamark:name\": \"Svangen\", \"seamark:type\": \"light_minor\", \"source\": \"US NGA Pub. 116. 2011-07-07.\", \"wikidata\": \"Q28375637\"}, \"type\": \"node\"}, {\"height\": 3, \"id\": 1033241197, \"lat\": 58.9629711, \"lon\": 18.5682658, \"tags\": {\"man_made\": \"lighthouse\", \"name\": \"Huvudsk\\u00e4r\", \"seamark:light:character\": \"Mo\", \"seamark:light:colour\": \"white\", \"seamark:light:group\": \"N\", \"seamark:light:height\": \"26\", \"seamark:light:period\": \"25\", \"seamark:light:range\": \"12\", \"seamark:light:reference\": \"C 6576\", \"seamark:light:sequence\": \"4+(4)+1+(16)\", \"seamark:name\": \"Huvudskar\", \"seamark:type\": \"light_minor\", \"wikidata\": \"Q3378260\"}, \"type\": \"node\"}, {\"height\": \"10\", \"id\": 1035130689, \"lat\": 58.764801, \"lon\": 17.8474313, \"tags\": {\"man_made\": \"lighthouse\", \"name\": \"Grisbl\\u00e4nkan\", \"seamark:light:1:character\": \"Fl\", \"seamark:light:1:colour\": \"green\", \"seamark:light:1:height\": \"10\", \"seamark:light:1:period\": \"3\", \"seamark:light:1:range\": \"3\", \"seamark:light:1:sector_end\": \"103\", \"seamark:light:1:sector_start\": \"57\", \"seamark:light:2:character\": \"Fl\", \"seamark:light:2:colour\": \"red\", \"seamark:light:2:height\": \"10\", \"seamark:light:2:period\": \"3\", \"seamark:light:2:range\": \"4\", \"seamark:light:2:sector_end\": \"168\", \"seamark:light:2:sector_start\": \"103\", \"seamark:light:3:character\": \"Fl\", \"seamark:light:3:colour\": \"green\", \"seamark:light:3:height\": \"10\", \"seamark:light:3:period\": \"3\", \"seamark:light:3:range\": \"3\", \"seamark:light:3:sector_end\": \"181\", \"seamark:light:3:sector_start\": \"168\", \"seamark:light:4:character\": \"Fl\", \"seamark:light:4:colour\": \"red\", \"seamark:light:4:height\": \"10\", \"seamark:light:4:period\": \"3\", \"seamark:light:4:range\": \"4\", \"seamark:light:4:sector_end\": \"342\", \"seamark:light:4:sector_start\": \"181\", \"seamark:light:5:character\": \"Fl\", \"seamark:light:5:colour\": \"green\", \"seamark:light:5:height\": \"10\", \"seamark:light:5:period\": \"3\", \"seamark:light:5:range\": \"3\", \"seamark:light:5:sector_end\": \"347\", \"seamark:light:5:sector_start\": \"342\", \"seamark:light:6:character\": \"Fl\", \"seamark:light:6:colour\": \"white\", \"seamark:light:6:height\": \"10\", \"seamark:light:6:period\": \"3\", \"seamark:light:6:range\": \"5\", \"seamark:light:6:sector_end\": \"357\", \"seamark:light:6:sector_start\": \"347\", \"seamark:light:7:character\": \"Fl\", \"seamark:light:7:colour\": \"red\", \"seamark:light:7:height\": \"10\", \"seamark:light:7:period\": \"3\", \"seamark:light:7:range\": \"4\", \"seamark:light:7:sector_end\": \"57\", \"seamark:light:7:sector_start\": \"357\", \"seamark:light:reference\": \"C 6587.9\", \"seamark:name\": \"Grisblankan\", \"seamark:type\": \"light_minor\", \"wikidata\": \"Q33131598\"}, \"type\": \"node\"}, {\"height\": \"8\", \"id\": 1035130700, \"lat\": 58.7787736, \"lon\": 17.8642541, \"tags\": {\"man_made\": \"lighthouse\", \"name\": \"Storpelles Holme\", \"seamark:light:1:character\": \"Q\", \"seamark:light:1:colour\": \"green\", \"seamark:light:1:height\": \"8\", \"seamark:light:1:range\": \"3\", \"seamark:light:1:sector_end\": \"354.3\", \"seamark:light:1:sector_start\": \"303\", \"seamark:light:2:character\": \"Q\", \"seamark:light:2:colour\": \"white\", \"seamark:light:2:height\": \"8\", \"seamark:light:2:range\": \"5\", \"seamark:light:2:sector_end\": \"357.7\", \"seamark:light:2:sector_start\": \"354.3\", \"seamark:light:3:character\": \"Q\", \"seamark:light:3:colour\": \"red\", \"seamark:light:3:height\": \"8\", \"seamark:light:3:range\": \"3\", \"seamark:light:3:sector_end\": \"80\", \"seamark:light:3:sector_start\": \"357.7\", \"seamark:light:4:character\": \"Q\", \"seamark:light:4:colour\": \"green\", \"seamark:light:4:height\": \"8\", \"seamark:light:4:range\": \"3\", \"seamark:light:4:sector_end\": \"163\", \"seamark:light:4:sector_start\": \"80\", \"seamark:light:5:character\": \"Q\", \"seamark:light:5:colour\": \"white\", \"seamark:light:5:height\": \"8\", \"seamark:light:5:range\": \"5\", \"seamark:light:5:sector_end\": \"168\", \"seamark:light:5:sector_start\": \"163\", \"seamark:light:6:character\": \"Q\", \"seamark:light:6:colour\": \"red\", \"seamark:light:6:height\": \"8\", \"seamark:light:6:range\": \"3\", \"seamark:light:6:sector_end\": \"185\", \"seamark:light:6:sector_start\": \"168\", \"seamark:light:reference\": \"C 6587.7\", \"seamark:name\": \"Storpelles Holme\", \"seamark:type\": \"light_minor\", \"source\": \"Ufs 2022:895/16529\", \"wikidata\": \"Q33191113\"}, \"type\": \"node\"}, {\"height\": \"6\", \"id\": 1035130706, \"lat\": 58.7806422, \"lon\": 17.8493196, \"tags\": {\"man_made\": \"lighthouse\", \"name\": \"Grissk\\u00e4r\", \"seamark:light:1:character\": \"Q\", \"seamark:light:1:colour\": \"green\", \"seamark:light:1:height\": \"6\", \"seamark:light:1:range\": \"3\", \"seamark:light:1:sector_end\": \"355\", \"seamark:light:1:sector_start\": \"335\", \"seamark:light:2:character\": \"Q\", \"seamark:light:2:colour\": \"white\", \"seamark:light:2:height\": \"6\", \"seamark:light:2:range\": \"5\", \"seamark:light:2:sector_end\": \"359\", \"seamark:light:2:sector_start\": \"355\", \"seamark:light:3:character\": \"Q\", \"seamark:light:3:colour\": \"red\", \"seamark:light:3:height\": \"6\", \"seamark:light:3:range\": \"3\", \"seamark:light:3:sector_end\": \"11\", \"seamark:light:3:sector_start\": \"359\", \"seamark:light:4:character\": \"Q\", \"seamark:light:4:colour\": \"green\", \"seamark:light:4:height\": \"6\", \"seamark:light:4:range\": \"3\", \"seamark:light:4:sector_end\": \"138\", \"seamark:light:4:sector_start\": \"11\", \"seamark:light:5:character\": \"Q\", \"seamark:light:5:colour\": \"white\", \"seamark:light:5:height\": \"6\", \"seamark:light:5:range\": \"5\", \"seamark:light:5:sector_end\": \"139\", \"seamark:light:5:sector_start\": \"138\", \"seamark:light:6:character\": \"Q\", \"seamark:light:6:colour\": \"red\", \"seamark:light:6:height\": \"6\", \"seamark:light:6:range\": \"3\", \"seamark:light:6:sector_end\": \"155\", \"seamark:light:6:sector_start\": \"139\", \"seamark:light:reference\": \"C 6587.6\", \"seamark:name\": \"Grisskar\", \"seamark:type\": \"light_minor\", \"wikidata\": \"Q33131705\"}, \"type\": \"node\"}, {\"height\": \"6\", \"id\": 1035139773, \"lat\": 58.7938079, \"lon\": 17.8682023, \"tags\": {\"man_made\": \"lighthouse\", \"name\": \"\\u00d6landssten\", \"seamark:light:1:colour\": \"green\", \"seamark:light:1:height\": \"6\", \"seamark:light:1:period\": \"6\", \"seamark:light:1:range\": \"3\", \"seamark:light:1:sector_end\": \"254\", \"seamark:light:1:sector_start\": \"220.5\", \"seamark:light:2:colour\": \"white\", \"seamark:light:2:height\": \"6\", \"seamark:light:2:period\": \"6\", \"seamark:light:2:range\": \"5\", \"seamark:light:2:sector_end\": \"258.5\", \"seamark:light:2:sector_start\": \"254\", \"seamark:light:3:colour\": \"red\", \"seamark:light:3:height\": \"6\", \"seamark:light:3:period\": \"6\", \"seamark:light:3:range\": \"3\", \"seamark:light:3:sector_end\": \"329.5\", \"seamark:light:3:sector_start\": \"258.5\", \"seamark:light:4:colour\": \"green\", \"seamark:light:4:height\": \"6\", \"seamark:light:4:period\": \"6\", \"seamark:light:4:range\": \"3\", \"seamark:light:4:sector_end\": \"16\", \"seamark:light:4:sector_start\": \"329.5\", \"seamark:light:5:colour\": \"white\", \"seamark:light:5:height\": \"6\", \"seamark:light:5:period\": \"6\", \"seamark:light:5:range\": \"5\", \"seamark:light:5:sector_end\": \"20\", \"seamark:light:5:sector_start\": \"16\", \"seamark:light:6:colour\": \"red\", \"seamark:light:6:height\": \"6\", \"seamark:light:6:period\": \"6\", \"seamark:light:6:range\": \"3\", \"seamark:light:6:sector_end\": \"40\", \"seamark:light:6:sector_start\": \"20\", \"seamark:light:7:colour\": \"green\", \"seamark:light:7:height\": \"6\", \"seamark:light:7:period\": \"6\", \"seamark:light:7:range\": \"3\", \"seamark:light:7:sector_end\": \"73\", \"seamark:light:7:sector_start\": \"40\", \"seamark:light:8:colour\": \"white\", \"seamark:light:8:height\": \"6\", \"seamark:light:8:period\": \"6\", \"seamark:light:8:range\": \"5\", \"seamark:light:8:sector_end\": \"75.5\", \"seamark:light:8:sector_start\": \"73\", \"seamark:light:9:colour\": \"red\", \"seamark:light:9:height\": \"6\", \"seamark:light:9:period\": \"6\", \"seamark:light:9:range\": \"3\", \"seamark:light:9:sector_end\": \"220.5\", \"seamark:light:9:sector_start\": \"75.5\", \"seamark:light:reference\": \"C 6587.95\", \"seamark:name\": \"Olandssten\", \"seamark:type\": \"light_minor\", \"wikidata\": \"Q33227167\"}, \"type\": \"node\"}, {\"height\": \"5\", \"id\": 1035139789, \"lat\": 58.7902783, \"lon\": 17.8341858, \"tags\": {\"man_made\": \"lighthouse\", \"name\": \"Bottenholmen\", \"seamark:light:1:character\": \"Fl\", \"seamark:light:1:colour\": \"green\", \"seamark:light:1:height\": \"5\", \"seamark:light:1:period\": \"4\", \"seamark:light:1:range\": \"3\", \"seamark:light:1:sector_end\": \"264\", \"seamark:light:1:sector_start\": \"245\", \"seamark:light:2:character\": \"Fl\", \"seamark:light:2:colour\": \"white\", \"seamark:light:2:height\": \"5\", \"seamark:light:2:period\": \"4\", \"seamark:light:2:range\": \"6\", \"seamark:light:2:sector_end\": \"267\", \"seamark:light:2:sector_start\": \"264\", \"seamark:light:3:character\": \"Fl\", \"seamark:light:3:colour\": \"red\", \"seamark:light:3:height\": \"5\", \"seamark:light:3:period\": \"4\", \"seamark:light:3:range\": \"4\", \"seamark:light:3:sector_end\": \"301\", \"seamark:light:3:sector_start\": \"267\", \"seamark:light:4:character\": \"Fl\", \"seamark:light:4:colour\": \"green\", \"seamark:light:4:height\": \"5\", \"seamark:light:4:period\": \"4\", \"seamark:light:4:range\": \"3\", \"seamark:light:4:sector_end\": \"327\", \"seamark:light:4:sector_start\": \"301\", \"seamark:light:5:character\": \"Fl\", \"seamark:light:5:colour\": \"white\", \"seamark:light:5:height\": \"5\", \"seamark:light:5:period\": \"4\", \"seamark:light:5:range\": \"6\", \"seamark:light:5:sector_end\": \"328.5\", \"seamark:light:5:sector_start\": \"327\", \"seamark:light:6:character\": \"Fl\", \"seamark:light:6:colour\": \"red\", \"seamark:light:6:height\": \"5\", \"seamark:light:6:period\": \"4\", \"seamark:light:6:range\": \"4\", \"seamark:light:6:sector_end\": \"349.5\", \"seamark:light:6:sector_start\": \"328.5\", \"seamark:light:reference\": \"C 6587.4\", \"seamark:name\": \"Bottenholmen\", \"seamark:type\": \"light_minor\", \"source\": \"US NGA Pub. 116. 2011-07-07.\", \"wikidata\": \"Q33129647\"}, \"type\": \"node\"}, {\"height\": \"10\", \"id\": 1035150488, \"lat\": 58.7893454, \"lon\": 17.7796038, \"tags\": {\"man_made\": \"lighthouse\", \"name\": \"V\\u00e4stra R\\u00f6ko\", \"seamark:light:1:character\": \"Oc\", \"seamark:light:1:colour\": \"red\", \"seamark:light:1:group\": \"2\", \"seamark:light:1:height\": \"10\", \"seamark:light:1:period\": \"12\", \"seamark:light:1:range\": \"7\", \"seamark:light:1:sector_end\": \"292\", \"seamark:light:1:sector_start\": \"169\", \"seamark:light:2:character\": \"Oc\", \"seamark:light:2:colour\": \"green\", \"seamark:light:2:group\": \"2\", \"seamark:light:2:height\": \"10\", \"seamark:light:2:period\": \"12\", \"seamark:light:2:range\": \"6\", \"seamark:light:2:sector_end\": \"321\", \"seamark:light:2:sector_start\": \"292\", \"seamark:light:3:character\": \"Oc\", \"seamark:light:3:colour\": \"white\", \"seamark:light:3:group\": \"2\", \"seamark:light:3:height\": \"10\", \"seamark:light:3:period\": \"12\", \"seamark:light:3:range\": \"10\", \"seamark:light:3:sector_end\": \"324.5\", \"seamark:light:3:sector_start\": \"321\", \"seamark:light:4:character\": \"Oc\", \"seamark:light:4:colour\": \"red\", \"seamark:light:4:group\": \"2\", \"seamark:light:4:height\": \"10\", \"seamark:light:4:period\": \"12\", \"seamark:light:4:range\": \"7\", \"seamark:light:4:sector_end\": \"24\", \"seamark:light:4:sector_start\": \"324.5\", \"seamark:light:5:character\": \"Oc\", \"seamark:light:5:colour\": \"green\", \"seamark:light:5:group\": \"2\", \"seamark:light:5:height\": \"10\", \"seamark:light:5:period\": \"12\", \"seamark:light:5:range\": \"6\", \"seamark:light:5:sector_end\": \"88.5\", \"seamark:light:5:sector_start\": \"24\", \"seamark:light:6:character\": \"Oc\", \"seamark:light:6:colour\": \"white\", \"seamark:light:6:group\": \"2\", \"seamark:light:6:height\": \"10\", \"seamark:light:6:period\": \"12\", \"seamark:light:6:range\": \"10\", \"seamark:light:6:sector_end\": \"90\", \"seamark:light:6:sector_start\": \"88.5\", \"seamark:light:reference\": \"C 6675.4\", \"seamark:name\": \"Rokogrundet\", \"seamark:type\": \"light_minor\"}, \"type\": \"node\"}, {\"height\": \"10\", \"id\": 1035150495, \"lat\": 58.8019895, \"lon\": 17.7768785, \"tags\": {\"man_made\": \"lighthouse\", \"name\": \"Kolgusk\\u00e4r\", \"seamark:light:1:character\": \"Fl\", \"seamark:light:1:colour\": \"green\", \"seamark:light:1:group\": \"2\", \"seamark:light:1:height\": \"10\", \"seamark:light:1:period\": \"6\", \"seamark:light:1:range\": \"6\", \"seamark:light:1:sector_end\": \"1.5\", \"seamark:light:1:sector_start\": \"337\", \"seamark:light:2:character\": \"Fl\", \"seamark:light:2:colour\": \"white\", \"seamark:light:2:group\": \"2\", \"seamark:light:2:height\": \"10\", \"seamark:light:2:period\": \"6\", \"seamark:light:2:range\": \"10\", \"seamark:light:2:sector_end\": \"12\", \"seamark:light:2:sector_start\": \"1.5\", \"seamark:light:3:character\": \"Fl\", \"seamark:light:3:colour\": \"red\", \"seamark:light:3:group\": \"2\", \"seamark:light:3:height\": \"10\", \"seamark:light:3:period\": \"6\", \"seamark:light:3:range\": \"7\", \"seamark:light:3:sector_end\": \"22\", \"seamark:light:3:sector_start\": \"12\", \"seamark:light:4:character\": \"Fl\", \"seamark:light:4:colour\": \"green\", \"seamark:light:4:group\": \"2\", \"seamark:light:4:height\": \"10\", \"seamark:light:4:period\": \"6\", \"seamark:light:4:range\": \"6\", \"seamark:light:4:sector_end\": \"135\", \"seamark:light:4:sector_start\": \"22\", \"seamark:light:5:character\": \"Fl\", \"seamark:light:5:colour\": \"white\", \"seamark:light:5:group\": \"2\", \"seamark:light:5:height\": \"10\", \"seamark:light:5:period\": \"6\", \"seamark:light:5:range\": \"10\", \"seamark:light:5:sector_end\": \"138\", \"seamark:light:5:sector_start\": \"135\", \"seamark:light:reference\": \"C 6675.8\", \"seamark:name\": \"Kolguskar\", \"seamark:type\": \"light_minor\", \"wikidata\": \"Q33135680\"}, \"type\": \"node\"}, {\"height\": \"13\", \"id\": 1035150504, \"lat\": 58.7978147, \"lon\": 17.7487576, \"tags\": {\"man_made\": \"lighthouse\", \"name\": \"Granklubben\", \"seamark:light:1:character\": \"Iso\", \"seamark:light:1:colour\": \"green\", \"seamark:light:1:height\": \"13\", \"seamark:light:1:period\": \"3\", \"seamark:light:1:range\": \"9\", \"seamark:light:1:sector_end\": \"298\", \"seamark:light:1:sector_start\": \"225\", \"seamark:light:2:character\": \"Iso\", \"seamark:light:2:colour\": \"red\", \"seamark:light:2:height\": \"13\", \"seamark:light:2:period\": \"3\", \"seamark:light:2:range\": \"10\", \"seamark:light:2:sector_end\": \"312.5\", \"seamark:light:2:sector_start\": \"298\", \"seamark:light:3:character\": \"Iso\", \"seamark:light:3:colour\": \"green\", \"seamark:light:3:height\": \"13\", \"seamark:light:3:period\": \"3\", \"seamark:light:3:range\": \"9\", \"seamark:light:3:sector_end\": \"317.5\", \"seamark:light:3:sector_start\": \"312.5\", \"seamark:light:4:character\": \"Iso\", \"seamark:light:4:colour\": \"white\", \"seamark:light:4:height\": \"13\", \"seamark:light:4:period\": \"3\", \"seamark:light:4:range\": \"13\", \"seamark:light:4:sector_end\": \"320\", \"seamark:light:4:sector_start\": \"317.5\", \"seamark:light:5:character\": \"Iso\", \"seamark:light:5:colour\": \"red\", \"seamark:light:5:height\": \"13\", \"seamark:light:5:period\": \"3\", \"seamark:light:5:range\": \"10\", \"seamark:light:5:sector_end\": \"329.5\", \"seamark:light:5:sector_start\": \"320\", \"seamark:light:6:character\": \"Iso\", \"seamark:light:6:colour\": \"green\", \"seamark:light:6:height\": \"13\", \"seamark:light:6:period\": \"3\", \"seamark:light:6:range\": \"9\", \"seamark:light:6:sector_end\": \"11\", \"seamark:light:6:sector_start\": \"329.5\", \"seamark:light:7:character\": \"Iso\", \"seamark:light:7:colour\": \"white\", \"seamark:light:7:height\": \"13\", \"seamark:light:7:period\": \"3\", \"seamark:light:7:range\": \"13\", \"seamark:light:7:sector_end\": \"54\", \"seamark:light:7:sector_start\": \"11\", \"seamark:light:8:character\": \"Iso\", \"seamark:light:8:colour\": \"red\", \"seamark:light:8:height\": \"13\", \"seamark:light:8:period\": \"3\", \"seamark:light:8:range\": \"10\", \"seamark:light:8:sector_end\": \"75\", \"seamark:light:8:sector_start\": \"54\", \"seamark:light:reference\": \"C 6675\", \"seamark:name\": \"Granklubben\", \"seamark:type\": \"light_minor\", \"wikidata\": \"Q33131470\"}, \"type\": \"node\"}, {\"height\": \"12\", \"id\": 1035150513, \"lat\": 58.7829709, \"lon\": 17.6982916, \"tags\": {\"man_made\": \"lighthouse\", \"name\": \"Asenskallen\", \"seamark:light:1:character\": \"Fl\", \"seamark:light:1:colour\": \"green\", \"seamark:light:1:height\": \"12\", \"seamark:light:1:period\": \"3\", \"seamark:light:1:range\": \"5\", \"seamark:light:1:sector_end\": \"106\", \"seamark:light:1:sector_start\": \"91\", \"seamark:light:2:character\": \"Fl\", \"seamark:light:2:colour\": \"white\", \"seamark:light:2:height\": \"12\", \"seamark:light:2:period\": \"3\", \"seamark:light:2:range\": \"8\", \"seamark:light:2:sector_end\": \"110\", \"seamark:light:2:sector_start\": \"106\", \"seamark:light:3:character\": \"Fl\", \"seamark:light:3:colour\": \"red\", \"seamark:light:3:height\": \"12\", \"seamark:light:3:period\": \"3\", \"seamark:light:3:range\": \"6\", \"seamark:light:3:sector_end\": \"238\", \"seamark:light:3:sector_start\": \"110\", \"seamark:light:4:character\": \"Fl\", \"seamark:light:4:colour\": \"green\", \"seamark:light:4:height\": \"12\", \"seamark:light:4:period\": \"3\", \"seamark:light:4:range\": \"5\", \"seamark:light:4:sector_end\": \"259\", \"seamark:light:4:sector_start\": \"238\", \"seamark:light:5:character\": \"Fl\", \"seamark:light:5:colour\": \"white\", \"seamark:light:5:height\": \"12\", \"seamark:light:5:period\": \"3\", \"seamark:light:5:range\": \"8\", \"seamark:light:5:sector_end\": \"267\", \"seamark:light:5:sector_start\": \"259\", \"seamark:light:6:character\": \"Fl\", \"seamark:light:6:colour\": \"red\", \"seamark:light:6:height\": \"12\", \"seamark:light:6:period\": \"3\", \"seamark:light:6:range\": \"6\", \"seamark:light:6:sector_end\": \"277\", \"seamark:light:6:sector_start\": \"267\", \"seamark:light:7:character\": \"Fl\", \"seamark:light:7:colour\": \"green\", \"seamark:light:7:height\": \"12\", \"seamark:light:7:period\": \"3\", \"seamark:light:7:range\": \"5\", \"seamark:light:7:sector_end\": \"294\", \"seamark:light:7:sector_start\": \"277\", \"seamark:light:8:character\": \"Fl\", \"seamark:light:8:colour\": \"red\", \"seamark:light:8:height\": \"12\", \"seamark:light:8:period\": \"3\", \"seamark:light:8:range\": \"6\", \"seamark:light:8:sector_end\": \"300\", \"seamark:light:8:sector_start\": \"294\", \"seamark:light:reference\": \"C 6732\", \"seamark:name\": \"Asenskallen\", \"seamark:type\": \"light_minor\"}, \"type\": \"node\"}, {\"height\": \"10\", \"id\": 1035150520, \"lat\": 58.78856, \"lon\": 17.7092439, \"tags\": {\"man_made\": \"lighthouse\", \"name\": \"Skvallran\", \"seamark:light:10:character\": \"Fl\", \"seamark:light:10:colour\": \"red\", \"seamark:light:10:group\": \"3\", \"seamark:light:10:height\": \"10\", \"seamark:light:10:period\": \"9\", \"seamark:light:10:range\": \"5\", \"seamark:light:10:sector_end\": \"116\", \"seamark:light:10:sector_start\": \"95\", \"seamark:light:1:character\": \"Fl\", \"seamark:light:1:colour\": \"green\", \"seamark:light:1:group\": \"3\", \"seamark:light:1:height\": \"10\", \"seamark:light:1:period\": \"9\", \"seamark:light:1:range\": \"4\", \"seamark:light:1:sector_end\": \"203\", \"seamark:light:1:sector_start\": \"189\", \"seamark:light:2:character\": \"Fl\", \"seamark:light:2:colour\": \"white\", \"seamark:light:2:group\": \"3\", \"seamark:light:2:height\": \"10\", \"seamark:light:2:period\": \"9\", \"seamark:light:2:range\": \"7\", \"seamark:light:2:sector_end\": \"221\", \"seamark:light:2:sector_start\": \"203\", \"seamark:light:3:character\": \"Fl\", \"seamark:light:3:colour\": \"red\", \"seamark:light:3:group\": \"3\", \"seamark:light:3:height\": \"10\", \"seamark:light:3:period\": \"9\", \"seamark:light:3:range\": \"5\", \"seamark:light:3:sector_end\": \"258\", \"seamark:light:3:sector_start\": \"221\", \"seamark:light:4:character\": \"Fl\", \"seamark:light:4:colour\": \"green\", \"seamark:light:4:group\": \"3\", \"seamark:light:4:height\": \"10\", \"seamark:light:4:period\": \"9\", \"seamark:light:4:range\": \"4\", \"seamark:light:4:sector_end\": \"271\", \"seamark:light:4:sector_start\": \"258\", \"seamark:light:5:character\": \"Fl\", \"seamark:light:5:colour\": \"white\", \"seamark:light:5:group\": \"3\", \"seamark:light:5:height\": \"10\", \"seamark:light:5:period\": \"9\", \"seamark:light:5:range\": \"7\", \"seamark:light:5:sector_end\": \"279\", \"seamark:light:5:sector_start\": \"271\", \"seamark:light:6:character\": \"Fl\", \"seamark:light:6:colour\": \"red\", \"seamark:light:6:group\": \"3\", \"seamark:light:6:height\": \"10\", \"seamark:light:6:period\": \"9\", \"seamark:light:6:range\": \"5\", \"seamark:light:6:sector_end\": \"344\", \"seamark:light:6:sector_start\": \"279\", \"seamark:light:7:character\": \"Fl\", \"seamark:light:7:colour\": \"green\", \"seamark:light:7:group\": \"3\", \"seamark:light:7:height\": \"10\", \"seamark:light:7:period\": \"9\", \"seamark:light:7:range\": \"4\", \"seamark:light:7:sector_end\": \"60\", \"seamark:light:7:sector_start\": \"344\", \"seamark:light:8:character\": \"Fl\", \"seamark:light:8:colour\": \"white\", \"seamark:light:8:group\": \"3\", \"seamark:light:8:height\": \"10\", \"seamark:light:8:period\": \"9\", \"seamark:light:8:range\": \"7\", \"seamark:light:8:sector_end\": \"80\", \"seamark:light:8:sector_start\": \"60\", \"seamark:light:9:character\": \"Fl\", \"seamark:light:9:colour\": \"red\", \"seamark:light:9:group\": \"3\", \"seamark:light:9:height\": \"10\", \"seamark:light:9:period\": \"9\", \"seamark:light:9:range\": \"5\", \"seamark:light:9:sector_end\": \"95\", \"seamark:light:9:sector_start\": \"80\", \"seamark:light:reference\": \"C 6730\", \"seamark:name\": \"Skvallran\", \"seamark:type\": \"light_minor\", \"wikidata\": \"Q41140866\"}, \"type\": \"node\"}, {\"height\": 3, \"id\": 1035157738, \"lat\": 58.8240057, \"lon\": 17.739995, \"tags\": {\"man_made\": \"lighthouse\", \"name\": \"Vattkluben\"}, \"type\": \"node\"}, {\"height\": \"6\", \"id\": 1035157745, \"lat\": 58.8249234, \"lon\": 17.7288133, \"tags\": {\"man_made\": \"lighthouse\", \"name\": \"Torsken\", \"seamark:light:1:character\": \"Q\", \"seamark:light:1:colour\": \"white\", \"seamark:light:1:height\": \"6\", \"seamark:light:1:range\": \"9\", \"seamark:light:1:sector_end\": \"166\", \"seamark:light:2:character\": \"Q\", \"seamark:light:2:colour\": \"red\", \"seamark:light:2:height\": \"6\", \"seamark:light:2:range\": \"7\", \"seamark:light:2:sector_end\": \"248\", \"seamark:light:2:sector_start\": \"166\", \"seamark:light:3:character\": \"Q\", \"seamark:light:3:colour\": \"green\", \"seamark:light:3:height\": \"6\", \"seamark:light:3:range\": \"6\", \"seamark:light:3:sector_end\": \"307\", \"seamark:light:3:sector_start\": \"248\", \"seamark:light:4:character\": \"Q\", \"seamark:light:4:colour\": \"white\", \"seamark:light:4:height\": \"6\", \"seamark:light:4:range\": \"9\", \"seamark:light:4:sector_end\": \"313\", \"seamark:light:4:sector_start\": \"307\", \"seamark:light:reference\": \"C 6676.2\", \"seamark:name\": \"Torsken\", \"seamark:radar_reflector\": \"yes\", \"seamark:type\": \"light_minor\", \"wikidata\": \"Q33195605\"}, \"type\": \"node\"}, {\"height\": \"8\", \"id\": 1035157748, \"lat\": 58.8312271, \"lon\": 17.7554483, \"tags\": {\"man_made\": \"lighthouse\", \"name\": \"S\\u00f6dra Bergholmen\", \"seamark:light:1:character\": \"Fl\", \"seamark:light:1:colour\": \"green\", \"seamark:light:1:height\": \"8\", \"seamark:light:1:period\": \"3\", \"seamark:light:1:range\": \"2\", \"seamark:light:1:sector_end\": \"232\", \"seamark:light:1:sector_start\": \"206\", \"seamark:light:2:character\": \"Fl\", \"seamark:light:2:colour\": \"white\", \"seamark:light:2:height\": \"8\", \"seamark:light:2:period\": \"3\", \"seamark:light:2:range\": \"4\", \"seamark:light:2:sector_end\": \"291\", \"seamark:light:2:sector_start\": \"232\", \"seamark:light:3:character\": \"Fl\", \"seamark:light:3:colour\": \"red\", \"seamark:light:3:height\": \"8\", \"seamark:light:3:period\": \"3\", \"seamark:light:3:range\": \"3\", \"seamark:light:3:sector_end\": \"25\", \"seamark:light:3:sector_start\": \"291\", \"seamark:light:4:character\": \"Fl\", \"seamark:light:4:colour\": \"green\", \"seamark:light:4:height\": \"8\", \"seamark:light:4:period\": \"3\", \"seamark:light:4:range\": \"2\", \"seamark:light:4:sector_end\": \"56.5\", \"seamark:light:4:sector_start\": \"25\", \"seamark:light:5:character\": \"Fl\", \"seamark:light:5:colour\": \"white\", \"seamark:light:5:height\": \"8\", \"seamark:light:5:period\": \"3\", \"seamark:light:5:range\": \"4\", \"seamark:light:5:sector_end\": \"60\", \"seamark:light:5:sector_start\": \"56.5\", \"seamark:light:6:character\": \"Fl\", \"seamark:light:6:colour\": \"red\", \"seamark:light:6:height\": \"8\", \"seamark:light:6:period\": \"3\", \"seamark:light:6:range\": \"3\", \"seamark:light:6:sector_end\": \"78\", \"seamark:light:6:sector_start\": \"60\", \"seamark:light:7:character\": \"Fl\", \"seamark:light:7:colour\": \"green\", \"seamark:light:7:height\": \"8\", \"seamark:light:7:period\": \"3\", \"seamark:light:7:range\": \"2\", \"seamark:light:7:sector_end\": \"147\", \"seamark:light:7:sector_start\": \"78\", \"seamark:light:reference\": \"C 6676.5\", \"seamark:name\": \"Sodra Bergholmen\", \"seamark:type\": \"light_minor\", \"wikidata\": \"Q33194698\"}, \"type\": \"node\"}, {\"height\": \"7\", \"id\": 1035157756, \"lat\": 58.8420694, \"lon\": 17.7238351, \"tags\": {\"man_made\": \"lighthouse\", \"name\": \"Fif\\u00e5ng\", \"seamark:light:1:character\": \"Fl\", \"seamark:light:1:colour\": \"green\", \"seamark:light:1:group\": \"3\", \"seamark:light:1:height\": \"7\", \"seamark:light:1:period\": \"9\", \"seamark:light:1:range\": \"6\", \"seamark:light:1:sector_end\": \"169.3\", \"seamark:light:1:sector_start\": \"163\", \"seamark:light:2:character\": \"Fl\", \"seamark:light:2:colour\": \"white\", \"seamark:light:2:group\": \"3\", \"seamark:light:2:height\": \"7\", \"seamark:light:2:period\": \"9\", \"seamark:light:2:range\": \"10\", \"seamark:light:2:sector_end\": \"171.8\", \"seamark:light:2:sector_start\": \"169.3\", \"seamark:light:3:character\": \"Fl\", \"seamark:light:3:colour\": \"red\", \"seamark:light:3:group\": \"3\", \"seamark:light:3:height\": \"7\", \"seamark:light:3:period\": \"9\", \"seamark:light:3:range\": \"7\", \"seamark:light:3:sector_end\": \"175\", \"seamark:light:3:sector_start\": \"171.8\", \"seamark:light:4:character\": \"Fl\", \"seamark:light:4:colour\": \"green\", \"seamark:light:4:group\": \"3\", \"seamark:light:4:height\": \"7\", \"seamark:light:4:period\": \"9\", \"seamark:light:4:range\": \"6\", \"seamark:light:4:sector_end\": \"244.6\", \"seamark:light:4:sector_start\": \"175\", \"seamark:light:5:character\": \"Fl\", \"seamark:light:5:colour\": \"red\", \"seamark:light:5:group\": \"3\", \"seamark:light:5:height\": \"7\", \"seamark:light:5:period\": \"9\", \"seamark:light:5:range\": \"7\", \"seamark:light:5:sector_end\": \"311\", \"seamark:light:5:sector_start\": \"244.6\", \"seamark:light:6:character\": \"Fl\", \"seamark:light:6:colour\": \"green\", \"seamark:light:6:group\": \"3\", \"seamark:light:6:height\": \"7\", \"seamark:light:6:period\": \"9\", \"seamark:light:6:range\": \"6\", \"seamark:light:6:sector_end\": \"351\", \"seamark:light:6:sector_start\": \"311\", \"seamark:light:7:character\": \"Fl\", \"seamark:light:7:colour\": \"white\", \"seamark:light:7:group\": \"3\", \"seamark:light:7:height\": \"7\", \"seamark:light:7:period\": \"9\", \"seamark:light:7:range\": \"10\", \"seamark:light:7:sector_end\": \"359\", \"seamark:light:7:sector_start\": \"351\", \"seamark:light:8:character\": \"Fl\", \"seamark:light:8:colour\": \"red\", \"seamark:light:8:group\": \"3\", \"seamark:light:8:height\": \"7\", \"seamark:light:8:period\": \"9\", \"seamark:light:8:range\": \"7\", \"seamark:light:8:sector_end\": \"4\", \"seamark:light:8:sector_start\": \"359\", \"seamark:light:9:character\": \"Fl\", \"seamark:light:9:colour\": \"green\", \"seamark:light:9:group\": \"3\", \"seamark:light:9:height\": \"7\", \"seamark:light:9:period\": \"9\", \"seamark:light:9:range\": \"6\", \"seamark:light:9:sector_end\": \"17\", \"seamark:light:9:sector_start\": \"4\", \"seamark:light:reference\": \"C 6676.8\", \"seamark:name\": \"Fifong\", \"seamark:type\": \"light_minor\", \"source\": \"US NGA Pub. 116. 2011-07-07.\", \"wikidata\": \"Q33131028\"}, \"type\": \"node\"}, {\"height\": \"5\", \"id\": 1035175832, \"lat\": 58.8791667, \"lon\": 17.7161333, \"tags\": {\"man_made\": \"lighthouse\", \"name\": \"G\\u00e5lklubb\", \"seamark:light:1:character\": \"Iso\", \"seamark:light:1:colour\": \"red\", \"seamark:light:1:height\": \"5\", \"seamark:light:1:period\": \"4\", \"seamark:light:1:range\": \"7\", \"seamark:light:1:sector_end\": \"347\", \"seamark:light:1:sector_start\": \"299\", \"seamark:light:2:character\": \"Iso\", \"seamark:light:2:colour\": \"green\", \"seamark:light:2:height\": \"5\", \"seamark:light:2:period\": \"4\", \"seamark:light:2:range\": \"6\", \"seamark:light:2:sector_end\": \"357\", \"seamark:light:2:sector_start\": \"347\", \"seamark:light:3:character\": \"Iso\", \"seamark:light:3:colour\": \"white\", \"seamark:light:3:height\": \"5\", \"seamark:light:3:period\": \"4\", \"seamark:light:3:range\": \"10\", \"seamark:light:3:sector_end\": \"8\", \"seamark:light:3:sector_start\": \"357\", \"seamark:light:4:character\": \"Iso\", \"seamark:light:4:colour\": \"red\", \"seamark:light:4:height\": \"5\", \"seamark:light:4:period\": \"4\", \"seamark:light:4:range\": \"7\", \"seamark:light:4:sector_end\": \"81\", \"seamark:light:4:sector_start\": \"8\", \"seamark:light:5:character\": \"Iso\", \"seamark:light:5:colour\": \"green\", \"seamark:light:5:height\": \"5\", \"seamark:light:5:period\": \"4\", \"seamark:light:5:range\": \"6\", \"seamark:light:5:sector_end\": \"158\", \"seamark:light:5:sector_start\": \"81\", \"seamark:light:6:character\": \"Iso\", \"seamark:light:6:colour\": \"white\", \"seamark:light:6:height\": \"5\", \"seamark:light:6:period\": \"4\", \"seamark:light:6:range\": \"10\", \"seamark:light:6:sector_end\": \"299\", \"seamark:light:6:sector_start\": \"158\", \"seamark:light:reference\": \"C 6677.2\", \"seamark:name\": \"Galklubb\", \"seamark:type\": \"light_minor\", \"wikidata\": \"Q33133925\"}, \"type\": \"node\"}, {\"height\": \"10\", \"id\": 1035175850, \"lat\": 58.9057816, \"lon\": 17.7135354, \"tags\": {\"man_made\": \"lighthouse\", \"name\": \"Stensk\\u00e4r\", \"seamark:light:1:character\": \"Fl\", \"seamark:light:1:colour\": \"green\", \"seamark:light:1:height\": \"10\", \"seamark:light:1:period\": \"3\", \"seamark:light:1:range\": \"6\", \"seamark:light:1:sector_end\": \"154\", \"seamark:light:1:sequence\": \"0.7+(2.3)\", \"seamark:light:2:character\": \"Fl\", \"seamark:light:2:colour\": \"white\", \"seamark:light:2:height\": \"10\", \"seamark:light:2:period\": \"3\", \"seamark:light:2:range\": \"10\", \"seamark:light:2:sector_end\": \"184.7\", \"seamark:light:2:sector_start\": \"154\", \"seamark:light:2:sequence\": \"0.7+(2.3)\", \"seamark:light:3:character\": \"Fl\", \"seamark:light:3:colour\": \"red\", \"seamark:light:3:height\": \"10\", \"seamark:light:3:period\": \"3\", \"seamark:light:3:range\": \"7\", \"seamark:light:3:sector_end\": \"284\", \"seamark:light:3:sector_start\": \"184.7\", \"seamark:light:3:sequence\": \"0.7+(2.3)\", \"seamark:light:4:character\": \"Fl\", \"seamark:light:4:colour\": \"green\", \"seamark:light:4:height\": \"10\", \"seamark:light:4:period\": \"3\", \"seamark:light:4:range\": \"6\", \"seamark:light:4:sector_end\": \"2.2\", \"seamark:light:4:sector_start\": \"284\", \"seamark:light:4:sequence\": \"0.7+(2.3)\", \"seamark:light:5:character\": \"Fl\", \"seamark:light:5:colour\": \"green\", \"seamark:light:5:height\": \"10\", \"seamark:light:5:period\": \"3\", \"seamark:light:5:range\": \"6\", \"seamark:light:5:sector_end\": \"22\", \"seamark:light:5:sector_start\": \"2.2\", \"seamark:light:5:sequence\": \"0.7+(2.3)\", \"seamark:light:reference\": \"C 6677.6\", \"seamark:name\": \"Stenskar\", \"seamark:type\": \"light_minor\", \"wikidata\": \"Q33183965\"}, \"type\": \"node\"}, {\"height\": \"6\", \"id\": 1035175854, \"lat\": 58.9642216, \"lon\": 17.7247792, \"tags\": {\"man_made\": \"lighthouse\", \"name\": \"Regarn\", \"seamark:light:1:category\": \"upper\", \"seamark:light:1:character\": \"Iso\", \"seamark:light:1:colour\": \"green\", \"seamark:light:1:height\": \"6\", \"seamark:light:1:period\": \"4\", \"seamark:light:1:range\": \"3\", \"seamark:light:1:sector_end\": \"8\", \"seamark:light:1:sector_start\": \"354\", \"seamark:light:2:category\": \"upper\", \"seamark:light:2:character\": \"Iso\", \"seamark:light:2:colour\": \"white\", \"seamark:light:2:height\": \"6\", \"seamark:light:2:period\": \"4\", \"seamark:light:2:range\": \"6\", \"seamark:light:2:sector_end\": \"175\", \"seamark:light:2:sector_start\": \"8\", \"seamark:light:3:category\": \"upper\", \"seamark:light:3:character\": \"Iso\", \"seamark:light:3:colour\": \"red\", \"seamark:light:3:height\": \"6\", \"seamark:light:3:period\": \"4\", \"seamark:light:3:range\": \"4\", \"seamark:light:3:sector_end\": \"211\", \"seamark:light:3:sector_start\": \"175\", \"seamark:light:4:category\": \"upper\", \"seamark:light:4:character\": \"Iso\", \"seamark:light:4:colour\": \"white\", \"seamark:light:4:height\": \"6\", \"seamark:light:4:period\": \"4\", \"seamark:light:4:range\": \"6\", \"seamark:light:4:sector_end\": \"172\", \"seamark:light:4:sector_start\": \"172\", \"seamark:light:5:category\": \"upper\", \"seamark:light:5:character\": \"Iso\", \"seamark:light:5:colour\": \"red\", \"seamark:light:5:height\": \"6\", \"seamark:light:5:period\": \"4\", \"seamark:light:5:range\": \"4\", \"seamark:light:5:sector_end\": \"172\", \"seamark:light:5:sector_start\": \"172\", \"seamark:light:6:category\": \"upper\", \"seamark:light:6:character\": \"Iso\", \"seamark:light:6:colour\": \"green\", \"seamark:light:6:height\": \"6\", \"seamark:light:6:period\": \"4\", \"seamark:light:6:range\": \"3\", \"seamark:light:6:sector_end\": \"172\", \"seamark:light:6:sector_start\": \"172\", \"seamark:light:reference\": \"C 6677.81\", \"seamark:name\": \"Regarn\", \"seamark:type\": \"light_minor\", \"wikidata\": \"Q33179288\"}, \"type\": \"node\"}, {\"height\": \"3\", \"id\": 1035190116, \"lat\": 59.0070751, \"lon\": 17.7126342, \"tags\": {\"man_made\": \"lighthouse\", \"name\": \"Egelsholm\", \"seamark:light:1:category\": \"lower\", \"seamark:light:1:character\": \"Q\", \"seamark:light:1:colour\": \"green\", \"seamark:light:1:height\": \"3\", \"seamark:light:1:range\": \"6\", \"seamark:light:1:sector_end\": \"170\", \"seamark:light:1:sector_start\": \"120\", \"seamark:light:2:category\": \"lower\", \"seamark:light:2:character\": \"Q\", \"seamark:light:2:colour\": \"white\", \"seamark:light:2:height\": \"3\", \"seamark:light:2:range\": \"10\", \"seamark:light:2:sector_end\": \"171.5\", \"seamark:light:2:sector_start\": \"170\", \"seamark:light:3:category\": \"lower\", \"seamark:light:3:character\": \"Q\", \"seamark:light:3:colour\": \"red\", \"seamark:light:3:height\": \"3\", \"seamark:light:3:range\": \"7\", \"seamark:light:3:sector_end\": \"230\", \"seamark:light:3:sector_start\": \"171.5\", \"seamark:light:4:category\": \"lower\", \"seamark:light:4:character\": \"Q\", \"seamark:light:4:colour\": \"green\", \"seamark:light:4:height\": \"3\", \"seamark:light:4:range\": \"6\", \"seamark:light:4:sector_end\": \"338\", \"seamark:light:4:sector_start\": \"230\", \"seamark:light:5:category\": \"lower\", \"seamark:light:5:character\": \"Q\", \"seamark:light:5:colour\": \"white\", \"seamark:light:5:height\": \"3\", \"seamark:light:5:range\": \"10\", \"seamark:light:5:sector_end\": \"353.5\", \"seamark:light:5:sector_start\": \"338\", \"seamark:light:6:category\": \"lower\", \"seamark:light:6:character\": \"Q\", \"seamark:light:6:colour\": \"red\", \"seamark:light:6:height\": \"3\", \"seamark:light:6:range\": \"7\", \"seamark:light:6:sector_end\": \"50\", \"seamark:light:6:sector_start\": \"353.5\", \"seamark:light:reference\": \"C 6677.8\", \"seamark:name\": \"Egelsholm\", \"seamark:type\": \"light_minor\", \"source\": \"US NGA Pub. 116. 2011-07-07.\", \"wikidata\": \"Q33130836\"}, \"type\": \"node\"}, {\"height\": \"3\", \"id\": 1035190136, \"lat\": 59.0545761, \"lon\": 17.6849538, \"tags\": {\"man_made\": \"lighthouse\", \"name\": \"Notholmen\", \"seamark:light:1:character\": \"Fl\", \"seamark:light:1:colour\": \"green\", \"seamark:light:1:height\": \"3\", \"seamark:light:1:period\": \"3\", \"seamark:light:1:range\": \"6\", \"seamark:light:1:sector_end\": \"119\", \"seamark:light:2:character\": \"Fl\", \"seamark:light:2:colour\": \"white\", \"seamark:light:2:height\": \"3\", \"seamark:light:2:period\": \"3\", \"seamark:light:2:range\": \"10\", \"seamark:light:2:sector_end\": \"166\", \"seamark:light:2:sector_start\": \"119\", \"seamark:light:3:character\": \"Fl\", \"seamark:light:3:colour\": \"red\", \"seamark:light:3:height\": \"3\", \"seamark:light:3:period\": \"3\", \"seamark:light:3:range\": \"7\", \"seamark:light:3:sector_end\": \"296.6\", \"seamark:light:3:sector_start\": \"166\", \"seamark:light:4:character\": \"Fl\", \"seamark:light:4:colour\": \"green\", \"seamark:light:4:height\": \"3\", \"seamark:light:4:period\": \"3\", \"seamark:light:4:range\": \"6\", \"seamark:light:4:sector_end\": \"341\", \"seamark:light:4:sector_start\": \"296.6\", \"seamark:light:reference\": \"C 6678\", \"seamark:name\": \"Notholmen\", \"seamark:type\": \"light_minor\", \"wikidata\": \"Q32299752\"}, \"type\": \"node\"}, {\"height\": \"5\", \"id\": 1035197272, \"lat\": 59.0964246, \"lon\": 17.6613718, \"tags\": {\"man_made\": \"lighthouse\", \"name\": \"Farstan\\u00e4s\", \"seamark:light:1:character\": \"Fl\", \"seamark:light:1:colour\": \"green\", \"seamark:light:1:group\": \"3\", \"seamark:light:1:height\": \"5\", \"seamark:light:1:period\": \"9\", \"seamark:light:1:range\": \"2\", \"seamark:light:1:sector_end\": \"340\", \"seamark:light:1:sector_start\": \"277\", \"seamark:light:2:character\": \"Fl\", \"seamark:light:2:colour\": \"white\", \"seamark:light:2:group\": \"3\", \"seamark:light:2:height\": \"5\", \"seamark:light:2:period\": \"9\", \"seamark:light:2:range\": \"4\", \"seamark:light:2:sector_end\": \"345\", \"seamark:light:2:sector_start\": \"340\", \"seamark:light:3:character\": \"Fl\", \"seamark:light:3:colour\": \"red\", \"seamark:light:3:group\": \"3\", \"seamark:light:3:height\": \"5\", \"seamark:light:3:period\": \"9\", \"seamark:light:3:range\": \"3\", \"seamark:light:3:sector_end\": \"25\", \"seamark:light:3:sector_start\": \"345\", \"seamark:light:reference\": \"C 6678.5\", \"seamark:name\": \"Farstanas\", \"seamark:type\": \"light_minor\", \"wikidata\": \"Q33131004\"}, \"type\": \"node\"}, {\"height\": \"4\", \"id\": 1035197287, \"lat\": 59.0998078, \"lon\": 17.6783341, \"tags\": {\"man_made\": \"lighthouse\", \"name\": \"Brandalsund\", \"seamark:light:1:character\": \"Fl\", \"seamark:light:1:colour\": \"green\", \"seamark:light:1:height\": \"4\", \"seamark:light:1:period\": \"3\", \"seamark:light:1:range\": \"5\", \"seamark:light:1:sector_end\": \"243\", \"seamark:light:2:character\": \"Fl\", \"seamark:light:2:colour\": \"white\", \"seamark:light:2:height\": \"4\", \"seamark:light:2:period\": \"3\", \"seamark:light:2:range\": \"8\", \"seamark:light:2:sector_end\": \"251.7\", \"seamark:light:2:sector_start\": \"243\", \"seamark:light:3:character\": \"Fl\", \"seamark:light:3:colour\": \"red\", \"seamark:light:3:height\": \"4\", \"seamark:light:3:period\": \"3\", \"seamark:light:3:range\": \"6\", \"seamark:light:3:sector_end\": \"344.7\", \"seamark:light:3:sector_start\": \"251.7\", \"seamark:light:4:character\": \"Fl\", \"seamark:light:4:colour\": \"green\", \"seamark:light:4:height\": \"4\", \"seamark:light:4:period\": \"3\", \"seamark:light:4:range\": \"5\", \"seamark:light:4:sector_end\": \"22.6\", \"seamark:light:4:sector_start\": \"344.7\", \"seamark:light:reference\": \"C 6678.6\", \"seamark:name\": \"Brandalssund\", \"seamark:type\": \"light_minor\", \"wikidata\": \"Q33130370\"}, \"type\": \"node\"}, {\"height\": 3, \"id\": 1035197324, \"lat\": 59.1058679, \"lon\": 17.6855117, \"tags\": {\"man_made\": \"lighthouse\", \"name\": \"Norrviken\"}, \"type\": \"node\"}, {\"height\": 3, \"id\": 1035204163, \"lat\": 59.1271802, \"lon\": 17.6841169, \"tags\": {\"man_made\": \"lighthouse\", \"name\": \"Fl\\u00e4skl\\u00f6sa\", \"seamark:light:character\": \"VQ\", \"seamark:light:colour\": \"white\", \"seamark:light:height\": \"5\", \"seamark:light:range\": \"3\", \"seamark:light:reference\": \"C 6679.2\", \"seamark:name\": \"Flasklosa\", \"seamark:type\": \"light_minor\", \"wikidata\": \"Q33383956\"}, \"type\": \"node\"}, {\"height\": 3, \"id\": 1035204170, \"lat\": 59.1606088, \"lon\": 17.6690644, \"tags\": {\"man_made\": \"lighthouse\", \"name\": \"Halls Holme\", \"wikidata\": \"Q33134038\"}, \"type\": \"node\"}, {\"height\": \"3\", \"id\": 1039114785, \"lat\": 58.8961102, \"lon\": 17.9594986, \"tags\": {\"man_made\": \"lighthouse\", \"name\": \"Bedar\\u00f6\", \"seamark:light:1:character\": \"Iso\", \"seamark:light:1:colour\": \"green\", \"seamark:light:1:height\": \"3\", \"seamark:light:1:period\": \"4\", \"seamark:light:1:range\": \"4\", \"seamark:light:1:sector_end\": \"33.5\", \"seamark:light:1:sector_start\": \"20.5\", \"seamark:light:2:character\": \"Iso\", \"seamark:light:2:colour\": \"white\", \"seamark:light:2:height\": \"3\", \"seamark:light:2:period\": \"4\", \"seamark:light:2:range\": \"7\", \"seamark:light:2:sector_end\": \"36\", \"seamark:light:2:sector_start\": \"33.5\", \"seamark:light:3:character\": \"Iso\", \"seamark:light:3:colour\": \"red\", \"seamark:light:3:height\": \"3\", \"seamark:light:3:period\": \"4\", \"seamark:light:3:range\": \"5\", \"seamark:light:3:sector_end\": \"43\", \"seamark:light:3:sector_start\": \"36\", \"seamark:light:4:character\": \"Iso\", \"seamark:light:4:colour\": \"green\", \"seamark:light:4:height\": \"3\", \"seamark:light:4:period\": \"4\", \"seamark:light:4:range\": \"4\", \"seamark:light:4:sector_end\": \"163\", \"seamark:light:4:sector_start\": \"155\", \"seamark:light:5:character\": \"Iso\", \"seamark:light:5:colour\": \"white\", \"seamark:light:5:height\": \"3\", \"seamark:light:5:period\": \"4\", \"seamark:light:5:range\": \"7\", \"seamark:light:5:sector_end\": \"177\", \"seamark:light:5:sector_start\": \"163\", \"seamark:light:6:character\": \"Iso\", \"seamark:light:6:colour\": \"red\", \"seamark:light:6:height\": \"3\", \"seamark:light:6:period\": \"4\", \"seamark:light:6:range\": \"5\", \"seamark:light:6:sector_end\": \"195\", \"seamark:light:6:sector_start\": \"177\", \"seamark:light:reference\": \"C 6606\", \"seamark:name\": \"Bedaro\", \"seamark:type\": \"light_minor\", \"wikidata\": \"Q33129414\"}, \"type\": \"node\"}, {\"height\": 3, \"id\": 1039154833, \"lat\": 59.3756613, \"lon\": 18.7151791, \"tags\": {\"man_made\": \"lighthouse\", \"name\": \"Branten\", \"wikidata\": \"Q33130557\"}, \"type\": \"node\"}, {\"height\": \"8\", \"id\": 1039158250, \"lat\": 58.9180581, \"lon\": 17.9777762, \"tags\": {\"man_made\": \"lighthouse\", \"name\": \"Brunsviksholmen\", \"seamark:light:10:character\": \"Fl\", \"seamark:light:10:colour\": \"red\", \"seamark:light:10:group\": \"2\", \"seamark:light:10:height\": \"8\", \"seamark:light:10:period\": \"6\", \"seamark:light:10:range\": \"9\", \"seamark:light:10:sector_end\": \"47.5\", \"seamark:light:10:sector_start\": \"43\", \"seamark:light:1:character\": \"Fl\", \"seamark:light:1:colour\": \"red\", \"seamark:light:1:group\": \"2\", \"seamark:light:1:height\": \"8\", \"seamark:light:1:period\": \"6\", \"seamark:light:1:range\": \"9\", \"seamark:light:1:sector_end\": \"279.5\", \"seamark:light:1:sector_start\": \"270\", \"seamark:light:2:character\": \"Fl\", \"seamark:light:2:colour\": \"green\", \"seamark:light:2:group\": \"2\", \"seamark:light:2:height\": \"8\", \"seamark:light:2:period\": \"6\", \"seamark:light:2:range\": \"8\", \"seamark:light:2:sector_end\": \"296.5\", \"seamark:light:2:sector_start\": \"279.5\", \"seamark:light:3:character\": \"Fl\", \"seamark:light:3:colour\": \"white\", \"seamark:light:3:group\": \"2\", \"seamark:light:3:height\": \"8\", \"seamark:light:3:period\": \"6\", \"seamark:light:3:range\": \"12\", \"seamark:light:3:sector_end\": \"306.5\", \"seamark:light:3:sector_start\": \"296.5\", \"seamark:light:4:character\": \"Fl\", \"seamark:light:4:colour\": \"red\", \"seamark:light:4:group\": \"2\", \"seamark:light:4:height\": \"8\", \"seamark:light:4:period\": \"6\", \"seamark:light:4:range\": \"9\", \"seamark:light:4:sector_end\": \"317\", \"seamark:light:4:sector_start\": \"306.5\", \"seamark:light:5:character\": \"Fl\", \"seamark:light:5:colour\": \"green\", \"seamark:light:5:group\": \"2\", \"seamark:light:5:height\": \"8\", \"seamark:light:5:period\": \"6\", \"seamark:light:5:range\": \"8\", \"seamark:light:5:sector_end\": \"323\", \"seamark:light:5:sector_start\": \"317\", \"seamark:light:6:character\": \"Fl\", \"seamark:light:6:colour\": \"white\", \"seamark:light:6:group\": \"2\", \"seamark:light:6:height\": \"8\", \"seamark:light:6:period\": \"6\", \"seamark:light:6:range\": \"12\", \"seamark:light:6:sector_end\": \"327\", \"seamark:light:6:sector_start\": \"323\", \"seamark:light:7:character\": \"Fl\", \"seamark:light:7:colour\": \"red\", \"seamark:light:7:group\": \"2\", \"seamark:light:7:height\": \"8\", \"seamark:light:7:period\": \"6\", \"seamark:light:7:range\": \"9\", \"seamark:light:7:sector_end\": \"0\", \"seamark:light:7:sector_start\": \"327\", \"seamark:light:8:character\": \"Fl\", \"seamark:light:8:colour\": \"green\", \"seamark:light:8:group\": \"2\", \"seamark:light:8:height\": \"8\", \"seamark:light:8:period\": \"6\", \"seamark:light:8:range\": \"8\", \"seamark:light:8:sector_end\": \"39\", \"seamark:light:8:sector_start\": \"0\", \"seamark:light:9:character\": \"Fl\", \"seamark:light:9:colour\": \"white\", \"seamark:light:9:group\": \"2\", \"seamark:light:9:height\": \"8\", \"seamark:light:9:period\": \"6\", \"seamark:light:9:range\": \"12\", \"seamark:light:9:sector_end\": \"43\", \"seamark:light:9:sector_start\": \"39\", \"seamark:light:reference\": \"C 6614\", \"seamark:name\": \"Brunsviksholmen\", \"seamark:type\": \"light_minor\", \"wikidata\": \"Q33130606\"}, \"type\": \"node\"}, {\"height\": \"6\", \"id\": 1350571499, \"lat\": 59.4126354, \"lon\": 18.9019994, \"tags\": {\"man_made\": \"lighthouse\", \"name\": \"Stora M\\u00f6ja\", \"seamark:light:1:character\": \"Q\", \"seamark:light:1:colour\": \"white\", \"seamark:light:1:height\": \"6\", \"seamark:light:1:range\": \"8\", \"seamark:light:2:character\": \"Q\", \"seamark:light:2:colour\": \"red\", \"seamark:light:2:height\": \"6\", \"seamark:light:2:range\": \"5\", \"seamark:light:3:character\": \"Q\", \"seamark:light:3:colour\": \"green\", \"seamark:light:3:height\": \"6\", \"seamark:light:3:range\": \"4\", \"seamark:light:reference\": \"C 6408\", \"seamark:type\": \"light_minor\", \"wikidata\": \"Q33190920\"}, \"type\": \"node\"}, {\"height\": \"5\", \"id\": 1533309090, \"lat\": 59.3959502, \"lon\": 18.1025242, \"tags\": {\"man_made\": \"lighthouse\", \"name\": \"Djursholmsudde\", \"seamark:light:1:character\": \"Fl\", \"seamark:light:1:colour\": \"green\", \"seamark:light:1:group\": \"4\", \"seamark:light:1:height\": \"5\", \"seamark:light:1:period\": \"12\", \"seamark:light:1:range\": \"3\", \"seamark:light:1:sector_end\": \"282.5\", \"seamark:light:1:sector_start\": \"270\", \"seamark:light:2:character\": \"Fl\", \"seamark:light:2:colour\": \"white\", \"seamark:light:2:group\": \"4\", \"seamark:light:2:height\": \"5\", \"seamark:light:2:period\": \"12\", \"seamark:light:2:range\": \"6\", \"seamark:light:2:sector_end\": \"286\", \"seamark:light:2:sector_start\": \"282.5\", \"seamark:light:3:character\": \"Fl\", \"seamark:light:3:colour\": \"red\", \"seamark:light:3:group\": \"4\", \"seamark:light:3:height\": \"5\", \"seamark:light:3:period\": \"12\", \"seamark:light:3:range\": \"4\", \"seamark:light:3:sector_end\": \"312\", \"seamark:light:3:sector_start\": \"286\", \"seamark:light:4:character\": \"Fl\", \"seamark:light:4:colour\": \"green\", \"seamark:light:4:group\": \"4\", \"seamark:light:4:height\": \"5\", \"seamark:light:4:period\": \"12\", \"seamark:light:4:range\": \"3\", \"seamark:light:4:sector_end\": \"28\", \"seamark:light:4:sector_start\": \"312\", \"seamark:light:5:character\": \"Fl\", \"seamark:light:5:colour\": \"white\", \"seamark:light:5:group\": \"4\", \"seamark:light:5:height\": \"5\", \"seamark:light:5:period\": \"12\", \"seamark:light:5:range\": \"6\", \"seamark:light:5:sector_end\": \"42.5\", \"seamark:light:5:sector_start\": \"28\", \"seamark:light:6:character\": \"Fl\", \"seamark:light:6:colour\": \"red\", \"seamark:light:6:group\": \"4\", \"seamark:light:6:height\": \"5\", \"seamark:light:6:period\": \"12\", \"seamark:light:6:range\": \"4\", \"seamark:light:6:sector_end\": \"61\", \"seamark:light:6:sector_start\": \"42.5\", \"seamark:light:reference\": \"C 6541\", \"seamark:name\": \"Djursholmsudde\", \"seamark:type\": \"light_major\", \"source\": \"US NGA Pub. 116. 2011-07-07.\", \"wikidata\": \"Q28375622\"}, \"type\": \"node\"}, {\"height\": \"7\", \"id\": 1533309431, \"lat\": 59.3345855, \"lon\": 18.2091557, \"tags\": {\"man_made\": \"lighthouse\", \"name\": \"Kungshamn\", \"seamark:light:1:character\": \"Fl\", \"seamark:light:1:colour\": \"green\", \"seamark:light:1:height\": \"7\", \"seamark:light:1:period\": \"3\", \"seamark:light:1:range\": \"3\", \"seamark:light:1:sector_end\": \"58.5\", \"seamark:light:1:sector_start\": \"40\", \"seamark:light:2:character\": \"Fl\", \"seamark:light:2:colour\": \"white\", \"seamark:light:2:height\": \"7\", \"seamark:light:2:period\": \"3\", \"seamark:light:2:range\": \"6\", \"seamark:light:2:sector_end\": \"62\", \"seamark:light:2:sector_start\": \"58.5\", \"seamark:light:3:character\": \"Fl\", \"seamark:light:3:colour\": \"red\", \"seamark:light:3:height\": \"7\", \"seamark:light:3:period\": \"3\", \"seamark:light:3:range\": \"4\", \"seamark:light:3:sector_end\": \"76.5\", \"seamark:light:3:sector_start\": \"62\", \"seamark:light:4:character\": \"Fl\", \"seamark:light:4:colour\": \"green\", \"seamark:light:4:height\": \"7\", \"seamark:light:4:period\": \"3\", \"seamark:light:4:range\": \"3\", \"seamark:light:4:sector_end\": \"91\", \"seamark:light:4:sector_start\": \"76.5\", \"seamark:light:5:character\": \"Fl\", \"seamark:light:5:colour\": \"white\", \"seamark:light:5:height\": \"7\", \"seamark:light:5:period\": \"3\", \"seamark:light:5:range\": \"6\", \"seamark:light:5:sector_end\": \"98\", \"seamark:light:5:sector_start\": \"91\", \"seamark:light:6:character\": \"Fl\", \"seamark:light:6:colour\": \"red\", \"seamark:light:6:height\": \"7\", \"seamark:light:6:period\": \"3\", \"seamark:light:6:range\": \"4\", \"seamark:light:6:sector_end\": \"205\", \"seamark:light:6:sector_start\": \"98\", \"seamark:light:7:character\": \"Fl\", \"seamark:light:7:colour\": \"green\", \"seamark:light:7:height\": \"7\", \"seamark:light:7:period\": \"3\", \"seamark:light:7:range\": \"3\", \"seamark:light:7:sector_end\": \"219\", \"seamark:light:7:sector_start\": \"205\", \"seamark:light:8:character\": \"Fl\", \"seamark:light:8:colour\": \"white\", \"seamark:light:8:height\": \"7\", \"seamark:light:8:period\": \"3\", \"seamark:light:8:range\": \"6\", \"seamark:light:8:sector_end\": \"227.5\", \"seamark:light:8:sector_start\": \"219\", \"seamark:light:9:character\": \"Fl\", \"seamark:light:9:colour\": \"red\", \"seamark:light:9:height\": \"7\", \"seamark:light:9:period\": \"3\", \"seamark:light:9:range\": \"4\", \"seamark:light:9:sector_end\": \"240\", \"seamark:light:9:sector_start\": \"227.5\", \"seamark:light:reference\": \"C 6549\", \"seamark:name\": \"Kungshamn\", \"seamark:type\": \"light_minor\", \"source\": \"US NGA Pub. 116. 2011-07-07.\", \"wikidata\": \"Q33137601\"}, \"type\": \"node\"}, {\"height\": \"5\", \"id\": 1533309757, \"lat\": 59.39265, \"lon\": 18.17485, \"tags\": {\"man_made\": \"lighthouse\", \"seamark:light:1:character\": \"Fl\", \"seamark:light:1:colour\": \"green\", \"seamark:light:1:group\": \"2\", \"seamark:light:1:height\": \"5\", \"seamark:light:1:period\": \"6\", \"seamark:light:1:range\": \"3\", \"seamark:light:1:sector_end\": \"290\", \"seamark:light:1:sector_start\": \"283.5\", \"seamark:light:2:character\": \"Fl\", \"seamark:light:2:colour\": \"white\", \"seamark:light:2:group\": \"2\", \"seamark:light:2:height\": \"5\", \"seamark:light:2:period\": \"6\", \"seamark:light:2:range\": \"6\", \"seamark:light:2:sector_end\": \"297.5\", \"seamark:light:2:sector_start\": \"290\", \"seamark:light:3:character\": \"Fl\", \"seamark:light:3:colour\": \"red\", \"seamark:light:3:group\": \"2\", \"seamark:light:3:height\": \"5\", \"seamark:light:3:period\": \"6\", \"seamark:light:3:range\": \"4\", \"seamark:light:3:sector_end\": \"328\", \"seamark:light:3:sector_start\": \"297.5\", \"seamark:light:4:character\": \"Fl\", \"seamark:light:4:colour\": \"white\", \"seamark:light:4:group\": \"2\", \"seamark:light:4:height\": \"5\", \"seamark:light:4:period\": \"6\", \"seamark:light:4:range\": \"6\", \"seamark:light:4:sector_end\": \"59\", \"seamark:light:4:sector_start\": \"328\", \"seamark:light:5:character\": \"Fl\", \"seamark:light:5:colour\": \"green\", \"seamark:light:5:group\": \"2\", \"seamark:light:5:height\": \"5\", \"seamark:light:5:period\": \"6\", \"seamark:light:5:range\": \"3\", \"seamark:light:5:sector_end\": \"88\", \"seamark:light:5:sector_start\": \"59\", \"seamark:light:6:character\": \"Fl\", \"seamark:light:6:colour\": \"white\", \"seamark:light:6:group\": \"2\", \"seamark:light:6:height\": \"5\", \"seamark:light:6:period\": \"6\", \"seamark:light:6:range\": \"6\", \"seamark:light:6:sector_end\": \"91\", \"seamark:light:6:sector_start\": \"88\", \"seamark:light:7:character\": \"Fl\", \"seamark:light:7:colour\": \"red\", \"seamark:light:7:group\": \"2\", \"seamark:light:7:height\": \"5\", \"seamark:light:7:period\": \"6\", \"seamark:light:7:range\": \"4\", \"seamark:light:7:sector_end\": \"100\", \"seamark:light:7:sector_start\": \"91\", \"seamark:light:reference\": \"C 6540\", \"seamark:name\": \"V\\u00e4sterhaga fyr\", \"seamark:type\": \"light_minor\", \"source\": \"US NGA Pub. 116. 2011-07-07.\", \"wikidata\": \"Q28375617\"}, \"type\": \"node\"}, {\"height\": \"4\", \"id\": 1533310466, \"lat\": 59.3959409, \"lon\": 18.3619064, \"tags\": {\"man_made\": \"lighthouse\", \"name\": \"Sandgrundet\", \"note\": \"Fl WRG 3s\", \"seamark:light:1:character\": \"Fl\", \"seamark:light:1:colour\": \"green\", \"seamark:light:1:height\": \"4\", \"seamark:light:1:period\": \"3\", \"seamark:light:1:range\": \"3\", \"seamark:light:1:sector_end\": \"104\", \"seamark:light:1:sector_start\": \"86\", \"seamark:light:1:sequence\": \"0.7+(2.3)\", \"seamark:light:2:character\": \"Fl\", \"seamark:light:2:colour\": \"white\", \"seamark:light:2:height\": \"4\", \"seamark:light:2:period\": \"3\", \"seamark:light:2:range\": \"5\", \"seamark:light:2:sector_end\": \"284.5\", \"seamark:light:2:sector_start\": \"104\", \"seamark:light:2:sequence\": \"0.7+(2.3)\", \"seamark:light:3:character\": \"Fl\", \"seamark:light:3:colour\": \"red\", \"seamark:light:3:height\": \"4\", \"seamark:light:3:period\": \"3\", \"seamark:light:3:range\": \"3\", \"seamark:light:3:sector_end\": \"305\", \"seamark:light:3:sector_start\": \"284.5\", \"seamark:light:3:sequence\": \"0.7+(2.3)\", \"seamark:light:reference\": \"C 6528\", \"seamark:name\": \"Sandgrundet\", \"seamark:type\": \"light_major\", \"source\": \"US NGA Pub. 116. 2011-07-07.\", \"wikidata\": \"Q33180739\"}, \"type\": \"node\"}, {\"height\": \"6\", \"id\": 1533310556, \"lat\": 59.4237833, \"lon\": 18.40425, \"tags\": {\"man_made\": \"lighthouse\", \"name\": \"Br\\u00f6dstycket\", \"seamark:light:1:character\": \"Fl\", \"seamark:light:1:colour\": \"white\", \"seamark:light:1:height\": \"6\", \"seamark:light:1:period\": \"3\", \"seamark:light:1:range\": \"10\", \"seamark:light:1:sector_end\": \"40\", \"seamark:light:1:sector_start\": \"315\", \"seamark:light:2:character\": \"Fl\", \"seamark:light:2:colour\": \"red\", \"seamark:light:2:height\": \"6\", \"seamark:light:2:period\": \"3\", \"seamark:light:2:range\": \"7\", \"seamark:light:2:sector_end\": \"76\", \"seamark:light:2:sector_start\": \"40\", \"seamark:light:3:character\": \"Fl\", \"seamark:light:3:colour\": \"green\", \"seamark:light:3:height\": \"6\", \"seamark:light:3:period\": \"3\", \"seamark:light:3:range\": \"6\", \"seamark:light:3:sector_end\": \"108\", \"seamark:light:3:sector_start\": \"76\", \"seamark:light:4:character\": \"Fl\", \"seamark:light:4:colour\": \"white\", \"seamark:light:4:height\": \"6\", \"seamark:light:4:period\": \"3\", \"seamark:light:4:range\": \"10\", \"seamark:light:4:sector_end\": \"134\", \"seamark:light:4:sector_start\": \"108\", \"seamark:light:5:character\": \"Fl\", \"seamark:light:5:colour\": \"red\", \"seamark:light:5:height\": \"6\", \"seamark:light:5:period\": \"3\", \"seamark:light:5:range\": \"7\", \"seamark:light:5:sector_end\": \"240\", \"seamark:light:5:sector_start\": \"134\", \"seamark:light:reference\": \"C 6524\", \"seamark:name\": \"Brodstycket\", \"seamark:type\": \"light_minor\", \"source\": \"US NGA Pub. 116. 2011-07-07.\"}, \"type\": \"node\"}, {\"height\": \"6\", \"id\": 1533310557, \"lat\": 59.4309833, \"lon\": 18.3916, \"tags\": {\"man_made\": \"lighthouse\", \"name\": \"Tister\\u00f6grund\", \"seamark:light:1:character\": \"Q\", \"seamark:light:1:colour\": \"green\", \"seamark:light:1:group\": \"3\", \"seamark:light:1:height\": \"6\", \"seamark:light:1:period\": \"4\", \"seamark:light:1:range\": \"6\", \"seamark:light:1:sector_end\": \"323\", \"seamark:light:1:sector_start\": \"307\", \"seamark:light:2:character\": \"Q\", \"seamark:light:2:colour\": \"white\", \"seamark:light:2:group\": \"3\", \"seamark:light:2:height\": \"6\", \"seamark:light:2:period\": \"4\", \"seamark:light:2:range\": \"10\", \"seamark:light:2:sector_end\": \"340\", \"seamark:light:2:sector_start\": \"323\", \"seamark:light:3:character\": \"Q\", \"seamark:light:3:colour\": \"red\", \"seamark:light:3:group\": \"3\", \"seamark:light:3:height\": \"6\", \"seamark:light:3:period\": \"4\", \"seamark:light:3:range\": \"7\", \"seamark:light:3:sector_end\": \"349\", \"seamark:light:3:sector_start\": \"340\", \"seamark:light:4:character\": \"Q\", \"seamark:light:4:colour\": \"green\", \"seamark:light:4:group\": \"3\", \"seamark:light:4:height\": \"6\", \"seamark:light:4:period\": \"4\", \"seamark:light:4:range\": \"6\", \"seamark:light:4:sector_end\": \"3\", \"seamark:light:4:sector_start\": \"349\", \"seamark:light:5:character\": \"Q\", \"seamark:light:5:colour\": \"white\", \"seamark:light:5:group\": \"3\", \"seamark:light:5:height\": \"6\", \"seamark:light:5:period\": \"4\", \"seamark:light:5:range\": \"10\", \"seamark:light:5:sector_end\": \"150\", \"seamark:light:5:sector_start\": \"3\", \"seamark:light:6:character\": \"Q\", \"seamark:light:6:colour\": \"red\", \"seamark:light:6:group\": \"3\", \"seamark:light:6:height\": \"6\", \"seamark:light:6:period\": \"4\", \"seamark:light:6:range\": \"7\", \"seamark:light:6:sector_end\": \"214\", \"seamark:light:6:sector_start\": \"150\", \"seamark:light:reference\": \"C 6524.5\", \"seamark:name\": \"Tisterogrundet\", \"seamark:type\": \"light_minor\", \"source\": \"US NGA Pub. 116. 2011-07-07.\", \"wikidata\": \"Q33195107\"}, \"type\": \"node\"}, {\"height\": \"7\", \"id\": 1533310992, \"lat\": 59.3954648, \"lon\": 18.5364822, \"tags\": {\"man_made\": \"lighthouse\", \"name\": \"Bolviksn\\u00e4s\", \"seamark:light:1:character\": \"Q\", \"seamark:light:1:colour\": \"green\", \"seamark:light:1:height\": \"7\", \"seamark:light:1:range\": \"3\", \"seamark:light:1:sector_end\": \"147.5\", \"seamark:light:1:sector_start\": \"144\", \"seamark:light:2:character\": \"Q\", \"seamark:light:2:colour\": \"white\", \"seamark:light:2:height\": \"7\", \"seamark:light:2:range\": \"6\", \"seamark:light:2:sector_end\": \"150\", \"seamark:light:2:sector_start\": \"147.5\", \"seamark:light:3:character\": \"Q\", \"seamark:light:3:colour\": \"red\", \"seamark:light:3:height\": \"7\", \"seamark:light:3:range\": \"4\", \"seamark:light:3:sector_end\": \"157.5\", \"seamark:light:3:sector_start\": \"150\", \"seamark:light:4:character\": \"Q\", \"seamark:light:4:colour\": \"green\", \"seamark:light:4:height\": \"7\", \"seamark:light:4:range\": \"3\", \"seamark:light:4:sector_end\": \"193\", \"seamark:light:4:sector_start\": \"157.5\", \"seamark:light:5:character\": \"Q\", \"seamark:light:5:colour\": \"red\", \"seamark:light:5:height\": \"7\", \"seamark:light:5:range\": \"4\", \"seamark:light:5:sector_end\": \"258\", \"seamark:light:5:sector_start\": \"193\", \"seamark:light:6:character\": \"Q\", \"seamark:light:6:colour\": \"green\", \"seamark:light:6:height\": \"7\", \"seamark:light:6:range\": \"3\", \"seamark:light:6:sector_end\": \"294\", \"seamark:light:6:sector_start\": \"258\", \"seamark:light:7:character\": \"Q\", \"seamark:light:7:colour\": \"white\", \"seamark:light:7:height\": \"7\", \"seamark:light:7:range\": \"6\", \"seamark:light:7:sector_end\": \"299.5\", \"seamark:light:7:sector_start\": \"294\", \"seamark:light:8:character\": \"Q\", \"seamark:light:8:colour\": \"red\", \"seamark:light:8:height\": \"7\", \"seamark:light:8:range\": \"4\", \"seamark:light:8:sector_end\": \"310\", \"seamark:light:8:sector_start\": \"299.5\", \"seamark:light:reference\": \"C 6515\", \"seamark:name\": \"Bolviksnas\", \"seamark:type\": \"light_minor\", \"source\": \"US NGA Pub. 116. 2011-07-07.\", \"wikidata\": \"Q28375633\"}, \"type\": \"node\"}, {\"height\": \"16\", \"id\": 1533310993, \"lat\": 59.3738786, \"lon\": 18.6142185, \"tags\": {\"man_made\": \"lighthouse\", \"name\": \"Kalv\\u00f6\", \"seamark:light:1:character\": \"Fl\", \"seamark:light:1:colour\": \"green\", \"seamark:light:1:group\": \"2\", \"seamark:light:1:height\": \"16\", \"seamark:light:1:period\": \"6\", \"seamark:light:1:range\": \"3\", \"seamark:light:1:sector_end\": \"263\", \"seamark:light:1:sector_start\": \"250\", \"seamark:light:2:character\": \"Fl\", \"seamark:light:2:colour\": \"white\", \"seamark:light:2:group\": \"2\", \"seamark:light:2:height\": \"16\", \"seamark:light:2:period\": \"6\", \"seamark:light:2:range\": \"6\", \"seamark:light:2:sector_end\": \"266\", \"seamark:light:2:sector_start\": \"263\", \"seamark:light:3:character\": \"Fl\", \"seamark:light:3:colour\": \"red\", \"seamark:light:3:group\": \"2\", \"seamark:light:3:height\": \"16\", \"seamark:light:3:period\": \"6\", \"seamark:light:3:range\": \"4\", \"seamark:light:3:sector_end\": \"305\", \"seamark:light:3:sector_start\": \"266\", \"seamark:light:4:character\": \"Fl\", \"seamark:light:4:colour\": \"white\", \"seamark:light:4:group\": \"2\", \"seamark:light:4:height\": \"16\", \"seamark:light:4:period\": \"6\", \"seamark:light:4:range\": \"6\", \"seamark:light:4:sector_end\": \"340\", \"seamark:light:4:sector_start\": \"305\", \"seamark:light:5:character\": \"Fl\", \"seamark:light:5:colour\": \"white\", \"seamark:light:5:group\": \"2\", \"seamark:light:5:height\": \"16\", \"seamark:light:5:period\": \"6\", \"seamark:light:5:range\": \"6\", \"seamark:light:5:sector_end\": \"110\", \"seamark:light:5:sector_start\": \"340\", \"seamark:light:reference\": \"C 6508\", \"seamark:name\": \"Kalvo\", \"seamark:type\": \"light_minor\", \"source\": \"US NGA Pub. 116. 2011-07-07.\", \"wikidata\": \"Q28375679\"}, \"type\": \"node\"}, {\"height\": \"4\", \"id\": 1533310994, \"lat\": 59.3799381, \"lon\": 18.6554132, \"tags\": {\"man_made\": \"lighthouse\", \"name\": \"Magarna\", \"seamark:light:1:character\": \"Fl\", \"seamark:light:1:colour\": \"white\", \"seamark:light:1:group\": \"3\", \"seamark:light:1:height\": \"4\", \"seamark:light:1:period\": \"9\", \"seamark:light:1:range\": \"6\", \"seamark:light:1:sector_end\": \"270\", \"seamark:light:1:sector_start\": \"209\", \"seamark:light:1:visibility\": \"unintensified\", \"seamark:light:2:character\": \"Fl\", \"seamark:light:2:colour\": \"green\", \"seamark:light:2:group\": \"3\", \"seamark:light:2:height\": \"4\", \"seamark:light:2:period\": \"9\", \"seamark:light:2:range\": \"3\", \"seamark:light:2:sector_end\": \"279\", \"seamark:light:2:sector_start\": \"270\", \"seamark:light:3:character\": \"Fl\", \"seamark:light:3:colour\": \"white\", \"seamark:light:3:group\": \"3\", \"seamark:light:3:height\": \"4\", \"seamark:light:3:period\": \"9\", \"seamark:light:3:range\": \"6\", \"seamark:light:3:sector_end\": \"281\", \"seamark:light:3:sector_start\": \"279\", \"seamark:light:4:character\": \"Fl\", \"seamark:light:4:colour\": \"red\", \"seamark:light:4:group\": \"3\", \"seamark:light:4:height\": \"4\", \"seamark:light:4:period\": \"9\", \"seamark:light:4:range\": \"4\", \"seamark:light:4:sector_end\": \"315\", \"seamark:light:4:sector_start\": \"281\", \"seamark:light:reference\": \"C 6504\", \"seamark:name\": \"Magarna Rock\", \"seamark:type\": \"light_minor\", \"source\": \"US NGA Pub. 116. 2011-07-07.\", \"wikidata\": \"Q33141539\"}, \"type\": \"node\"}, {\"height\": \"5\", \"id\": 1533311005, \"lat\": 59.3763143, \"lon\": 18.6734587, \"tags\": {\"man_made\": \"lighthouse\", \"name\": \"Sollenkroka\", \"seamark:light:1:character\": \"Fl\", \"seamark:light:1:colour\": \"green\", \"seamark:light:1:height\": \"5\", \"seamark:light:1:period\": \"3\", \"seamark:light:1:range\": \"6\", \"seamark:light:1:sector_end\": \"85\", \"seamark:light:2:character\": \"Fl\", \"seamark:light:2:colour\": \"white\", \"seamark:light:2:height\": \"5\", \"seamark:light:2:period\": \"3\", \"seamark:light:2:range\": \"10\", \"seamark:light:2:sector_end\": \"89\", \"seamark:light:2:sector_start\": \"85\", \"seamark:light:3:character\": \"Fl\", \"seamark:light:3:colour\": \"red\", \"seamark:light:3:height\": \"5\", \"seamark:light:3:period\": \"3\", \"seamark:light:3:range\": \"8\", \"seamark:light:3:sector_end\": \"111\", \"seamark:light:3:sector_start\": \"89\", \"seamark:light:4:character\": \"Fl\", \"seamark:light:4:colour\": \"green\", \"seamark:light:4:height\": \"5\", \"seamark:light:4:period\": \"3\", \"seamark:light:4:range\": \"6\", \"seamark:light:4:sector_end\": \"123\", \"seamark:light:4:sector_start\": \"111\", \"seamark:light:5:character\": \"Fl\", \"seamark:light:5:colour\": \"white\", \"seamark:light:5:height\": \"5\", \"seamark:light:5:period\": \"3\", \"seamark:light:5:range\": \"10\", \"seamark:light:5:sector_end\": \"129\", \"seamark:light:5:sector_start\": \"123\", \"seamark:light:reference\": \"C 6506\", \"seamark:name\": \"Sollenkroka\", \"seamark:type\": \"light_minor\", \"source\": \"US NGA Pub. 116. 2011-07-07.\", \"wikidata\": \"Q33182525\"}, \"type\": \"node\"}, {\"height\": \"10\", \"id\": 1533311006, \"lat\": 59.3934398, \"lon\": 18.6073114, \"tags\": {\"man_made\": \"lighthouse\", \"seamark:light:1:character\": \"Fl\", \"seamark:light:1:colour\": \"white\", \"seamark:light:1:height\": \"10\", \"seamark:light:1:period\": \"3\", \"seamark:light:1:range\": \"6\", \"seamark:light:1:sector_end\": \"130\", \"seamark:light:1:sector_start\": \"105\", \"seamark:light:2:character\": \"Fl\", \"seamark:light:2:colour\": \"green\", \"seamark:light:2:height\": \"10\", \"seamark:light:2:period\": \"3\", \"seamark:light:2:range\": \"3\", \"seamark:light:2:sector_end\": \"290\", \"seamark:light:2:sector_start\": \"130\", \"seamark:light:3:character\": \"Fl\", \"seamark:light:3:colour\": \"white\", \"seamark:light:3:height\": \"10\", \"seamark:light:3:period\": \"3\", \"seamark:light:3:range\": \"6\", \"seamark:light:3:sector_end\": \"293\", \"seamark:light:3:sector_start\": \"290\", \"seamark:light:4:character\": \"Fl\", \"seamark:light:4:colour\": \"red\", \"seamark:light:4:height\": \"10\", \"seamark:light:4:period\": \"3\", \"seamark:light:4:range\": \"4\", \"seamark:light:4:sector_end\": \"298\", \"seamark:light:4:sector_start\": \"293\", \"seamark:light:reference\": \"C 6505\", \"seamark:name\": \"Gallnoport\", \"seamark:type\": \"light_minor\", \"source\": \"US NGA Pub. 116. 2011-07-07.\", \"wikidata\": \"Q33134014\"}, \"type\": \"node\"}, {\"height\": \"5\", \"id\": 1533319295, \"lat\": 59.2947667, \"lon\": 18.88855, \"tags\": {\"man_made\": \"lighthouse\", \"name\": \"Farfarsgrund\", \"seamark:light:1:character\": \"Iso\", \"seamark:light:1:colour\": \"green\", \"seamark:light:1:height\": \"5\", \"seamark:light:1:period\": \"4\", \"seamark:light:1:range\": \"3\", \"seamark:light:1:sector_end\": \"122\", \"seamark:light:1:sector_start\": \"67\", \"seamark:light:2:character\": \"Iso\", \"seamark:light:2:colour\": \"white\", \"seamark:light:2:height\": \"5\", \"seamark:light:2:period\": \"4\", \"seamark:light:2:range\": \"6\", \"seamark:light:2:sector_end\": \"207\", \"seamark:light:2:sector_start\": \"122\", \"seamark:light:3:character\": \"Iso\", \"seamark:light:3:colour\": \"red\", \"seamark:light:3:height\": \"5\", \"seamark:light:3:period\": \"4\", \"seamark:light:3:range\": \"4\", \"seamark:light:3:sector_end\": \"336\", \"seamark:light:3:sector_start\": \"207\", \"seamark:light:reference\": \"C 6478\", \"seamark:name\": \"Farfarsgrund\", \"seamark:type\": \"light_minor\", \"source\": \"US NGA Pub. 116. 2011-07-07.\", \"wikidata\": \"Q28375651\"}, \"type\": \"node\"}, {\"height\": \"7\", \"id\": 1533322810, \"lat\": 58.7995158, \"lon\": 17.555392, \"tags\": {\"man_made\": \"lighthouse\", \"name\": \"Nedre Kockelsk\\u00e4r\", \"seamark:light:1:category\": \"front\", \"seamark:light:1:character\": \"Iso\", \"seamark:light:1:colour\": \"green\", \"seamark:light:1:height\": \"7\", \"seamark:light:1:period\": \"4\", \"seamark:light:1:range\": \"4\", \"seamark:light:1:sector_end\": \"274.8\", \"seamark:light:1:sector_start\": \"197.8\", \"seamark:light:2:category\": \"front\", \"seamark:light:2:character\": \"Iso\", \"seamark:light:2:colour\": \"white\", \"seamark:light:2:height\": \"7\", \"seamark:light:2:period\": \"4\", \"seamark:light:2:range\": \"7\", \"seamark:light:2:sector_end\": \"276.8\", \"seamark:light:2:sector_start\": \"274.8\", \"seamark:light:3:category\": \"front\", \"seamark:light:3:character\": \"Iso\", \"seamark:light:3:colour\": \"red\", \"seamark:light:3:height\": \"7\", \"seamark:light:3:period\": \"4\", \"seamark:light:3:range\": \"5\", \"seamark:light:3:sector_end\": \"308.3\", \"seamark:light:3:sector_start\": \"276.8\", \"seamark:light:4:category\": \"front\", \"seamark:light:4:character\": \"Iso\", \"seamark:light:4:colour\": \"green\", \"seamark:light:4:height\": \"7\", \"seamark:light:4:period\": \"4\", \"seamark:light:4:range\": \"4\", \"seamark:light:4:sector_end\": \"357.8\", \"seamark:light:4:sector_start\": \"308.3\", \"seamark:light:5:category\": \"front\", \"seamark:light:5:character\": \"Iso\", \"seamark:light:5:colour\": \"red\", \"seamark:light:5:height\": \"7\", \"seamark:light:5:period\": \"4\", \"seamark:light:5:range\": \"5\", \"seamark:light:5:sector_end\": \"17.6\", \"seamark:light:5:sector_start\": \"357.8\", \"seamark:light:reference\": \"C 6738\", \"seamark:name\": \"Kockelsk\\u00e4r\", \"seamark:type\": \"light_minor\", \"source\": \"US NGA Pub. 116. 2011-07-07.\", \"wikidata\": \"Q44594331\"}, \"type\": \"node\"}, {\"height\": \"7\", \"id\": 1533322812, \"lat\": 58.7926577, \"lon\": 17.548039, \"tags\": {\"man_made\": \"lighthouse\", \"name\": \"H\\u00f6k\\u00f6 Gupa\", \"seamark:light:1:category\": \"lower\", \"seamark:light:1:character\": \"Iso\", \"seamark:light:1:colour\": \"green\", \"seamark:light:1:height\": \"7\", \"seamark:light:1:period\": \"4\", \"seamark:light:1:range\": \"4\", \"seamark:light:1:sector_end\": \"275\", \"seamark:light:2:category\": \"lower\", \"seamark:light:2:character\": \"Iso\", \"seamark:light:2:colour\": \"white\", \"seamark:light:2:height\": \"7\", \"seamark:light:2:period\": \"4\", \"seamark:light:2:range\": \"7\", \"seamark:light:2:sector_end\": \"277\", \"seamark:light:2:sector_start\": \"275\", \"seamark:light:3:category\": \"lower\", \"seamark:light:3:character\": \"Iso\", \"seamark:light:3:colour\": \"red\", \"seamark:light:3:height\": \"7\", \"seamark:light:3:period\": \"4\", \"seamark:light:3:range\": \"5\", \"seamark:light:3:sector_end\": \"308\", \"seamark:light:3:sector_start\": \"277\", \"seamark:light:4:category\": \"lower\", \"seamark:light:4:character\": \"Iso\", \"seamark:light:4:colour\": \"green\", \"seamark:light:4:height\": \"7\", \"seamark:light:4:period\": \"4\", \"seamark:light:4:range\": \"4\", \"seamark:light:4:sector_end\": \"359\", \"seamark:light:4:sector_start\": \"308\", \"seamark:light:5:category\": \"lower\", \"seamark:light:5:character\": \"Iso\", \"seamark:light:5:colour\": \"red\", \"seamark:light:5:height\": \"7\", \"seamark:light:5:period\": \"4\", \"seamark:light:5:range\": \"5\", \"seamark:light:5:sector_end\": \"18\", \"seamark:light:5:sector_start\": \"359\", \"seamark:light:reference\": \"C 6738\", \"seamark:name\": \"Kockelskar\", \"seamark:type\": \"light_minor\", \"source\": \"US NGA Pub. 116. 2011-07-07.\", \"wikidata\": \"Q40082388\"}, \"type\": \"node\"}, {\"height\": \"4\", \"id\": 3073534989, \"lat\": 59.1338333, \"lon\": 18.4201333, \"tags\": {\"man_made\": \"lighthouse\", \"name\": \"Dalar\\u00f6\", \"seamark:light:1:character\": \"Fl\", \"seamark:light:1:colour\": \"green\", \"seamark:light:1:group\": \"3\", \"seamark:light:1:height\": \"4\", \"seamark:light:1:period\": \"9\", \"seamark:light:1:range\": \"6\", \"seamark:light:1:sector_end\": \"243.5\", \"seamark:light:1:sector_start\": \"225\", \"seamark:light:2:character\": \"Fl\", \"seamark:light:2:colour\": \"white\", \"seamark:light:2:group\": \"3\", \"seamark:light:2:height\": \"4\", \"seamark:light:2:period\": \"9\", \"seamark:light:2:range\": \"10\", \"seamark:light:2:sector_end\": \"246\", \"seamark:light:2:sector_start\": \"243.5\", \"seamark:light:3:character\": \"Fl\", \"seamark:light:3:colour\": \"red\", \"seamark:light:3:group\": \"3\", \"seamark:light:3:height\": \"4\", \"seamark:light:3:period\": \"9\", \"seamark:light:3:range\": \"7\", \"seamark:light:3:sector_end\": \"250\", \"seamark:light:3:sector_start\": \"246\", \"seamark:light:4:character\": \"Fl\", \"seamark:light:4:colour\": \"green\", \"seamark:light:4:group\": \"3\", \"seamark:light:4:height\": \"4\", \"seamark:light:4:period\": \"9\", \"seamark:light:4:range\": \"6\", \"seamark:light:4:sector_end\": \"263\", \"seamark:light:4:sector_start\": \"250\", \"seamark:light:5:character\": \"Fl\", \"seamark:light:5:colour\": \"red\", \"seamark:light:5:group\": \"3\", \"seamark:light:5:height\": \"4\", \"seamark:light:5:period\": \"9\", \"seamark:light:5:range\": \"7\", \"seamark:light:5:sector_end\": \"31\", \"seamark:light:5:sector_start\": \"263\", \"seamark:light:reference\": \"C 6646\", \"seamark:name\": \"Dalaro\", \"seamark:type\": \"light_minor\", \"wikidata\": \"Q33130649\"}, \"type\": \"node\"}, {\"height\": 3, \"id\": 3666245109, \"lat\": 58.8779498, \"lon\": 17.928323, \"tags\": {\"man_made\": \"lighthouse\"}, \"type\": \"node\"}, {\"height\": 3, \"id\": 3666302503, \"lat\": 58.889305, \"lon\": 17.9468014, \"tags\": {\"man_made\": \"lighthouse\"}, \"type\": \"node\"}, {\"height\": 3, \"id\": 4826213095, \"lat\": 59.4425523, \"lon\": 18.4532407, \"tags\": {\"man_made\": \"lighthouse\"}, \"type\": \"node\"}, {\"height\": 3, \"id\": 4827717092, \"lat\": 59.4476829, \"lon\": 18.4304801, \"tags\": {\"man_made\": \"lighthouse\"}, \"type\": \"node\"}, {\"height\": 3, \"id\": 5169107674, \"lat\": 59.3270721, \"lon\": 18.3892139, \"tags\": {\"man_made\": \"lighthouse\"}, \"type\": \"node\"}, {\"height\": 3, \"id\": 6376432651, \"lat\": 59.3040081, \"lon\": 17.9325873, \"tags\": {\"man_made\": \"lighthouse\"}, \"type\": \"node\"}, {\"height\": 3, \"id\": 6937984622, \"lat\": 59.3034641, \"lon\": 18.1513264, \"tags\": {\"man_made\": \"lighthouse\"}, \"type\": \"node\"}, {\"height\": 3, \"id\": 8155461314, \"lat\": 59.2841618, \"lon\": 17.6063813, \"tags\": {\"height\": \"4\", \"man_made\": \"lighthouse\", \"name\": \"L\\u00e5ngh\\u00e4llsudde\", \"wikidata\": \"Q32286811\"}, \"type\": \"node\"}, {\"height\": 3, \"id\": 8155481614, \"lat\": 59.2684638, \"lon\": 17.5794765, \"tags\": {\"height\": \"6\", \"man_made\": \"lighthouse\", \"name\": \"Bornhuvud\", \"wikidata\": \"Q40767558\"}, \"type\": \"node\"}], \"elevationScale\": 100, \"filled\": true, \"getElevation\": \"@@=height\", \"getFillColor\": [0, 0, 255, 140], \"getPosition\": \"@@=[lon, lat]\", \"id\": \"9ec51054-0651-4650-86a1-1ee4e82ef16c\", \"minRadius\": 10, \"opacity\": true, \"pickable\": true, \"radius\": 500, \"radiusUnits\": \"@@=pixels\"}], \"mapProvider\": \"mapbox\", \"mapStyle\": \"mapbox://styles/mapbox/streets-v11\", \"views\": [{\"@@type\": \"MapView\", \"controller\": true}]};\n",
              "    const tooltip = true;\n",
              "    const customLibraries = null;\n",
              "\n",
              "    const deckInstance = createDeck({\n",
              "            mapboxApiKey: 'pk.eyJ1IjoiaGlzdHJhdmVsc3RvcmllcyIsImEiOiJjbDZmYTRqa20wMWp3M2ltcTBkdWhudjdwIn0.TZUuKeVMFdSDZZtX_MPjzw',\n",
              "                  container: document.getElementById('deck-container'),\n",
              "      jsonInput,\n",
              "      tooltip,\n",
              "      customLibraries\n",
              "    });\n",
              "\n",
              "  </script>\n",
              "</html>"
            ]
          },
          "metadata": {}
        }
      ]
    },
    {
      "cell_type": "markdown",
      "source": [
        "Cleaning the dataframe to attributes that we are using"
      ],
      "metadata": {
        "id": "Ja4h-J1WqU0j"
      }
    },
    {
      "cell_type": "code",
      "source": [
        "df = df[['lon', 'lat','height']]"
      ],
      "metadata": {
        "id": "YFAJyttLij9_"
      },
      "execution_count": 23,
      "outputs": []
    },
    {
      "cell_type": "code",
      "source": [
        "df.head()"
      ],
      "metadata": {
        "colab": {
          "base_uri": "https://localhost:8080/",
          "height": 206
        },
        "id": "bDv1l2L1hk3H",
        "outputId": "d3620499-9db0-435b-e374-f30f1434548d"
      },
      "execution_count": 24,
      "outputs": [
        {
          "output_type": "execute_result",
          "data": {
            "text/plain": [
              "         lon        lat height\n",
              "0  18.154908  59.320767      6\n",
              "1  18.946644  59.256482      7\n",
              "2  18.492252  59.182294      3\n",
              "3  18.618563  59.223811      6\n",
              "4  18.565901  59.207756      7"
            ],
            "text/html": [
              "\n",
              "  <div id=\"df-5e0aa801-6c45-4d23-967a-377c1d7ba1d0\">\n",
              "    <div class=\"colab-df-container\">\n",
              "      <div>\n",
              "<style scoped>\n",
              "    .dataframe tbody tr th:only-of-type {\n",
              "        vertical-align: middle;\n",
              "    }\n",
              "\n",
              "    .dataframe tbody tr th {\n",
              "        vertical-align: top;\n",
              "    }\n",
              "\n",
              "    .dataframe thead th {\n",
              "        text-align: right;\n",
              "    }\n",
              "</style>\n",
              "<table border=\"1\" class=\"dataframe\">\n",
              "  <thead>\n",
              "    <tr style=\"text-align: right;\">\n",
              "      <th></th>\n",
              "      <th>lon</th>\n",
              "      <th>lat</th>\n",
              "      <th>height</th>\n",
              "    </tr>\n",
              "  </thead>\n",
              "  <tbody>\n",
              "    <tr>\n",
              "      <th>0</th>\n",
              "      <td>18.154908</td>\n",
              "      <td>59.320767</td>\n",
              "      <td>6</td>\n",
              "    </tr>\n",
              "    <tr>\n",
              "      <th>1</th>\n",
              "      <td>18.946644</td>\n",
              "      <td>59.256482</td>\n",
              "      <td>7</td>\n",
              "    </tr>\n",
              "    <tr>\n",
              "      <th>2</th>\n",
              "      <td>18.492252</td>\n",
              "      <td>59.182294</td>\n",
              "      <td>3</td>\n",
              "    </tr>\n",
              "    <tr>\n",
              "      <th>3</th>\n",
              "      <td>18.618563</td>\n",
              "      <td>59.223811</td>\n",
              "      <td>6</td>\n",
              "    </tr>\n",
              "    <tr>\n",
              "      <th>4</th>\n",
              "      <td>18.565901</td>\n",
              "      <td>59.207756</td>\n",
              "      <td>7</td>\n",
              "    </tr>\n",
              "  </tbody>\n",
              "</table>\n",
              "</div>\n",
              "      <button class=\"colab-df-convert\" onclick=\"convertToInteractive('df-5e0aa801-6c45-4d23-967a-377c1d7ba1d0')\"\n",
              "              title=\"Convert this dataframe to an interactive table.\"\n",
              "              style=\"display:none;\">\n",
              "        \n",
              "  <svg xmlns=\"http://www.w3.org/2000/svg\" height=\"24px\"viewBox=\"0 0 24 24\"\n",
              "       width=\"24px\">\n",
              "    <path d=\"M0 0h24v24H0V0z\" fill=\"none\"/>\n",
              "    <path d=\"M18.56 5.44l.94 2.06.94-2.06 2.06-.94-2.06-.94-.94-2.06-.94 2.06-2.06.94zm-11 1L8.5 8.5l.94-2.06 2.06-.94-2.06-.94L8.5 2.5l-.94 2.06-2.06.94zm10 10l.94 2.06.94-2.06 2.06-.94-2.06-.94-.94-2.06-.94 2.06-2.06.94z\"/><path d=\"M17.41 7.96l-1.37-1.37c-.4-.4-.92-.59-1.43-.59-.52 0-1.04.2-1.43.59L10.3 9.45l-7.72 7.72c-.78.78-.78 2.05 0 2.83L4 21.41c.39.39.9.59 1.41.59.51 0 1.02-.2 1.41-.59l7.78-7.78 2.81-2.81c.8-.78.8-2.07 0-2.86zM5.41 20L4 18.59l7.72-7.72 1.47 1.35L5.41 20z\"/>\n",
              "  </svg>\n",
              "      </button>\n",
              "      \n",
              "  <style>\n",
              "    .colab-df-container {\n",
              "      display:flex;\n",
              "      flex-wrap:wrap;\n",
              "      gap: 12px;\n",
              "    }\n",
              "\n",
              "    .colab-df-convert {\n",
              "      background-color: #E8F0FE;\n",
              "      border: none;\n",
              "      border-radius: 50%;\n",
              "      cursor: pointer;\n",
              "      display: none;\n",
              "      fill: #1967D2;\n",
              "      height: 32px;\n",
              "      padding: 0 0 0 0;\n",
              "      width: 32px;\n",
              "    }\n",
              "\n",
              "    .colab-df-convert:hover {\n",
              "      background-color: #E2EBFA;\n",
              "      box-shadow: 0px 1px 2px rgba(60, 64, 67, 0.3), 0px 1px 3px 1px rgba(60, 64, 67, 0.15);\n",
              "      fill: #174EA6;\n",
              "    }\n",
              "\n",
              "    [theme=dark] .colab-df-convert {\n",
              "      background-color: #3B4455;\n",
              "      fill: #D2E3FC;\n",
              "    }\n",
              "\n",
              "    [theme=dark] .colab-df-convert:hover {\n",
              "      background-color: #434B5C;\n",
              "      box-shadow: 0px 1px 3px 1px rgba(0, 0, 0, 0.15);\n",
              "      filter: drop-shadow(0px 1px 2px rgba(0, 0, 0, 0.3));\n",
              "      fill: #FFFFFF;\n",
              "    }\n",
              "  </style>\n",
              "\n",
              "      <script>\n",
              "        const buttonEl =\n",
              "          document.querySelector('#df-5e0aa801-6c45-4d23-967a-377c1d7ba1d0 button.colab-df-convert');\n",
              "        buttonEl.style.display =\n",
              "          google.colab.kernel.accessAllowed ? 'block' : 'none';\n",
              "\n",
              "        async function convertToInteractive(key) {\n",
              "          const element = document.querySelector('#df-5e0aa801-6c45-4d23-967a-377c1d7ba1d0');\n",
              "          const dataTable =\n",
              "            await google.colab.kernel.invokeFunction('convertToInteractive',\n",
              "                                                     [key], {});\n",
              "          if (!dataTable) return;\n",
              "\n",
              "          const docLinkHtml = 'Like what you see? Visit the ' +\n",
              "            '<a target=\"_blank\" href=https://colab.research.google.com/notebooks/data_table.ipynb>data table notebook</a>'\n",
              "            + ' to learn more about interactive tables.';\n",
              "          element.innerHTML = '';\n",
              "          dataTable['output_type'] = 'display_data';\n",
              "          await google.colab.output.renderOutput(dataTable, element);\n",
              "          const docLink = document.createElement('div');\n",
              "          docLink.innerHTML = docLinkHtml;\n",
              "          element.appendChild(docLink);\n",
              "        }\n",
              "      </script>\n",
              "    </div>\n",
              "  </div>\n",
              "  "
            ]
          },
          "metadata": {},
          "execution_count": 24
        }
      ]
    },
    {
      "cell_type": "markdown",
      "metadata": {
        "id": "NTRUj0Mf50F6"
      },
      "source": [
        "# Part 2: Choose where to build docks\n",
        "\n",
        "Suggest a minimal set of lighthouses at which to build a dock that would allow a drone to traverse from Stockholm to Torö, if each drone has a usable battery life of 30 minutes and travels at a ground speed of 12 meters per second. Plot the route, assuming approximate endpoints at Stockholm and Torö. Also print the total route distance.\n",
        "\n",
        "It's okay to make reasonable assumptions here and state your thinking. You can go as straightforward or complex as you like."
      ]
    },
    {
      "cell_type": "markdown",
      "source": [
        "### Calculating distance between two points in terms of kms"
      ],
      "metadata": {
        "id": "gjXJQPYmMHOm"
      }
    },
    {
      "cell_type": "markdown",
      "source": [
        "geopy helps locate the coordinates of addresses, cities, countries, and landmarks. Using here to calculate the distance between two coordinates"
      ],
      "metadata": {
        "id": "WIgYAjRgrJRT"
      }
    },
    {
      "cell_type": "code",
      "source": [
        "import geopy.distance"
      ],
      "metadata": {
        "id": "ZMCt1ZoLMRh7"
      },
      "execution_count": 25,
      "outputs": []
    },
    {
      "cell_type": "code",
      "source": [
        "def findDistance(coordinate_1, coordinate_2):\n",
        "  '''\n",
        "    Calculates the straight line distance between two coordinates\n",
        "\n",
        "    Input Parameters : coordinate_1, coordinat_2 ( tuples containing lat and lng\n",
        "                       of the places)\n",
        "\n",
        "    Returns : Straight line distance in kilometers\n",
        "\n",
        "  '''\n",
        "  return(geopy.distance.geodesic(coordinate_1, coordinate_2).km)\n"
      ],
      "metadata": {
        "id": "3QExonptMOtN"
      },
      "execution_count": 26,
      "outputs": []
    },
    {
      "cell_type": "markdown",
      "source": [
        "### Calculating the Lighthouses between each desatinations"
      ],
      "metadata": {
        "id": "sPnRU7fYlOn2"
      }
    },
    {
      "cell_type": "code",
      "source": [
        "route_1 = df[(df.lat >= 59.328982) & (df.lat <= (59.349003 + 0.18018)) & (df.lon >=  18.068531) & (df.lon <= (18.686806 + 0.34))] \n",
        "route_2 = df[(df.lat >= 58.834266) & (df.lat <= (59.349003 + 0.18018)) & (df.lon >=  17.840492) & (df.lon <= (18.686806 + 0.34))] "
      ],
      "metadata": {
        "id": "d6oWf8lcir2v"
      },
      "execution_count": 27,
      "outputs": []
    },
    {
      "cell_type": "markdown",
      "source": [
        "![](https://drive.google.com/uc?export=view&id=1YTh7jRLbgN9Xu7pCDWAFA7lYdpsimo8A)\n"
      ],
      "metadata": {
        "id": "C7gOzWQgqu4W"
      }
    },
    {
      "cell_type": "code",
      "source": [
        "drawMapBoxMap(route_1)"
      ],
      "metadata": {
        "colab": {
          "base_uri": "https://localhost:8080/",
          "height": 500
        },
        "id": "5HGwPAygk6-2",
        "outputId": "16a773b6-1299-428c-8166-3f904f1fc354"
      },
      "execution_count": 28,
      "outputs": [
        {
          "output_type": "display_data",
          "data": {
            "text/plain": [
              "<IPython.core.display.Javascript object>"
            ],
            "application/javascript": [
              "google.colab.output.setIframeHeight(500, true, {minHeight: 500})"
            ]
          },
          "metadata": {}
        },
        {
          "output_type": "display_data",
          "data": {
            "text/plain": [
              "<IPython.core.display.HTML object>"
            ],
            "text/html": [
              "<!DOCTYPE html>\n",
              "<html>\n",
              "  <head>\n",
              "    <meta http-equiv=\"content-type\" content=\"text/html; charset=UTF-8\" />\n",
              "    <title>pydeck</title>\n",
              "        <script src=\"https://api.tiles.mapbox.com/mapbox-gl-js/v1.13.0/mapbox-gl.js\"></script>\n",
              "        <link rel=\"stylesheet\" href=\"https://maxcdn.bootstrapcdn.com/bootstrap/3.2.0/css/bootstrap-theme.min.css\" />\n",
              "    <link rel=\"stylesheet\" href=\"https://maxcdn.bootstrapcdn.com/font-awesome/4.6.3/css/font-awesome.min.css\" />\n",
              "    <script src='https://cdn.jsdelivr.net/npm/@deck.gl/jupyter-widget@~8.5.*/dist/index.js'></script>\n",
              "    <style>\n",
              "    body {\n",
              "  margin: 0;\n",
              "  padding: 0;\n",
              "  overflow: hidden;\n",
              "}\n",
              "\n",
              "#deck-map-container {\n",
              "  width: 100%;\n",
              "  height: 100%;\n",
              "  background-color: black;\n",
              "}\n",
              "\n",
              "#map {\n",
              "  pointer-events: none;\n",
              "  height: 100%;\n",
              "  width: 100%;\n",
              "  position: absolute;\n",
              "  z-index: 1;\n",
              "}\n",
              "\n",
              "#deckgl-overlay {\n",
              "  z-index: 2;\n",
              "  background: none;\n",
              "}\n",
              "\n",
              "#deck-map-wrapper {\n",
              "  width: 100%;\n",
              "  height: 100%;\n",
              "}\n",
              "\n",
              "#deck-container {\n",
              "  width: 100vw;\n",
              "  height: 100vh;\n",
              "}\n",
              "    </style>\n",
              "  </head>\n",
              "  <body>\n",
              "    <div id=\"deck-container\">\n",
              "    </div>\n",
              "  </body>\n",
              "  <script>\n",
              "    const jsonInput = {\"initialViewState\": {\"bearing\": -1.45748987854251, \"latitude\": 59.196318798583725, \"longitude\": 18.599920729657768, \"pitch\": 0.5797101449275388, \"zoom\": 8}, \"layers\": [{\"@@type\": \"ColumnLayer\", \"autoHighlight\": true, \"data\": [{\"height\": \"12\", \"lat\": 59.4302773, \"lon\": 18.9524248}, {\"height\": \"10\", \"lat\": 59.4111327, \"lon\": 18.9058001}, {\"height\": \"3\", \"lat\": 59.4690126, \"lon\": 18.4180074}, {\"height\": \"4\", \"lat\": 59.4566177, \"lon\": 18.4275561}, {\"height\": \"3\", \"lat\": 59.4532248, \"lon\": 18.3874517}, {\"height\": \"6\", \"lat\": 59.4453718, \"lon\": 18.4162908}, {\"height\": \"3\", \"lat\": 59.5233845, \"lon\": 18.5208326}, {\"height\": \"5\", \"lat\": 59.5122384, \"lon\": 18.4942251}, {\"height\": \"3\", \"lat\": 59.5024786, \"lon\": 18.5174352}, {\"height\": \"7\", \"lat\": 59.4977779, \"lon\": 18.4592061}, {\"height\": 3, \"lat\": 59.4427844, \"lon\": 18.4399153}, {\"height\": \"4\", \"lat\": 59.4327159, \"lon\": 18.4977441}, {\"height\": 3, \"lat\": 59.4206775, \"lon\": 18.501467}, {\"height\": \"5\", \"lat\": 59.4275977, \"lon\": 18.3656936}, {\"height\": \"6\", \"lat\": 59.3617991, \"lon\": 18.4522968}, {\"height\": \"6\", \"lat\": 59.358584, \"lon\": 18.4150892}, {\"height\": \"5\", \"lat\": 59.3714207, \"lon\": 18.3891683}, {\"height\": \"2\", \"lat\": 59.4216793, \"lon\": 18.485516}, {\"height\": \"5\", \"lat\": 59.4253824, \"lon\": 18.4112817}, {\"height\": \"4\", \"lat\": 59.3629226, \"lon\": 18.3763635}, {\"height\": \"5\", \"lat\": 59.371713, \"lon\": 18.3352506}, {\"height\": \"4\", \"lat\": 59.3776595, \"lon\": 18.294481}, {\"height\": \"4\", \"lat\": 59.3808072, \"lon\": 18.3040082}, {\"height\": \"6\", \"lat\": 59.3664653, \"lon\": 18.3105313}, {\"height\": \"7\", \"lat\": 59.3741179, \"lon\": 18.2797181}, {\"height\": 3, \"lat\": 59.3656343, \"lon\": 18.2687318}, {\"height\": \"6\", \"lat\": 59.3639859, \"lon\": 18.2590061}, {\"height\": \"6\", \"lat\": 59.3322815, \"lon\": 18.1764136}, {\"height\": \"5\", \"lat\": 59.3559285, \"lon\": 18.8304935}, {\"height\": \"7\", \"lat\": 59.3718491, \"lon\": 18.7534175}, {\"height\": 3, \"lat\": 59.3696715, \"lon\": 18.7446213}, {\"height\": \"7\", \"lat\": 59.3697915, \"lon\": 18.6057853}, {\"height\": \"8\", \"lat\": 59.3840521, \"lon\": 18.5714369}, {\"height\": \"5\", \"lat\": 59.4043866, \"lon\": 18.5234371}, {\"height\": 3, \"lat\": 59.3756613, \"lon\": 18.7151791}, {\"height\": \"6\", \"lat\": 59.4126354, \"lon\": 18.9019994}, {\"height\": \"5\", \"lat\": 59.3959502, \"lon\": 18.1025242}, {\"height\": \"7\", \"lat\": 59.3345855, \"lon\": 18.2091557}, {\"height\": \"5\", \"lat\": 59.39265, \"lon\": 18.17485}, {\"height\": \"4\", \"lat\": 59.3959409, \"lon\": 18.3619064}, {\"height\": \"6\", \"lat\": 59.4237833, \"lon\": 18.40425}, {\"height\": \"6\", \"lat\": 59.4309833, \"lon\": 18.3916}, {\"height\": \"7\", \"lat\": 59.3954648, \"lon\": 18.5364822}, {\"height\": \"16\", \"lat\": 59.3738786, \"lon\": 18.6142185}, {\"height\": \"4\", \"lat\": 59.3799381, \"lon\": 18.6554132}, {\"height\": \"5\", \"lat\": 59.3763143, \"lon\": 18.6734587}, {\"height\": \"10\", \"lat\": 59.3934398, \"lon\": 18.6073114}, {\"height\": 3, \"lat\": 59.4425523, \"lon\": 18.4532407}, {\"height\": 3, \"lat\": 59.4476829, \"lon\": 18.4304801}], \"elevationScale\": 100, \"filled\": true, \"getElevation\": \"@@=height\", \"getFillColor\": [0, 0, 255, 140], \"getPosition\": \"@@=[lon, lat]\", \"id\": \"847b77d5-49e5-4a4d-8fe3-6ef52f91d388\", \"minRadius\": 10, \"opacity\": true, \"pickable\": true, \"radius\": 500, \"radiusUnits\": \"@@=pixels\"}], \"mapProvider\": \"mapbox\", \"mapStyle\": \"mapbox://styles/mapbox/streets-v11\", \"views\": [{\"@@type\": \"MapView\", \"controller\": true}]};\n",
              "    const tooltip = true;\n",
              "    const customLibraries = null;\n",
              "\n",
              "    const deckInstance = createDeck({\n",
              "            mapboxApiKey: 'pk.eyJ1IjoiaGlzdHJhdmVsc3RvcmllcyIsImEiOiJjbDZmYTRqa20wMWp3M2ltcTBkdWhudjdwIn0.TZUuKeVMFdSDZZtX_MPjzw',\n",
              "                  container: document.getElementById('deck-container'),\n",
              "      jsonInput,\n",
              "      tooltip,\n",
              "      customLibraries\n",
              "    });\n",
              "\n",
              "  </script>\n",
              "</html>"
            ]
          },
          "metadata": {}
        }
      ]
    },
    {
      "cell_type": "code",
      "source": [
        "len(route_1)"
      ],
      "metadata": {
        "colab": {
          "base_uri": "https://localhost:8080/"
        },
        "id": "8E3rsSH5mCbQ",
        "outputId": "9eeaccb8-cf13-4ec0-e4b9-f51b141e1013"
      },
      "execution_count": 29,
      "outputs": [
        {
          "output_type": "execute_result",
          "data": {
            "text/plain": [
              "49"
            ]
          },
          "metadata": {},
          "execution_count": 29
        }
      ]
    },
    {
      "cell_type": "markdown",
      "source": [
        "* Checking straight line distance between Stockholm and the farthest lighthouse near Vindo we see that the distance is ~40kms, and we see from the above map that there are lots of lighthouses in the middle of the path and lot of outlier light houses which we can straight away remove from our list of light houses to consider for finding the path. Reducing the degree to the north of vindo to check for lighthouses.\n",
        "\n",
        "\n",
        "* We can use Dynamic Programming to find the most efficient result with the resultant 49 lighthouses. But to store the distances we would require a big look up table. In case when this problem is to be made more generic, we should use the DP approach to find the minimal set. \n",
        "\n",
        "Here as we can visualize the data and get information from the data we try to reduce the memory and computation by simple visualization.\n",
        "\n",
        "* Identified a lighthouse on the island of Vindo and removed all lighthouses on the right of it."
      ],
      "metadata": {
        "id": "hguWwBtzWA2m"
      }
    },
    {
      "cell_type": "code",
      "source": [
        "route_1_Updated = df[(df.lat >= 59.328982) & (df.lat <= (59.349003 + 0.03018)) & (df.lon >=  18.068531) & (df.lon <= (18.7))] \n",
        "len(route_1_Updated)\n",
        "route_1_Updated = route_1_Updated.reset_index()\n",
        "route_1_Updated = route_1_Updated.drop(['index'], axis=1)"
      ],
      "metadata": {
        "id": "nVMAEbtdX3iA"
      },
      "execution_count": 30,
      "outputs": []
    },
    {
      "cell_type": "markdown",
      "source": [
        "We see that from 49 we have reduced to 15 lighthouses, it is not necessary to do this step, in case where we do not have any manual intervention we can come up with other optimization techniques like clustering to minimize the lighthouses to consider."
      ],
      "metadata": {
        "id": "iLTDIlmIsNJ5"
      }
    },
    {
      "cell_type": "markdown",
      "source": [
        "![](https://drive.google.com/uc?export=view&id=1GTorgQGj_WdFsaU66spEubvSHcwqeu_H)\n"
      ],
      "metadata": {
        "id": "rv6dNFHiq8Jj"
      }
    },
    {
      "cell_type": "code",
      "source": [
        "drawMapBoxMap(route_1_Updated)"
      ],
      "metadata": {
        "colab": {
          "base_uri": "https://localhost:8080/",
          "height": 500
        },
        "id": "LFEGit_Yb9M1",
        "outputId": "426c3659-b9b5-460b-f968-349dce08e59c"
      },
      "execution_count": 31,
      "outputs": [
        {
          "output_type": "display_data",
          "data": {
            "text/plain": [
              "<IPython.core.display.Javascript object>"
            ],
            "application/javascript": [
              "google.colab.output.setIframeHeight(500, true, {minHeight: 500})"
            ]
          },
          "metadata": {}
        },
        {
          "output_type": "display_data",
          "data": {
            "text/plain": [
              "<IPython.core.display.HTML object>"
            ],
            "text/html": [
              "<!DOCTYPE html>\n",
              "<html>\n",
              "  <head>\n",
              "    <meta http-equiv=\"content-type\" content=\"text/html; charset=UTF-8\" />\n",
              "    <title>pydeck</title>\n",
              "        <script src=\"https://api.tiles.mapbox.com/mapbox-gl-js/v1.13.0/mapbox-gl.js\"></script>\n",
              "        <link rel=\"stylesheet\" href=\"https://maxcdn.bootstrapcdn.com/bootstrap/3.2.0/css/bootstrap-theme.min.css\" />\n",
              "    <link rel=\"stylesheet\" href=\"https://maxcdn.bootstrapcdn.com/font-awesome/4.6.3/css/font-awesome.min.css\" />\n",
              "    <script src='https://cdn.jsdelivr.net/npm/@deck.gl/jupyter-widget@~8.5.*/dist/index.js'></script>\n",
              "    <style>\n",
              "    body {\n",
              "  margin: 0;\n",
              "  padding: 0;\n",
              "  overflow: hidden;\n",
              "}\n",
              "\n",
              "#deck-map-container {\n",
              "  width: 100%;\n",
              "  height: 100%;\n",
              "  background-color: black;\n",
              "}\n",
              "\n",
              "#map {\n",
              "  pointer-events: none;\n",
              "  height: 100%;\n",
              "  width: 100%;\n",
              "  position: absolute;\n",
              "  z-index: 1;\n",
              "}\n",
              "\n",
              "#deckgl-overlay {\n",
              "  z-index: 2;\n",
              "  background: none;\n",
              "}\n",
              "\n",
              "#deck-map-wrapper {\n",
              "  width: 100%;\n",
              "  height: 100%;\n",
              "}\n",
              "\n",
              "#deck-container {\n",
              "  width: 100vw;\n",
              "  height: 100vh;\n",
              "}\n",
              "    </style>\n",
              "  </head>\n",
              "  <body>\n",
              "    <div id=\"deck-container\">\n",
              "    </div>\n",
              "  </body>\n",
              "  <script>\n",
              "    const jsonInput = {\"initialViewState\": {\"bearing\": -1.45748987854251, \"latitude\": 59.196318798583725, \"longitude\": 18.599920729657768, \"pitch\": 0.5797101449275388, \"zoom\": 8}, \"layers\": [{\"@@type\": \"ColumnLayer\", \"autoHighlight\": true, \"data\": [{\"height\": \"6\", \"lat\": 59.3617991, \"lon\": 18.4522968}, {\"height\": \"6\", \"lat\": 59.358584, \"lon\": 18.4150892}, {\"height\": \"5\", \"lat\": 59.3714207, \"lon\": 18.3891683}, {\"height\": \"4\", \"lat\": 59.3629226, \"lon\": 18.3763635}, {\"height\": \"5\", \"lat\": 59.371713, \"lon\": 18.3352506}, {\"height\": \"4\", \"lat\": 59.3776595, \"lon\": 18.294481}, {\"height\": \"6\", \"lat\": 59.3664653, \"lon\": 18.3105313}, {\"height\": \"7\", \"lat\": 59.3741179, \"lon\": 18.2797181}, {\"height\": 3, \"lat\": 59.3656343, \"lon\": 18.2687318}, {\"height\": \"6\", \"lat\": 59.3639859, \"lon\": 18.2590061}, {\"height\": \"6\", \"lat\": 59.3322815, \"lon\": 18.1764136}, {\"height\": \"7\", \"lat\": 59.3697915, \"lon\": 18.6057853}, {\"height\": \"7\", \"lat\": 59.3345855, \"lon\": 18.2091557}, {\"height\": \"16\", \"lat\": 59.3738786, \"lon\": 18.6142185}, {\"height\": \"5\", \"lat\": 59.3763143, \"lon\": 18.6734587}], \"elevationScale\": 100, \"filled\": true, \"getElevation\": \"@@=height\", \"getFillColor\": [0, 0, 255, 140], \"getPosition\": \"@@=[lon, lat]\", \"id\": \"78fb3b6a-08d2-4184-a65a-0d75a122fd86\", \"minRadius\": 10, \"opacity\": true, \"pickable\": true, \"radius\": 500, \"radiusUnits\": \"@@=pixels\"}], \"mapProvider\": \"mapbox\", \"mapStyle\": \"mapbox://styles/mapbox/streets-v11\", \"views\": [{\"@@type\": \"MapView\", \"controller\": true}]};\n",
              "    const tooltip = true;\n",
              "    const customLibraries = null;\n",
              "\n",
              "    const deckInstance = createDeck({\n",
              "            mapboxApiKey: 'pk.eyJ1IjoiaGlzdHJhdmVsc3RvcmllcyIsImEiOiJjbDZmYTRqa20wMWp3M2ltcTBkdWhudjdwIn0.TZUuKeVMFdSDZZtX_MPjzw',\n",
              "                  container: document.getElementById('deck-container'),\n",
              "      jsonInput,\n",
              "      tooltip,\n",
              "      customLibraries\n",
              "    });\n",
              "\n",
              "  </script>\n",
              "</html>"
            ]
          },
          "metadata": {}
        }
      ]
    },
    {
      "cell_type": "markdown",
      "source": [
        "![](https://drive.google.com/uc?export=view&id=1qRrn3B09wz2MaPH7yOHwafFOvtAHa4Qi)\n"
      ],
      "metadata": {
        "id": "_KZT1nVirGlk"
      }
    },
    {
      "cell_type": "code",
      "source": [
        "drawMapBoxMap(route_2)"
      ],
      "metadata": {
        "colab": {
          "base_uri": "https://localhost:8080/",
          "height": 500
        },
        "id": "L3IQQRryoTv6",
        "outputId": "36587d14-396e-42fd-f77c-0d4e9551eb9d"
      },
      "execution_count": 32,
      "outputs": [
        {
          "output_type": "display_data",
          "data": {
            "text/plain": [
              "<IPython.core.display.Javascript object>"
            ],
            "application/javascript": [
              "google.colab.output.setIframeHeight(500, true, {minHeight: 500})"
            ]
          },
          "metadata": {}
        },
        {
          "output_type": "display_data",
          "data": {
            "text/plain": [
              "<IPython.core.display.HTML object>"
            ],
            "text/html": [
              "<!DOCTYPE html>\n",
              "<html>\n",
              "  <head>\n",
              "    <meta http-equiv=\"content-type\" content=\"text/html; charset=UTF-8\" />\n",
              "    <title>pydeck</title>\n",
              "        <script src=\"https://api.tiles.mapbox.com/mapbox-gl-js/v1.13.0/mapbox-gl.js\"></script>\n",
              "        <link rel=\"stylesheet\" href=\"https://maxcdn.bootstrapcdn.com/bootstrap/3.2.0/css/bootstrap-theme.min.css\" />\n",
              "    <link rel=\"stylesheet\" href=\"https://maxcdn.bootstrapcdn.com/font-awesome/4.6.3/css/font-awesome.min.css\" />\n",
              "    <script src='https://cdn.jsdelivr.net/npm/@deck.gl/jupyter-widget@~8.5.*/dist/index.js'></script>\n",
              "    <style>\n",
              "    body {\n",
              "  margin: 0;\n",
              "  padding: 0;\n",
              "  overflow: hidden;\n",
              "}\n",
              "\n",
              "#deck-map-container {\n",
              "  width: 100%;\n",
              "  height: 100%;\n",
              "  background-color: black;\n",
              "}\n",
              "\n",
              "#map {\n",
              "  pointer-events: none;\n",
              "  height: 100%;\n",
              "  width: 100%;\n",
              "  position: absolute;\n",
              "  z-index: 1;\n",
              "}\n",
              "\n",
              "#deckgl-overlay {\n",
              "  z-index: 2;\n",
              "  background: none;\n",
              "}\n",
              "\n",
              "#deck-map-wrapper {\n",
              "  width: 100%;\n",
              "  height: 100%;\n",
              "}\n",
              "\n",
              "#deck-container {\n",
              "  width: 100vw;\n",
              "  height: 100vh;\n",
              "}\n",
              "    </style>\n",
              "  </head>\n",
              "  <body>\n",
              "    <div id=\"deck-container\">\n",
              "    </div>\n",
              "  </body>\n",
              "  <script>\n",
              "    const jsonInput = {\"initialViewState\": {\"bearing\": -1.45748987854251, \"latitude\": 59.196318798583725, \"longitude\": 18.599920729657768, \"pitch\": 0.5797101449275388, \"zoom\": 8}, \"layers\": [{\"@@type\": \"ColumnLayer\", \"autoHighlight\": true, \"data\": [{\"height\": \"6\", \"lat\": 59.3207673, \"lon\": 18.1549076}, {\"height\": \"7\", \"lat\": 59.2564822, \"lon\": 18.9466436}, {\"height\": 3, \"lat\": 59.182294, \"lon\": 18.4922522}, {\"height\": \"6\", \"lat\": 59.2238111, \"lon\": 18.6185628}, {\"height\": \"7\", \"lat\": 59.2077557, \"lon\": 18.565901}, {\"height\": \"7\", \"lat\": 59.2178016, \"lon\": 18.6135129}, {\"height\": \"12\", \"lat\": 59.4302773, \"lon\": 18.9524248}, {\"height\": \"10\", \"lat\": 59.4111327, \"lon\": 18.9058001}, {\"height\": \"13\", \"lat\": 58.8569614, \"lon\": 18.015065}, {\"height\": \"3\", \"lat\": 59.4690126, \"lon\": 18.4180074}, {\"height\": \"4\", \"lat\": 59.4566177, \"lon\": 18.4275561}, {\"height\": \"3\", \"lat\": 59.4532248, \"lon\": 18.3874517}, {\"height\": \"6\", \"lat\": 59.4453718, \"lon\": 18.4162908}, {\"height\": \"3\", \"lat\": 59.5233845, \"lon\": 18.5208326}, {\"height\": \"5\", \"lat\": 59.5122384, \"lon\": 18.4942251}, {\"height\": \"3\", \"lat\": 59.5024786, \"lon\": 18.5174352}, {\"height\": \"7\", \"lat\": 59.4977779, \"lon\": 18.4592061}, {\"height\": 3, \"lat\": 59.4427844, \"lon\": 18.4399153}, {\"height\": \"4\", \"lat\": 59.4327159, \"lon\": 18.4977441}, {\"height\": 3, \"lat\": 59.4206775, \"lon\": 18.501467}, {\"height\": \"5\", \"lat\": 59.4275977, \"lon\": 18.3656936}, {\"height\": \"6\", \"lat\": 59.3617991, \"lon\": 18.4522968}, {\"height\": \"6\", \"lat\": 59.358584, \"lon\": 18.4150892}, {\"height\": \"5\", \"lat\": 59.3714207, \"lon\": 18.3891683}, {\"height\": \"2\", \"lat\": 59.4216793, \"lon\": 18.485516}, {\"height\": \"5\", \"lat\": 59.4253824, \"lon\": 18.4112817}, {\"height\": \"4\", \"lat\": 59.3629226, \"lon\": 18.3763635}, {\"height\": \"5\", \"lat\": 59.371713, \"lon\": 18.3352506}, {\"height\": \"4\", \"lat\": 59.3776595, \"lon\": 18.294481}, {\"height\": \"4\", \"lat\": 59.3808072, \"lon\": 18.3040082}, {\"height\": \"6\", \"lat\": 59.3664653, \"lon\": 18.3105313}, {\"height\": \"7\", \"lat\": 59.3741179, \"lon\": 18.2797181}, {\"height\": 3, \"lat\": 59.3656343, \"lon\": 18.2687318}, {\"height\": \"6\", \"lat\": 59.3639859, \"lon\": 18.2590061}, {\"height\": \"6\", \"lat\": 59.3322815, \"lon\": 18.1764136}, {\"height\": \"11\", \"lat\": 59.3007854, \"lon\": 18.8745767}, {\"height\": 3, \"lat\": 59.3004762, \"lon\": 18.8688062}, {\"height\": 3, \"lat\": 59.3133074, \"lon\": 18.8102374}, {\"height\": \"8\", \"lat\": 59.3182952, \"lon\": 18.8108168}, {\"height\": \"10\", \"lat\": 59.2773535, \"lon\": 19.000052}, {\"height\": \"7\", \"lat\": 59.2637739, \"lon\": 18.8964651}, {\"height\": 3, \"lat\": 59.2581886, \"lon\": 18.8963954}, {\"height\": \"3\", \"lat\": 59.286577, \"lon\": 18.8940887}, {\"height\": \"12\", \"lat\": 59.3169703, \"lon\": 18.7472377}, {\"height\": \"6\", \"lat\": 59.3049249, \"lon\": 18.7590716}, {\"height\": \"5\", \"lat\": 59.3559285, \"lon\": 18.8304935}, {\"height\": \"7\", \"lat\": 59.3718491, \"lon\": 18.7534175}, {\"height\": 3, \"lat\": 59.3696715, \"lon\": 18.7446213}, {\"height\": \"7\", \"lat\": 59.3697915, \"lon\": 18.6057853}, {\"height\": \"8\", \"lat\": 59.3840521, \"lon\": 18.5714369}, {\"height\": \"5\", \"lat\": 59.4043866, \"lon\": 18.5234371}, {\"height\": \"24\", \"lat\": 59.1317014, \"lon\": 18.4299884}, {\"height\": \"5\", \"lat\": 59.128426, \"lon\": 18.4223451}, {\"height\": \"3\", \"lat\": 59.1244125, \"lon\": 18.4075759}, {\"height\": \"4\", \"lat\": 59.1206518, \"lon\": 18.4264265}, {\"height\": \"6\", \"lat\": 59.2964034, \"lon\": 18.7151269}, {\"height\": \"5\", \"lat\": 59.2478587, \"lon\": 18.6654999}, {\"height\": \"8\", \"lat\": 59.1555416, \"lon\": 18.5546952}, {\"height\": \"7\", \"lat\": 59.142995, \"lon\": 18.4640525}, {\"height\": \"6\", \"lat\": 59.1401405, \"lon\": 18.4390356}, {\"height\": \"6\", \"lat\": 59.2818135, \"lon\": 18.867218}, {\"height\": 3, \"lat\": 59.2853743, \"lon\": 18.8575916}, {\"height\": \"7\", \"lat\": 59.2867321, \"lon\": 18.7104698}, {\"height\": \"3\", \"lat\": 59.1133937, \"lon\": 18.4098504}, {\"height\": \"6\", \"lat\": 59.1141482, \"lon\": 18.397126}, {\"height\": \"6\", \"lat\": 59.0734131, \"lon\": 18.2985709}, {\"height\": \"5\", \"lat\": 59.0119345, \"lon\": 18.2463722}, {\"height\": \"8\", \"lat\": 59.0027285, \"lon\": 18.2589386}, {\"height\": \"7\", \"lat\": 58.9782316, \"lon\": 18.1863258}, {\"height\": \"4\", \"lat\": 59.1103886, \"lon\": 18.367085}, {\"height\": \"10\", \"lat\": 59.1066132, \"lon\": 18.3728788}, {\"height\": \"4\", \"lat\": 59.0936875, \"lon\": 18.3490608}, {\"height\": \"8\", \"lat\": 58.9066752, \"lon\": 18.082814}, {\"height\": \"10\", \"lat\": 58.8973146, \"lon\": 18.0244386}, {\"height\": \"20\", \"lat\": 59.2509444, \"lon\": 19.0128333}, {\"height\": \"14\", \"lat\": 59.2699444, \"lon\": 18.9744444}, {\"height\": 3, \"lat\": 58.9629711, \"lon\": 18.5682658}, {\"height\": \"3\", \"lat\": 58.8961102, \"lon\": 17.9594986}, {\"height\": 3, \"lat\": 59.3756613, \"lon\": 18.7151791}, {\"height\": \"8\", \"lat\": 58.9180581, \"lon\": 17.9777762}, {\"height\": \"6\", \"lat\": 59.4126354, \"lon\": 18.9019994}, {\"height\": \"5\", \"lat\": 59.3959502, \"lon\": 18.1025242}, {\"height\": \"7\", \"lat\": 59.3345855, \"lon\": 18.2091557}, {\"height\": \"5\", \"lat\": 59.39265, \"lon\": 18.17485}, {\"height\": \"4\", \"lat\": 59.3959409, \"lon\": 18.3619064}, {\"height\": \"6\", \"lat\": 59.4237833, \"lon\": 18.40425}, {\"height\": \"6\", \"lat\": 59.4309833, \"lon\": 18.3916}, {\"height\": \"7\", \"lat\": 59.3954648, \"lon\": 18.5364822}, {\"height\": \"16\", \"lat\": 59.3738786, \"lon\": 18.6142185}, {\"height\": \"4\", \"lat\": 59.3799381, \"lon\": 18.6554132}, {\"height\": \"5\", \"lat\": 59.3763143, \"lon\": 18.6734587}, {\"height\": \"10\", \"lat\": 59.3934398, \"lon\": 18.6073114}, {\"height\": \"5\", \"lat\": 59.2947667, \"lon\": 18.88855}, {\"height\": \"4\", \"lat\": 59.1338333, \"lon\": 18.4201333}, {\"height\": 3, \"lat\": 58.8779498, \"lon\": 17.928323}, {\"height\": 3, \"lat\": 58.889305, \"lon\": 17.9468014}, {\"height\": 3, \"lat\": 59.4425523, \"lon\": 18.4532407}, {\"height\": 3, \"lat\": 59.4476829, \"lon\": 18.4304801}, {\"height\": 3, \"lat\": 59.3270721, \"lon\": 18.3892139}, {\"height\": 3, \"lat\": 59.3040081, \"lon\": 17.9325873}, {\"height\": 3, \"lat\": 59.3034641, \"lon\": 18.1513264}], \"elevationScale\": 100, \"filled\": true, \"getElevation\": \"@@=height\", \"getFillColor\": [0, 0, 255, 140], \"getPosition\": \"@@=[lon, lat]\", \"id\": \"57bd8a5a-ebf2-4f07-829e-8c13e7dfa8ed\", \"minRadius\": 10, \"opacity\": true, \"pickable\": true, \"radius\": 500, \"radiusUnits\": \"@@=pixels\"}], \"mapProvider\": \"mapbox\", \"mapStyle\": \"mapbox://styles/mapbox/streets-v11\", \"views\": [{\"@@type\": \"MapView\", \"controller\": true}]};\n",
              "    const tooltip = true;\n",
              "    const customLibraries = null;\n",
              "\n",
              "    const deckInstance = createDeck({\n",
              "            mapboxApiKey: 'pk.eyJ1IjoiaGlzdHJhdmVsc3RvcmllcyIsImEiOiJjbDZmYTRqa20wMWp3M2ltcTBkdWhudjdwIn0.TZUuKeVMFdSDZZtX_MPjzw',\n",
              "                  container: document.getElementById('deck-container'),\n",
              "      jsonInput,\n",
              "      tooltip,\n",
              "      customLibraries\n",
              "    });\n",
              "\n",
              "  </script>\n",
              "</html>"
            ]
          },
          "metadata": {}
        }
      ]
    },
    {
      "cell_type": "code",
      "source": [
        "route_2_Updated = df[(df.lat >= 58.834266) & (df.lat <= (59.3763143)) & (df.lon >=  17.840492) & (df.lon <= (18.6734587 + 0.18))] \n",
        "route_2_Updated = route_2_Updated.reset_index()\n",
        "route_2_Updated = route_2_Updated.drop(['index'], axis=1)\n",
        "drawMapBoxMap(route_2_Updated)"
      ],
      "metadata": {
        "colab": {
          "base_uri": "https://localhost:8080/",
          "height": 500
        },
        "id": "Om_76PJRu3e6",
        "outputId": "b4b6ffa4-8f44-41d3-d706-d7b7a4603b41"
      },
      "execution_count": 33,
      "outputs": [
        {
          "output_type": "display_data",
          "data": {
            "text/plain": [
              "<IPython.core.display.Javascript object>"
            ],
            "application/javascript": [
              "google.colab.output.setIframeHeight(500, true, {minHeight: 500})"
            ]
          },
          "metadata": {}
        },
        {
          "output_type": "display_data",
          "data": {
            "text/plain": [
              "<IPython.core.display.HTML object>"
            ],
            "text/html": [
              "<!DOCTYPE html>\n",
              "<html>\n",
              "  <head>\n",
              "    <meta http-equiv=\"content-type\" content=\"text/html; charset=UTF-8\" />\n",
              "    <title>pydeck</title>\n",
              "        <script src=\"https://api.tiles.mapbox.com/mapbox-gl-js/v1.13.0/mapbox-gl.js\"></script>\n",
              "        <link rel=\"stylesheet\" href=\"https://maxcdn.bootstrapcdn.com/bootstrap/3.2.0/css/bootstrap-theme.min.css\" />\n",
              "    <link rel=\"stylesheet\" href=\"https://maxcdn.bootstrapcdn.com/font-awesome/4.6.3/css/font-awesome.min.css\" />\n",
              "    <script src='https://cdn.jsdelivr.net/npm/@deck.gl/jupyter-widget@~8.5.*/dist/index.js'></script>\n",
              "    <style>\n",
              "    body {\n",
              "  margin: 0;\n",
              "  padding: 0;\n",
              "  overflow: hidden;\n",
              "}\n",
              "\n",
              "#deck-map-container {\n",
              "  width: 100%;\n",
              "  height: 100%;\n",
              "  background-color: black;\n",
              "}\n",
              "\n",
              "#map {\n",
              "  pointer-events: none;\n",
              "  height: 100%;\n",
              "  width: 100%;\n",
              "  position: absolute;\n",
              "  z-index: 1;\n",
              "}\n",
              "\n",
              "#deckgl-overlay {\n",
              "  z-index: 2;\n",
              "  background: none;\n",
              "}\n",
              "\n",
              "#deck-map-wrapper {\n",
              "  width: 100%;\n",
              "  height: 100%;\n",
              "}\n",
              "\n",
              "#deck-container {\n",
              "  width: 100vw;\n",
              "  height: 100vh;\n",
              "}\n",
              "    </style>\n",
              "  </head>\n",
              "  <body>\n",
              "    <div id=\"deck-container\">\n",
              "    </div>\n",
              "  </body>\n",
              "  <script>\n",
              "    const jsonInput = {\"initialViewState\": {\"bearing\": -1.45748987854251, \"latitude\": 59.196318798583725, \"longitude\": 18.599920729657768, \"pitch\": 0.5797101449275388, \"zoom\": 8}, \"layers\": [{\"@@type\": \"ColumnLayer\", \"autoHighlight\": true, \"data\": [{\"height\": \"6\", \"lat\": 59.3207673, \"lon\": 18.1549076}, {\"height\": 3, \"lat\": 59.182294, \"lon\": 18.4922522}, {\"height\": \"6\", \"lat\": 59.2238111, \"lon\": 18.6185628}, {\"height\": \"7\", \"lat\": 59.2077557, \"lon\": 18.565901}, {\"height\": \"7\", \"lat\": 59.2178016, \"lon\": 18.6135129}, {\"height\": \"13\", \"lat\": 58.8569614, \"lon\": 18.015065}, {\"height\": \"6\", \"lat\": 59.3617991, \"lon\": 18.4522968}, {\"height\": \"6\", \"lat\": 59.358584, \"lon\": 18.4150892}, {\"height\": \"5\", \"lat\": 59.3714207, \"lon\": 18.3891683}, {\"height\": \"4\", \"lat\": 59.3629226, \"lon\": 18.3763635}, {\"height\": \"5\", \"lat\": 59.371713, \"lon\": 18.3352506}, {\"height\": \"6\", \"lat\": 59.3664653, \"lon\": 18.3105313}, {\"height\": \"7\", \"lat\": 59.3741179, \"lon\": 18.2797181}, {\"height\": 3, \"lat\": 59.3656343, \"lon\": 18.2687318}, {\"height\": \"6\", \"lat\": 59.3639859, \"lon\": 18.2590061}, {\"height\": \"6\", \"lat\": 59.3322815, \"lon\": 18.1764136}, {\"height\": 3, \"lat\": 59.3133074, \"lon\": 18.8102374}, {\"height\": \"8\", \"lat\": 59.3182952, \"lon\": 18.8108168}, {\"height\": \"12\", \"lat\": 59.3169703, \"lon\": 18.7472377}, {\"height\": \"6\", \"lat\": 59.3049249, \"lon\": 18.7590716}, {\"height\": \"5\", \"lat\": 59.3559285, \"lon\": 18.8304935}, {\"height\": \"7\", \"lat\": 59.3718491, \"lon\": 18.7534175}, {\"height\": 3, \"lat\": 59.3696715, \"lon\": 18.7446213}, {\"height\": \"7\", \"lat\": 59.3697915, \"lon\": 18.6057853}, {\"height\": \"24\", \"lat\": 59.1317014, \"lon\": 18.4299884}, {\"height\": \"5\", \"lat\": 59.128426, \"lon\": 18.4223451}, {\"height\": \"3\", \"lat\": 59.1244125, \"lon\": 18.4075759}, {\"height\": \"4\", \"lat\": 59.1206518, \"lon\": 18.4264265}, {\"height\": \"6\", \"lat\": 59.2964034, \"lon\": 18.7151269}, {\"height\": \"5\", \"lat\": 59.2478587, \"lon\": 18.6654999}, {\"height\": \"8\", \"lat\": 59.1555416, \"lon\": 18.5546952}, {\"height\": \"7\", \"lat\": 59.142995, \"lon\": 18.4640525}, {\"height\": \"6\", \"lat\": 59.1401405, \"lon\": 18.4390356}, {\"height\": \"7\", \"lat\": 59.2867321, \"lon\": 18.7104698}, {\"height\": \"3\", \"lat\": 59.1133937, \"lon\": 18.4098504}, {\"height\": \"6\", \"lat\": 59.1141482, \"lon\": 18.397126}, {\"height\": \"6\", \"lat\": 59.0734131, \"lon\": 18.2985709}, {\"height\": \"5\", \"lat\": 59.0119345, \"lon\": 18.2463722}, {\"height\": \"8\", \"lat\": 59.0027285, \"lon\": 18.2589386}, {\"height\": \"7\", \"lat\": 58.9782316, \"lon\": 18.1863258}, {\"height\": \"4\", \"lat\": 59.1103886, \"lon\": 18.367085}, {\"height\": \"10\", \"lat\": 59.1066132, \"lon\": 18.3728788}, {\"height\": \"4\", \"lat\": 59.0936875, \"lon\": 18.3490608}, {\"height\": \"8\", \"lat\": 58.9066752, \"lon\": 18.082814}, {\"height\": \"10\", \"lat\": 58.8973146, \"lon\": 18.0244386}, {\"height\": 3, \"lat\": 58.9629711, \"lon\": 18.5682658}, {\"height\": \"3\", \"lat\": 58.8961102, \"lon\": 17.9594986}, {\"height\": 3, \"lat\": 59.3756613, \"lon\": 18.7151791}, {\"height\": \"8\", \"lat\": 58.9180581, \"lon\": 17.9777762}, {\"height\": \"7\", \"lat\": 59.3345855, \"lon\": 18.2091557}, {\"height\": \"16\", \"lat\": 59.3738786, \"lon\": 18.6142185}, {\"height\": \"5\", \"lat\": 59.3763143, \"lon\": 18.6734587}, {\"height\": \"4\", \"lat\": 59.1338333, \"lon\": 18.4201333}, {\"height\": 3, \"lat\": 58.8779498, \"lon\": 17.928323}, {\"height\": 3, \"lat\": 58.889305, \"lon\": 17.9468014}, {\"height\": 3, \"lat\": 59.3270721, \"lon\": 18.3892139}, {\"height\": 3, \"lat\": 59.3040081, \"lon\": 17.9325873}, {\"height\": 3, \"lat\": 59.3034641, \"lon\": 18.1513264}], \"elevationScale\": 100, \"filled\": true, \"getElevation\": \"@@=height\", \"getFillColor\": [0, 0, 255, 140], \"getPosition\": \"@@=[lon, lat]\", \"id\": \"c3c5fd30-f63f-48e6-ae35-52da8d0c457c\", \"minRadius\": 10, \"opacity\": true, \"pickable\": true, \"radius\": 500, \"radiusUnits\": \"@@=pixels\"}], \"mapProvider\": \"mapbox\", \"mapStyle\": \"mapbox://styles/mapbox/streets-v11\", \"views\": [{\"@@type\": \"MapView\", \"controller\": true}]};\n",
              "    const tooltip = true;\n",
              "    const customLibraries = null;\n",
              "\n",
              "    const deckInstance = createDeck({\n",
              "            mapboxApiKey: 'pk.eyJ1IjoiaGlzdHJhdmVsc3RvcmllcyIsImEiOiJjbDZmYTRqa20wMWp3M2ltcTBkdWhudjdwIn0.TZUuKeVMFdSDZZtX_MPjzw',\n",
              "                  container: document.getElementById('deck-container'),\n",
              "      jsonInput,\n",
              "      tooltip,\n",
              "      customLibraries\n",
              "    });\n",
              "\n",
              "  </script>\n",
              "</html>"
            ]
          },
          "metadata": {}
        }
      ]
    },
    {
      "cell_type": "markdown",
      "source": [
        "![](https://drive.google.com/uc?export=view&id=1bzxtTZdn0ruZlOEf9IchkgOGYEtu6kFv)\n"
      ],
      "metadata": {
        "id": "CYqLvAt4p1O3"
      }
    },
    {
      "cell_type": "markdown",
      "source": [
        "### Calculating the optimal path between "
      ],
      "metadata": {
        "id": "EKGb6xw12TFQ"
      }
    },
    {
      "cell_type": "code",
      "source": [
        "def intermediate(routePassage, point1, point2, path):\n",
        "  '''\n",
        "    Finds all the intermediate stops from point1 to point2\n",
        "\n",
        "    Input Parameters : \n",
        "                        routePassage : Table that contains all the information of \n",
        "                                      stop to take for optimal distance.\n",
        "                        point1 : source\n",
        "                        point2 : destination\n",
        "                        path : contains the sequence of stops from point1 to point2\n",
        "  '''\n",
        "\n",
        "  if routePassage[point1][point2] == -1:    # It is direct connection btw points\n",
        "    path.append(point2)\n",
        "    return\n",
        "  else:\n",
        "    x = routePassage[point1][point2]        # x is intermediate stop between points\n",
        "    intermediate(routePassage, x, point2, path)\n",
        "    #path.append(x)\n",
        "    intermediate(routePassage, point1, x, path)"
      ],
      "metadata": {
        "id": "oeHyckKXqMGp"
      },
      "execution_count": 34,
      "outputs": []
    },
    {
      "cell_type": "code",
      "source": [
        "def calculateDistanceBetweenTwoDestinations(locations, src=None, dest=None):\n",
        "  '''\n",
        "    calculates the shortest distance between two points src and dest\n",
        "    The function is also used to find the shortest distance between each points\n",
        "    passed in the locations when src and dest in None.\n",
        "\n",
        "\n",
        "    Input Parameters : \n",
        "                      locations : Contains a list of places that the drone can stop\n",
        "                      src : Lists the place where the drone should start\n",
        "                      dest : Lists the place where the drone should stop(end point)\n",
        "                      \n",
        "    Returns :  distance : The shortest distance between src and dest (kms)\n",
        "               routeDf : List of places the drone would stop to charge( includes\n",
        "                          src and dest )\n",
        "               routeDistance : Table that contains the distances for each location\n",
        "                                to every other location.\n",
        "               routePassage : Table that contains the stops(battery charging) that\n",
        "                              drone should make\n",
        "  '''\n",
        "  #adding source\n",
        "  route = locations.copy(deep=True)\n",
        "  if src != None:\n",
        "    route.loc[-1] = [src[0], src[1], 30]\n",
        "    route.index = route.index + 1\n",
        "    route = route.sort_index()\n",
        "\n",
        "  #adding destination\n",
        "  if dest != None:\n",
        "    route.loc[len(route)] = [dest[0], dest[1], 30]\n",
        "    route = route.sort_index()\n",
        "\n",
        "  #initialize all the routes to 0\n",
        "  routeDistance = [[0 for i in range(len(route))] for j in range(len(route))]\n",
        "\n",
        "  #initialize the hops if unreachable to -inf\n",
        "  routePassage = [[float('-inf') for i in range(len(route))] for j in range(len(route))]\n",
        "\n",
        "  print(route)\n",
        "  # Finding all the nodes that are directly connected, drone flight distance of 20kms\n",
        "  # This is the most optimal way from point A to point B because it is a straight\n",
        "  #  line distance\n",
        "  for i in range(0,len(route)):\n",
        "    for j in range(i+1, len(route)):\n",
        "      temp = findDistance((route.lat[i],route.lon[i]),(route.lat[j],route.lon[j]))\n",
        "      if temp <= 20:\n",
        "        routeDistance[i][j] = temp\n",
        "        routeDistance[j][i] = temp\n",
        "        routePassage[i][j] = -1\n",
        "        routePassage[j][i] = -1\n",
        "\n",
        "      else:\n",
        "        routeDistance[i][j] = float('inf')\n",
        "        routeDistance[j][i] = float('inf')\n",
        "  \n",
        "  \n",
        "  # Filling the missing values from above result by taking intermediate steps\n",
        "  # The steps is basically means intermediate stop to charge drone\n",
        "  # and moving forward modified version of All Source Shortest Path\n",
        "\n",
        "  flag = True\n",
        "  while flag == True:\n",
        "    flag = False\n",
        "    for i in range(0,len(route)):\n",
        "      for j in range(i+1, len(route)):\n",
        "        if routeDistance[i][j] == float('inf'):\n",
        "          flag = True\n",
        "          for k in range(0,len(route)):\n",
        "            if k != i and k != j and routeDistance[i][k] != float('inf') and routeDistance[i][k] != float('inf') and ( routeDistance[i][k] + routeDistance[k][j] < routeDistance[i][j]):\n",
        "              routeDistance[i][j] = routeDistance[i][k] + routeDistance[k][j]\n",
        "              routeDistance[j][i] = routeDistance[i][j]\n",
        "              routePassage[i][j] = k\n",
        "              routePassage[j][i] = k\n",
        "\n",
        "  # The above algorithm can be further optimized\n",
        "\n",
        "  # To find the shortest path and hop places between source and destination\n",
        "\n",
        "  distance = routeDistance[0][len(route)-1]\n",
        "\n",
        "  temp = len(route) - 1\n",
        "  finalRoute = []\n",
        "  \n",
        "  intermediate(routePassage, 0, temp, finalRoute)\n",
        "  \n",
        "  finalRoute.append(0)\n",
        "  finalRoute.reverse()\n",
        "  \n",
        "  routeDf = route.iloc[finalRoute]\n",
        "  \n",
        "  return distance, routeDf, routeDistance, routePassage"
      ],
      "metadata": {
        "id": "RePxlhABu-IX"
      },
      "execution_count": 35,
      "outputs": []
    },
    {
      "cell_type": "code",
      "source": [
        "distance_1, finalRoute_1, routeDistance_1, routePassage_1 = calculateDistanceBetweenTwoDestinations(route_1_Updated, (18.068531, 59.328982), (18.6734587, 59.3763143))"
      ],
      "metadata": {
        "colab": {
          "base_uri": "https://localhost:8080/"
        },
        "id": "4DqiScR-zn49",
        "outputId": "13dee157-fdf8-456f-a2df-98ac65b2c29d"
      },
      "execution_count": 36,
      "outputs": [
        {
          "output_type": "stream",
          "name": "stdout",
          "text": [
            "          lon        lat height\n",
            "0   18.068531  59.328982   30.0\n",
            "1   18.452297  59.361799      6\n",
            "2   18.415089  59.358584      6\n",
            "3   18.389168  59.371421      5\n",
            "4   18.376364  59.362923      4\n",
            "5   18.335251  59.371713      5\n",
            "6   18.294481  59.377660      4\n",
            "7   18.310531  59.366465      6\n",
            "8   18.279718  59.374118      7\n",
            "9   18.268732  59.365634      3\n",
            "10  18.259006  59.363986      6\n",
            "11  18.176414  59.332282      6\n",
            "12  18.605785  59.369791      7\n",
            "13  18.209156  59.334586      7\n",
            "14  18.614218  59.373879     16\n",
            "15  18.673459  59.376314      5\n",
            "16  18.673459  59.376314   30.0\n"
          ]
        }
      ]
    },
    {
      "cell_type": "code",
      "source": [
        "print(finalRoute_1)\n",
        "print(distance_1)"
      ],
      "metadata": {
        "colab": {
          "base_uri": "https://localhost:8080/"
        },
        "id": "dceVo36g0vI5",
        "outputId": "18c2648e-7569-439c-db88-ddcd2b09c774"
      },
      "execution_count": 37,
      "outputs": [
        {
          "output_type": "stream",
          "name": "stdout",
          "text": [
            "          lon        lat height\n",
            "0   18.068531  59.328982   30.0\n",
            "2   18.415089  59.358584      6\n",
            "16  18.673459  59.376314   30.0\n",
            "34.816947965156515\n"
          ]
        }
      ]
    },
    {
      "cell_type": "markdown",
      "source": [
        "![](https://drive.google.com/uc?export=view&id=13Psc1jmN4oxXgW1QXM-kYCJbwCTTLOSR)\n"
      ],
      "metadata": {
        "id": "SmphNC8LogMs"
      }
    },
    {
      "cell_type": "code",
      "source": [
        "drawMapBoxMap(finalRoute_1)"
      ],
      "metadata": {
        "colab": {
          "base_uri": "https://localhost:8080/",
          "height": 500
        },
        "id": "ADhxhw5w0yQ5",
        "outputId": "2a4622fa-cdc6-4553-e8aa-9d7e2326c26c"
      },
      "execution_count": 38,
      "outputs": [
        {
          "output_type": "display_data",
          "data": {
            "text/plain": [
              "<IPython.core.display.Javascript object>"
            ],
            "application/javascript": [
              "google.colab.output.setIframeHeight(500, true, {minHeight: 500})"
            ]
          },
          "metadata": {}
        },
        {
          "output_type": "display_data",
          "data": {
            "text/plain": [
              "<IPython.core.display.HTML object>"
            ],
            "text/html": [
              "<!DOCTYPE html>\n",
              "<html>\n",
              "  <head>\n",
              "    <meta http-equiv=\"content-type\" content=\"text/html; charset=UTF-8\" />\n",
              "    <title>pydeck</title>\n",
              "        <script src=\"https://api.tiles.mapbox.com/mapbox-gl-js/v1.13.0/mapbox-gl.js\"></script>\n",
              "        <link rel=\"stylesheet\" href=\"https://maxcdn.bootstrapcdn.com/bootstrap/3.2.0/css/bootstrap-theme.min.css\" />\n",
              "    <link rel=\"stylesheet\" href=\"https://maxcdn.bootstrapcdn.com/font-awesome/4.6.3/css/font-awesome.min.css\" />\n",
              "    <script src='https://cdn.jsdelivr.net/npm/@deck.gl/jupyter-widget@~8.5.*/dist/index.js'></script>\n",
              "    <style>\n",
              "    body {\n",
              "  margin: 0;\n",
              "  padding: 0;\n",
              "  overflow: hidden;\n",
              "}\n",
              "\n",
              "#deck-map-container {\n",
              "  width: 100%;\n",
              "  height: 100%;\n",
              "  background-color: black;\n",
              "}\n",
              "\n",
              "#map {\n",
              "  pointer-events: none;\n",
              "  height: 100%;\n",
              "  width: 100%;\n",
              "  position: absolute;\n",
              "  z-index: 1;\n",
              "}\n",
              "\n",
              "#deckgl-overlay {\n",
              "  z-index: 2;\n",
              "  background: none;\n",
              "}\n",
              "\n",
              "#deck-map-wrapper {\n",
              "  width: 100%;\n",
              "  height: 100%;\n",
              "}\n",
              "\n",
              "#deck-container {\n",
              "  width: 100vw;\n",
              "  height: 100vh;\n",
              "}\n",
              "    </style>\n",
              "  </head>\n",
              "  <body>\n",
              "    <div id=\"deck-container\">\n",
              "    </div>\n",
              "  </body>\n",
              "  <script>\n",
              "    const jsonInput = {\"initialViewState\": {\"bearing\": -1.45748987854251, \"latitude\": 59.196318798583725, \"longitude\": 18.599920729657768, \"pitch\": 0.5797101449275388, \"zoom\": 8}, \"layers\": [{\"@@type\": \"ColumnLayer\", \"autoHighlight\": true, \"data\": [{\"height\": 30.0, \"lat\": 59.328982, \"lon\": 18.068531}, {\"height\": \"6\", \"lat\": 59.358584, \"lon\": 18.4150892}, {\"height\": 30.0, \"lat\": 59.3763143, \"lon\": 18.6734587}], \"elevationScale\": 100, \"filled\": true, \"getElevation\": \"@@=height\", \"getFillColor\": [0, 0, 255, 140], \"getPosition\": \"@@=[lon, lat]\", \"id\": \"712e820e-8a06-4bcd-8489-c9ac2987b5da\", \"minRadius\": 10, \"opacity\": true, \"pickable\": true, \"radius\": 500, \"radiusUnits\": \"@@=pixels\"}], \"mapProvider\": \"mapbox\", \"mapStyle\": \"mapbox://styles/mapbox/streets-v11\", \"views\": [{\"@@type\": \"MapView\", \"controller\": true}]};\n",
              "    const tooltip = true;\n",
              "    const customLibraries = null;\n",
              "\n",
              "    const deckInstance = createDeck({\n",
              "            mapboxApiKey: 'pk.eyJ1IjoiaGlzdHJhdmVsc3RvcmllcyIsImEiOiJjbDZmYTRqa20wMWp3M2ltcTBkdWhudjdwIn0.TZUuKeVMFdSDZZtX_MPjzw',\n",
              "                  container: document.getElementById('deck-container'),\n",
              "      jsonInput,\n",
              "      tooltip,\n",
              "      customLibraries\n",
              "    });\n",
              "\n",
              "  </script>\n",
              "</html>"
            ]
          },
          "metadata": {}
        }
      ]
    },
    {
      "cell_type": "code",
      "source": [
        "distance_2, finalRoute_2, routeDistance_2, routePassage_2 = calculateDistanceBetweenTwoDestinations(route_2_Updated, (18.6734587, 59.3763143), (17.840492,58.834266))"
      ],
      "metadata": {
        "colab": {
          "base_uri": "https://localhost:8080/"
        },
        "id": "JeYISFF_00bc",
        "outputId": "3b734a25-7309-4324-8a79-5a3cb1572666"
      },
      "execution_count": 39,
      "outputs": [
        {
          "output_type": "stream",
          "name": "stdout",
          "text": [
            "          lon        lat height\n",
            "0   18.673459  59.376314   30.0\n",
            "1   18.154908  59.320767      6\n",
            "2   18.492252  59.182294      3\n",
            "3   18.618563  59.223811      6\n",
            "4   18.565901  59.207756      7\n",
            "5   18.613513  59.217802      7\n",
            "6   18.015065  58.856961     13\n",
            "7   18.452297  59.361799      6\n",
            "8   18.415089  59.358584      6\n",
            "9   18.389168  59.371421      5\n",
            "10  18.376364  59.362923      4\n",
            "11  18.335251  59.371713      5\n",
            "12  18.310531  59.366465      6\n",
            "13  18.279718  59.374118      7\n",
            "14  18.268732  59.365634      3\n",
            "15  18.259006  59.363986      6\n",
            "16  18.176414  59.332282      6\n",
            "17  18.810237  59.313307      3\n",
            "18  18.810817  59.318295      8\n",
            "19  18.747238  59.316970     12\n",
            "20  18.759072  59.304925      6\n",
            "21  18.830493  59.355928      5\n",
            "22  18.753418  59.371849      7\n",
            "23  18.744621  59.369672      3\n",
            "24  18.605785  59.369791      7\n",
            "25  18.429988  59.131701     24\n",
            "26  18.422345  59.128426      5\n",
            "27  18.407576  59.124412      3\n",
            "28  18.426427  59.120652      4\n",
            "29  18.715127  59.296403      6\n",
            "30  18.665500  59.247859      5\n",
            "31  18.554695  59.155542      8\n",
            "32  18.464053  59.142995      7\n",
            "33  18.439036  59.140141      6\n",
            "34  18.710470  59.286732      7\n",
            "35  18.409850  59.113394      3\n",
            "36  18.397126  59.114148      6\n",
            "37  18.298571  59.073413      6\n",
            "38  18.246372  59.011935      5\n",
            "39  18.258939  59.002729      8\n",
            "40  18.186326  58.978232      7\n",
            "41  18.367085  59.110389      4\n",
            "42  18.372879  59.106613     10\n",
            "43  18.349061  59.093688      4\n",
            "44  18.082814  58.906675      8\n",
            "45  18.024439  58.897315     10\n",
            "46  18.568266  58.962971      3\n",
            "47  17.959499  58.896110      3\n",
            "48  18.715179  59.375661      3\n",
            "49  17.977776  58.918058      8\n",
            "50  18.209156  59.334586      7\n",
            "51  18.614218  59.373879     16\n",
            "52  18.673459  59.376314      5\n",
            "53  18.420133  59.133833      4\n",
            "54  17.928323  58.877950      3\n",
            "55  17.946801  58.889305      3\n",
            "56  18.389214  59.327072      3\n",
            "57  17.932587  59.304008      3\n",
            "58  18.151326  59.303464      3\n",
            "59  17.840492  58.834266   30.0\n"
          ]
        }
      ]
    },
    {
      "cell_type": "code",
      "source": [
        "print(distance_2)\n",
        "print(finalRoute_2)"
      ],
      "metadata": {
        "colab": {
          "base_uri": "https://localhost:8080/"
        },
        "id": "wP0EadPd04-z",
        "outputId": "b63ef8af-3c28-49ed-ec9e-1abc89035e5e"
      },
      "execution_count": 40,
      "outputs": [
        {
          "output_type": "stream",
          "name": "stdout",
          "text": [
            "78.94201861421794\n",
            "          lon        lat height\n",
            "0   18.673459  59.376314   30.0\n",
            "4   18.565901  59.207756      7\n",
            "35  18.409850  59.113394      3\n",
            "40  18.186326  58.978232      7\n",
            "54  17.928323  58.877950      3\n",
            "59  17.840492  58.834266   30.0\n"
          ]
        }
      ]
    },
    {
      "cell_type": "markdown",
      "source": [
        "![](https://drive.google.com/uc?export=view&id=1yjG5dB_sU9mbVeIf61RQsw_PcmLjPYbf)\n"
      ],
      "metadata": {
        "id": "s3nAgL_doeP6"
      }
    },
    {
      "cell_type": "code",
      "source": [
        "drawMapBoxMap(finalRoute_2)"
      ],
      "metadata": {
        "colab": {
          "base_uri": "https://localhost:8080/",
          "height": 0
        },
        "id": "ag-RaQYt09EA",
        "outputId": "b2d10f6b-0550-4248-efd1-cecce0401b35"
      },
      "execution_count": 41,
      "outputs": [
        {
          "output_type": "display_data",
          "data": {
            "text/plain": [
              "<IPython.core.display.Javascript object>"
            ],
            "application/javascript": [
              "google.colab.output.setIframeHeight(500, true, {minHeight: 500})"
            ]
          },
          "metadata": {}
        },
        {
          "output_type": "display_data",
          "data": {
            "text/plain": [
              "<IPython.core.display.HTML object>"
            ],
            "text/html": [
              "<!DOCTYPE html>\n",
              "<html>\n",
              "  <head>\n",
              "    <meta http-equiv=\"content-type\" content=\"text/html; charset=UTF-8\" />\n",
              "    <title>pydeck</title>\n",
              "        <script src=\"https://api.tiles.mapbox.com/mapbox-gl-js/v1.13.0/mapbox-gl.js\"></script>\n",
              "        <link rel=\"stylesheet\" href=\"https://maxcdn.bootstrapcdn.com/bootstrap/3.2.0/css/bootstrap-theme.min.css\" />\n",
              "    <link rel=\"stylesheet\" href=\"https://maxcdn.bootstrapcdn.com/font-awesome/4.6.3/css/font-awesome.min.css\" />\n",
              "    <script src='https://cdn.jsdelivr.net/npm/@deck.gl/jupyter-widget@~8.5.*/dist/index.js'></script>\n",
              "    <style>\n",
              "    body {\n",
              "  margin: 0;\n",
              "  padding: 0;\n",
              "  overflow: hidden;\n",
              "}\n",
              "\n",
              "#deck-map-container {\n",
              "  width: 100%;\n",
              "  height: 100%;\n",
              "  background-color: black;\n",
              "}\n",
              "\n",
              "#map {\n",
              "  pointer-events: none;\n",
              "  height: 100%;\n",
              "  width: 100%;\n",
              "  position: absolute;\n",
              "  z-index: 1;\n",
              "}\n",
              "\n",
              "#deckgl-overlay {\n",
              "  z-index: 2;\n",
              "  background: none;\n",
              "}\n",
              "\n",
              "#deck-map-wrapper {\n",
              "  width: 100%;\n",
              "  height: 100%;\n",
              "}\n",
              "\n",
              "#deck-container {\n",
              "  width: 100vw;\n",
              "  height: 100vh;\n",
              "}\n",
              "    </style>\n",
              "  </head>\n",
              "  <body>\n",
              "    <div id=\"deck-container\">\n",
              "    </div>\n",
              "  </body>\n",
              "  <script>\n",
              "    const jsonInput = {\"initialViewState\": {\"bearing\": -1.45748987854251, \"latitude\": 59.196318798583725, \"longitude\": 18.599920729657768, \"pitch\": 0.5797101449275388, \"zoom\": 8}, \"layers\": [{\"@@type\": \"ColumnLayer\", \"autoHighlight\": true, \"data\": [{\"height\": 30.0, \"lat\": 59.3763143, \"lon\": 18.6734587}, {\"height\": \"7\", \"lat\": 59.2077557, \"lon\": 18.565901}, {\"height\": \"3\", \"lat\": 59.1133937, \"lon\": 18.4098504}, {\"height\": \"7\", \"lat\": 58.9782316, \"lon\": 18.1863258}, {\"height\": 3, \"lat\": 58.8779498, \"lon\": 17.928323}, {\"height\": 30.0, \"lat\": 58.834266, \"lon\": 17.840492}], \"elevationScale\": 100, \"filled\": true, \"getElevation\": \"@@=height\", \"getFillColor\": [0, 0, 255, 140], \"getPosition\": \"@@=[lon, lat]\", \"id\": \"c3679cc6-a6a6-4764-bfb4-bdcea4cf41ba\", \"minRadius\": 10, \"opacity\": true, \"pickable\": true, \"radius\": 500, \"radiusUnits\": \"@@=pixels\"}], \"mapProvider\": \"mapbox\", \"mapStyle\": \"mapbox://styles/mapbox/streets-v11\", \"views\": [{\"@@type\": \"MapView\", \"controller\": true}]};\n",
              "    const tooltip = true;\n",
              "    const customLibraries = null;\n",
              "\n",
              "    const deckInstance = createDeck({\n",
              "            mapboxApiKey: 'pk.eyJ1IjoiaGlzdHJhdmVsc3RvcmllcyIsImEiOiJjbDZmYTRqa20wMWp3M2ltcTBkdWhudjdwIn0.TZUuKeVMFdSDZZtX_MPjzw',\n",
              "                  container: document.getElementById('deck-container'),\n",
              "      jsonInput,\n",
              "      tooltip,\n",
              "      customLibraries\n",
              "    });\n",
              "\n",
              "  </script>\n",
              "</html>"
            ]
          },
          "metadata": {}
        }
      ]
    },
    {
      "cell_type": "markdown",
      "source": [
        "### Visualizing the minimal set of lighthouses"
      ],
      "metadata": {
        "id": "wHSGh0cC57no"
      }
    },
    {
      "cell_type": "code",
      "source": [
        "finalRoute = pd.concat([finalRoute_1, finalRoute_2])"
      ],
      "metadata": {
        "id": "tghMvVlw1DjH"
      },
      "execution_count": 42,
      "outputs": []
    },
    {
      "cell_type": "markdown",
      "source": [
        "![](https://drive.google.com/uc?export=view&id=13Oirr8BYviKgEtUuIwRoSz8EmZ8MnI97)\n"
      ],
      "metadata": {
        "id": "Dy8VQIkaoaYB"
      }
    },
    {
      "cell_type": "code",
      "source": [
        "drawMapBoxMap(finalRoute)"
      ],
      "metadata": {
        "colab": {
          "base_uri": "https://localhost:8080/",
          "height": 500
        },
        "id": "-6jwVlqt1GeV",
        "outputId": "b4a213ff-8064-4c28-9138-7187adfc0cef"
      },
      "execution_count": 43,
      "outputs": [
        {
          "output_type": "display_data",
          "data": {
            "text/plain": [
              "<IPython.core.display.Javascript object>"
            ],
            "application/javascript": [
              "google.colab.output.setIframeHeight(500, true, {minHeight: 500})"
            ]
          },
          "metadata": {}
        },
        {
          "output_type": "display_data",
          "data": {
            "text/plain": [
              "<IPython.core.display.HTML object>"
            ],
            "text/html": [
              "<!DOCTYPE html>\n",
              "<html>\n",
              "  <head>\n",
              "    <meta http-equiv=\"content-type\" content=\"text/html; charset=UTF-8\" />\n",
              "    <title>pydeck</title>\n",
              "        <script src=\"https://api.tiles.mapbox.com/mapbox-gl-js/v1.13.0/mapbox-gl.js\"></script>\n",
              "        <link rel=\"stylesheet\" href=\"https://maxcdn.bootstrapcdn.com/bootstrap/3.2.0/css/bootstrap-theme.min.css\" />\n",
              "    <link rel=\"stylesheet\" href=\"https://maxcdn.bootstrapcdn.com/font-awesome/4.6.3/css/font-awesome.min.css\" />\n",
              "    <script src='https://cdn.jsdelivr.net/npm/@deck.gl/jupyter-widget@~8.5.*/dist/index.js'></script>\n",
              "    <style>\n",
              "    body {\n",
              "  margin: 0;\n",
              "  padding: 0;\n",
              "  overflow: hidden;\n",
              "}\n",
              "\n",
              "#deck-map-container {\n",
              "  width: 100%;\n",
              "  height: 100%;\n",
              "  background-color: black;\n",
              "}\n",
              "\n",
              "#map {\n",
              "  pointer-events: none;\n",
              "  height: 100%;\n",
              "  width: 100%;\n",
              "  position: absolute;\n",
              "  z-index: 1;\n",
              "}\n",
              "\n",
              "#deckgl-overlay {\n",
              "  z-index: 2;\n",
              "  background: none;\n",
              "}\n",
              "\n",
              "#deck-map-wrapper {\n",
              "  width: 100%;\n",
              "  height: 100%;\n",
              "}\n",
              "\n",
              "#deck-container {\n",
              "  width: 100vw;\n",
              "  height: 100vh;\n",
              "}\n",
              "    </style>\n",
              "  </head>\n",
              "  <body>\n",
              "    <div id=\"deck-container\">\n",
              "    </div>\n",
              "  </body>\n",
              "  <script>\n",
              "    const jsonInput = {\"initialViewState\": {\"bearing\": -1.45748987854251, \"latitude\": 59.196318798583725, \"longitude\": 18.599920729657768, \"pitch\": 0.5797101449275388, \"zoom\": 8}, \"layers\": [{\"@@type\": \"ColumnLayer\", \"autoHighlight\": true, \"data\": [{\"height\": 30.0, \"lat\": 59.328982, \"lon\": 18.068531}, {\"height\": \"6\", \"lat\": 59.358584, \"lon\": 18.4150892}, {\"height\": 30.0, \"lat\": 59.3763143, \"lon\": 18.6734587}, {\"height\": 30.0, \"lat\": 59.3763143, \"lon\": 18.6734587}, {\"height\": \"7\", \"lat\": 59.2077557, \"lon\": 18.565901}, {\"height\": \"3\", \"lat\": 59.1133937, \"lon\": 18.4098504}, {\"height\": \"7\", \"lat\": 58.9782316, \"lon\": 18.1863258}, {\"height\": 3, \"lat\": 58.8779498, \"lon\": 17.928323}, {\"height\": 30.0, \"lat\": 58.834266, \"lon\": 17.840492}], \"elevationScale\": 100, \"filled\": true, \"getElevation\": \"@@=height\", \"getFillColor\": [0, 0, 255, 140], \"getPosition\": \"@@=[lon, lat]\", \"id\": \"1385a240-a48a-4f9e-a799-ee7a601d90b7\", \"minRadius\": 10, \"opacity\": true, \"pickable\": true, \"radius\": 500, \"radiusUnits\": \"@@=pixels\"}], \"mapProvider\": \"mapbox\", \"mapStyle\": \"mapbox://styles/mapbox/streets-v11\", \"views\": [{\"@@type\": \"MapView\", \"controller\": true}]};\n",
              "    const tooltip = true;\n",
              "    const customLibraries = null;\n",
              "\n",
              "    const deckInstance = createDeck({\n",
              "            mapboxApiKey: 'pk.eyJ1IjoiaGlzdHJhdmVsc3RvcmllcyIsImEiOiJjbDZmYTRqa20wMWp3M2ltcTBkdWhudjdwIn0.TZUuKeVMFdSDZZtX_MPjzw',\n",
              "                  container: document.getElementById('deck-container'),\n",
              "      jsonInput,\n",
              "      tooltip,\n",
              "      customLibraries\n",
              "    });\n",
              "\n",
              "  </script>\n",
              "</html>"
            ]
          },
          "metadata": {}
        }
      ]
    },
    {
      "cell_type": "code",
      "source": [
        "finalRoute"
      ],
      "metadata": {
        "colab": {
          "base_uri": "https://localhost:8080/",
          "height": 332
        },
        "id": "TBDmQtnd1Kf9",
        "outputId": "78c4b1d2-f3ac-4ade-b5f3-c74c1f07d1f2"
      },
      "execution_count": 44,
      "outputs": [
        {
          "output_type": "execute_result",
          "data": {
            "text/plain": [
              "          lon        lat height\n",
              "0   18.068531  59.328982   30.0\n",
              "2   18.415089  59.358584      6\n",
              "16  18.673459  59.376314   30.0\n",
              "0   18.673459  59.376314   30.0\n",
              "4   18.565901  59.207756      7\n",
              "35  18.409850  59.113394      3\n",
              "40  18.186326  58.978232      7\n",
              "54  17.928323  58.877950      3\n",
              "59  17.840492  58.834266   30.0"
            ],
            "text/html": [
              "\n",
              "  <div id=\"df-fa75e272-116a-4fc1-8bfb-de4b03f8bd63\">\n",
              "    <div class=\"colab-df-container\">\n",
              "      <div>\n",
              "<style scoped>\n",
              "    .dataframe tbody tr th:only-of-type {\n",
              "        vertical-align: middle;\n",
              "    }\n",
              "\n",
              "    .dataframe tbody tr th {\n",
              "        vertical-align: top;\n",
              "    }\n",
              "\n",
              "    .dataframe thead th {\n",
              "        text-align: right;\n",
              "    }\n",
              "</style>\n",
              "<table border=\"1\" class=\"dataframe\">\n",
              "  <thead>\n",
              "    <tr style=\"text-align: right;\">\n",
              "      <th></th>\n",
              "      <th>lon</th>\n",
              "      <th>lat</th>\n",
              "      <th>height</th>\n",
              "    </tr>\n",
              "  </thead>\n",
              "  <tbody>\n",
              "    <tr>\n",
              "      <th>0</th>\n",
              "      <td>18.068531</td>\n",
              "      <td>59.328982</td>\n",
              "      <td>30.0</td>\n",
              "    </tr>\n",
              "    <tr>\n",
              "      <th>2</th>\n",
              "      <td>18.415089</td>\n",
              "      <td>59.358584</td>\n",
              "      <td>6</td>\n",
              "    </tr>\n",
              "    <tr>\n",
              "      <th>16</th>\n",
              "      <td>18.673459</td>\n",
              "      <td>59.376314</td>\n",
              "      <td>30.0</td>\n",
              "    </tr>\n",
              "    <tr>\n",
              "      <th>0</th>\n",
              "      <td>18.673459</td>\n",
              "      <td>59.376314</td>\n",
              "      <td>30.0</td>\n",
              "    </tr>\n",
              "    <tr>\n",
              "      <th>4</th>\n",
              "      <td>18.565901</td>\n",
              "      <td>59.207756</td>\n",
              "      <td>7</td>\n",
              "    </tr>\n",
              "    <tr>\n",
              "      <th>35</th>\n",
              "      <td>18.409850</td>\n",
              "      <td>59.113394</td>\n",
              "      <td>3</td>\n",
              "    </tr>\n",
              "    <tr>\n",
              "      <th>40</th>\n",
              "      <td>18.186326</td>\n",
              "      <td>58.978232</td>\n",
              "      <td>7</td>\n",
              "    </tr>\n",
              "    <tr>\n",
              "      <th>54</th>\n",
              "      <td>17.928323</td>\n",
              "      <td>58.877950</td>\n",
              "      <td>3</td>\n",
              "    </tr>\n",
              "    <tr>\n",
              "      <th>59</th>\n",
              "      <td>17.840492</td>\n",
              "      <td>58.834266</td>\n",
              "      <td>30.0</td>\n",
              "    </tr>\n",
              "  </tbody>\n",
              "</table>\n",
              "</div>\n",
              "      <button class=\"colab-df-convert\" onclick=\"convertToInteractive('df-fa75e272-116a-4fc1-8bfb-de4b03f8bd63')\"\n",
              "              title=\"Convert this dataframe to an interactive table.\"\n",
              "              style=\"display:none;\">\n",
              "        \n",
              "  <svg xmlns=\"http://www.w3.org/2000/svg\" height=\"24px\"viewBox=\"0 0 24 24\"\n",
              "       width=\"24px\">\n",
              "    <path d=\"M0 0h24v24H0V0z\" fill=\"none\"/>\n",
              "    <path d=\"M18.56 5.44l.94 2.06.94-2.06 2.06-.94-2.06-.94-.94-2.06-.94 2.06-2.06.94zm-11 1L8.5 8.5l.94-2.06 2.06-.94-2.06-.94L8.5 2.5l-.94 2.06-2.06.94zm10 10l.94 2.06.94-2.06 2.06-.94-2.06-.94-.94-2.06-.94 2.06-2.06.94z\"/><path d=\"M17.41 7.96l-1.37-1.37c-.4-.4-.92-.59-1.43-.59-.52 0-1.04.2-1.43.59L10.3 9.45l-7.72 7.72c-.78.78-.78 2.05 0 2.83L4 21.41c.39.39.9.59 1.41.59.51 0 1.02-.2 1.41-.59l7.78-7.78 2.81-2.81c.8-.78.8-2.07 0-2.86zM5.41 20L4 18.59l7.72-7.72 1.47 1.35L5.41 20z\"/>\n",
              "  </svg>\n",
              "      </button>\n",
              "      \n",
              "  <style>\n",
              "    .colab-df-container {\n",
              "      display:flex;\n",
              "      flex-wrap:wrap;\n",
              "      gap: 12px;\n",
              "    }\n",
              "\n",
              "    .colab-df-convert {\n",
              "      background-color: #E8F0FE;\n",
              "      border: none;\n",
              "      border-radius: 50%;\n",
              "      cursor: pointer;\n",
              "      display: none;\n",
              "      fill: #1967D2;\n",
              "      height: 32px;\n",
              "      padding: 0 0 0 0;\n",
              "      width: 32px;\n",
              "    }\n",
              "\n",
              "    .colab-df-convert:hover {\n",
              "      background-color: #E2EBFA;\n",
              "      box-shadow: 0px 1px 2px rgba(60, 64, 67, 0.3), 0px 1px 3px 1px rgba(60, 64, 67, 0.15);\n",
              "      fill: #174EA6;\n",
              "    }\n",
              "\n",
              "    [theme=dark] .colab-df-convert {\n",
              "      background-color: #3B4455;\n",
              "      fill: #D2E3FC;\n",
              "    }\n",
              "\n",
              "    [theme=dark] .colab-df-convert:hover {\n",
              "      background-color: #434B5C;\n",
              "      box-shadow: 0px 1px 3px 1px rgba(0, 0, 0, 0.15);\n",
              "      filter: drop-shadow(0px 1px 2px rgba(0, 0, 0, 0.3));\n",
              "      fill: #FFFFFF;\n",
              "    }\n",
              "  </style>\n",
              "\n",
              "      <script>\n",
              "        const buttonEl =\n",
              "          document.querySelector('#df-fa75e272-116a-4fc1-8bfb-de4b03f8bd63 button.colab-df-convert');\n",
              "        buttonEl.style.display =\n",
              "          google.colab.kernel.accessAllowed ? 'block' : 'none';\n",
              "\n",
              "        async function convertToInteractive(key) {\n",
              "          const element = document.querySelector('#df-fa75e272-116a-4fc1-8bfb-de4b03f8bd63');\n",
              "          const dataTable =\n",
              "            await google.colab.kernel.invokeFunction('convertToInteractive',\n",
              "                                                     [key], {});\n",
              "          if (!dataTable) return;\n",
              "\n",
              "          const docLinkHtml = 'Like what you see? Visit the ' +\n",
              "            '<a target=\"_blank\" href=https://colab.research.google.com/notebooks/data_table.ipynb>data table notebook</a>'\n",
              "            + ' to learn more about interactive tables.';\n",
              "          element.innerHTML = '';\n",
              "          dataTable['output_type'] = 'display_data';\n",
              "          await google.colab.output.renderOutput(dataTable, element);\n",
              "          const docLink = document.createElement('div');\n",
              "          docLink.innerHTML = docLinkHtml;\n",
              "          element.appendChild(docLink);\n",
              "        }\n",
              "      </script>\n",
              "    </div>\n",
              "  </div>\n",
              "  "
            ]
          },
          "metadata": {},
          "execution_count": 44
        }
      ]
    },
    {
      "cell_type": "code",
      "source": [
        "finalRoute = finalRoute.drop_duplicates()\n",
        "finalRoute = finalRoute.reset_index()\n",
        "finalRoute = finalRoute.drop(['index'], axis=1)\n",
        "finalRoute"
      ],
      "metadata": {
        "colab": {
          "base_uri": "https://localhost:8080/",
          "height": 300
        },
        "id": "gieggwyI1NZV",
        "outputId": "bb240baa-4607-41e0-e3ac-4b08aa919dc8"
      },
      "execution_count": 45,
      "outputs": [
        {
          "output_type": "execute_result",
          "data": {
            "text/plain": [
              "         lon        lat height\n",
              "0  18.068531  59.328982   30.0\n",
              "1  18.415089  59.358584      6\n",
              "2  18.673459  59.376314   30.0\n",
              "3  18.565901  59.207756      7\n",
              "4  18.409850  59.113394      3\n",
              "5  18.186326  58.978232      7\n",
              "6  17.928323  58.877950      3\n",
              "7  17.840492  58.834266   30.0"
            ],
            "text/html": [
              "\n",
              "  <div id=\"df-1d914916-6aaa-4645-8755-5fea5ba46fe1\">\n",
              "    <div class=\"colab-df-container\">\n",
              "      <div>\n",
              "<style scoped>\n",
              "    .dataframe tbody tr th:only-of-type {\n",
              "        vertical-align: middle;\n",
              "    }\n",
              "\n",
              "    .dataframe tbody tr th {\n",
              "        vertical-align: top;\n",
              "    }\n",
              "\n",
              "    .dataframe thead th {\n",
              "        text-align: right;\n",
              "    }\n",
              "</style>\n",
              "<table border=\"1\" class=\"dataframe\">\n",
              "  <thead>\n",
              "    <tr style=\"text-align: right;\">\n",
              "      <th></th>\n",
              "      <th>lon</th>\n",
              "      <th>lat</th>\n",
              "      <th>height</th>\n",
              "    </tr>\n",
              "  </thead>\n",
              "  <tbody>\n",
              "    <tr>\n",
              "      <th>0</th>\n",
              "      <td>18.068531</td>\n",
              "      <td>59.328982</td>\n",
              "      <td>30.0</td>\n",
              "    </tr>\n",
              "    <tr>\n",
              "      <th>1</th>\n",
              "      <td>18.415089</td>\n",
              "      <td>59.358584</td>\n",
              "      <td>6</td>\n",
              "    </tr>\n",
              "    <tr>\n",
              "      <th>2</th>\n",
              "      <td>18.673459</td>\n",
              "      <td>59.376314</td>\n",
              "      <td>30.0</td>\n",
              "    </tr>\n",
              "    <tr>\n",
              "      <th>3</th>\n",
              "      <td>18.565901</td>\n",
              "      <td>59.207756</td>\n",
              "      <td>7</td>\n",
              "    </tr>\n",
              "    <tr>\n",
              "      <th>4</th>\n",
              "      <td>18.409850</td>\n",
              "      <td>59.113394</td>\n",
              "      <td>3</td>\n",
              "    </tr>\n",
              "    <tr>\n",
              "      <th>5</th>\n",
              "      <td>18.186326</td>\n",
              "      <td>58.978232</td>\n",
              "      <td>7</td>\n",
              "    </tr>\n",
              "    <tr>\n",
              "      <th>6</th>\n",
              "      <td>17.928323</td>\n",
              "      <td>58.877950</td>\n",
              "      <td>3</td>\n",
              "    </tr>\n",
              "    <tr>\n",
              "      <th>7</th>\n",
              "      <td>17.840492</td>\n",
              "      <td>58.834266</td>\n",
              "      <td>30.0</td>\n",
              "    </tr>\n",
              "  </tbody>\n",
              "</table>\n",
              "</div>\n",
              "      <button class=\"colab-df-convert\" onclick=\"convertToInteractive('df-1d914916-6aaa-4645-8755-5fea5ba46fe1')\"\n",
              "              title=\"Convert this dataframe to an interactive table.\"\n",
              "              style=\"display:none;\">\n",
              "        \n",
              "  <svg xmlns=\"http://www.w3.org/2000/svg\" height=\"24px\"viewBox=\"0 0 24 24\"\n",
              "       width=\"24px\">\n",
              "    <path d=\"M0 0h24v24H0V0z\" fill=\"none\"/>\n",
              "    <path d=\"M18.56 5.44l.94 2.06.94-2.06 2.06-.94-2.06-.94-.94-2.06-.94 2.06-2.06.94zm-11 1L8.5 8.5l.94-2.06 2.06-.94-2.06-.94L8.5 2.5l-.94 2.06-2.06.94zm10 10l.94 2.06.94-2.06 2.06-.94-2.06-.94-.94-2.06-.94 2.06-2.06.94z\"/><path d=\"M17.41 7.96l-1.37-1.37c-.4-.4-.92-.59-1.43-.59-.52 0-1.04.2-1.43.59L10.3 9.45l-7.72 7.72c-.78.78-.78 2.05 0 2.83L4 21.41c.39.39.9.59 1.41.59.51 0 1.02-.2 1.41-.59l7.78-7.78 2.81-2.81c.8-.78.8-2.07 0-2.86zM5.41 20L4 18.59l7.72-7.72 1.47 1.35L5.41 20z\"/>\n",
              "  </svg>\n",
              "      </button>\n",
              "      \n",
              "  <style>\n",
              "    .colab-df-container {\n",
              "      display:flex;\n",
              "      flex-wrap:wrap;\n",
              "      gap: 12px;\n",
              "    }\n",
              "\n",
              "    .colab-df-convert {\n",
              "      background-color: #E8F0FE;\n",
              "      border: none;\n",
              "      border-radius: 50%;\n",
              "      cursor: pointer;\n",
              "      display: none;\n",
              "      fill: #1967D2;\n",
              "      height: 32px;\n",
              "      padding: 0 0 0 0;\n",
              "      width: 32px;\n",
              "    }\n",
              "\n",
              "    .colab-df-convert:hover {\n",
              "      background-color: #E2EBFA;\n",
              "      box-shadow: 0px 1px 2px rgba(60, 64, 67, 0.3), 0px 1px 3px 1px rgba(60, 64, 67, 0.15);\n",
              "      fill: #174EA6;\n",
              "    }\n",
              "\n",
              "    [theme=dark] .colab-df-convert {\n",
              "      background-color: #3B4455;\n",
              "      fill: #D2E3FC;\n",
              "    }\n",
              "\n",
              "    [theme=dark] .colab-df-convert:hover {\n",
              "      background-color: #434B5C;\n",
              "      box-shadow: 0px 1px 3px 1px rgba(0, 0, 0, 0.15);\n",
              "      filter: drop-shadow(0px 1px 2px rgba(0, 0, 0, 0.3));\n",
              "      fill: #FFFFFF;\n",
              "    }\n",
              "  </style>\n",
              "\n",
              "      <script>\n",
              "        const buttonEl =\n",
              "          document.querySelector('#df-1d914916-6aaa-4645-8755-5fea5ba46fe1 button.colab-df-convert');\n",
              "        buttonEl.style.display =\n",
              "          google.colab.kernel.accessAllowed ? 'block' : 'none';\n",
              "\n",
              "        async function convertToInteractive(key) {\n",
              "          const element = document.querySelector('#df-1d914916-6aaa-4645-8755-5fea5ba46fe1');\n",
              "          const dataTable =\n",
              "            await google.colab.kernel.invokeFunction('convertToInteractive',\n",
              "                                                     [key], {});\n",
              "          if (!dataTable) return;\n",
              "\n",
              "          const docLinkHtml = 'Like what you see? Visit the ' +\n",
              "            '<a target=\"_blank\" href=https://colab.research.google.com/notebooks/data_table.ipynb>data table notebook</a>'\n",
              "            + ' to learn more about interactive tables.';\n",
              "          element.innerHTML = '';\n",
              "          dataTable['output_type'] = 'display_data';\n",
              "          await google.colab.output.renderOutput(dataTable, element);\n",
              "          const docLink = document.createElement('div');\n",
              "          docLink.innerHTML = docLinkHtml;\n",
              "          element.appendChild(docLink);\n",
              "        }\n",
              "      </script>\n",
              "    </div>\n",
              "  </div>\n",
              "  "
            ]
          },
          "metadata": {},
          "execution_count": 45
        }
      ]
    },
    {
      "cell_type": "code",
      "source": [
        "distance, finalRoute, routeDistance, routePassage = calculateDistanceBetweenTwoDestinations(finalRoute)"
      ],
      "metadata": {
        "colab": {
          "base_uri": "https://localhost:8080/"
        },
        "id": "niOSKZ9J1Tnu",
        "outputId": "c5395280-85b8-48fd-858c-09233ac41c47"
      },
      "execution_count": 46,
      "outputs": [
        {
          "output_type": "stream",
          "name": "stdout",
          "text": [
            "         lon        lat height\n",
            "0  18.068531  59.328982   30.0\n",
            "1  18.415089  59.358584      6\n",
            "2  18.673459  59.376314   30.0\n",
            "3  18.565901  59.207756      7\n",
            "4  18.409850  59.113394      3\n",
            "5  18.186326  58.978232      7\n",
            "6  17.928323  58.877950      3\n",
            "7  17.840492  58.834266   30.0\n"
          ]
        }
      ]
    },
    {
      "cell_type": "markdown",
      "source": [
        "### Distance In Total"
      ],
      "metadata": {
        "id": "hm1rAt9Y73Bm"
      }
    },
    {
      "cell_type": "markdown",
      "source": [
        "Below output shows the distance from point1 to point2 in the cell in kilometers units"
      ],
      "metadata": {
        "id": "IWlESu9h781E"
      }
    },
    {
      "cell_type": "markdown",
      "source": [
        "routeDistance[0][7] prints the longest the farthest drone has to travel"
      ],
      "metadata": {
        "id": "ZATVFZE58Os2"
      }
    },
    {
      "cell_type": "code",
      "source": [
        "pd.DataFrame(routeDistance)"
      ],
      "metadata": {
        "colab": {
          "base_uri": "https://localhost:8080/",
          "height": 300
        },
        "id": "Ie6GuPql1ahp",
        "outputId": "af3f6bb9-544d-4712-c578-3010537a6643"
      },
      "execution_count": 47,
      "outputs": [
        {
          "output_type": "execute_result",
          "data": {
            "text/plain": [
              "           0          1          2          3          4          5  \\\n",
              "0   0.000000  19.993434  34.816948  38.867196  52.658215  72.439730   \n",
              "1  19.993434   0.000000  14.823514  18.873762  32.664781  52.446295   \n",
              "2  34.816948  14.823514   0.000000  19.752549  33.543568  53.325083   \n",
              "3  38.867196  18.873762  19.752549   0.000000  13.791019  33.572534   \n",
              "4  52.658215  32.664781  33.543568  13.791019   0.000000  19.781514   \n",
              "5  72.439730  52.446295  53.325083  33.572534  19.781514   0.000000   \n",
              "6  91.029943  71.036509  71.915296  52.162747  38.371728  18.590213   \n",
              "7  98.056666  78.063231  78.942019  59.189470  45.398450  25.616936   \n",
              "\n",
              "           6          7  \n",
              "0  91.029943  98.056666  \n",
              "1  71.036509  78.063231  \n",
              "2  71.915296  78.942019  \n",
              "3  52.162747  59.189470  \n",
              "4  38.371728  45.398450  \n",
              "5  18.590213  25.616936  \n",
              "6   0.000000   7.026723  \n",
              "7   7.026723   0.000000  "
            ],
            "text/html": [
              "\n",
              "  <div id=\"df-b7b239af-0b53-4e1b-9989-5373868981e1\">\n",
              "    <div class=\"colab-df-container\">\n",
              "      <div>\n",
              "<style scoped>\n",
              "    .dataframe tbody tr th:only-of-type {\n",
              "        vertical-align: middle;\n",
              "    }\n",
              "\n",
              "    .dataframe tbody tr th {\n",
              "        vertical-align: top;\n",
              "    }\n",
              "\n",
              "    .dataframe thead th {\n",
              "        text-align: right;\n",
              "    }\n",
              "</style>\n",
              "<table border=\"1\" class=\"dataframe\">\n",
              "  <thead>\n",
              "    <tr style=\"text-align: right;\">\n",
              "      <th></th>\n",
              "      <th>0</th>\n",
              "      <th>1</th>\n",
              "      <th>2</th>\n",
              "      <th>3</th>\n",
              "      <th>4</th>\n",
              "      <th>5</th>\n",
              "      <th>6</th>\n",
              "      <th>7</th>\n",
              "    </tr>\n",
              "  </thead>\n",
              "  <tbody>\n",
              "    <tr>\n",
              "      <th>0</th>\n",
              "      <td>0.000000</td>\n",
              "      <td>19.993434</td>\n",
              "      <td>34.816948</td>\n",
              "      <td>38.867196</td>\n",
              "      <td>52.658215</td>\n",
              "      <td>72.439730</td>\n",
              "      <td>91.029943</td>\n",
              "      <td>98.056666</td>\n",
              "    </tr>\n",
              "    <tr>\n",
              "      <th>1</th>\n",
              "      <td>19.993434</td>\n",
              "      <td>0.000000</td>\n",
              "      <td>14.823514</td>\n",
              "      <td>18.873762</td>\n",
              "      <td>32.664781</td>\n",
              "      <td>52.446295</td>\n",
              "      <td>71.036509</td>\n",
              "      <td>78.063231</td>\n",
              "    </tr>\n",
              "    <tr>\n",
              "      <th>2</th>\n",
              "      <td>34.816948</td>\n",
              "      <td>14.823514</td>\n",
              "      <td>0.000000</td>\n",
              "      <td>19.752549</td>\n",
              "      <td>33.543568</td>\n",
              "      <td>53.325083</td>\n",
              "      <td>71.915296</td>\n",
              "      <td>78.942019</td>\n",
              "    </tr>\n",
              "    <tr>\n",
              "      <th>3</th>\n",
              "      <td>38.867196</td>\n",
              "      <td>18.873762</td>\n",
              "      <td>19.752549</td>\n",
              "      <td>0.000000</td>\n",
              "      <td>13.791019</td>\n",
              "      <td>33.572534</td>\n",
              "      <td>52.162747</td>\n",
              "      <td>59.189470</td>\n",
              "    </tr>\n",
              "    <tr>\n",
              "      <th>4</th>\n",
              "      <td>52.658215</td>\n",
              "      <td>32.664781</td>\n",
              "      <td>33.543568</td>\n",
              "      <td>13.791019</td>\n",
              "      <td>0.000000</td>\n",
              "      <td>19.781514</td>\n",
              "      <td>38.371728</td>\n",
              "      <td>45.398450</td>\n",
              "    </tr>\n",
              "    <tr>\n",
              "      <th>5</th>\n",
              "      <td>72.439730</td>\n",
              "      <td>52.446295</td>\n",
              "      <td>53.325083</td>\n",
              "      <td>33.572534</td>\n",
              "      <td>19.781514</td>\n",
              "      <td>0.000000</td>\n",
              "      <td>18.590213</td>\n",
              "      <td>25.616936</td>\n",
              "    </tr>\n",
              "    <tr>\n",
              "      <th>6</th>\n",
              "      <td>91.029943</td>\n",
              "      <td>71.036509</td>\n",
              "      <td>71.915296</td>\n",
              "      <td>52.162747</td>\n",
              "      <td>38.371728</td>\n",
              "      <td>18.590213</td>\n",
              "      <td>0.000000</td>\n",
              "      <td>7.026723</td>\n",
              "    </tr>\n",
              "    <tr>\n",
              "      <th>7</th>\n",
              "      <td>98.056666</td>\n",
              "      <td>78.063231</td>\n",
              "      <td>78.942019</td>\n",
              "      <td>59.189470</td>\n",
              "      <td>45.398450</td>\n",
              "      <td>25.616936</td>\n",
              "      <td>7.026723</td>\n",
              "      <td>0.000000</td>\n",
              "    </tr>\n",
              "  </tbody>\n",
              "</table>\n",
              "</div>\n",
              "      <button class=\"colab-df-convert\" onclick=\"convertToInteractive('df-b7b239af-0b53-4e1b-9989-5373868981e1')\"\n",
              "              title=\"Convert this dataframe to an interactive table.\"\n",
              "              style=\"display:none;\">\n",
              "        \n",
              "  <svg xmlns=\"http://www.w3.org/2000/svg\" height=\"24px\"viewBox=\"0 0 24 24\"\n",
              "       width=\"24px\">\n",
              "    <path d=\"M0 0h24v24H0V0z\" fill=\"none\"/>\n",
              "    <path d=\"M18.56 5.44l.94 2.06.94-2.06 2.06-.94-2.06-.94-.94-2.06-.94 2.06-2.06.94zm-11 1L8.5 8.5l.94-2.06 2.06-.94-2.06-.94L8.5 2.5l-.94 2.06-2.06.94zm10 10l.94 2.06.94-2.06 2.06-.94-2.06-.94-.94-2.06-.94 2.06-2.06.94z\"/><path d=\"M17.41 7.96l-1.37-1.37c-.4-.4-.92-.59-1.43-.59-.52 0-1.04.2-1.43.59L10.3 9.45l-7.72 7.72c-.78.78-.78 2.05 0 2.83L4 21.41c.39.39.9.59 1.41.59.51 0 1.02-.2 1.41-.59l7.78-7.78 2.81-2.81c.8-.78.8-2.07 0-2.86zM5.41 20L4 18.59l7.72-7.72 1.47 1.35L5.41 20z\"/>\n",
              "  </svg>\n",
              "      </button>\n",
              "      \n",
              "  <style>\n",
              "    .colab-df-container {\n",
              "      display:flex;\n",
              "      flex-wrap:wrap;\n",
              "      gap: 12px;\n",
              "    }\n",
              "\n",
              "    .colab-df-convert {\n",
              "      background-color: #E8F0FE;\n",
              "      border: none;\n",
              "      border-radius: 50%;\n",
              "      cursor: pointer;\n",
              "      display: none;\n",
              "      fill: #1967D2;\n",
              "      height: 32px;\n",
              "      padding: 0 0 0 0;\n",
              "      width: 32px;\n",
              "    }\n",
              "\n",
              "    .colab-df-convert:hover {\n",
              "      background-color: #E2EBFA;\n",
              "      box-shadow: 0px 1px 2px rgba(60, 64, 67, 0.3), 0px 1px 3px 1px rgba(60, 64, 67, 0.15);\n",
              "      fill: #174EA6;\n",
              "    }\n",
              "\n",
              "    [theme=dark] .colab-df-convert {\n",
              "      background-color: #3B4455;\n",
              "      fill: #D2E3FC;\n",
              "    }\n",
              "\n",
              "    [theme=dark] .colab-df-convert:hover {\n",
              "      background-color: #434B5C;\n",
              "      box-shadow: 0px 1px 3px 1px rgba(0, 0, 0, 0.15);\n",
              "      filter: drop-shadow(0px 1px 2px rgba(0, 0, 0, 0.3));\n",
              "      fill: #FFFFFF;\n",
              "    }\n",
              "  </style>\n",
              "\n",
              "      <script>\n",
              "        const buttonEl =\n",
              "          document.querySelector('#df-b7b239af-0b53-4e1b-9989-5373868981e1 button.colab-df-convert');\n",
              "        buttonEl.style.display =\n",
              "          google.colab.kernel.accessAllowed ? 'block' : 'none';\n",
              "\n",
              "        async function convertToInteractive(key) {\n",
              "          const element = document.querySelector('#df-b7b239af-0b53-4e1b-9989-5373868981e1');\n",
              "          const dataTable =\n",
              "            await google.colab.kernel.invokeFunction('convertToInteractive',\n",
              "                                                     [key], {});\n",
              "          if (!dataTable) return;\n",
              "\n",
              "          const docLinkHtml = 'Like what you see? Visit the ' +\n",
              "            '<a target=\"_blank\" href=https://colab.research.google.com/notebooks/data_table.ipynb>data table notebook</a>'\n",
              "            + ' to learn more about interactive tables.';\n",
              "          element.innerHTML = '';\n",
              "          dataTable['output_type'] = 'display_data';\n",
              "          await google.colab.output.renderOutput(dataTable, element);\n",
              "          const docLink = document.createElement('div');\n",
              "          docLink.innerHTML = docLinkHtml;\n",
              "          element.appendChild(docLink);\n",
              "        }\n",
              "      </script>\n",
              "    </div>\n",
              "  </div>\n",
              "  "
            ]
          },
          "metadata": {},
          "execution_count": 47
        }
      ]
    },
    {
      "cell_type": "markdown",
      "source": [
        "For clarity : The below table \n",
        "\n",
        "*   val[i][j] = -1  means the drone flies directly\n",
        "*   val[i][j] = k  means the drone flies by stopping at k between i and j\n",
        "*   val[i][j] = -inf  same location\n",
        "\n"
      ],
      "metadata": {
        "id": "P2Q8LL5l1it4"
      }
    },
    {
      "cell_type": "code",
      "source": [
        "pd.DataFrame(routePassage)"
      ],
      "metadata": {
        "colab": {
          "base_uri": "https://localhost:8080/",
          "height": 300
        },
        "id": "57oK4FLl1bJh",
        "outputId": "afb88c1e-f933-4ed4-edf5-cce5506a0ef5"
      },
      "execution_count": 48,
      "outputs": [
        {
          "output_type": "execute_result",
          "data": {
            "text/plain": [
              "     0    1    2    3    4    5    6    7\n",
              "0 -inf -1.0  1.0  1.0  3.0  4.0  5.0  6.0\n",
              "1 -1.0 -inf -1.0 -1.0  3.0  4.0  5.0  6.0\n",
              "2  1.0 -1.0 -inf -1.0  3.0  4.0  5.0  6.0\n",
              "3  1.0 -1.0 -1.0 -inf -1.0  4.0  5.0  6.0\n",
              "4  3.0  3.0  3.0 -1.0 -inf -1.0  5.0  6.0\n",
              "5  4.0  4.0  4.0  4.0 -1.0 -inf -1.0  6.0\n",
              "6  5.0  5.0  5.0  5.0  5.0 -1.0 -inf -1.0\n",
              "7  6.0  6.0  6.0  6.0  6.0  6.0 -1.0 -inf"
            ],
            "text/html": [
              "\n",
              "  <div id=\"df-9332e3f9-f6c5-4a23-b622-0cdc839aab07\">\n",
              "    <div class=\"colab-df-container\">\n",
              "      <div>\n",
              "<style scoped>\n",
              "    .dataframe tbody tr th:only-of-type {\n",
              "        vertical-align: middle;\n",
              "    }\n",
              "\n",
              "    .dataframe tbody tr th {\n",
              "        vertical-align: top;\n",
              "    }\n",
              "\n",
              "    .dataframe thead th {\n",
              "        text-align: right;\n",
              "    }\n",
              "</style>\n",
              "<table border=\"1\" class=\"dataframe\">\n",
              "  <thead>\n",
              "    <tr style=\"text-align: right;\">\n",
              "      <th></th>\n",
              "      <th>0</th>\n",
              "      <th>1</th>\n",
              "      <th>2</th>\n",
              "      <th>3</th>\n",
              "      <th>4</th>\n",
              "      <th>5</th>\n",
              "      <th>6</th>\n",
              "      <th>7</th>\n",
              "    </tr>\n",
              "  </thead>\n",
              "  <tbody>\n",
              "    <tr>\n",
              "      <th>0</th>\n",
              "      <td>-inf</td>\n",
              "      <td>-1.0</td>\n",
              "      <td>1.0</td>\n",
              "      <td>1.0</td>\n",
              "      <td>3.0</td>\n",
              "      <td>4.0</td>\n",
              "      <td>5.0</td>\n",
              "      <td>6.0</td>\n",
              "    </tr>\n",
              "    <tr>\n",
              "      <th>1</th>\n",
              "      <td>-1.0</td>\n",
              "      <td>-inf</td>\n",
              "      <td>-1.0</td>\n",
              "      <td>-1.0</td>\n",
              "      <td>3.0</td>\n",
              "      <td>4.0</td>\n",
              "      <td>5.0</td>\n",
              "      <td>6.0</td>\n",
              "    </tr>\n",
              "    <tr>\n",
              "      <th>2</th>\n",
              "      <td>1.0</td>\n",
              "      <td>-1.0</td>\n",
              "      <td>-inf</td>\n",
              "      <td>-1.0</td>\n",
              "      <td>3.0</td>\n",
              "      <td>4.0</td>\n",
              "      <td>5.0</td>\n",
              "      <td>6.0</td>\n",
              "    </tr>\n",
              "    <tr>\n",
              "      <th>3</th>\n",
              "      <td>1.0</td>\n",
              "      <td>-1.0</td>\n",
              "      <td>-1.0</td>\n",
              "      <td>-inf</td>\n",
              "      <td>-1.0</td>\n",
              "      <td>4.0</td>\n",
              "      <td>5.0</td>\n",
              "      <td>6.0</td>\n",
              "    </tr>\n",
              "    <tr>\n",
              "      <th>4</th>\n",
              "      <td>3.0</td>\n",
              "      <td>3.0</td>\n",
              "      <td>3.0</td>\n",
              "      <td>-1.0</td>\n",
              "      <td>-inf</td>\n",
              "      <td>-1.0</td>\n",
              "      <td>5.0</td>\n",
              "      <td>6.0</td>\n",
              "    </tr>\n",
              "    <tr>\n",
              "      <th>5</th>\n",
              "      <td>4.0</td>\n",
              "      <td>4.0</td>\n",
              "      <td>4.0</td>\n",
              "      <td>4.0</td>\n",
              "      <td>-1.0</td>\n",
              "      <td>-inf</td>\n",
              "      <td>-1.0</td>\n",
              "      <td>6.0</td>\n",
              "    </tr>\n",
              "    <tr>\n",
              "      <th>6</th>\n",
              "      <td>5.0</td>\n",
              "      <td>5.0</td>\n",
              "      <td>5.0</td>\n",
              "      <td>5.0</td>\n",
              "      <td>5.0</td>\n",
              "      <td>-1.0</td>\n",
              "      <td>-inf</td>\n",
              "      <td>-1.0</td>\n",
              "    </tr>\n",
              "    <tr>\n",
              "      <th>7</th>\n",
              "      <td>6.0</td>\n",
              "      <td>6.0</td>\n",
              "      <td>6.0</td>\n",
              "      <td>6.0</td>\n",
              "      <td>6.0</td>\n",
              "      <td>6.0</td>\n",
              "      <td>-1.0</td>\n",
              "      <td>-inf</td>\n",
              "    </tr>\n",
              "  </tbody>\n",
              "</table>\n",
              "</div>\n",
              "      <button class=\"colab-df-convert\" onclick=\"convertToInteractive('df-9332e3f9-f6c5-4a23-b622-0cdc839aab07')\"\n",
              "              title=\"Convert this dataframe to an interactive table.\"\n",
              "              style=\"display:none;\">\n",
              "        \n",
              "  <svg xmlns=\"http://www.w3.org/2000/svg\" height=\"24px\"viewBox=\"0 0 24 24\"\n",
              "       width=\"24px\">\n",
              "    <path d=\"M0 0h24v24H0V0z\" fill=\"none\"/>\n",
              "    <path d=\"M18.56 5.44l.94 2.06.94-2.06 2.06-.94-2.06-.94-.94-2.06-.94 2.06-2.06.94zm-11 1L8.5 8.5l.94-2.06 2.06-.94-2.06-.94L8.5 2.5l-.94 2.06-2.06.94zm10 10l.94 2.06.94-2.06 2.06-.94-2.06-.94-.94-2.06-.94 2.06-2.06.94z\"/><path d=\"M17.41 7.96l-1.37-1.37c-.4-.4-.92-.59-1.43-.59-.52 0-1.04.2-1.43.59L10.3 9.45l-7.72 7.72c-.78.78-.78 2.05 0 2.83L4 21.41c.39.39.9.59 1.41.59.51 0 1.02-.2 1.41-.59l7.78-7.78 2.81-2.81c.8-.78.8-2.07 0-2.86zM5.41 20L4 18.59l7.72-7.72 1.47 1.35L5.41 20z\"/>\n",
              "  </svg>\n",
              "      </button>\n",
              "      \n",
              "  <style>\n",
              "    .colab-df-container {\n",
              "      display:flex;\n",
              "      flex-wrap:wrap;\n",
              "      gap: 12px;\n",
              "    }\n",
              "\n",
              "    .colab-df-convert {\n",
              "      background-color: #E8F0FE;\n",
              "      border: none;\n",
              "      border-radius: 50%;\n",
              "      cursor: pointer;\n",
              "      display: none;\n",
              "      fill: #1967D2;\n",
              "      height: 32px;\n",
              "      padding: 0 0 0 0;\n",
              "      width: 32px;\n",
              "    }\n",
              "\n",
              "    .colab-df-convert:hover {\n",
              "      background-color: #E2EBFA;\n",
              "      box-shadow: 0px 1px 2px rgba(60, 64, 67, 0.3), 0px 1px 3px 1px rgba(60, 64, 67, 0.15);\n",
              "      fill: #174EA6;\n",
              "    }\n",
              "\n",
              "    [theme=dark] .colab-df-convert {\n",
              "      background-color: #3B4455;\n",
              "      fill: #D2E3FC;\n",
              "    }\n",
              "\n",
              "    [theme=dark] .colab-df-convert:hover {\n",
              "      background-color: #434B5C;\n",
              "      box-shadow: 0px 1px 3px 1px rgba(0, 0, 0, 0.15);\n",
              "      filter: drop-shadow(0px 1px 2px rgba(0, 0, 0, 0.3));\n",
              "      fill: #FFFFFF;\n",
              "    }\n",
              "  </style>\n",
              "\n",
              "      <script>\n",
              "        const buttonEl =\n",
              "          document.querySelector('#df-9332e3f9-f6c5-4a23-b622-0cdc839aab07 button.colab-df-convert');\n",
              "        buttonEl.style.display =\n",
              "          google.colab.kernel.accessAllowed ? 'block' : 'none';\n",
              "\n",
              "        async function convertToInteractive(key) {\n",
              "          const element = document.querySelector('#df-9332e3f9-f6c5-4a23-b622-0cdc839aab07');\n",
              "          const dataTable =\n",
              "            await google.colab.kernel.invokeFunction('convertToInteractive',\n",
              "                                                     [key], {});\n",
              "          if (!dataTable) return;\n",
              "\n",
              "          const docLinkHtml = 'Like what you see? Visit the ' +\n",
              "            '<a target=\"_blank\" href=https://colab.research.google.com/notebooks/data_table.ipynb>data table notebook</a>'\n",
              "            + ' to learn more about interactive tables.';\n",
              "          element.innerHTML = '';\n",
              "          dataTable['output_type'] = 'display_data';\n",
              "          await google.colab.output.renderOutput(dataTable, element);\n",
              "          const docLink = document.createElement('div');\n",
              "          docLink.innerHTML = docLinkHtml;\n",
              "          element.appendChild(docLink);\n",
              "        }\n",
              "      </script>\n",
              "    </div>\n",
              "  </div>\n",
              "  "
            ]
          },
          "metadata": {},
          "execution_count": 48
        }
      ]
    },
    {
      "cell_type": "markdown",
      "metadata": {
        "id": "0yWe_8Vu54CI"
      },
      "source": [
        "# Part 3: Get drones from Stockholm to the docks!\n",
        "\n",
        "Let's say we installed empty docks into each of the selected lighthouses. How long would it take to fill every dock if we are dispatching the drones from Stockholm, and a drone takes 45 minutes to fully charge its battery in the dock?\n",
        "\n",
        "You may choose to write code here at any level of depth for this problem, or you can provide a ballpark estimate with a few written sentences."
      ]
    },
    {
      "cell_type": "markdown",
      "source": [
        "![](https://drive.google.com/uc?export=view&id=1WbGVXfwI_K2A_bnJwJATGpzvsH58fQBH)\n"
      ],
      "metadata": {
        "id": "mh_O7S_mDPza"
      }
    },
    {
      "cell_type": "markdown",
      "source": [
        "We see that we have to send 7 drones from Stockholm, the above picture shows the connections.\n",
        "\n",
        "At each lighthouse the drone will spend 45 mins to charge on its way to the end of the line.\n",
        "\n",
        "* L1 : All the 7 drones will pass here, we have to consider 6 charging time\n",
        "* L2 : Only one drone reaches here, and no charging to consider\n",
        "* L3 : 5 drones passes here and 4 drone stops for charging.\n",
        "* L4 : 4 drones passes here and 3 drone stops for charging.\n",
        "* L5 : 3 drones passes here and 2 drone stops for charging.\n",
        "* L6 : 2 drones passes here and 1 drone stops for charging.\n",
        "* L7 : Only one drone reaches here, and no charging to consider"
      ],
      "metadata": {
        "id": "RGEhQCtwFe4e"
      }
    },
    {
      "cell_type": "markdown",
      "source": [
        "\n",
        "And to make things efficient we start a drone from stockholm every 17th minute after releasing the first one. So that the travel time from second drone onwards comes under the charging time of the previous drone at lighthouse 1.\n",
        "\n"
      ],
      "metadata": {
        "id": "4-9LH5iTH_Q6"
      }
    },
    {
      "cell_type": "markdown",
      "source": [
        "Further on the configurations are here such that we can make sure that a drone reaches the lighthouse, when the previous drone is fully charged and ready go to next lighthouse"
      ],
      "metadata": {
        "id": "nsVmrGTIJB-7"
      }
    },
    {
      "cell_type": "markdown",
      "source": [
        "![](https://drive.google.com/uc?export=view&id=1QfyMt1cH61-_y5FK3YltlapjN9Cdxw2j)\n"
      ],
      "metadata": {
        "id": "udqadq39YjeE"
      }
    },
    {
      "cell_type": "markdown",
      "source": [
        "The above image shows two ways of calculating the time to install all the lighthouses with drones.\n",
        "First Calculation it takes **361** mins and in the Second calculation it takes **406** mins, thats because in the first scenario when we are flying the drone to closest lighthouse in a different stem(LH2), there are other drone flying consecutively in the bottom path to Toro as shown in the figure. "
      ],
      "metadata": {
        "id": "oa1VNec2YuX7"
      }
    },
    {
      "cell_type": "markdown",
      "source": [
        "**361** minutes"
      ],
      "metadata": {
        "id": "q222ReP2aQ53"
      }
    },
    {
      "cell_type": "markdown",
      "source": [
        "We can come up with a generic algorithm where we send drones to the longest sub-tree first and follow a descending order.\n",
        "This way we can overlap flying time of multiple drones"
      ],
      "metadata": {
        "id": "prOJfDdjZmoe"
      }
    },
    {
      "cell_type": "markdown",
      "metadata": {
        "id": "OR6eCBGQ9eDo"
      },
      "source": [
        "# Discussion\n",
        "\n",
        "Describe roughly the amount of time you spent on this challenge and any notes you would like to share about your approach."
      ]
    },
    {
      "cell_type": "markdown",
      "metadata": {
        "id": "ACF8lAFO9h-A"
      },
      "source": [
        "* Time Spend 15 hrs across 4 days.\n",
        "* Initial challenges were to understand the pydeck layouts and plot the map.\n",
        "* Initially my thought process was to find a path from Stockholm to Vindo and then to Toro and then back to Stockholm. Even though the initial thought process was little off the track but it did not affect my visualization of the lighthouses.\n",
        "* As the drone has a flight time of 30 mins I was trying to develop a generic usecase to figure out the bounding boxes inside which we need to find the lighthouses. Even though in the given scenario it dosent effect that much, but if we want to move the project to differnt location this will be useful.\n",
        "* Calculating the optimal path, required a DP solution and to traceback on how to reach the destination required some manual tracing to see how it flow.\n",
        "* Finding the time to setup the whole drone system (PartC), it was hard to find the correlation on how taking a particular part is faster. But later I was able to figure out if we send the drone to the longest path first, the time for the drone to reach the final spot would be an approx time to setup the whole system in **most cases**.\n"
      ]
    },
    {
      "cell_type": "markdown",
      "metadata": {
        "id": "YxB_pwgt56kY"
      },
      "source": [
        "# Stretch goal (optional)\n",
        "\n",
        "Analyze and visualize any other interesting aspect of this proposal. What is some problem we might run into or information the customer could want to know about using this network of docked drones for search and rescue?"
      ]
    },
    {
      "cell_type": "markdown",
      "source": [
        "\n",
        "\n",
        "*   We will have to build a system in the docking station to store any drone if gone bad, and this system should be connected to the docking station.\n",
        "  \n",
        "  If suppose a drone, dosent respond or stops working when docked we need a mechanism to dispose it without manual intervention, so that the new incoming drone can take its place.\n",
        "*   The customer would probably want to know about the coverage map of all the drones combined, so that during search and rescue, the drone warns when it flies off the region and cant make it back to the docking station.\n",
        "\n",
        "*   The battery, flight time are all considered here as an ideal time, this may vary based on the environment and usage of the drone, this also should be processed during the drone flight and the coverage map should be updated based on that.\n",
        "\n"
      ],
      "metadata": {
        "id": "210FHCKZdKF7"
      }
    }
  ]
}