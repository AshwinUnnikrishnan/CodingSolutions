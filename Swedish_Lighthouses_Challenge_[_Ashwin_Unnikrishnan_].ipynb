{
  "nbformat": 4,
  "nbformat_minor": 0,
  "metadata": {
    "colab": {
      "name": "Swedish Lighthouses Challenge - [ Ashwin Unnikrishnan ]",
      "provenance": [],
      "collapsed_sections": [],
      "include_colab_link": true
    },
    "kernelspec": {
      "name": "python3",
      "display_name": "Python 3"
    },
    "language_info": {
      "name": "python"
    }
  },
  "cells": [
    {
      "cell_type": "markdown",
      "metadata": {
        "id": "view-in-github",
        "colab_type": "text"
      },
      "source": [
        "<a href=\"https://colab.research.google.com/github/AshwinUnnikrishnan/Solutions/blob/master/Swedish_Lighthouses_Challenge_%5B_Ashwin_Unnikrishnan_%5D.ipynb\" target=\"_parent\"><img src=\"https://colab.research.google.com/assets/colab-badge.svg\" alt=\"Open In Colab\"/></a>"
      ]
    },
    {
      "cell_type": "markdown",
      "metadata": {
        "id": "IlQWxVjP4EUq"
      },
      "source": [
        "# Swedish Lighthouses Challenge\n"
      ]
    },
    {
      "cell_type": "markdown",
      "metadata": {
        "id": "O84gQ87s4IZi"
      },
      "source": [
        "Skydio is scoping out a project to aid the search and rescue operations of the Swedish Coast Guard. Their goal is to establish a network of docked drones along the coastline that provide a rapid response to emergency transmissions.\n",
        "\n",
        "(The Skydio Dock is a cloud-connected, weatherproof home base and charging station that enables our drones to fly without a pilot on-scene.)\n",
        "\n",
        "The customer is interested in establishing coverage from their main office in Stockholm east to the island of Vindö and then southwest to Torö.\n",
        "\n",
        "They have permission to build a dock into any lighthouse in the region. They are interested in building a route such that a drone can hop from dock to dock from Stockholm to Torö, so that they can recover their fleet and swap drones without sending humans to the lighthouses.\n",
        "\n",
        "**Submission** - Make a copy of this notebook and fill out the code and writeup. Feel free to download and run locally if helpful. Share the completed Google Colab link with us by setting the permission to *Anyone with the link can view*.\n",
        "\n",
        "**Guidelines** - This challenge tests the ability to write quality code, interact with APIs, visualize data, and employ algorithms to solve problems. We score submissions by the clarity of the code, visuals, and written documentation. We do not score by the amount of time spent, so go as deep as you like, or if you are short on time then take a simpler approach to Part 2 and 3.\n",
        "\n",
        "<img width=\"500px\" src=\"https://i.imgur.com/5H88NQ3.png\"/>"
      ]
    },
    {
      "cell_type": "markdown",
      "metadata": {
        "id": "oNKo62Ap43qC"
      },
      "source": [
        "# Part 1: Find all of the lighthouses\n",
        "\n",
        "Use [OpenStreetMap](https://en.wikipedia.org/wiki/OpenStreetMap) to find known lighthouses in the region and get that data into your notebook. OSM provides APIs to query their geographic database by structure type. Plot the lighthouses on a map using [pydeck](https://deckgl.readthedocs.io/en/latest/).\n",
        "\n",
        "Note that you are free to install python packages in colab: `!pip install pydeck`"
      ]
    },
    {
      "cell_type": "markdown",
      "source": [
        "### Learning Overpass\n"
      ],
      "metadata": {
        "id": "sr_eye0i1zxj"
      }
    },
    {
      "cell_type": "markdown",
      "source": [
        "Info about how to query in turbo [Turbo Overpass](https://wiki.openstreetmap.org/wiki/Overpass_API/Overpass_QL)\n",
        "\n",
        "How to use tags in Nodes : [Map_features](https://wiki.openstreetmap.org/wiki/Map_features)"
      ],
      "metadata": {
        "id": "X0DSA-I_13rg"
      }
    },
    {
      "cell_type": "markdown",
      "source": [
        "### Lighthouse identification summary"
      ],
      "metadata": {
        "id": "htISmF1OGiCU"
      }
    },
    {
      "cell_type": "markdown",
      "source": [
        "For finding lighthouses we are taking the 3 major points(lat and lon) as input from user.\n",
        "\n",
        "\n",
        "*   The code is written in such a way that given any set of points it will find the lighthouses covering all those points in a bounding box. The code can be reused.\n",
        "* Corner case that I am not considering for a generic solution is, where the route is more around the land rather than the shortest line between two destination. Example diagram is shown in the link .[CornerCase](https://drive.google.com/file/d/18cX4yR_VH7GpOKiax9Qm94F6lwWtrWtT/view?usp=sharing)\n",
        "* Considering the ground speed and battery time to increase the range of corner points to include more lighthouses to select from.\n",
        "      Example : Stockholm being the west most point, I am taking a longitude\n",
        "      that is 0.34 degree(20kms calculated using battery life of 28 mins( \n",
        "      reducing 2 mins for take off and landing and other corner cases )\n",
        "      and ground speed of 12 mts/second."
      ],
      "metadata": {
        "id": "YcdiRRuH-XQp"
      }
    },
    {
      "cell_type": "markdown",
      "source": [
        "### Installing pydeck and other tools"
      ],
      "metadata": {
        "id": "hyT8qyUFGpl5"
      }
    },
    {
      "cell_type": "code",
      "source": [
        "!pip install pydeck --quiet"
      ],
      "metadata": {
        "colab": {
          "base_uri": "https://localhost:8080/",
          "height": 0
        },
        "id": "4uNRz3jsGvQ-",
        "outputId": "6ffa40d4-d48f-4371-e2fb-9bc24d7ab9d6"
      },
      "execution_count": 1,
      "outputs": [
        {
          "output_type": "stream",
          "name": "stdout",
          "text": [
            "\u001b[K     |████████████████████████████████| 4.3 MB 4.1 MB/s \n",
            "\u001b[K     |████████████████████████████████| 132 kB 45.1 MB/s \n",
            "\u001b[K     |████████████████████████████████| 793 kB 43.0 MB/s \n",
            "\u001b[K     |████████████████████████████████| 423 kB 55.0 MB/s \n",
            "\u001b[K     |████████████████████████████████| 132 kB 41.7 MB/s \n",
            "\u001b[K     |████████████████████████████████| 381 kB 55.2 MB/s \n",
            "\u001b[31mERROR: pip's dependency resolver does not currently take into account all the packages that are installed. This behaviour is the source of the following dependency conflicts.\n",
            "nbclient 0.6.6 requires traitlets>=5.2.2, but you have traitlets 5.1.1 which is incompatible.\n",
            "jupyter-console 5.2.0 requires prompt-toolkit<2.0.0,>=1.0.0, but you have prompt-toolkit 3.0.30 which is incompatible.\n",
            "google-colab 1.0.0 requires ipykernel~=4.10, but you have ipykernel 6.15.1 which is incompatible.\n",
            "google-colab 1.0.0 requires ipython~=5.5.0, but you have ipython 7.34.0 which is incompatible.\n",
            "google-colab 1.0.0 requires tornado~=5.1.0, but you have tornado 6.2 which is incompatible.\u001b[0m\n",
            "\u001b[?25h"
          ]
        }
      ]
    },
    {
      "cell_type": "code",
      "source": [
        "!pip install osmpythontools --quiet"
      ],
      "metadata": {
        "colab": {
          "base_uri": "https://localhost:8080/",
          "height": 0
        },
        "id": "BqKLaKsfGvt2",
        "outputId": "295d8b16-c6f2-49bc-a17e-a7f0130f081d"
      },
      "execution_count": 2,
      "outputs": [
        {
          "output_type": "stream",
          "name": "stdout",
          "text": [
            "  Building wheel for osmpythontools (setup.py) ... \u001b[?25l\u001b[?25hdone\n"
          ]
        }
      ]
    },
    {
      "cell_type": "markdown",
      "source": [
        "### Importing pydeck to plot the lighthouses on a"
      ],
      "metadata": {
        "id": "TIZ1npASG2uB"
      }
    },
    {
      "cell_type": "code",
      "source": [
        "import pandas as pd\n",
        "import pydeck as pdk\n",
        "from OSMPythonTools.overpass import Overpass"
      ],
      "metadata": {
        "id": "0UwG_NGVvggT"
      },
      "execution_count": 3,
      "outputs": []
    },
    {
      "cell_type": "code",
      "source": [
        "overpass = Overpass()"
      ],
      "metadata": {
        "id": "QXj8cbbsYeb7"
      },
      "execution_count": 4,
      "outputs": []
    },
    {
      "cell_type": "markdown",
      "source": [
        "### Taking input about the locations the drone should visit"
      ],
      "metadata": {
        "id": "951bR4LMYoWw"
      }
    },
    {
      "cell_type": "markdown",
      "source": [
        "Get input lat and lon list of places to visit, by default this is taken as Stockholm, Vindo and Toro"
      ],
      "metadata": {
        "id": "RFafyZGQYfnK"
      }
    },
    {
      "cell_type": "code",
      "source": [
        "#noOfPlaces = int(input(\"Enter total number of places : \"))"
      ],
      "metadata": {
        "id": "-3qaoBUCY1qn"
      },
      "execution_count": 5,
      "outputs": []
    },
    {
      "cell_type": "code",
      "source": [
        "'''placeList = []                #Stores a set containing lat and lon for each of the place\n",
        "for i in range(noOfPlaces):\n",
        "  lat = float(input(\"Enter {0} destination lat value \".format(str(i))))\n",
        "  lon = float(input(\"Enter {0} destination lon value \".format(str(i))))\n",
        "  placeList.append((lat,lon))\n",
        "'''"
      ],
      "metadata": {
        "id": "QUCOcVP0ZNCc",
        "colab": {
          "base_uri": "https://localhost:8080/",
          "height": 53
        },
        "outputId": "819ce5bd-9c64-4b27-9e2b-b3af097965d0"
      },
      "execution_count": 6,
      "outputs": [
        {
          "output_type": "execute_result",
          "data": {
            "text/plain": [
              "'placeList = []                #Stores a set containing lat and lon for each of the place\\nfor i in range(noOfPlaces):\\n  lat = float(input(\"Enter {0} destination lat value \".format(str(i))))\\n  lon = float(input(\"Enter {0} destination lon value \".format(str(i))))\\n  placeList.append((lat,lon))\\n'"
            ],
            "application/vnd.google.colaboratory.intrinsic+json": {
              "type": "string"
            }
          },
          "metadata": {},
          "execution_count": 6
        }
      ]
    },
    {
      "cell_type": "markdown",
      "source": [
        "Assigning Default Values for now"
      ],
      "metadata": {
        "id": "idEo9FsPocMO"
      }
    },
    {
      "cell_type": "code",
      "source": [
        "placeList = [(59.328982, 18.068531), (59.3763143, 18.6734587), (58.834266, 17.840492)]\n",
        "placeList"
      ],
      "metadata": {
        "id": "WljBWQdbaMg5",
        "colab": {
          "base_uri": "https://localhost:8080/",
          "height": 0
        },
        "outputId": "fdbc7818-d9b8-4610-a32b-77bb2b1cf0e4"
      },
      "execution_count": 7,
      "outputs": [
        {
          "output_type": "execute_result",
          "data": {
            "text/plain": [
              "[(59.328982, 18.068531), (59.3763143, 18.6734587), (58.834266, 17.840492)]"
            ]
          },
          "metadata": {},
          "execution_count": 7
        }
      ]
    },
    {
      "cell_type": "markdown",
      "source": [
        "### Calculating the BBox boundaries\n",
        "\n"
      ],
      "metadata": {
        "id": "jAOq6pf4PdNr"
      }
    },
    {
      "cell_type": "code",
      "source": [
        "def getBoundingBox(placeLists, droneFlightTime = 28):\n",
        "  '''\n",
        "  Based on the input of locations we find the end corners north, south, east, west\n",
        "  to find the bounding box inside which we need to find the lighthouses.\n",
        "  Extra degrees are added to max, considering the drone flight time.\n",
        "  Assuming the flight time as 28 mins instead of 30, considering time to take \n",
        "  off and land.\n",
        "  \n",
        "  Input Parameters:\n",
        "                    placeLists : List of places to consider\n",
        "                    droneFlightTime (int): Air time of the drone\n",
        "\n",
        "  Returns:  south, west, north, east : The bounding box lat and lng in all four \n",
        "                                       direction.\n",
        "  '''\n",
        "  north, south, east, west = None, None, None, None\n",
        "  for lat, lon in placeLists:\n",
        "    if south == None or lat < south:\n",
        "      south = lat\n",
        "    if north == None or lat > north:\n",
        "      north = lat\n",
        "    if west == None or lon < west:\n",
        "      west = lon\n",
        "    if east == None or lon > east:       #can combine with above as if else\n",
        "      east = lon\n",
        "\n",
        "    #Add extra coverage as drone can fly out 28 mins in any direction by default\n",
        "    #Ground Speed of Drone 12mts/second\n",
        "    #additional lat and lng it can travel = 0.18 and 0.34 degree respectively\n",
        "    # Values added here can change based on the speed and flight time and we can\n",
        "    # write function to calculate the degree\n",
        "  south -= 0.18\n",
        "  west -= 0.34\n",
        "  north += 0.18\n",
        "  east += 0.34\n",
        "    \n",
        "  return south, west, north, east\n",
        "    "
      ],
      "metadata": {
        "id": "Eyy9y_WamYKO"
      },
      "execution_count": 8,
      "outputs": []
    },
    {
      "cell_type": "code",
      "source": [
        "south, west, north, east = getBoundingBox(placeList)"
      ],
      "metadata": {
        "id": "gVbJ_dbOuuvB"
      },
      "execution_count": 9,
      "outputs": []
    },
    {
      "cell_type": "markdown",
      "source": [
        "### Getting the light house data from OSM using overpass"
      ],
      "metadata": {
        "id": "Xjzu2yZEZNGE"
      }
    },
    {
      "cell_type": "markdown",
      "source": [
        "Searching the OSM with the bounding box coordinates found for lighthouses"
      ],
      "metadata": {
        "id": "P1_cLLG-p0kM"
      }
    },
    {
      "cell_type": "code",
      "source": [
        "query = '''\n",
        "(\n",
        "  node[\"man_made\"=\"lighthouse\"]({0},{1},{2},{3});\n",
        ");\n",
        "out body;'''.format(south,west,north,east)"
      ],
      "metadata": {
        "id": "XnK3OyUTu12u"
      },
      "execution_count": 10,
      "outputs": []
    },
    {
      "cell_type": "code",
      "source": [
        "query"
      ],
      "metadata": {
        "colab": {
          "base_uri": "https://localhost:8080/",
          "height": 35
        },
        "id": "r3HW4p7_vA5D",
        "outputId": "ba34322e-ab16-4e4a-fb30-a94aea89b0fc"
      },
      "execution_count": 11,
      "outputs": [
        {
          "output_type": "execute_result",
          "data": {
            "text/plain": [
              "'\\n(\\n  node[\"man_made\"=\"lighthouse\"](58.654266,17.500492,59.5563143,19.0134587);\\n);\\nout body;'"
            ],
            "application/vnd.google.colaboratory.intrinsic+json": {
              "type": "string"
            }
          },
          "metadata": {},
          "execution_count": 11
        }
      ]
    },
    {
      "cell_type": "code",
      "source": [
        "res = overpass.query(query)"
      ],
      "metadata": {
        "colab": {
          "base_uri": "https://localhost:8080/",
          "height": 0
        },
        "id": "VYpg5hX8vX0k",
        "outputId": "34b27f83-dbfd-401f-9a43-7ac57c020d0f"
      },
      "execution_count": 12,
      "outputs": [
        {
          "output_type": "stream",
          "name": "stderr",
          "text": [
            "[overpass] downloading data: [timeout:25][out:json];\n",
            "(\n",
            "  node[\"man_made\"=\"lighthouse\"](58.654266,17.500492,59.5563143,19.0134587);\n",
            ");\n",
            "out body;\n"
          ]
        }
      ]
    },
    {
      "cell_type": "code",
      "source": [
        "res.toJSON().keys()"
      ],
      "metadata": {
        "colab": {
          "base_uri": "https://localhost:8080/",
          "height": 0
        },
        "id": "qCdIVvGXp9KB",
        "outputId": "59c84d0d-21ad-4a30-9cbe-a4cb3ba42723"
      },
      "execution_count": 13,
      "outputs": [
        {
          "output_type": "execute_result",
          "data": {
            "text/plain": [
              "dict_keys(['version', 'generator', 'osm3s', 'elements'])"
            ]
          },
          "metadata": {},
          "execution_count": 13
        }
      ]
    },
    {
      "cell_type": "code",
      "source": [
        "#filtering the elements from the resultant of overpass query\n",
        "filtered = [i for i in res.toJSON()['elements'] ]"
      ],
      "metadata": {
        "id": "w1OYLbN2vdhr"
      },
      "execution_count": 14,
      "outputs": []
    },
    {
      "cell_type": "code",
      "source": [
        "# converting the result into a dataframe to easily handle\n",
        "df = pd.DataFrame(filtered)"
      ],
      "metadata": {
        "id": "CMgtFT2WvjFJ"
      },
      "execution_count": 15,
      "outputs": []
    },
    {
      "cell_type": "code",
      "source": [
        "df.head()"
      ],
      "metadata": {
        "colab": {
          "base_uri": "https://localhost:8080/",
          "height": 206
        },
        "id": "1RRFAsjvvjvl",
        "outputId": "2d8e05e4-fb99-4315-f0b4-118091677c44"
      },
      "execution_count": 16,
      "outputs": [
        {
          "output_type": "execute_result",
          "data": {
            "text/plain": [
              "   type          id        lat        lon  \\\n",
              "0  node   358356239  59.320767  18.154908   \n",
              "1  node   799793245  59.256482  18.946644   \n",
              "2  node  1029352189  59.182294  18.492252   \n",
              "3  node  1029397338  59.223811  18.618563   \n",
              "4  node  1029397342  59.207756  18.565901   \n",
              "\n",
              "                                                tags  \n",
              "0  {'man_made': 'lighthouse', 'name': 'Blockhusud...  \n",
              "1  {'man_made': 'lighthouse', 'name': 'Österskär'...  \n",
              "2  {'man_made': 'lighthouse', 'name': 'Östra Sten...  \n",
              "3  {'man_made': 'lighthouse', 'name': 'Kofoten', ...  \n",
              "4  {'man_made': 'lighthouse', 'name': 'Grönö', 's...  "
            ],
            "text/html": [
              "\n",
              "  <div id=\"df-7db34527-4074-49f1-95f7-6eb6cd8ca6e6\">\n",
              "    <div class=\"colab-df-container\">\n",
              "      <div>\n",
              "<style scoped>\n",
              "    .dataframe tbody tr th:only-of-type {\n",
              "        vertical-align: middle;\n",
              "    }\n",
              "\n",
              "    .dataframe tbody tr th {\n",
              "        vertical-align: top;\n",
              "    }\n",
              "\n",
              "    .dataframe thead th {\n",
              "        text-align: right;\n",
              "    }\n",
              "</style>\n",
              "<table border=\"1\" class=\"dataframe\">\n",
              "  <thead>\n",
              "    <tr style=\"text-align: right;\">\n",
              "      <th></th>\n",
              "      <th>type</th>\n",
              "      <th>id</th>\n",
              "      <th>lat</th>\n",
              "      <th>lon</th>\n",
              "      <th>tags</th>\n",
              "    </tr>\n",
              "  </thead>\n",
              "  <tbody>\n",
              "    <tr>\n",
              "      <th>0</th>\n",
              "      <td>node</td>\n",
              "      <td>358356239</td>\n",
              "      <td>59.320767</td>\n",
              "      <td>18.154908</td>\n",
              "      <td>{'man_made': 'lighthouse', 'name': 'Blockhusud...</td>\n",
              "    </tr>\n",
              "    <tr>\n",
              "      <th>1</th>\n",
              "      <td>node</td>\n",
              "      <td>799793245</td>\n",
              "      <td>59.256482</td>\n",
              "      <td>18.946644</td>\n",
              "      <td>{'man_made': 'lighthouse', 'name': 'Österskär'...</td>\n",
              "    </tr>\n",
              "    <tr>\n",
              "      <th>2</th>\n",
              "      <td>node</td>\n",
              "      <td>1029352189</td>\n",
              "      <td>59.182294</td>\n",
              "      <td>18.492252</td>\n",
              "      <td>{'man_made': 'lighthouse', 'name': 'Östra Sten...</td>\n",
              "    </tr>\n",
              "    <tr>\n",
              "      <th>3</th>\n",
              "      <td>node</td>\n",
              "      <td>1029397338</td>\n",
              "      <td>59.223811</td>\n",
              "      <td>18.618563</td>\n",
              "      <td>{'man_made': 'lighthouse', 'name': 'Kofoten', ...</td>\n",
              "    </tr>\n",
              "    <tr>\n",
              "      <th>4</th>\n",
              "      <td>node</td>\n",
              "      <td>1029397342</td>\n",
              "      <td>59.207756</td>\n",
              "      <td>18.565901</td>\n",
              "      <td>{'man_made': 'lighthouse', 'name': 'Grönö', 's...</td>\n",
              "    </tr>\n",
              "  </tbody>\n",
              "</table>\n",
              "</div>\n",
              "      <button class=\"colab-df-convert\" onclick=\"convertToInteractive('df-7db34527-4074-49f1-95f7-6eb6cd8ca6e6')\"\n",
              "              title=\"Convert this dataframe to an interactive table.\"\n",
              "              style=\"display:none;\">\n",
              "        \n",
              "  <svg xmlns=\"http://www.w3.org/2000/svg\" height=\"24px\"viewBox=\"0 0 24 24\"\n",
              "       width=\"24px\">\n",
              "    <path d=\"M0 0h24v24H0V0z\" fill=\"none\"/>\n",
              "    <path d=\"M18.56 5.44l.94 2.06.94-2.06 2.06-.94-2.06-.94-.94-2.06-.94 2.06-2.06.94zm-11 1L8.5 8.5l.94-2.06 2.06-.94-2.06-.94L8.5 2.5l-.94 2.06-2.06.94zm10 10l.94 2.06.94-2.06 2.06-.94-2.06-.94-.94-2.06-.94 2.06-2.06.94z\"/><path d=\"M17.41 7.96l-1.37-1.37c-.4-.4-.92-.59-1.43-.59-.52 0-1.04.2-1.43.59L10.3 9.45l-7.72 7.72c-.78.78-.78 2.05 0 2.83L4 21.41c.39.39.9.59 1.41.59.51 0 1.02-.2 1.41-.59l7.78-7.78 2.81-2.81c.8-.78.8-2.07 0-2.86zM5.41 20L4 18.59l7.72-7.72 1.47 1.35L5.41 20z\"/>\n",
              "  </svg>\n",
              "      </button>\n",
              "      \n",
              "  <style>\n",
              "    .colab-df-container {\n",
              "      display:flex;\n",
              "      flex-wrap:wrap;\n",
              "      gap: 12px;\n",
              "    }\n",
              "\n",
              "    .colab-df-convert {\n",
              "      background-color: #E8F0FE;\n",
              "      border: none;\n",
              "      border-radius: 50%;\n",
              "      cursor: pointer;\n",
              "      display: none;\n",
              "      fill: #1967D2;\n",
              "      height: 32px;\n",
              "      padding: 0 0 0 0;\n",
              "      width: 32px;\n",
              "    }\n",
              "\n",
              "    .colab-df-convert:hover {\n",
              "      background-color: #E2EBFA;\n",
              "      box-shadow: 0px 1px 2px rgba(60, 64, 67, 0.3), 0px 1px 3px 1px rgba(60, 64, 67, 0.15);\n",
              "      fill: #174EA6;\n",
              "    }\n",
              "\n",
              "    [theme=dark] .colab-df-convert {\n",
              "      background-color: #3B4455;\n",
              "      fill: #D2E3FC;\n",
              "    }\n",
              "\n",
              "    [theme=dark] .colab-df-convert:hover {\n",
              "      background-color: #434B5C;\n",
              "      box-shadow: 0px 1px 3px 1px rgba(0, 0, 0, 0.15);\n",
              "      filter: drop-shadow(0px 1px 2px rgba(0, 0, 0, 0.3));\n",
              "      fill: #FFFFFF;\n",
              "    }\n",
              "  </style>\n",
              "\n",
              "      <script>\n",
              "        const buttonEl =\n",
              "          document.querySelector('#df-7db34527-4074-49f1-95f7-6eb6cd8ca6e6 button.colab-df-convert');\n",
              "        buttonEl.style.display =\n",
              "          google.colab.kernel.accessAllowed ? 'block' : 'none';\n",
              "\n",
              "        async function convertToInteractive(key) {\n",
              "          const element = document.querySelector('#df-7db34527-4074-49f1-95f7-6eb6cd8ca6e6');\n",
              "          const dataTable =\n",
              "            await google.colab.kernel.invokeFunction('convertToInteractive',\n",
              "                                                     [key], {});\n",
              "          if (!dataTable) return;\n",
              "\n",
              "          const docLinkHtml = 'Like what you see? Visit the ' +\n",
              "            '<a target=\"_blank\" href=https://colab.research.google.com/notebooks/data_table.ipynb>data table notebook</a>'\n",
              "            + ' to learn more about interactive tables.';\n",
              "          element.innerHTML = '';\n",
              "          dataTable['output_type'] = 'display_data';\n",
              "          await google.colab.output.renderOutput(dataTable, element);\n",
              "          const docLink = document.createElement('div');\n",
              "          docLink.innerHTML = docLinkHtml;\n",
              "          element.appendChild(docLink);\n",
              "        }\n",
              "      </script>\n",
              "    </div>\n",
              "  </div>\n",
              "  "
            ]
          },
          "metadata": {},
          "execution_count": 16
        }
      ]
    },
    {
      "cell_type": "code",
      "source": [
        "df.keys()"
      ],
      "metadata": {
        "colab": {
          "base_uri": "https://localhost:8080/",
          "height": 0
        },
        "id": "VLbnx4wByxNL",
        "outputId": "74cec29c-c110-40a0-916f-637610245b97"
      },
      "execution_count": 17,
      "outputs": [
        {
          "output_type": "execute_result",
          "data": {
            "text/plain": [
              "Index(['type', 'id', 'lat', 'lon', 'tags'], dtype='object')"
            ]
          },
          "metadata": {},
          "execution_count": 17
        }
      ]
    },
    {
      "cell_type": "markdown",
      "source": [
        "Taking the height of the lighthouse as we can plot a 3D map in pydeck\n",
        "Some of the lighthouses have missing values for *seamark:light:1:height* so we assign 3 by default"
      ],
      "metadata": {
        "id": "Cjo-wrdVSfbG"
      }
    },
    {
      "cell_type": "code",
      "source": [
        "listOfHeight = [ h['seamark:light:1:height'] if 'seamark:light:1:height' in h.keys() else 3 for h in df['tags'] ]"
      ],
      "metadata": {
        "id": "v8OGr7SESeLZ"
      },
      "execution_count": 18,
      "outputs": []
    },
    {
      "cell_type": "code",
      "source": [
        "df['height'] = listOfHeight"
      ],
      "metadata": {
        "id": "3WmCeaHOSvQ5"
      },
      "execution_count": 19,
      "outputs": []
    },
    {
      "cell_type": "code",
      "source": [
        "df.head()"
      ],
      "metadata": {
        "colab": {
          "base_uri": "https://localhost:8080/",
          "height": 206
        },
        "id": "dJI3VxkATHne",
        "outputId": "9326271c-09c3-4a07-8dba-b42aed0e8d49"
      },
      "execution_count": 20,
      "outputs": [
        {
          "output_type": "execute_result",
          "data": {
            "text/plain": [
              "   type          id        lat        lon  \\\n",
              "0  node   358356239  59.320767  18.154908   \n",
              "1  node   799793245  59.256482  18.946644   \n",
              "2  node  1029352189  59.182294  18.492252   \n",
              "3  node  1029397338  59.223811  18.618563   \n",
              "4  node  1029397342  59.207756  18.565901   \n",
              "\n",
              "                                                tags height  \n",
              "0  {'man_made': 'lighthouse', 'name': 'Blockhusud...      6  \n",
              "1  {'man_made': 'lighthouse', 'name': 'Österskär'...      7  \n",
              "2  {'man_made': 'lighthouse', 'name': 'Östra Sten...      3  \n",
              "3  {'man_made': 'lighthouse', 'name': 'Kofoten', ...      6  \n",
              "4  {'man_made': 'lighthouse', 'name': 'Grönö', 's...      7  "
            ],
            "text/html": [
              "\n",
              "  <div id=\"df-922c1926-ce23-445f-854a-446cf10a4780\">\n",
              "    <div class=\"colab-df-container\">\n",
              "      <div>\n",
              "<style scoped>\n",
              "    .dataframe tbody tr th:only-of-type {\n",
              "        vertical-align: middle;\n",
              "    }\n",
              "\n",
              "    .dataframe tbody tr th {\n",
              "        vertical-align: top;\n",
              "    }\n",
              "\n",
              "    .dataframe thead th {\n",
              "        text-align: right;\n",
              "    }\n",
              "</style>\n",
              "<table border=\"1\" class=\"dataframe\">\n",
              "  <thead>\n",
              "    <tr style=\"text-align: right;\">\n",
              "      <th></th>\n",
              "      <th>type</th>\n",
              "      <th>id</th>\n",
              "      <th>lat</th>\n",
              "      <th>lon</th>\n",
              "      <th>tags</th>\n",
              "      <th>height</th>\n",
              "    </tr>\n",
              "  </thead>\n",
              "  <tbody>\n",
              "    <tr>\n",
              "      <th>0</th>\n",
              "      <td>node</td>\n",
              "      <td>358356239</td>\n",
              "      <td>59.320767</td>\n",
              "      <td>18.154908</td>\n",
              "      <td>{'man_made': 'lighthouse', 'name': 'Blockhusud...</td>\n",
              "      <td>6</td>\n",
              "    </tr>\n",
              "    <tr>\n",
              "      <th>1</th>\n",
              "      <td>node</td>\n",
              "      <td>799793245</td>\n",
              "      <td>59.256482</td>\n",
              "      <td>18.946644</td>\n",
              "      <td>{'man_made': 'lighthouse', 'name': 'Österskär'...</td>\n",
              "      <td>7</td>\n",
              "    </tr>\n",
              "    <tr>\n",
              "      <th>2</th>\n",
              "      <td>node</td>\n",
              "      <td>1029352189</td>\n",
              "      <td>59.182294</td>\n",
              "      <td>18.492252</td>\n",
              "      <td>{'man_made': 'lighthouse', 'name': 'Östra Sten...</td>\n",
              "      <td>3</td>\n",
              "    </tr>\n",
              "    <tr>\n",
              "      <th>3</th>\n",
              "      <td>node</td>\n",
              "      <td>1029397338</td>\n",
              "      <td>59.223811</td>\n",
              "      <td>18.618563</td>\n",
              "      <td>{'man_made': 'lighthouse', 'name': 'Kofoten', ...</td>\n",
              "      <td>6</td>\n",
              "    </tr>\n",
              "    <tr>\n",
              "      <th>4</th>\n",
              "      <td>node</td>\n",
              "      <td>1029397342</td>\n",
              "      <td>59.207756</td>\n",
              "      <td>18.565901</td>\n",
              "      <td>{'man_made': 'lighthouse', 'name': 'Grönö', 's...</td>\n",
              "      <td>7</td>\n",
              "    </tr>\n",
              "  </tbody>\n",
              "</table>\n",
              "</div>\n",
              "      <button class=\"colab-df-convert\" onclick=\"convertToInteractive('df-922c1926-ce23-445f-854a-446cf10a4780')\"\n",
              "              title=\"Convert this dataframe to an interactive table.\"\n",
              "              style=\"display:none;\">\n",
              "        \n",
              "  <svg xmlns=\"http://www.w3.org/2000/svg\" height=\"24px\"viewBox=\"0 0 24 24\"\n",
              "       width=\"24px\">\n",
              "    <path d=\"M0 0h24v24H0V0z\" fill=\"none\"/>\n",
              "    <path d=\"M18.56 5.44l.94 2.06.94-2.06 2.06-.94-2.06-.94-.94-2.06-.94 2.06-2.06.94zm-11 1L8.5 8.5l.94-2.06 2.06-.94-2.06-.94L8.5 2.5l-.94 2.06-2.06.94zm10 10l.94 2.06.94-2.06 2.06-.94-2.06-.94-.94-2.06-.94 2.06-2.06.94z\"/><path d=\"M17.41 7.96l-1.37-1.37c-.4-.4-.92-.59-1.43-.59-.52 0-1.04.2-1.43.59L10.3 9.45l-7.72 7.72c-.78.78-.78 2.05 0 2.83L4 21.41c.39.39.9.59 1.41.59.51 0 1.02-.2 1.41-.59l7.78-7.78 2.81-2.81c.8-.78.8-2.07 0-2.86zM5.41 20L4 18.59l7.72-7.72 1.47 1.35L5.41 20z\"/>\n",
              "  </svg>\n",
              "      </button>\n",
              "      \n",
              "  <style>\n",
              "    .colab-df-container {\n",
              "      display:flex;\n",
              "      flex-wrap:wrap;\n",
              "      gap: 12px;\n",
              "    }\n",
              "\n",
              "    .colab-df-convert {\n",
              "      background-color: #E8F0FE;\n",
              "      border: none;\n",
              "      border-radius: 50%;\n",
              "      cursor: pointer;\n",
              "      display: none;\n",
              "      fill: #1967D2;\n",
              "      height: 32px;\n",
              "      padding: 0 0 0 0;\n",
              "      width: 32px;\n",
              "    }\n",
              "\n",
              "    .colab-df-convert:hover {\n",
              "      background-color: #E2EBFA;\n",
              "      box-shadow: 0px 1px 2px rgba(60, 64, 67, 0.3), 0px 1px 3px 1px rgba(60, 64, 67, 0.15);\n",
              "      fill: #174EA6;\n",
              "    }\n",
              "\n",
              "    [theme=dark] .colab-df-convert {\n",
              "      background-color: #3B4455;\n",
              "      fill: #D2E3FC;\n",
              "    }\n",
              "\n",
              "    [theme=dark] .colab-df-convert:hover {\n",
              "      background-color: #434B5C;\n",
              "      box-shadow: 0px 1px 3px 1px rgba(0, 0, 0, 0.15);\n",
              "      filter: drop-shadow(0px 1px 2px rgba(0, 0, 0, 0.3));\n",
              "      fill: #FFFFFF;\n",
              "    }\n",
              "  </style>\n",
              "\n",
              "      <script>\n",
              "        const buttonEl =\n",
              "          document.querySelector('#df-922c1926-ce23-445f-854a-446cf10a4780 button.colab-df-convert');\n",
              "        buttonEl.style.display =\n",
              "          google.colab.kernel.accessAllowed ? 'block' : 'none';\n",
              "\n",
              "        async function convertToInteractive(key) {\n",
              "          const element = document.querySelector('#df-922c1926-ce23-445f-854a-446cf10a4780');\n",
              "          const dataTable =\n",
              "            await google.colab.kernel.invokeFunction('convertToInteractive',\n",
              "                                                     [key], {});\n",
              "          if (!dataTable) return;\n",
              "\n",
              "          const docLinkHtml = 'Like what you see? Visit the ' +\n",
              "            '<a target=\"_blank\" href=https://colab.research.google.com/notebooks/data_table.ipynb>data table notebook</a>'\n",
              "            + ' to learn more about interactive tables.';\n",
              "          element.innerHTML = '';\n",
              "          dataTable['output_type'] = 'display_data';\n",
              "          await google.colab.output.renderOutput(dataTable, element);\n",
              "          const docLink = document.createElement('div');\n",
              "          docLink.innerHTML = docLinkHtml;\n",
              "          element.appendChild(docLink);\n",
              "        }\n",
              "      </script>\n",
              "    </div>\n",
              "  </div>\n",
              "  "
            ]
          },
          "metadata": {},
          "execution_count": 20
        }
      ]
    },
    {
      "cell_type": "markdown",
      "source": [
        "### Creating the map with the data got from OSM"
      ],
      "metadata": {
        "id": "lYBbuPtSZXDC"
      }
    },
    {
      "cell_type": "code",
      "source": [
        "def drawMapBoxMap(df):\n",
        "  view_state = pdk.ViewState(**{  \n",
        "    \"latitude\": 59.196318798583725,\n",
        "    \"longitude\": 18.599920729657768,\n",
        "    \"bearing\": -1.45748987854251,\n",
        "    \"pitch\": 0.5797101449275388,\n",
        "    \"zoom\": 8,\n",
        "  })\n",
        "\n",
        "\n",
        "  column_layer = pdk.Layer(\n",
        "      \"ColumnLayer\",\n",
        "      data=df,\n",
        "      get_position=[\"lon\", \"lat\"],\n",
        "      get_elevation=\"height\",\n",
        "      elevation_scale=100,\n",
        "      radius=500,\n",
        "      min_radius = 10,\n",
        "      get_fill_color=[0, 0, 255, 140],\n",
        "      pickable=True,\n",
        "      auto_highlight=True,\n",
        "      opacity=True,\n",
        "      filled=True,\n",
        "      radiusUnits='pixels',\n",
        "\n",
        "  )\n",
        "  MAPBOX_API_KEY = \"pk.eyJ1IjoiaGlzdHJhdmVsc3RvcmllcyIsImEiOiJjbDZmYTRqa20wMWp3M2ltcTBkdWhudjdwIn0.TZUuKeVMFdSDZZtX_MPjzw\"\n",
        "  r = pdk.Deck(column_layer, \n",
        "             initial_view_state=view_state,\n",
        "             api_keys={'mapbox' : MAPBOX_API_KEY},\n",
        "             map_provider='mapbox',\n",
        "            map_style='mapbox://styles/mapbox/streets-v11',         #Styles light, dark, streets, outdoors, imagery\n",
        "  )\n",
        "  resMapBoxMap = r.to_html(notebook_display=True, iframe_height=500, iframe_width=100)"
      ],
      "metadata": {
        "id": "4BrHcHQPkojr"
      },
      "execution_count": 21,
      "outputs": []
    },
    {
      "cell_type": "markdown",
      "source": [
        "**Result of Part 1** : Shows all the lighthouses"
      ],
      "metadata": {
        "id": "c59pruhaqcpR"
      }
    },
    {
      "cell_type": "code",
      "source": [
        "drawMapBoxMap(df)"
      ],
      "metadata": {
        "colab": {
          "base_uri": "https://localhost:8080/",
          "height": 500
        },
        "id": "uQ_fVaZly25v",
        "outputId": "e14f7082-ec63-46cb-fa49-a820f1e25543"
      },
      "execution_count": 50,
      "outputs": [
        {
          "output_type": "display_data",
          "data": {
            "text/plain": [
              "<IPython.core.display.Javascript object>"
            ],
            "application/javascript": [
              "google.colab.output.setIframeHeight(500, true, {minHeight: 500})"
            ]
          },
          "metadata": {}
        },
        {
          "output_type": "display_data",
          "data": {
            "text/plain": [
              "<IPython.core.display.HTML object>"
            ],
            "text/html": [
              "<!DOCTYPE html>\n",
              "<html>\n",
              "  <head>\n",
              "    <meta http-equiv=\"content-type\" content=\"text/html; charset=UTF-8\" />\n",
              "    <title>pydeck</title>\n",
              "        <script src=\"https://api.tiles.mapbox.com/mapbox-gl-js/v1.13.0/mapbox-gl.js\"></script>\n",
              "        <link rel=\"stylesheet\" href=\"https://maxcdn.bootstrapcdn.com/bootstrap/3.2.0/css/bootstrap-theme.min.css\" />\n",
              "    <link rel=\"stylesheet\" href=\"https://maxcdn.bootstrapcdn.com/font-awesome/4.6.3/css/font-awesome.min.css\" />\n",
              "    <script src='https://cdn.jsdelivr.net/npm/@deck.gl/jupyter-widget@~8.5.*/dist/index.js'></script>\n",
              "    <style>\n",
              "    body {\n",
              "  margin: 0;\n",
              "  padding: 0;\n",
              "  overflow: hidden;\n",
              "}\n",
              "\n",
              "#deck-map-container {\n",
              "  width: 100%;\n",
              "  height: 100%;\n",
              "  background-color: black;\n",
              "}\n",
              "\n",
              "#map {\n",
              "  pointer-events: none;\n",
              "  height: 100%;\n",
              "  width: 100%;\n",
              "  position: absolute;\n",
              "  z-index: 1;\n",
              "}\n",
              "\n",
              "#deckgl-overlay {\n",
              "  z-index: 2;\n",
              "  background: none;\n",
              "}\n",
              "\n",
              "#deck-map-wrapper {\n",
              "  width: 100%;\n",
              "  height: 100%;\n",
              "}\n",
              "\n",
              "#deck-container {\n",
              "  width: 100vw;\n",
              "  height: 100vh;\n",
              "}\n",
              "    </style>\n",
              "  </head>\n",
              "  <body>\n",
              "    <div id=\"deck-container\">\n",
              "    </div>\n",
              "  </body>\n",
              "  <script>\n",
              "    const jsonInput = {\"initialViewState\": {\"bearing\": -1.45748987854251, \"latitude\": 59.196318798583725, \"longitude\": 18.599920729657768, \"pitch\": 0.5797101449275388, \"zoom\": 8}, \"layers\": [{\"@@type\": \"ColumnLayer\", \"autoHighlight\": true, \"data\": [{\"height\": \"6\", \"lat\": 59.3207673, \"lon\": 18.1549076}, {\"height\": \"7\", \"lat\": 59.2564822, \"lon\": 18.9466436}, {\"height\": 3, \"lat\": 59.182294, \"lon\": 18.4922522}, {\"height\": \"6\", \"lat\": 59.2238111, \"lon\": 18.6185628}, {\"height\": \"7\", \"lat\": 59.2077557, \"lon\": 18.565901}, {\"height\": \"7\", \"lat\": 59.2178016, \"lon\": 18.6135129}, {\"height\": \"12\", \"lat\": 59.4302773, \"lon\": 18.9524248}, {\"height\": \"10\", \"lat\": 59.4111327, \"lon\": 18.9058001}, {\"height\": \"13\", \"lat\": 58.8569614, \"lon\": 18.015065}, {\"height\": \"3\", \"lat\": 59.4690126, \"lon\": 18.4180074}, {\"height\": \"4\", \"lat\": 59.4566177, \"lon\": 18.4275561}, {\"height\": \"3\", \"lat\": 59.4532248, \"lon\": 18.3874517}, {\"height\": \"6\", \"lat\": 59.4453718, \"lon\": 18.4162908}, {\"height\": \"3\", \"lat\": 59.5316063, \"lon\": 18.5478026}, {\"height\": \"3\", \"lat\": 59.5233845, \"lon\": 18.5208326}, {\"height\": \"5\", \"lat\": 59.5122384, \"lon\": 18.4942251}, {\"height\": \"3\", \"lat\": 59.5024786, \"lon\": 18.5174352}, {\"height\": \"7\", \"lat\": 59.4977779, \"lon\": 18.4592061}, {\"height\": 3, \"lat\": 59.4427844, \"lon\": 18.4399153}, {\"height\": \"4\", \"lat\": 59.4327159, \"lon\": 18.4977441}, {\"height\": 3, \"lat\": 59.4206775, \"lon\": 18.501467}, {\"height\": \"5\", \"lat\": 59.4275977, \"lon\": 18.3656936}, {\"height\": \"6\", \"lat\": 59.3617991, \"lon\": 18.4522968}, {\"height\": \"6\", \"lat\": 59.358584, \"lon\": 18.4150892}, {\"height\": \"5\", \"lat\": 59.3714207, \"lon\": 18.3891683}, {\"height\": \"2\", \"lat\": 59.4216793, \"lon\": 18.485516}, {\"height\": \"5\", \"lat\": 59.4253824, \"lon\": 18.4112817}, {\"height\": \"4\", \"lat\": 59.3629226, \"lon\": 18.3763635}, {\"height\": \"5\", \"lat\": 59.371713, \"lon\": 18.3352506}, {\"height\": \"4\", \"lat\": 59.3776595, \"lon\": 18.294481}, {\"height\": \"4\", \"lat\": 59.3808072, \"lon\": 18.3040082}, {\"height\": \"6\", \"lat\": 59.3664653, \"lon\": 18.3105313}, {\"height\": \"7\", \"lat\": 59.3741179, \"lon\": 18.2797181}, {\"height\": 3, \"lat\": 59.3656343, \"lon\": 18.2687318}, {\"height\": \"6\", \"lat\": 59.3639859, \"lon\": 18.2590061}, {\"height\": \"6\", \"lat\": 59.3322815, \"lon\": 18.1764136}, {\"height\": \"11\", \"lat\": 59.3007854, \"lon\": 18.8745767}, {\"height\": 3, \"lat\": 59.3004762, \"lon\": 18.8688062}, {\"height\": 3, \"lat\": 59.3133074, \"lon\": 18.8102374}, {\"height\": \"8\", \"lat\": 59.3182952, \"lon\": 18.8108168}, {\"height\": \"10\", \"lat\": 59.2773535, \"lon\": 19.000052}, {\"height\": \"7\", \"lat\": 59.2637739, \"lon\": 18.8964651}, {\"height\": 3, \"lat\": 59.2581886, \"lon\": 18.8963954}, {\"height\": \"3\", \"lat\": 59.286577, \"lon\": 18.8940887}, {\"height\": \"12\", \"lat\": 59.3169703, \"lon\": 18.7472377}, {\"height\": \"6\", \"lat\": 59.3049249, \"lon\": 18.7590716}, {\"height\": \"5\", \"lat\": 59.3559285, \"lon\": 18.8304935}, {\"height\": \"7\", \"lat\": 59.3718491, \"lon\": 18.7534175}, {\"height\": 3, \"lat\": 59.3696715, \"lon\": 18.7446213}, {\"height\": \"7\", \"lat\": 59.3697915, \"lon\": 18.6057853}, {\"height\": \"8\", \"lat\": 59.3840521, \"lon\": 18.5714369}, {\"height\": \"5\", \"lat\": 59.4043866, \"lon\": 18.5234371}, {\"height\": \"24\", \"lat\": 59.1317014, \"lon\": 18.4299884}, {\"height\": \"5\", \"lat\": 59.128426, \"lon\": 18.4223451}, {\"height\": \"3\", \"lat\": 59.1244125, \"lon\": 18.4075759}, {\"height\": \"4\", \"lat\": 59.1206518, \"lon\": 18.4264265}, {\"height\": \"6\", \"lat\": 59.2964034, \"lon\": 18.7151269}, {\"height\": \"5\", \"lat\": 59.2478587, \"lon\": 18.6654999}, {\"height\": \"8\", \"lat\": 59.1555416, \"lon\": 18.5546952}, {\"height\": \"7\", \"lat\": 59.142995, \"lon\": 18.4640525}, {\"height\": \"6\", \"lat\": 59.1401405, \"lon\": 18.4390356}, {\"height\": \"6\", \"lat\": 59.2818135, \"lon\": 18.867218}, {\"height\": 3, \"lat\": 59.2853743, \"lon\": 18.8575916}, {\"height\": \"7\", \"lat\": 59.2867321, \"lon\": 18.7104698}, {\"height\": \"3\", \"lat\": 59.1133937, \"lon\": 18.4098504}, {\"height\": \"6\", \"lat\": 59.1141482, \"lon\": 18.397126}, {\"height\": \"6\", \"lat\": 59.0734131, \"lon\": 18.2985709}, {\"height\": \"5\", \"lat\": 59.0119345, \"lon\": 18.2463722}, {\"height\": \"8\", \"lat\": 59.0027285, \"lon\": 18.2589386}, {\"height\": \"7\", \"lat\": 58.9782316, \"lon\": 18.1863258}, {\"height\": \"4\", \"lat\": 59.1103886, \"lon\": 18.367085}, {\"height\": \"10\", \"lat\": 59.1066132, \"lon\": 18.3728788}, {\"height\": \"4\", \"lat\": 59.0936875, \"lon\": 18.3490608}, {\"height\": \"8\", \"lat\": 58.9066752, \"lon\": 18.082814}, {\"height\": \"10\", \"lat\": 58.8973146, \"lon\": 18.0244386}, {\"height\": \"17\", \"lat\": 58.792027, \"lon\": 17.9454345}, {\"height\": \"19\", \"lat\": 58.7301639, \"lon\": 17.8764771}, {\"height\": \"14\", \"lat\": 58.7750031, \"lon\": 18.0523883}, {\"height\": \"20\", \"lat\": 59.2509444, \"lon\": 19.0128333}, {\"height\": \"14\", \"lat\": 59.2699444, \"lon\": 18.9744444}, {\"height\": 3, \"lat\": 58.9629711, \"lon\": 18.5682658}, {\"height\": \"10\", \"lat\": 58.764801, \"lon\": 17.8474313}, {\"height\": \"8\", \"lat\": 58.7787736, \"lon\": 17.8642541}, {\"height\": \"6\", \"lat\": 58.7806422, \"lon\": 17.8493196}, {\"height\": \"6\", \"lat\": 58.7938079, \"lon\": 17.8682023}, {\"height\": \"5\", \"lat\": 58.7902783, \"lon\": 17.8341858}, {\"height\": \"10\", \"lat\": 58.7893454, \"lon\": 17.7796038}, {\"height\": \"10\", \"lat\": 58.8019895, \"lon\": 17.7768785}, {\"height\": \"13\", \"lat\": 58.7978147, \"lon\": 17.7487576}, {\"height\": \"12\", \"lat\": 58.7829709, \"lon\": 17.6982916}, {\"height\": \"10\", \"lat\": 58.78856, \"lon\": 17.7092439}, {\"height\": 3, \"lat\": 58.8240057, \"lon\": 17.739995}, {\"height\": \"6\", \"lat\": 58.8249234, \"lon\": 17.7288133}, {\"height\": \"8\", \"lat\": 58.8312271, \"lon\": 17.7554483}, {\"height\": \"7\", \"lat\": 58.8420694, \"lon\": 17.7238351}, {\"height\": \"5\", \"lat\": 58.8791667, \"lon\": 17.7161333}, {\"height\": \"10\", \"lat\": 58.9057816, \"lon\": 17.7135354}, {\"height\": \"6\", \"lat\": 58.9642216, \"lon\": 17.7247792}, {\"height\": \"3\", \"lat\": 59.0070751, \"lon\": 17.7126342}, {\"height\": \"3\", \"lat\": 59.0545761, \"lon\": 17.6849538}, {\"height\": \"5\", \"lat\": 59.0964246, \"lon\": 17.6613718}, {\"height\": \"4\", \"lat\": 59.0998078, \"lon\": 17.6783341}, {\"height\": 3, \"lat\": 59.1058679, \"lon\": 17.6855117}, {\"height\": 3, \"lat\": 59.1271802, \"lon\": 17.6841169}, {\"height\": 3, \"lat\": 59.1606088, \"lon\": 17.6690644}, {\"height\": \"3\", \"lat\": 58.8961102, \"lon\": 17.9594986}, {\"height\": 3, \"lat\": 59.3756613, \"lon\": 18.7151791}, {\"height\": \"8\", \"lat\": 58.9180581, \"lon\": 17.9777762}, {\"height\": \"6\", \"lat\": 59.4126354, \"lon\": 18.9019994}, {\"height\": \"5\", \"lat\": 59.3959502, \"lon\": 18.1025242}, {\"height\": \"7\", \"lat\": 59.3345855, \"lon\": 18.2091557}, {\"height\": \"5\", \"lat\": 59.39265, \"lon\": 18.17485}, {\"height\": \"4\", \"lat\": 59.3959409, \"lon\": 18.3619064}, {\"height\": \"6\", \"lat\": 59.4237833, \"lon\": 18.40425}, {\"height\": \"6\", \"lat\": 59.4309833, \"lon\": 18.3916}, {\"height\": \"7\", \"lat\": 59.3954648, \"lon\": 18.5364822}, {\"height\": \"16\", \"lat\": 59.3738786, \"lon\": 18.6142185}, {\"height\": \"4\", \"lat\": 59.3799381, \"lon\": 18.6554132}, {\"height\": \"5\", \"lat\": 59.3763143, \"lon\": 18.6734587}, {\"height\": \"10\", \"lat\": 59.3934398, \"lon\": 18.6073114}, {\"height\": \"5\", \"lat\": 59.2947667, \"lon\": 18.88855}, {\"height\": \"7\", \"lat\": 58.7995158, \"lon\": 17.555392}, {\"height\": \"7\", \"lat\": 58.7926577, \"lon\": 17.548039}, {\"height\": \"4\", \"lat\": 59.1338333, \"lon\": 18.4201333}, {\"height\": 3, \"lat\": 58.8779498, \"lon\": 17.928323}, {\"height\": 3, \"lat\": 58.889305, \"lon\": 17.9468014}, {\"height\": 3, \"lat\": 59.4425523, \"lon\": 18.4532407}, {\"height\": 3, \"lat\": 59.4476829, \"lon\": 18.4304801}, {\"height\": 3, \"lat\": 59.3270721, \"lon\": 18.3892139}, {\"height\": 3, \"lat\": 59.3040081, \"lon\": 17.9325873}, {\"height\": 3, \"lat\": 59.3034641, \"lon\": 18.1513264}, {\"height\": 3, \"lat\": 59.2841618, \"lon\": 17.6063813}, {\"height\": 3, \"lat\": 59.2684638, \"lon\": 17.5794765}], \"elevationScale\": 100, \"filled\": true, \"getElevation\": \"@@=height\", \"getFillColor\": [0, 0, 255, 140], \"getPosition\": \"@@=[lon, lat]\", \"id\": \"3231c16e-1eda-4297-aacc-de8bc6a65cfc\", \"minRadius\": 10, \"opacity\": true, \"pickable\": true, \"radius\": 500, \"radiusUnits\": \"@@=pixels\"}], \"mapProvider\": \"mapbox\", \"mapStyle\": \"mapbox://styles/mapbox/streets-v11\", \"views\": [{\"@@type\": \"MapView\", \"controller\": true}]};\n",
              "    const tooltip = true;\n",
              "    const customLibraries = null;\n",
              "\n",
              "    const deckInstance = createDeck({\n",
              "            mapboxApiKey: 'pk.eyJ1IjoiaGlzdHJhdmVsc3RvcmllcyIsImEiOiJjbDZmYTRqa20wMWp3M2ltcTBkdWhudjdwIn0.TZUuKeVMFdSDZZtX_MPjzw',\n",
              "                  container: document.getElementById('deck-container'),\n",
              "      jsonInput,\n",
              "      tooltip,\n",
              "      customLibraries\n",
              "    });\n",
              "\n",
              "  </script>\n",
              "</html>"
            ]
          },
          "metadata": {}
        }
      ]
    },
    {
      "cell_type": "markdown",
      "source": [
        "Cleaning the dataframe to attributes that we are using"
      ],
      "metadata": {
        "id": "Ja4h-J1WqU0j"
      }
    },
    {
      "cell_type": "code",
      "source": [
        "df = df[['lon', 'lat','height']]"
      ],
      "metadata": {
        "id": "YFAJyttLij9_"
      },
      "execution_count": 23,
      "outputs": []
    },
    {
      "cell_type": "code",
      "source": [
        "df.head()"
      ],
      "metadata": {
        "colab": {
          "base_uri": "https://localhost:8080/",
          "height": 206
        },
        "id": "bDv1l2L1hk3H",
        "outputId": "fcb4f9c0-016c-4144-c012-5edc53496388"
      },
      "execution_count": 24,
      "outputs": [
        {
          "output_type": "execute_result",
          "data": {
            "text/plain": [
              "         lon        lat height\n",
              "0  18.154908  59.320767      6\n",
              "1  18.946644  59.256482      7\n",
              "2  18.492252  59.182294      3\n",
              "3  18.618563  59.223811      6\n",
              "4  18.565901  59.207756      7"
            ],
            "text/html": [
              "\n",
              "  <div id=\"df-06b4f0cf-4178-4c9c-b6c5-7cb06633afb4\">\n",
              "    <div class=\"colab-df-container\">\n",
              "      <div>\n",
              "<style scoped>\n",
              "    .dataframe tbody tr th:only-of-type {\n",
              "        vertical-align: middle;\n",
              "    }\n",
              "\n",
              "    .dataframe tbody tr th {\n",
              "        vertical-align: top;\n",
              "    }\n",
              "\n",
              "    .dataframe thead th {\n",
              "        text-align: right;\n",
              "    }\n",
              "</style>\n",
              "<table border=\"1\" class=\"dataframe\">\n",
              "  <thead>\n",
              "    <tr style=\"text-align: right;\">\n",
              "      <th></th>\n",
              "      <th>lon</th>\n",
              "      <th>lat</th>\n",
              "      <th>height</th>\n",
              "    </tr>\n",
              "  </thead>\n",
              "  <tbody>\n",
              "    <tr>\n",
              "      <th>0</th>\n",
              "      <td>18.154908</td>\n",
              "      <td>59.320767</td>\n",
              "      <td>6</td>\n",
              "    </tr>\n",
              "    <tr>\n",
              "      <th>1</th>\n",
              "      <td>18.946644</td>\n",
              "      <td>59.256482</td>\n",
              "      <td>7</td>\n",
              "    </tr>\n",
              "    <tr>\n",
              "      <th>2</th>\n",
              "      <td>18.492252</td>\n",
              "      <td>59.182294</td>\n",
              "      <td>3</td>\n",
              "    </tr>\n",
              "    <tr>\n",
              "      <th>3</th>\n",
              "      <td>18.618563</td>\n",
              "      <td>59.223811</td>\n",
              "      <td>6</td>\n",
              "    </tr>\n",
              "    <tr>\n",
              "      <th>4</th>\n",
              "      <td>18.565901</td>\n",
              "      <td>59.207756</td>\n",
              "      <td>7</td>\n",
              "    </tr>\n",
              "  </tbody>\n",
              "</table>\n",
              "</div>\n",
              "      <button class=\"colab-df-convert\" onclick=\"convertToInteractive('df-06b4f0cf-4178-4c9c-b6c5-7cb06633afb4')\"\n",
              "              title=\"Convert this dataframe to an interactive table.\"\n",
              "              style=\"display:none;\">\n",
              "        \n",
              "  <svg xmlns=\"http://www.w3.org/2000/svg\" height=\"24px\"viewBox=\"0 0 24 24\"\n",
              "       width=\"24px\">\n",
              "    <path d=\"M0 0h24v24H0V0z\" fill=\"none\"/>\n",
              "    <path d=\"M18.56 5.44l.94 2.06.94-2.06 2.06-.94-2.06-.94-.94-2.06-.94 2.06-2.06.94zm-11 1L8.5 8.5l.94-2.06 2.06-.94-2.06-.94L8.5 2.5l-.94 2.06-2.06.94zm10 10l.94 2.06.94-2.06 2.06-.94-2.06-.94-.94-2.06-.94 2.06-2.06.94z\"/><path d=\"M17.41 7.96l-1.37-1.37c-.4-.4-.92-.59-1.43-.59-.52 0-1.04.2-1.43.59L10.3 9.45l-7.72 7.72c-.78.78-.78 2.05 0 2.83L4 21.41c.39.39.9.59 1.41.59.51 0 1.02-.2 1.41-.59l7.78-7.78 2.81-2.81c.8-.78.8-2.07 0-2.86zM5.41 20L4 18.59l7.72-7.72 1.47 1.35L5.41 20z\"/>\n",
              "  </svg>\n",
              "      </button>\n",
              "      \n",
              "  <style>\n",
              "    .colab-df-container {\n",
              "      display:flex;\n",
              "      flex-wrap:wrap;\n",
              "      gap: 12px;\n",
              "    }\n",
              "\n",
              "    .colab-df-convert {\n",
              "      background-color: #E8F0FE;\n",
              "      border: none;\n",
              "      border-radius: 50%;\n",
              "      cursor: pointer;\n",
              "      display: none;\n",
              "      fill: #1967D2;\n",
              "      height: 32px;\n",
              "      padding: 0 0 0 0;\n",
              "      width: 32px;\n",
              "    }\n",
              "\n",
              "    .colab-df-convert:hover {\n",
              "      background-color: #E2EBFA;\n",
              "      box-shadow: 0px 1px 2px rgba(60, 64, 67, 0.3), 0px 1px 3px 1px rgba(60, 64, 67, 0.15);\n",
              "      fill: #174EA6;\n",
              "    }\n",
              "\n",
              "    [theme=dark] .colab-df-convert {\n",
              "      background-color: #3B4455;\n",
              "      fill: #D2E3FC;\n",
              "    }\n",
              "\n",
              "    [theme=dark] .colab-df-convert:hover {\n",
              "      background-color: #434B5C;\n",
              "      box-shadow: 0px 1px 3px 1px rgba(0, 0, 0, 0.15);\n",
              "      filter: drop-shadow(0px 1px 2px rgba(0, 0, 0, 0.3));\n",
              "      fill: #FFFFFF;\n",
              "    }\n",
              "  </style>\n",
              "\n",
              "      <script>\n",
              "        const buttonEl =\n",
              "          document.querySelector('#df-06b4f0cf-4178-4c9c-b6c5-7cb06633afb4 button.colab-df-convert');\n",
              "        buttonEl.style.display =\n",
              "          google.colab.kernel.accessAllowed ? 'block' : 'none';\n",
              "\n",
              "        async function convertToInteractive(key) {\n",
              "          const element = document.querySelector('#df-06b4f0cf-4178-4c9c-b6c5-7cb06633afb4');\n",
              "          const dataTable =\n",
              "            await google.colab.kernel.invokeFunction('convertToInteractive',\n",
              "                                                     [key], {});\n",
              "          if (!dataTable) return;\n",
              "\n",
              "          const docLinkHtml = 'Like what you see? Visit the ' +\n",
              "            '<a target=\"_blank\" href=https://colab.research.google.com/notebooks/data_table.ipynb>data table notebook</a>'\n",
              "            + ' to learn more about interactive tables.';\n",
              "          element.innerHTML = '';\n",
              "          dataTable['output_type'] = 'display_data';\n",
              "          await google.colab.output.renderOutput(dataTable, element);\n",
              "          const docLink = document.createElement('div');\n",
              "          docLink.innerHTML = docLinkHtml;\n",
              "          element.appendChild(docLink);\n",
              "        }\n",
              "      </script>\n",
              "    </div>\n",
              "  </div>\n",
              "  "
            ]
          },
          "metadata": {},
          "execution_count": 24
        }
      ]
    },
    {
      "cell_type": "markdown",
      "metadata": {
        "id": "NTRUj0Mf50F6"
      },
      "source": [
        "# Part 2: Choose where to build docks\n",
        "\n",
        "Suggest a minimal set of lighthouses at which to build a dock that would allow a drone to traverse from Stockholm to Torö, if each drone has a usable battery life of 30 minutes and travels at a ground speed of 12 meters per second. Plot the route, assuming approximate endpoints at Stockholm and Torö. Also print the total route distance.\n",
        "\n",
        "It's okay to make reasonable assumptions here and state your thinking. You can go as straightforward or complex as you like."
      ]
    },
    {
      "cell_type": "markdown",
      "source": [
        "### Calculating distance between two points in terms of kms"
      ],
      "metadata": {
        "id": "gjXJQPYmMHOm"
      }
    },
    {
      "cell_type": "markdown",
      "source": [
        "geopy helps locate the coordinates of addresses, cities, countries, and landmarks. Using here to calculate the distance between two coordinates"
      ],
      "metadata": {
        "id": "WIgYAjRgrJRT"
      }
    },
    {
      "cell_type": "code",
      "source": [
        "import geopy.distance"
      ],
      "metadata": {
        "id": "ZMCt1ZoLMRh7"
      },
      "execution_count": 25,
      "outputs": []
    },
    {
      "cell_type": "code",
      "source": [
        "def findDistance(coordinate_1, coordinate_2):\n",
        "  '''\n",
        "    Calculates the straight line distance between two coordinates\n",
        "\n",
        "    Input Parameters : coordinate_1, coordinat_2 ( tuples containing lat and lng\n",
        "                       of the places)\n",
        "\n",
        "    Returns : Straight line distance in kilometers\n",
        "\n",
        "  '''\n",
        "  return(geopy.distance.geodesic(coordinate_1, coordinate_2).km)\n"
      ],
      "metadata": {
        "id": "3QExonptMOtN"
      },
      "execution_count": 26,
      "outputs": []
    },
    {
      "cell_type": "markdown",
      "source": [
        "### Calculating the Lighthouses between each desatinations"
      ],
      "metadata": {
        "id": "sPnRU7fYlOn2"
      }
    },
    {
      "cell_type": "code",
      "source": [
        "route_1 = df[(df.lat >= 59.328982) & (df.lat <= (59.349003 + 0.18018)) & (df.lon >=  18.068531) & (df.lon <= (18.686806 + 0.34))] \n",
        "route_2 = df[(df.lat >= 58.834266) & (df.lat <= (59.349003 + 0.18018)) & (df.lon >=  17.840492) & (df.lon <= (18.686806 + 0.34))] "
      ],
      "metadata": {
        "id": "d6oWf8lcir2v"
      },
      "execution_count": 27,
      "outputs": []
    },
    {
      "cell_type": "code",
      "source": [
        "drawMapBoxMap(route_1)"
      ],
      "metadata": {
        "colab": {
          "base_uri": "https://localhost:8080/",
          "height": 500
        },
        "id": "5HGwPAygk6-2",
        "outputId": "9337ae62-f4fd-4776-9137-469b5273b935"
      },
      "execution_count": 52,
      "outputs": [
        {
          "output_type": "display_data",
          "data": {
            "text/plain": [
              "<IPython.core.display.Javascript object>"
            ],
            "application/javascript": [
              "google.colab.output.setIframeHeight(500, true, {minHeight: 500})"
            ]
          },
          "metadata": {}
        },
        {
          "output_type": "display_data",
          "data": {
            "text/plain": [
              "<IPython.core.display.HTML object>"
            ],
            "text/html": [
              "<!DOCTYPE html>\n",
              "<html>\n",
              "  <head>\n",
              "    <meta http-equiv=\"content-type\" content=\"text/html; charset=UTF-8\" />\n",
              "    <title>pydeck</title>\n",
              "        <script src=\"https://api.tiles.mapbox.com/mapbox-gl-js/v1.13.0/mapbox-gl.js\"></script>\n",
              "        <link rel=\"stylesheet\" href=\"https://maxcdn.bootstrapcdn.com/bootstrap/3.2.0/css/bootstrap-theme.min.css\" />\n",
              "    <link rel=\"stylesheet\" href=\"https://maxcdn.bootstrapcdn.com/font-awesome/4.6.3/css/font-awesome.min.css\" />\n",
              "    <script src='https://cdn.jsdelivr.net/npm/@deck.gl/jupyter-widget@~8.5.*/dist/index.js'></script>\n",
              "    <style>\n",
              "    body {\n",
              "  margin: 0;\n",
              "  padding: 0;\n",
              "  overflow: hidden;\n",
              "}\n",
              "\n",
              "#deck-map-container {\n",
              "  width: 100%;\n",
              "  height: 100%;\n",
              "  background-color: black;\n",
              "}\n",
              "\n",
              "#map {\n",
              "  pointer-events: none;\n",
              "  height: 100%;\n",
              "  width: 100%;\n",
              "  position: absolute;\n",
              "  z-index: 1;\n",
              "}\n",
              "\n",
              "#deckgl-overlay {\n",
              "  z-index: 2;\n",
              "  background: none;\n",
              "}\n",
              "\n",
              "#deck-map-wrapper {\n",
              "  width: 100%;\n",
              "  height: 100%;\n",
              "}\n",
              "\n",
              "#deck-container {\n",
              "  width: 100vw;\n",
              "  height: 100vh;\n",
              "}\n",
              "    </style>\n",
              "  </head>\n",
              "  <body>\n",
              "    <div id=\"deck-container\">\n",
              "    </div>\n",
              "  </body>\n",
              "  <script>\n",
              "    const jsonInput = {\"initialViewState\": {\"bearing\": -1.45748987854251, \"latitude\": 59.196318798583725, \"longitude\": 18.599920729657768, \"pitch\": 0.5797101449275388, \"zoom\": 8}, \"layers\": [{\"@@type\": \"ColumnLayer\", \"autoHighlight\": true, \"data\": [{\"height\": \"12\", \"lat\": 59.4302773, \"lon\": 18.9524248}, {\"height\": \"10\", \"lat\": 59.4111327, \"lon\": 18.9058001}, {\"height\": \"3\", \"lat\": 59.4690126, \"lon\": 18.4180074}, {\"height\": \"4\", \"lat\": 59.4566177, \"lon\": 18.4275561}, {\"height\": \"3\", \"lat\": 59.4532248, \"lon\": 18.3874517}, {\"height\": \"6\", \"lat\": 59.4453718, \"lon\": 18.4162908}, {\"height\": \"3\", \"lat\": 59.5233845, \"lon\": 18.5208326}, {\"height\": \"5\", \"lat\": 59.5122384, \"lon\": 18.4942251}, {\"height\": \"3\", \"lat\": 59.5024786, \"lon\": 18.5174352}, {\"height\": \"7\", \"lat\": 59.4977779, \"lon\": 18.4592061}, {\"height\": 3, \"lat\": 59.4427844, \"lon\": 18.4399153}, {\"height\": \"4\", \"lat\": 59.4327159, \"lon\": 18.4977441}, {\"height\": 3, \"lat\": 59.4206775, \"lon\": 18.501467}, {\"height\": \"5\", \"lat\": 59.4275977, \"lon\": 18.3656936}, {\"height\": \"6\", \"lat\": 59.3617991, \"lon\": 18.4522968}, {\"height\": \"6\", \"lat\": 59.358584, \"lon\": 18.4150892}, {\"height\": \"5\", \"lat\": 59.3714207, \"lon\": 18.3891683}, {\"height\": \"2\", \"lat\": 59.4216793, \"lon\": 18.485516}, {\"height\": \"5\", \"lat\": 59.4253824, \"lon\": 18.4112817}, {\"height\": \"4\", \"lat\": 59.3629226, \"lon\": 18.3763635}, {\"height\": \"5\", \"lat\": 59.371713, \"lon\": 18.3352506}, {\"height\": \"4\", \"lat\": 59.3776595, \"lon\": 18.294481}, {\"height\": \"4\", \"lat\": 59.3808072, \"lon\": 18.3040082}, {\"height\": \"6\", \"lat\": 59.3664653, \"lon\": 18.3105313}, {\"height\": \"7\", \"lat\": 59.3741179, \"lon\": 18.2797181}, {\"height\": 3, \"lat\": 59.3656343, \"lon\": 18.2687318}, {\"height\": \"6\", \"lat\": 59.3639859, \"lon\": 18.2590061}, {\"height\": \"6\", \"lat\": 59.3322815, \"lon\": 18.1764136}, {\"height\": \"5\", \"lat\": 59.3559285, \"lon\": 18.8304935}, {\"height\": \"7\", \"lat\": 59.3718491, \"lon\": 18.7534175}, {\"height\": 3, \"lat\": 59.3696715, \"lon\": 18.7446213}, {\"height\": \"7\", \"lat\": 59.3697915, \"lon\": 18.6057853}, {\"height\": \"8\", \"lat\": 59.3840521, \"lon\": 18.5714369}, {\"height\": \"5\", \"lat\": 59.4043866, \"lon\": 18.5234371}, {\"height\": 3, \"lat\": 59.3756613, \"lon\": 18.7151791}, {\"height\": \"6\", \"lat\": 59.4126354, \"lon\": 18.9019994}, {\"height\": \"5\", \"lat\": 59.3959502, \"lon\": 18.1025242}, {\"height\": \"7\", \"lat\": 59.3345855, \"lon\": 18.2091557}, {\"height\": \"5\", \"lat\": 59.39265, \"lon\": 18.17485}, {\"height\": \"4\", \"lat\": 59.3959409, \"lon\": 18.3619064}, {\"height\": \"6\", \"lat\": 59.4237833, \"lon\": 18.40425}, {\"height\": \"6\", \"lat\": 59.4309833, \"lon\": 18.3916}, {\"height\": \"7\", \"lat\": 59.3954648, \"lon\": 18.5364822}, {\"height\": \"16\", \"lat\": 59.3738786, \"lon\": 18.6142185}, {\"height\": \"4\", \"lat\": 59.3799381, \"lon\": 18.6554132}, {\"height\": \"5\", \"lat\": 59.3763143, \"lon\": 18.6734587}, {\"height\": \"10\", \"lat\": 59.3934398, \"lon\": 18.6073114}, {\"height\": 3, \"lat\": 59.4425523, \"lon\": 18.4532407}, {\"height\": 3, \"lat\": 59.4476829, \"lon\": 18.4304801}], \"elevationScale\": 100, \"filled\": true, \"getElevation\": \"@@=height\", \"getFillColor\": [0, 0, 255, 140], \"getPosition\": \"@@=[lon, lat]\", \"id\": \"78d9cf87-f11f-4931-ab52-f175b22c9a43\", \"minRadius\": 10, \"opacity\": true, \"pickable\": true, \"radius\": 500, \"radiusUnits\": \"@@=pixels\"}], \"mapProvider\": \"mapbox\", \"mapStyle\": \"mapbox://styles/mapbox/streets-v11\", \"views\": [{\"@@type\": \"MapView\", \"controller\": true}]};\n",
              "    const tooltip = true;\n",
              "    const customLibraries = null;\n",
              "\n",
              "    const deckInstance = createDeck({\n",
              "            mapboxApiKey: 'pk.eyJ1IjoiaGlzdHJhdmVsc3RvcmllcyIsImEiOiJjbDZmYTRqa20wMWp3M2ltcTBkdWhudjdwIn0.TZUuKeVMFdSDZZtX_MPjzw',\n",
              "                  container: document.getElementById('deck-container'),\n",
              "      jsonInput,\n",
              "      tooltip,\n",
              "      customLibraries\n",
              "    });\n",
              "\n",
              "  </script>\n",
              "</html>"
            ]
          },
          "metadata": {}
        }
      ]
    },
    {
      "cell_type": "code",
      "source": [
        "len(route_1)"
      ],
      "metadata": {
        "colab": {
          "base_uri": "https://localhost:8080/",
          "height": 0
        },
        "id": "8E3rsSH5mCbQ",
        "outputId": "650902d9-dc41-4bd0-ea29-63729959ed30"
      },
      "execution_count": 29,
      "outputs": [
        {
          "output_type": "execute_result",
          "data": {
            "text/plain": [
              "49"
            ]
          },
          "metadata": {},
          "execution_count": 29
        }
      ]
    },
    {
      "cell_type": "markdown",
      "source": [
        "* Checking straight line distance between Stockholm and the farthest lighthouse near Vindo we see that the distance is ~40kms, and we see from the above map that there are lots of lighthouses in the middle of the path and lot of outlier light houses which we can straight away remove from our list of light houses to consider for finding the path. Reducing the degree to the north of vindo to check for lighthouses.\n",
        "\n",
        "\n",
        "* We can use Dynamic Programming to find the most efficient result with the resultant 49 lighthouses. But to store the distances we would require a big look up table. In case when this problem is to be made more generic, we should use the DP approach to find the minimal set. \n",
        "\n",
        "Here as we can visualize the data and get information from the data we try to reduce the memory and computation by simple visualization.\n",
        "\n",
        "* Identified a lighthouse on the island of Vindo and removed all lighthouses on the right of it."
      ],
      "metadata": {
        "id": "hguWwBtzWA2m"
      }
    },
    {
      "cell_type": "code",
      "source": [
        "route_1_Updated = df[(df.lat >= 59.328982) & (df.lat <= (59.349003 + 0.03018)) & (df.lon >=  18.068531) & (df.lon <= (18.7))] \n",
        "len(route_1_Updated)\n",
        "route_1_Updated = route_1_Updated.reset_index()\n",
        "route_1_Updated = route_1_Updated.drop(['index'], axis=1)"
      ],
      "metadata": {
        "id": "nVMAEbtdX3iA"
      },
      "execution_count": 30,
      "outputs": []
    },
    {
      "cell_type": "markdown",
      "source": [
        "We see that from 49 we have reduced to 15 lighthouses, it is not necessary to do this step, in case where we do not have any manual intervention we can come up with other optimization techniques like clustering to minimize the lighthouses to consider."
      ],
      "metadata": {
        "id": "iLTDIlmIsNJ5"
      }
    },
    {
      "cell_type": "code",
      "source": [
        "drawMapBoxMap(route_1_Updated)"
      ],
      "metadata": {
        "colab": {
          "base_uri": "https://localhost:8080/",
          "height": 500
        },
        "id": "LFEGit_Yb9M1",
        "outputId": "ccaed016-db48-4ef7-ac70-e8029dd43e5d"
      },
      "execution_count": 51,
      "outputs": [
        {
          "output_type": "display_data",
          "data": {
            "text/plain": [
              "<IPython.core.display.Javascript object>"
            ],
            "application/javascript": [
              "google.colab.output.setIframeHeight(500, true, {minHeight: 500})"
            ]
          },
          "metadata": {}
        },
        {
          "output_type": "display_data",
          "data": {
            "text/plain": [
              "<IPython.core.display.HTML object>"
            ],
            "text/html": [
              "<!DOCTYPE html>\n",
              "<html>\n",
              "  <head>\n",
              "    <meta http-equiv=\"content-type\" content=\"text/html; charset=UTF-8\" />\n",
              "    <title>pydeck</title>\n",
              "        <script src=\"https://api.tiles.mapbox.com/mapbox-gl-js/v1.13.0/mapbox-gl.js\"></script>\n",
              "        <link rel=\"stylesheet\" href=\"https://maxcdn.bootstrapcdn.com/bootstrap/3.2.0/css/bootstrap-theme.min.css\" />\n",
              "    <link rel=\"stylesheet\" href=\"https://maxcdn.bootstrapcdn.com/font-awesome/4.6.3/css/font-awesome.min.css\" />\n",
              "    <script src='https://cdn.jsdelivr.net/npm/@deck.gl/jupyter-widget@~8.5.*/dist/index.js'></script>\n",
              "    <style>\n",
              "    body {\n",
              "  margin: 0;\n",
              "  padding: 0;\n",
              "  overflow: hidden;\n",
              "}\n",
              "\n",
              "#deck-map-container {\n",
              "  width: 100%;\n",
              "  height: 100%;\n",
              "  background-color: black;\n",
              "}\n",
              "\n",
              "#map {\n",
              "  pointer-events: none;\n",
              "  height: 100%;\n",
              "  width: 100%;\n",
              "  position: absolute;\n",
              "  z-index: 1;\n",
              "}\n",
              "\n",
              "#deckgl-overlay {\n",
              "  z-index: 2;\n",
              "  background: none;\n",
              "}\n",
              "\n",
              "#deck-map-wrapper {\n",
              "  width: 100%;\n",
              "  height: 100%;\n",
              "}\n",
              "\n",
              "#deck-container {\n",
              "  width: 100vw;\n",
              "  height: 100vh;\n",
              "}\n",
              "    </style>\n",
              "  </head>\n",
              "  <body>\n",
              "    <div id=\"deck-container\">\n",
              "    </div>\n",
              "  </body>\n",
              "  <script>\n",
              "    const jsonInput = {\"initialViewState\": {\"bearing\": -1.45748987854251, \"latitude\": 59.196318798583725, \"longitude\": 18.599920729657768, \"pitch\": 0.5797101449275388, \"zoom\": 8}, \"layers\": [{\"@@type\": \"ColumnLayer\", \"autoHighlight\": true, \"data\": [{\"height\": \"6\", \"lat\": 59.3617991, \"lon\": 18.4522968}, {\"height\": \"6\", \"lat\": 59.358584, \"lon\": 18.4150892}, {\"height\": \"5\", \"lat\": 59.3714207, \"lon\": 18.3891683}, {\"height\": \"4\", \"lat\": 59.3629226, \"lon\": 18.3763635}, {\"height\": \"5\", \"lat\": 59.371713, \"lon\": 18.3352506}, {\"height\": \"4\", \"lat\": 59.3776595, \"lon\": 18.294481}, {\"height\": \"6\", \"lat\": 59.3664653, \"lon\": 18.3105313}, {\"height\": \"7\", \"lat\": 59.3741179, \"lon\": 18.2797181}, {\"height\": 3, \"lat\": 59.3656343, \"lon\": 18.2687318}, {\"height\": \"6\", \"lat\": 59.3639859, \"lon\": 18.2590061}, {\"height\": \"6\", \"lat\": 59.3322815, \"lon\": 18.1764136}, {\"height\": \"7\", \"lat\": 59.3697915, \"lon\": 18.6057853}, {\"height\": \"7\", \"lat\": 59.3345855, \"lon\": 18.2091557}, {\"height\": \"16\", \"lat\": 59.3738786, \"lon\": 18.6142185}, {\"height\": \"5\", \"lat\": 59.3763143, \"lon\": 18.6734587}], \"elevationScale\": 100, \"filled\": true, \"getElevation\": \"@@=height\", \"getFillColor\": [0, 0, 255, 140], \"getPosition\": \"@@=[lon, lat]\", \"id\": \"b1ca0d6d-48ee-4beb-a513-16b9f33dcf1f\", \"minRadius\": 10, \"opacity\": true, \"pickable\": true, \"radius\": 500, \"radiusUnits\": \"@@=pixels\"}], \"mapProvider\": \"mapbox\", \"mapStyle\": \"mapbox://styles/mapbox/streets-v11\", \"views\": [{\"@@type\": \"MapView\", \"controller\": true}]};\n",
              "    const tooltip = true;\n",
              "    const customLibraries = null;\n",
              "\n",
              "    const deckInstance = createDeck({\n",
              "            mapboxApiKey: 'pk.eyJ1IjoiaGlzdHJhdmVsc3RvcmllcyIsImEiOiJjbDZmYTRqa20wMWp3M2ltcTBkdWhudjdwIn0.TZUuKeVMFdSDZZtX_MPjzw',\n",
              "                  container: document.getElementById('deck-container'),\n",
              "      jsonInput,\n",
              "      tooltip,\n",
              "      customLibraries\n",
              "    });\n",
              "\n",
              "  </script>\n",
              "</html>"
            ]
          },
          "metadata": {}
        }
      ]
    },
    {
      "cell_type": "code",
      "source": [
        "drawMapBoxMap(route_2)"
      ],
      "metadata": {
        "colab": {
          "base_uri": "https://localhost:8080/",
          "height": 500
        },
        "id": "L3IQQRryoTv6",
        "outputId": "aa97182c-a542-4205-bd7f-0e47b8d752ce"
      },
      "execution_count": 53,
      "outputs": [
        {
          "output_type": "display_data",
          "data": {
            "text/plain": [
              "<IPython.core.display.Javascript object>"
            ],
            "application/javascript": [
              "google.colab.output.setIframeHeight(500, true, {minHeight: 500})"
            ]
          },
          "metadata": {}
        },
        {
          "output_type": "display_data",
          "data": {
            "text/plain": [
              "<IPython.core.display.HTML object>"
            ],
            "text/html": [
              "<!DOCTYPE html>\n",
              "<html>\n",
              "  <head>\n",
              "    <meta http-equiv=\"content-type\" content=\"text/html; charset=UTF-8\" />\n",
              "    <title>pydeck</title>\n",
              "        <script src=\"https://api.tiles.mapbox.com/mapbox-gl-js/v1.13.0/mapbox-gl.js\"></script>\n",
              "        <link rel=\"stylesheet\" href=\"https://maxcdn.bootstrapcdn.com/bootstrap/3.2.0/css/bootstrap-theme.min.css\" />\n",
              "    <link rel=\"stylesheet\" href=\"https://maxcdn.bootstrapcdn.com/font-awesome/4.6.3/css/font-awesome.min.css\" />\n",
              "    <script src='https://cdn.jsdelivr.net/npm/@deck.gl/jupyter-widget@~8.5.*/dist/index.js'></script>\n",
              "    <style>\n",
              "    body {\n",
              "  margin: 0;\n",
              "  padding: 0;\n",
              "  overflow: hidden;\n",
              "}\n",
              "\n",
              "#deck-map-container {\n",
              "  width: 100%;\n",
              "  height: 100%;\n",
              "  background-color: black;\n",
              "}\n",
              "\n",
              "#map {\n",
              "  pointer-events: none;\n",
              "  height: 100%;\n",
              "  width: 100%;\n",
              "  position: absolute;\n",
              "  z-index: 1;\n",
              "}\n",
              "\n",
              "#deckgl-overlay {\n",
              "  z-index: 2;\n",
              "  background: none;\n",
              "}\n",
              "\n",
              "#deck-map-wrapper {\n",
              "  width: 100%;\n",
              "  height: 100%;\n",
              "}\n",
              "\n",
              "#deck-container {\n",
              "  width: 100vw;\n",
              "  height: 100vh;\n",
              "}\n",
              "    </style>\n",
              "  </head>\n",
              "  <body>\n",
              "    <div id=\"deck-container\">\n",
              "    </div>\n",
              "  </body>\n",
              "  <script>\n",
              "    const jsonInput = {\"initialViewState\": {\"bearing\": -1.45748987854251, \"latitude\": 59.196318798583725, \"longitude\": 18.599920729657768, \"pitch\": 0.5797101449275388, \"zoom\": 8}, \"layers\": [{\"@@type\": \"ColumnLayer\", \"autoHighlight\": true, \"data\": [{\"height\": \"6\", \"lat\": 59.3207673, \"lon\": 18.1549076}, {\"height\": \"7\", \"lat\": 59.2564822, \"lon\": 18.9466436}, {\"height\": 3, \"lat\": 59.182294, \"lon\": 18.4922522}, {\"height\": \"6\", \"lat\": 59.2238111, \"lon\": 18.6185628}, {\"height\": \"7\", \"lat\": 59.2077557, \"lon\": 18.565901}, {\"height\": \"7\", \"lat\": 59.2178016, \"lon\": 18.6135129}, {\"height\": \"12\", \"lat\": 59.4302773, \"lon\": 18.9524248}, {\"height\": \"10\", \"lat\": 59.4111327, \"lon\": 18.9058001}, {\"height\": \"13\", \"lat\": 58.8569614, \"lon\": 18.015065}, {\"height\": \"3\", \"lat\": 59.4690126, \"lon\": 18.4180074}, {\"height\": \"4\", \"lat\": 59.4566177, \"lon\": 18.4275561}, {\"height\": \"3\", \"lat\": 59.4532248, \"lon\": 18.3874517}, {\"height\": \"6\", \"lat\": 59.4453718, \"lon\": 18.4162908}, {\"height\": \"3\", \"lat\": 59.5233845, \"lon\": 18.5208326}, {\"height\": \"5\", \"lat\": 59.5122384, \"lon\": 18.4942251}, {\"height\": \"3\", \"lat\": 59.5024786, \"lon\": 18.5174352}, {\"height\": \"7\", \"lat\": 59.4977779, \"lon\": 18.4592061}, {\"height\": 3, \"lat\": 59.4427844, \"lon\": 18.4399153}, {\"height\": \"4\", \"lat\": 59.4327159, \"lon\": 18.4977441}, {\"height\": 3, \"lat\": 59.4206775, \"lon\": 18.501467}, {\"height\": \"5\", \"lat\": 59.4275977, \"lon\": 18.3656936}, {\"height\": \"6\", \"lat\": 59.3617991, \"lon\": 18.4522968}, {\"height\": \"6\", \"lat\": 59.358584, \"lon\": 18.4150892}, {\"height\": \"5\", \"lat\": 59.3714207, \"lon\": 18.3891683}, {\"height\": \"2\", \"lat\": 59.4216793, \"lon\": 18.485516}, {\"height\": \"5\", \"lat\": 59.4253824, \"lon\": 18.4112817}, {\"height\": \"4\", \"lat\": 59.3629226, \"lon\": 18.3763635}, {\"height\": \"5\", \"lat\": 59.371713, \"lon\": 18.3352506}, {\"height\": \"4\", \"lat\": 59.3776595, \"lon\": 18.294481}, {\"height\": \"4\", \"lat\": 59.3808072, \"lon\": 18.3040082}, {\"height\": \"6\", \"lat\": 59.3664653, \"lon\": 18.3105313}, {\"height\": \"7\", \"lat\": 59.3741179, \"lon\": 18.2797181}, {\"height\": 3, \"lat\": 59.3656343, \"lon\": 18.2687318}, {\"height\": \"6\", \"lat\": 59.3639859, \"lon\": 18.2590061}, {\"height\": \"6\", \"lat\": 59.3322815, \"lon\": 18.1764136}, {\"height\": \"11\", \"lat\": 59.3007854, \"lon\": 18.8745767}, {\"height\": 3, \"lat\": 59.3004762, \"lon\": 18.8688062}, {\"height\": 3, \"lat\": 59.3133074, \"lon\": 18.8102374}, {\"height\": \"8\", \"lat\": 59.3182952, \"lon\": 18.8108168}, {\"height\": \"10\", \"lat\": 59.2773535, \"lon\": 19.000052}, {\"height\": \"7\", \"lat\": 59.2637739, \"lon\": 18.8964651}, {\"height\": 3, \"lat\": 59.2581886, \"lon\": 18.8963954}, {\"height\": \"3\", \"lat\": 59.286577, \"lon\": 18.8940887}, {\"height\": \"12\", \"lat\": 59.3169703, \"lon\": 18.7472377}, {\"height\": \"6\", \"lat\": 59.3049249, \"lon\": 18.7590716}, {\"height\": \"5\", \"lat\": 59.3559285, \"lon\": 18.8304935}, {\"height\": \"7\", \"lat\": 59.3718491, \"lon\": 18.7534175}, {\"height\": 3, \"lat\": 59.3696715, \"lon\": 18.7446213}, {\"height\": \"7\", \"lat\": 59.3697915, \"lon\": 18.6057853}, {\"height\": \"8\", \"lat\": 59.3840521, \"lon\": 18.5714369}, {\"height\": \"5\", \"lat\": 59.4043866, \"lon\": 18.5234371}, {\"height\": \"24\", \"lat\": 59.1317014, \"lon\": 18.4299884}, {\"height\": \"5\", \"lat\": 59.128426, \"lon\": 18.4223451}, {\"height\": \"3\", \"lat\": 59.1244125, \"lon\": 18.4075759}, {\"height\": \"4\", \"lat\": 59.1206518, \"lon\": 18.4264265}, {\"height\": \"6\", \"lat\": 59.2964034, \"lon\": 18.7151269}, {\"height\": \"5\", \"lat\": 59.2478587, \"lon\": 18.6654999}, {\"height\": \"8\", \"lat\": 59.1555416, \"lon\": 18.5546952}, {\"height\": \"7\", \"lat\": 59.142995, \"lon\": 18.4640525}, {\"height\": \"6\", \"lat\": 59.1401405, \"lon\": 18.4390356}, {\"height\": \"6\", \"lat\": 59.2818135, \"lon\": 18.867218}, {\"height\": 3, \"lat\": 59.2853743, \"lon\": 18.8575916}, {\"height\": \"7\", \"lat\": 59.2867321, \"lon\": 18.7104698}, {\"height\": \"3\", \"lat\": 59.1133937, \"lon\": 18.4098504}, {\"height\": \"6\", \"lat\": 59.1141482, \"lon\": 18.397126}, {\"height\": \"6\", \"lat\": 59.0734131, \"lon\": 18.2985709}, {\"height\": \"5\", \"lat\": 59.0119345, \"lon\": 18.2463722}, {\"height\": \"8\", \"lat\": 59.0027285, \"lon\": 18.2589386}, {\"height\": \"7\", \"lat\": 58.9782316, \"lon\": 18.1863258}, {\"height\": \"4\", \"lat\": 59.1103886, \"lon\": 18.367085}, {\"height\": \"10\", \"lat\": 59.1066132, \"lon\": 18.3728788}, {\"height\": \"4\", \"lat\": 59.0936875, \"lon\": 18.3490608}, {\"height\": \"8\", \"lat\": 58.9066752, \"lon\": 18.082814}, {\"height\": \"10\", \"lat\": 58.8973146, \"lon\": 18.0244386}, {\"height\": \"20\", \"lat\": 59.2509444, \"lon\": 19.0128333}, {\"height\": \"14\", \"lat\": 59.2699444, \"lon\": 18.9744444}, {\"height\": 3, \"lat\": 58.9629711, \"lon\": 18.5682658}, {\"height\": \"3\", \"lat\": 58.8961102, \"lon\": 17.9594986}, {\"height\": 3, \"lat\": 59.3756613, \"lon\": 18.7151791}, {\"height\": \"8\", \"lat\": 58.9180581, \"lon\": 17.9777762}, {\"height\": \"6\", \"lat\": 59.4126354, \"lon\": 18.9019994}, {\"height\": \"5\", \"lat\": 59.3959502, \"lon\": 18.1025242}, {\"height\": \"7\", \"lat\": 59.3345855, \"lon\": 18.2091557}, {\"height\": \"5\", \"lat\": 59.39265, \"lon\": 18.17485}, {\"height\": \"4\", \"lat\": 59.3959409, \"lon\": 18.3619064}, {\"height\": \"6\", \"lat\": 59.4237833, \"lon\": 18.40425}, {\"height\": \"6\", \"lat\": 59.4309833, \"lon\": 18.3916}, {\"height\": \"7\", \"lat\": 59.3954648, \"lon\": 18.5364822}, {\"height\": \"16\", \"lat\": 59.3738786, \"lon\": 18.6142185}, {\"height\": \"4\", \"lat\": 59.3799381, \"lon\": 18.6554132}, {\"height\": \"5\", \"lat\": 59.3763143, \"lon\": 18.6734587}, {\"height\": \"10\", \"lat\": 59.3934398, \"lon\": 18.6073114}, {\"height\": \"5\", \"lat\": 59.2947667, \"lon\": 18.88855}, {\"height\": \"4\", \"lat\": 59.1338333, \"lon\": 18.4201333}, {\"height\": 3, \"lat\": 58.8779498, \"lon\": 17.928323}, {\"height\": 3, \"lat\": 58.889305, \"lon\": 17.9468014}, {\"height\": 3, \"lat\": 59.4425523, \"lon\": 18.4532407}, {\"height\": 3, \"lat\": 59.4476829, \"lon\": 18.4304801}, {\"height\": 3, \"lat\": 59.3270721, \"lon\": 18.3892139}, {\"height\": 3, \"lat\": 59.3040081, \"lon\": 17.9325873}, {\"height\": 3, \"lat\": 59.3034641, \"lon\": 18.1513264}], \"elevationScale\": 100, \"filled\": true, \"getElevation\": \"@@=height\", \"getFillColor\": [0, 0, 255, 140], \"getPosition\": \"@@=[lon, lat]\", \"id\": \"f437695d-d191-4cd7-a443-1ca76efff66e\", \"minRadius\": 10, \"opacity\": true, \"pickable\": true, \"radius\": 500, \"radiusUnits\": \"@@=pixels\"}], \"mapProvider\": \"mapbox\", \"mapStyle\": \"mapbox://styles/mapbox/streets-v11\", \"views\": [{\"@@type\": \"MapView\", \"controller\": true}]};\n",
              "    const tooltip = true;\n",
              "    const customLibraries = null;\n",
              "\n",
              "    const deckInstance = createDeck({\n",
              "            mapboxApiKey: 'pk.eyJ1IjoiaGlzdHJhdmVsc3RvcmllcyIsImEiOiJjbDZmYTRqa20wMWp3M2ltcTBkdWhudjdwIn0.TZUuKeVMFdSDZZtX_MPjzw',\n",
              "                  container: document.getElementById('deck-container'),\n",
              "      jsonInput,\n",
              "      tooltip,\n",
              "      customLibraries\n",
              "    });\n",
              "\n",
              "  </script>\n",
              "</html>"
            ]
          },
          "metadata": {}
        }
      ]
    },
    {
      "cell_type": "code",
      "source": [
        "route_2_Updated = df[(df.lat >= 58.834266) & (df.lat <= (59.3763143)) & (df.lon >=  17.840492) & (df.lon <= (18.6734587 + 0.18))] \n",
        "route_2_Updated = route_2_Updated.reset_index()\n",
        "route_2_Updated = route_2_Updated.drop(['index'], axis=1)\n",
        "drawMapBoxMap(route_2_Updated)"
      ],
      "metadata": {
        "colab": {
          "base_uri": "https://localhost:8080/",
          "height": 0
        },
        "id": "Om_76PJRu3e6",
        "outputId": "e29a7dce-9d7b-468c-e619-2f3d073742b1"
      },
      "execution_count": 33,
      "outputs": [
        {
          "output_type": "display_data",
          "data": {
            "text/plain": [
              "<IPython.core.display.Javascript object>"
            ],
            "application/javascript": [
              "google.colab.output.setIframeHeight(500, true, {minHeight: 500})"
            ]
          },
          "metadata": {}
        },
        {
          "output_type": "display_data",
          "data": {
            "text/plain": [
              "<IPython.core.display.HTML object>"
            ],
            "text/html": [
              "<!DOCTYPE html>\n",
              "<html>\n",
              "  <head>\n",
              "    <meta http-equiv=\"content-type\" content=\"text/html; charset=UTF-8\" />\n",
              "    <title>pydeck</title>\n",
              "        <script src=\"https://api.tiles.mapbox.com/mapbox-gl-js/v1.13.0/mapbox-gl.js\"></script>\n",
              "        <link rel=\"stylesheet\" href=\"https://maxcdn.bootstrapcdn.com/bootstrap/3.2.0/css/bootstrap-theme.min.css\" />\n",
              "    <link rel=\"stylesheet\" href=\"https://maxcdn.bootstrapcdn.com/font-awesome/4.6.3/css/font-awesome.min.css\" />\n",
              "    <script src='https://cdn.jsdelivr.net/npm/@deck.gl/jupyter-widget@~8.5.*/dist/index.js'></script>\n",
              "    <style>\n",
              "    body {\n",
              "  margin: 0;\n",
              "  padding: 0;\n",
              "  overflow: hidden;\n",
              "}\n",
              "\n",
              "#deck-map-container {\n",
              "  width: 100%;\n",
              "  height: 100%;\n",
              "  background-color: black;\n",
              "}\n",
              "\n",
              "#map {\n",
              "  pointer-events: none;\n",
              "  height: 100%;\n",
              "  width: 100%;\n",
              "  position: absolute;\n",
              "  z-index: 1;\n",
              "}\n",
              "\n",
              "#deckgl-overlay {\n",
              "  z-index: 2;\n",
              "  background: none;\n",
              "}\n",
              "\n",
              "#deck-map-wrapper {\n",
              "  width: 100%;\n",
              "  height: 100%;\n",
              "}\n",
              "\n",
              "#deck-container {\n",
              "  width: 100vw;\n",
              "  height: 100vh;\n",
              "}\n",
              "    </style>\n",
              "  </head>\n",
              "  <body>\n",
              "    <div id=\"deck-container\">\n",
              "    </div>\n",
              "  </body>\n",
              "  <script>\n",
              "    const jsonInput = {\"initialViewState\": {\"bearing\": -1.45748987854251, \"latitude\": 59.196318798583725, \"longitude\": 18.599920729657768, \"pitch\": 0.5797101449275388, \"zoom\": 8}, \"layers\": [{\"@@type\": \"ColumnLayer\", \"autoHighlight\": true, \"data\": [{\"height\": \"6\", \"lat\": 59.3207673, \"lon\": 18.1549076}, {\"height\": 3, \"lat\": 59.182294, \"lon\": 18.4922522}, {\"height\": \"6\", \"lat\": 59.2238111, \"lon\": 18.6185628}, {\"height\": \"7\", \"lat\": 59.2077557, \"lon\": 18.565901}, {\"height\": \"7\", \"lat\": 59.2178016, \"lon\": 18.6135129}, {\"height\": \"13\", \"lat\": 58.8569614, \"lon\": 18.015065}, {\"height\": \"6\", \"lat\": 59.3617991, \"lon\": 18.4522968}, {\"height\": \"6\", \"lat\": 59.358584, \"lon\": 18.4150892}, {\"height\": \"5\", \"lat\": 59.3714207, \"lon\": 18.3891683}, {\"height\": \"4\", \"lat\": 59.3629226, \"lon\": 18.3763635}, {\"height\": \"5\", \"lat\": 59.371713, \"lon\": 18.3352506}, {\"height\": \"6\", \"lat\": 59.3664653, \"lon\": 18.3105313}, {\"height\": \"7\", \"lat\": 59.3741179, \"lon\": 18.2797181}, {\"height\": 3, \"lat\": 59.3656343, \"lon\": 18.2687318}, {\"height\": \"6\", \"lat\": 59.3639859, \"lon\": 18.2590061}, {\"height\": \"6\", \"lat\": 59.3322815, \"lon\": 18.1764136}, {\"height\": 3, \"lat\": 59.3133074, \"lon\": 18.8102374}, {\"height\": \"8\", \"lat\": 59.3182952, \"lon\": 18.8108168}, {\"height\": \"12\", \"lat\": 59.3169703, \"lon\": 18.7472377}, {\"height\": \"6\", \"lat\": 59.3049249, \"lon\": 18.7590716}, {\"height\": \"5\", \"lat\": 59.3559285, \"lon\": 18.8304935}, {\"height\": \"7\", \"lat\": 59.3718491, \"lon\": 18.7534175}, {\"height\": 3, \"lat\": 59.3696715, \"lon\": 18.7446213}, {\"height\": \"7\", \"lat\": 59.3697915, \"lon\": 18.6057853}, {\"height\": \"24\", \"lat\": 59.1317014, \"lon\": 18.4299884}, {\"height\": \"5\", \"lat\": 59.128426, \"lon\": 18.4223451}, {\"height\": \"3\", \"lat\": 59.1244125, \"lon\": 18.4075759}, {\"height\": \"4\", \"lat\": 59.1206518, \"lon\": 18.4264265}, {\"height\": \"6\", \"lat\": 59.2964034, \"lon\": 18.7151269}, {\"height\": \"5\", \"lat\": 59.2478587, \"lon\": 18.6654999}, {\"height\": \"8\", \"lat\": 59.1555416, \"lon\": 18.5546952}, {\"height\": \"7\", \"lat\": 59.142995, \"lon\": 18.4640525}, {\"height\": \"6\", \"lat\": 59.1401405, \"lon\": 18.4390356}, {\"height\": \"7\", \"lat\": 59.2867321, \"lon\": 18.7104698}, {\"height\": \"3\", \"lat\": 59.1133937, \"lon\": 18.4098504}, {\"height\": \"6\", \"lat\": 59.1141482, \"lon\": 18.397126}, {\"height\": \"6\", \"lat\": 59.0734131, \"lon\": 18.2985709}, {\"height\": \"5\", \"lat\": 59.0119345, \"lon\": 18.2463722}, {\"height\": \"8\", \"lat\": 59.0027285, \"lon\": 18.2589386}, {\"height\": \"7\", \"lat\": 58.9782316, \"lon\": 18.1863258}, {\"height\": \"4\", \"lat\": 59.1103886, \"lon\": 18.367085}, {\"height\": \"10\", \"lat\": 59.1066132, \"lon\": 18.3728788}, {\"height\": \"4\", \"lat\": 59.0936875, \"lon\": 18.3490608}, {\"height\": \"8\", \"lat\": 58.9066752, \"lon\": 18.082814}, {\"height\": \"10\", \"lat\": 58.8973146, \"lon\": 18.0244386}, {\"height\": 3, \"lat\": 58.9629711, \"lon\": 18.5682658}, {\"height\": \"3\", \"lat\": 58.8961102, \"lon\": 17.9594986}, {\"height\": 3, \"lat\": 59.3756613, \"lon\": 18.7151791}, {\"height\": \"8\", \"lat\": 58.9180581, \"lon\": 17.9777762}, {\"height\": \"7\", \"lat\": 59.3345855, \"lon\": 18.2091557}, {\"height\": \"16\", \"lat\": 59.3738786, \"lon\": 18.6142185}, {\"height\": \"5\", \"lat\": 59.3763143, \"lon\": 18.6734587}, {\"height\": \"4\", \"lat\": 59.1338333, \"lon\": 18.4201333}, {\"height\": 3, \"lat\": 58.8779498, \"lon\": 17.928323}, {\"height\": 3, \"lat\": 58.889305, \"lon\": 17.9468014}, {\"height\": 3, \"lat\": 59.3270721, \"lon\": 18.3892139}, {\"height\": 3, \"lat\": 59.3040081, \"lon\": 17.9325873}, {\"height\": 3, \"lat\": 59.3034641, \"lon\": 18.1513264}], \"elevationScale\": 100, \"filled\": true, \"getElevation\": \"@@=height\", \"getFillColor\": [0, 0, 255, 140], \"getPosition\": \"@@=[lon, lat]\", \"id\": \"b37e5cb3-f511-435b-9c07-604129124b49\", \"minRadius\": 10, \"opacity\": true, \"pickable\": true, \"radius\": 500, \"radiusUnits\": \"@@=pixels\"}], \"mapProvider\": \"mapbox\", \"mapStyle\": \"mapbox://styles/mapbox/streets-v11\", \"views\": [{\"@@type\": \"MapView\", \"controller\": true}]};\n",
              "    const tooltip = true;\n",
              "    const customLibraries = null;\n",
              "\n",
              "    const deckInstance = createDeck({\n",
              "            mapboxApiKey: 'pk.eyJ1IjoiaGlzdHJhdmVsc3RvcmllcyIsImEiOiJjbDZmYTRqa20wMWp3M2ltcTBkdWhudjdwIn0.TZUuKeVMFdSDZZtX_MPjzw',\n",
              "                  container: document.getElementById('deck-container'),\n",
              "      jsonInput,\n",
              "      tooltip,\n",
              "      customLibraries\n",
              "    });\n",
              "\n",
              "  </script>\n",
              "</html>"
            ]
          },
          "metadata": {}
        }
      ]
    },
    {
      "cell_type": "markdown",
      "source": [
        "### Calculating the optimal path between "
      ],
      "metadata": {
        "id": "EKGb6xw12TFQ"
      }
    },
    {
      "cell_type": "code",
      "source": [
        "def intermediate(routePassage, point1, point2, path):\n",
        "  '''\n",
        "    Finds all the intermediate stops from point1 to point2\n",
        "\n",
        "    Input Parameters : \n",
        "                        routePassage : Table that contains all the information of \n",
        "                                      stop to take for optimal distance.\n",
        "                        point1 : source\n",
        "                        point2 : destination\n",
        "                        path : contains the sequence of stops from point1 to point2\n",
        "  '''\n",
        "\n",
        "  if routePassage[point1][point2] == -1:    # It is direct connection btw points\n",
        "    path.append(point2)\n",
        "    return\n",
        "  else:\n",
        "    x = routePassage[point1][point2]        # x is intermediate stop between points\n",
        "    intermediate(routePassage, x, point2, path)\n",
        "    #path.append(x)\n",
        "    intermediate(routePassage, point1, x, path)"
      ],
      "metadata": {
        "id": "oeHyckKXqMGp"
      },
      "execution_count": 34,
      "outputs": []
    },
    {
      "cell_type": "code",
      "source": [
        "def calculateDistanceBetweenTwoDestinations(locations, src=None, dest=None):\n",
        "  '''\n",
        "    calculates the shortest distance between two points src and dest\n",
        "    The function is also used to find the shortest distance between each points\n",
        "    passed in the locations when src and dest in None.\n",
        "\n",
        "\n",
        "    Input Parameters : \n",
        "                      locations : Contains a list of places that the drone can stop\n",
        "                      src : Lists the place where the drone should start\n",
        "                      dest : Lists the place where the drone should stop(end point)\n",
        "                      \n",
        "    Returns :  distance : The shortest distance between src and dest (kms)\n",
        "               routeDf : List of places the drone would stop to charge( includes\n",
        "                          src and dest )\n",
        "               routeDistance : Table that contains the distances for each location\n",
        "                                to every other location.\n",
        "               routePassage : Table that contains the stops(battery charging) that\n",
        "                              drone should make\n",
        "  '''\n",
        "  #adding source\n",
        "  route = locations.copy(deep=True)\n",
        "  if src != None:\n",
        "    route.loc[-1] = [src[0], src[1], 30]\n",
        "    route.index = route.index + 1\n",
        "    route = route.sort_index()\n",
        "\n",
        "  #adding destination\n",
        "  if dest != None:\n",
        "    route.loc[len(route)] = [dest[0], dest[1], 30]\n",
        "    route = route.sort_index()\n",
        "\n",
        "  #initialize all the routes to 0\n",
        "  routeDistance = [[0 for i in range(len(route))] for j in range(len(route))]\n",
        "\n",
        "  #initialize the hops if unreachable to -inf\n",
        "  routePassage = [[float('-inf') for i in range(len(route))] for j in range(len(route))]\n",
        "\n",
        "  print(route)\n",
        "  # Finding all the nodes that are directly connected, drone flight distance of 20kms\n",
        "  # This is the most optimal way from point A to point B because it is a straight\n",
        "  #  line distance\n",
        "  for i in range(0,len(route)):\n",
        "    for j in range(i+1, len(route)):\n",
        "      temp = findDistance((route.lat[i],route.lon[i]),(route.lat[j],route.lon[j]))\n",
        "      if temp <= 20:\n",
        "        routeDistance[i][j] = temp\n",
        "        routeDistance[j][i] = temp\n",
        "        routePassage[i][j] = -1\n",
        "        routePassage[j][i] = -1\n",
        "\n",
        "      else:\n",
        "        routeDistance[i][j] = float('inf')\n",
        "        routeDistance[j][i] = float('inf')\n",
        "  \n",
        "  \n",
        "  # Filling the missing values from above result by taking intermediate steps\n",
        "  # The steps is basically means intermediate stop to charge drone\n",
        "  # and moving forward modified version of All Source Shortest Path\n",
        "\n",
        "  flag = True\n",
        "  while flag == True:\n",
        "    flag = False\n",
        "    for i in range(0,len(route)):\n",
        "      for j in range(i+1, len(route)):\n",
        "        if routeDistance[i][j] == float('inf'):\n",
        "          flag = True\n",
        "          for k in range(0,len(route)):\n",
        "            if k != i and k != j and routeDistance[i][k] != float('inf') and routeDistance[i][k] != float('inf') and ( routeDistance[i][k] + routeDistance[k][j] < routeDistance[i][j]):\n",
        "              routeDistance[i][j] = routeDistance[i][k] + routeDistance[k][j]\n",
        "              routeDistance[j][i] = routeDistance[i][j]\n",
        "              routePassage[i][j] = k\n",
        "              routePassage[j][i] = k\n",
        "\n",
        "  # The above algorithm can be further optimized\n",
        "\n",
        "  # To find the shortest path and hop places between source and destination\n",
        "\n",
        "  distance = routeDistance[0][len(route)-1]\n",
        "\n",
        "  temp = len(route) - 1\n",
        "  finalRoute = []\n",
        "  \n",
        "  intermediate(routePassage, 0, temp, finalRoute)\n",
        "  \n",
        "  finalRoute.append(0)\n",
        "  finalRoute.reverse()\n",
        "  \n",
        "  routeDf = route.iloc[finalRoute]\n",
        "  \n",
        "  return distance, routeDf, routeDistance, routePassage"
      ],
      "metadata": {
        "id": "RePxlhABu-IX"
      },
      "execution_count": 35,
      "outputs": []
    },
    {
      "cell_type": "code",
      "source": [
        "distance_1, finalRoute_1, routeDistance_1, routePassage_1 = calculateDistanceBetweenTwoDestinations(route_1_Updated, (18.068531, 59.328982), (18.6734587, 59.3763143))"
      ],
      "metadata": {
        "colab": {
          "base_uri": "https://localhost:8080/",
          "height": 0
        },
        "id": "4DqiScR-zn49",
        "outputId": "6135f654-d46c-4386-dd6b-5573205932ed"
      },
      "execution_count": 36,
      "outputs": [
        {
          "output_type": "stream",
          "name": "stdout",
          "text": [
            "          lon        lat height\n",
            "0   18.068531  59.328982   30.0\n",
            "1   18.452297  59.361799      6\n",
            "2   18.415089  59.358584      6\n",
            "3   18.389168  59.371421      5\n",
            "4   18.376364  59.362923      4\n",
            "5   18.335251  59.371713      5\n",
            "6   18.294481  59.377660      4\n",
            "7   18.310531  59.366465      6\n",
            "8   18.279718  59.374118      7\n",
            "9   18.268732  59.365634      3\n",
            "10  18.259006  59.363986      6\n",
            "11  18.176414  59.332282      6\n",
            "12  18.605785  59.369791      7\n",
            "13  18.209156  59.334586      7\n",
            "14  18.614218  59.373879     16\n",
            "15  18.673459  59.376314      5\n",
            "16  18.673459  59.376314   30.0\n"
          ]
        }
      ]
    },
    {
      "cell_type": "code",
      "source": [
        "print(finalRoute_1)\n",
        "print(distance_1)"
      ],
      "metadata": {
        "colab": {
          "base_uri": "https://localhost:8080/",
          "height": 0
        },
        "id": "dceVo36g0vI5",
        "outputId": "af245609-ef7e-489a-b7a8-d6eb0149911d"
      },
      "execution_count": 37,
      "outputs": [
        {
          "output_type": "stream",
          "name": "stdout",
          "text": [
            "          lon        lat height\n",
            "0   18.068531  59.328982   30.0\n",
            "2   18.415089  59.358584      6\n",
            "16  18.673459  59.376314   30.0\n",
            "34.816947965156515\n"
          ]
        }
      ]
    },
    {
      "cell_type": "code",
      "source": [
        "drawMapBoxMap(finalRoute_1)"
      ],
      "metadata": {
        "colab": {
          "base_uri": "https://localhost:8080/",
          "height": 500
        },
        "id": "ADhxhw5w0yQ5",
        "outputId": "af29823b-c5d7-4003-c181-8fd69de836c4"
      },
      "execution_count": 54,
      "outputs": [
        {
          "output_type": "display_data",
          "data": {
            "text/plain": [
              "<IPython.core.display.Javascript object>"
            ],
            "application/javascript": [
              "google.colab.output.setIframeHeight(500, true, {minHeight: 500})"
            ]
          },
          "metadata": {}
        },
        {
          "output_type": "display_data",
          "data": {
            "text/plain": [
              "<IPython.core.display.HTML object>"
            ],
            "text/html": [
              "<!DOCTYPE html>\n",
              "<html>\n",
              "  <head>\n",
              "    <meta http-equiv=\"content-type\" content=\"text/html; charset=UTF-8\" />\n",
              "    <title>pydeck</title>\n",
              "        <script src=\"https://api.tiles.mapbox.com/mapbox-gl-js/v1.13.0/mapbox-gl.js\"></script>\n",
              "        <link rel=\"stylesheet\" href=\"https://maxcdn.bootstrapcdn.com/bootstrap/3.2.0/css/bootstrap-theme.min.css\" />\n",
              "    <link rel=\"stylesheet\" href=\"https://maxcdn.bootstrapcdn.com/font-awesome/4.6.3/css/font-awesome.min.css\" />\n",
              "    <script src='https://cdn.jsdelivr.net/npm/@deck.gl/jupyter-widget@~8.5.*/dist/index.js'></script>\n",
              "    <style>\n",
              "    body {\n",
              "  margin: 0;\n",
              "  padding: 0;\n",
              "  overflow: hidden;\n",
              "}\n",
              "\n",
              "#deck-map-container {\n",
              "  width: 100%;\n",
              "  height: 100%;\n",
              "  background-color: black;\n",
              "}\n",
              "\n",
              "#map {\n",
              "  pointer-events: none;\n",
              "  height: 100%;\n",
              "  width: 100%;\n",
              "  position: absolute;\n",
              "  z-index: 1;\n",
              "}\n",
              "\n",
              "#deckgl-overlay {\n",
              "  z-index: 2;\n",
              "  background: none;\n",
              "}\n",
              "\n",
              "#deck-map-wrapper {\n",
              "  width: 100%;\n",
              "  height: 100%;\n",
              "}\n",
              "\n",
              "#deck-container {\n",
              "  width: 100vw;\n",
              "  height: 100vh;\n",
              "}\n",
              "    </style>\n",
              "  </head>\n",
              "  <body>\n",
              "    <div id=\"deck-container\">\n",
              "    </div>\n",
              "  </body>\n",
              "  <script>\n",
              "    const jsonInput = {\"initialViewState\": {\"bearing\": -1.45748987854251, \"latitude\": 59.196318798583725, \"longitude\": 18.599920729657768, \"pitch\": 0.5797101449275388, \"zoom\": 8}, \"layers\": [{\"@@type\": \"ColumnLayer\", \"autoHighlight\": true, \"data\": [{\"height\": 30.0, \"lat\": 59.328982, \"lon\": 18.068531}, {\"height\": \"6\", \"lat\": 59.358584, \"lon\": 18.4150892}, {\"height\": 30.0, \"lat\": 59.3763143, \"lon\": 18.6734587}], \"elevationScale\": 100, \"filled\": true, \"getElevation\": \"@@=height\", \"getFillColor\": [0, 0, 255, 140], \"getPosition\": \"@@=[lon, lat]\", \"id\": \"eb7e920d-07f3-484a-af4c-b638fe64151f\", \"minRadius\": 10, \"opacity\": true, \"pickable\": true, \"radius\": 500, \"radiusUnits\": \"@@=pixels\"}], \"mapProvider\": \"mapbox\", \"mapStyle\": \"mapbox://styles/mapbox/streets-v11\", \"views\": [{\"@@type\": \"MapView\", \"controller\": true}]};\n",
              "    const tooltip = true;\n",
              "    const customLibraries = null;\n",
              "\n",
              "    const deckInstance = createDeck({\n",
              "            mapboxApiKey: 'pk.eyJ1IjoiaGlzdHJhdmVsc3RvcmllcyIsImEiOiJjbDZmYTRqa20wMWp3M2ltcTBkdWhudjdwIn0.TZUuKeVMFdSDZZtX_MPjzw',\n",
              "                  container: document.getElementById('deck-container'),\n",
              "      jsonInput,\n",
              "      tooltip,\n",
              "      customLibraries\n",
              "    });\n",
              "\n",
              "  </script>\n",
              "</html>"
            ]
          },
          "metadata": {}
        }
      ]
    },
    {
      "cell_type": "code",
      "source": [
        "distance_2, finalRoute_2, routeDistance_2, routePassage_2 = calculateDistanceBetweenTwoDestinations(route_2_Updated, (18.6734587, 59.3763143), (17.840492,58.834266))"
      ],
      "metadata": {
        "colab": {
          "base_uri": "https://localhost:8080/",
          "height": 0
        },
        "id": "JeYISFF_00bc",
        "outputId": "3caa6f3c-5251-480d-b1cd-348a413ca587"
      },
      "execution_count": 39,
      "outputs": [
        {
          "output_type": "stream",
          "name": "stdout",
          "text": [
            "          lon        lat height\n",
            "0   18.673459  59.376314   30.0\n",
            "1   18.154908  59.320767      6\n",
            "2   18.492252  59.182294      3\n",
            "3   18.618563  59.223811      6\n",
            "4   18.565901  59.207756      7\n",
            "5   18.613513  59.217802      7\n",
            "6   18.015065  58.856961     13\n",
            "7   18.452297  59.361799      6\n",
            "8   18.415089  59.358584      6\n",
            "9   18.389168  59.371421      5\n",
            "10  18.376364  59.362923      4\n",
            "11  18.335251  59.371713      5\n",
            "12  18.310531  59.366465      6\n",
            "13  18.279718  59.374118      7\n",
            "14  18.268732  59.365634      3\n",
            "15  18.259006  59.363986      6\n",
            "16  18.176414  59.332282      6\n",
            "17  18.810237  59.313307      3\n",
            "18  18.810817  59.318295      8\n",
            "19  18.747238  59.316970     12\n",
            "20  18.759072  59.304925      6\n",
            "21  18.830493  59.355928      5\n",
            "22  18.753418  59.371849      7\n",
            "23  18.744621  59.369672      3\n",
            "24  18.605785  59.369791      7\n",
            "25  18.429988  59.131701     24\n",
            "26  18.422345  59.128426      5\n",
            "27  18.407576  59.124412      3\n",
            "28  18.426427  59.120652      4\n",
            "29  18.715127  59.296403      6\n",
            "30  18.665500  59.247859      5\n",
            "31  18.554695  59.155542      8\n",
            "32  18.464053  59.142995      7\n",
            "33  18.439036  59.140141      6\n",
            "34  18.710470  59.286732      7\n",
            "35  18.409850  59.113394      3\n",
            "36  18.397126  59.114148      6\n",
            "37  18.298571  59.073413      6\n",
            "38  18.246372  59.011935      5\n",
            "39  18.258939  59.002729      8\n",
            "40  18.186326  58.978232      7\n",
            "41  18.367085  59.110389      4\n",
            "42  18.372879  59.106613     10\n",
            "43  18.349061  59.093688      4\n",
            "44  18.082814  58.906675      8\n",
            "45  18.024439  58.897315     10\n",
            "46  18.568266  58.962971      3\n",
            "47  17.959499  58.896110      3\n",
            "48  18.715179  59.375661      3\n",
            "49  17.977776  58.918058      8\n",
            "50  18.209156  59.334586      7\n",
            "51  18.614218  59.373879     16\n",
            "52  18.673459  59.376314      5\n",
            "53  18.420133  59.133833      4\n",
            "54  17.928323  58.877950      3\n",
            "55  17.946801  58.889305      3\n",
            "56  18.389214  59.327072      3\n",
            "57  17.932587  59.304008      3\n",
            "58  18.151326  59.303464      3\n",
            "59  17.840492  58.834266   30.0\n"
          ]
        }
      ]
    },
    {
      "cell_type": "code",
      "source": [
        "print(distance_2)\n",
        "print(finalRoute_2)"
      ],
      "metadata": {
        "colab": {
          "base_uri": "https://localhost:8080/",
          "height": 0
        },
        "id": "wP0EadPd04-z",
        "outputId": "ca315b87-9577-4b4b-a45b-062f10d290a5"
      },
      "execution_count": 40,
      "outputs": [
        {
          "output_type": "stream",
          "name": "stdout",
          "text": [
            "78.94201861421794\n",
            "          lon        lat height\n",
            "0   18.673459  59.376314   30.0\n",
            "4   18.565901  59.207756      7\n",
            "35  18.409850  59.113394      3\n",
            "40  18.186326  58.978232      7\n",
            "54  17.928323  58.877950      3\n",
            "59  17.840492  58.834266   30.0\n"
          ]
        }
      ]
    },
    {
      "cell_type": "code",
      "source": [
        "drawMapBoxMap(finalRoute_2)"
      ],
      "metadata": {
        "colab": {
          "base_uri": "https://localhost:8080/",
          "height": 500
        },
        "id": "ag-RaQYt09EA",
        "outputId": "9a094c62-0202-42da-9919-b0d9d33fb7e3"
      },
      "execution_count": 55,
      "outputs": [
        {
          "output_type": "display_data",
          "data": {
            "text/plain": [
              "<IPython.core.display.Javascript object>"
            ],
            "application/javascript": [
              "google.colab.output.setIframeHeight(500, true, {minHeight: 500})"
            ]
          },
          "metadata": {}
        },
        {
          "output_type": "display_data",
          "data": {
            "text/plain": [
              "<IPython.core.display.HTML object>"
            ],
            "text/html": [
              "<!DOCTYPE html>\n",
              "<html>\n",
              "  <head>\n",
              "    <meta http-equiv=\"content-type\" content=\"text/html; charset=UTF-8\" />\n",
              "    <title>pydeck</title>\n",
              "        <script src=\"https://api.tiles.mapbox.com/mapbox-gl-js/v1.13.0/mapbox-gl.js\"></script>\n",
              "        <link rel=\"stylesheet\" href=\"https://maxcdn.bootstrapcdn.com/bootstrap/3.2.0/css/bootstrap-theme.min.css\" />\n",
              "    <link rel=\"stylesheet\" href=\"https://maxcdn.bootstrapcdn.com/font-awesome/4.6.3/css/font-awesome.min.css\" />\n",
              "    <script src='https://cdn.jsdelivr.net/npm/@deck.gl/jupyter-widget@~8.5.*/dist/index.js'></script>\n",
              "    <style>\n",
              "    body {\n",
              "  margin: 0;\n",
              "  padding: 0;\n",
              "  overflow: hidden;\n",
              "}\n",
              "\n",
              "#deck-map-container {\n",
              "  width: 100%;\n",
              "  height: 100%;\n",
              "  background-color: black;\n",
              "}\n",
              "\n",
              "#map {\n",
              "  pointer-events: none;\n",
              "  height: 100%;\n",
              "  width: 100%;\n",
              "  position: absolute;\n",
              "  z-index: 1;\n",
              "}\n",
              "\n",
              "#deckgl-overlay {\n",
              "  z-index: 2;\n",
              "  background: none;\n",
              "}\n",
              "\n",
              "#deck-map-wrapper {\n",
              "  width: 100%;\n",
              "  height: 100%;\n",
              "}\n",
              "\n",
              "#deck-container {\n",
              "  width: 100vw;\n",
              "  height: 100vh;\n",
              "}\n",
              "    </style>\n",
              "  </head>\n",
              "  <body>\n",
              "    <div id=\"deck-container\">\n",
              "    </div>\n",
              "  </body>\n",
              "  <script>\n",
              "    const jsonInput = {\"initialViewState\": {\"bearing\": -1.45748987854251, \"latitude\": 59.196318798583725, \"longitude\": 18.599920729657768, \"pitch\": 0.5797101449275388, \"zoom\": 8}, \"layers\": [{\"@@type\": \"ColumnLayer\", \"autoHighlight\": true, \"data\": [{\"height\": 30.0, \"lat\": 59.3763143, \"lon\": 18.6734587}, {\"height\": \"7\", \"lat\": 59.2077557, \"lon\": 18.565901}, {\"height\": \"3\", \"lat\": 59.1133937, \"lon\": 18.4098504}, {\"height\": \"7\", \"lat\": 58.9782316, \"lon\": 18.1863258}, {\"height\": 3, \"lat\": 58.8779498, \"lon\": 17.928323}, {\"height\": 30.0, \"lat\": 58.834266, \"lon\": 17.840492}], \"elevationScale\": 100, \"filled\": true, \"getElevation\": \"@@=height\", \"getFillColor\": [0, 0, 255, 140], \"getPosition\": \"@@=[lon, lat]\", \"id\": \"83d2becd-c6c3-4566-8f0e-23a3a427ffd3\", \"minRadius\": 10, \"opacity\": true, \"pickable\": true, \"radius\": 500, \"radiusUnits\": \"@@=pixels\"}], \"mapProvider\": \"mapbox\", \"mapStyle\": \"mapbox://styles/mapbox/streets-v11\", \"views\": [{\"@@type\": \"MapView\", \"controller\": true}]};\n",
              "    const tooltip = true;\n",
              "    const customLibraries = null;\n",
              "\n",
              "    const deckInstance = createDeck({\n",
              "            mapboxApiKey: 'pk.eyJ1IjoiaGlzdHJhdmVsc3RvcmllcyIsImEiOiJjbDZmYTRqa20wMWp3M2ltcTBkdWhudjdwIn0.TZUuKeVMFdSDZZtX_MPjzw',\n",
              "                  container: document.getElementById('deck-container'),\n",
              "      jsonInput,\n",
              "      tooltip,\n",
              "      customLibraries\n",
              "    });\n",
              "\n",
              "  </script>\n",
              "</html>"
            ]
          },
          "metadata": {}
        }
      ]
    },
    {
      "cell_type": "markdown",
      "source": [
        "### Visualizing the minimal set of lighthouses"
      ],
      "metadata": {
        "id": "wHSGh0cC57no"
      }
    },
    {
      "cell_type": "code",
      "source": [
        "finalRoute = pd.concat([finalRoute_1, finalRoute_2])"
      ],
      "metadata": {
        "id": "tghMvVlw1DjH"
      },
      "execution_count": 42,
      "outputs": []
    },
    {
      "cell_type": "code",
      "source": [
        "drawMapBoxMap(finalRoute)"
      ],
      "metadata": {
        "colab": {
          "base_uri": "https://localhost:8080/",
          "height": 500
        },
        "id": "-6jwVlqt1GeV",
        "outputId": "3bd0c2d8-9ad0-4268-a6eb-88ffd4967b92"
      },
      "execution_count": 56,
      "outputs": [
        {
          "output_type": "display_data",
          "data": {
            "text/plain": [
              "<IPython.core.display.Javascript object>"
            ],
            "application/javascript": [
              "google.colab.output.setIframeHeight(500, true, {minHeight: 500})"
            ]
          },
          "metadata": {}
        },
        {
          "output_type": "display_data",
          "data": {
            "text/plain": [
              "<IPython.core.display.HTML object>"
            ],
            "text/html": [
              "<!DOCTYPE html>\n",
              "<html>\n",
              "  <head>\n",
              "    <meta http-equiv=\"content-type\" content=\"text/html; charset=UTF-8\" />\n",
              "    <title>pydeck</title>\n",
              "        <script src=\"https://api.tiles.mapbox.com/mapbox-gl-js/v1.13.0/mapbox-gl.js\"></script>\n",
              "        <link rel=\"stylesheet\" href=\"https://maxcdn.bootstrapcdn.com/bootstrap/3.2.0/css/bootstrap-theme.min.css\" />\n",
              "    <link rel=\"stylesheet\" href=\"https://maxcdn.bootstrapcdn.com/font-awesome/4.6.3/css/font-awesome.min.css\" />\n",
              "    <script src='https://cdn.jsdelivr.net/npm/@deck.gl/jupyter-widget@~8.5.*/dist/index.js'></script>\n",
              "    <style>\n",
              "    body {\n",
              "  margin: 0;\n",
              "  padding: 0;\n",
              "  overflow: hidden;\n",
              "}\n",
              "\n",
              "#deck-map-container {\n",
              "  width: 100%;\n",
              "  height: 100%;\n",
              "  background-color: black;\n",
              "}\n",
              "\n",
              "#map {\n",
              "  pointer-events: none;\n",
              "  height: 100%;\n",
              "  width: 100%;\n",
              "  position: absolute;\n",
              "  z-index: 1;\n",
              "}\n",
              "\n",
              "#deckgl-overlay {\n",
              "  z-index: 2;\n",
              "  background: none;\n",
              "}\n",
              "\n",
              "#deck-map-wrapper {\n",
              "  width: 100%;\n",
              "  height: 100%;\n",
              "}\n",
              "\n",
              "#deck-container {\n",
              "  width: 100vw;\n",
              "  height: 100vh;\n",
              "}\n",
              "    </style>\n",
              "  </head>\n",
              "  <body>\n",
              "    <div id=\"deck-container\">\n",
              "    </div>\n",
              "  </body>\n",
              "  <script>\n",
              "    const jsonInput = {\"initialViewState\": {\"bearing\": -1.45748987854251, \"latitude\": 59.196318798583725, \"longitude\": 18.599920729657768, \"pitch\": 0.5797101449275388, \"zoom\": 8}, \"layers\": [{\"@@type\": \"ColumnLayer\", \"autoHighlight\": true, \"data\": [{\"height\": 30.0, \"lat\": 59.328982, \"lon\": 18.068531}, {\"height\": \"6\", \"lat\": 59.358584, \"lon\": 18.4150892}, {\"height\": \"7\", \"lat\": 59.2077557, \"lon\": 18.565901}, {\"height\": \"3\", \"lat\": 59.1133937, \"lon\": 18.4098504}, {\"height\": \"7\", \"lat\": 58.9782316, \"lon\": 18.1863258}, {\"height\": 3, \"lat\": 58.8779498, \"lon\": 17.928323}, {\"height\": 30.0, \"lat\": 58.834266, \"lon\": 17.840492}], \"elevationScale\": 100, \"filled\": true, \"getElevation\": \"@@=height\", \"getFillColor\": [0, 0, 255, 140], \"getPosition\": \"@@=[lon, lat]\", \"id\": \"a1f65662-cd70-4db0-a3c1-c823f4b7eeb5\", \"minRadius\": 10, \"opacity\": true, \"pickable\": true, \"radius\": 500, \"radiusUnits\": \"@@=pixels\"}], \"mapProvider\": \"mapbox\", \"mapStyle\": \"mapbox://styles/mapbox/streets-v11\", \"views\": [{\"@@type\": \"MapView\", \"controller\": true}]};\n",
              "    const tooltip = true;\n",
              "    const customLibraries = null;\n",
              "\n",
              "    const deckInstance = createDeck({\n",
              "            mapboxApiKey: 'pk.eyJ1IjoiaGlzdHJhdmVsc3RvcmllcyIsImEiOiJjbDZmYTRqa20wMWp3M2ltcTBkdWhudjdwIn0.TZUuKeVMFdSDZZtX_MPjzw',\n",
              "                  container: document.getElementById('deck-container'),\n",
              "      jsonInput,\n",
              "      tooltip,\n",
              "      customLibraries\n",
              "    });\n",
              "\n",
              "  </script>\n",
              "</html>"
            ]
          },
          "metadata": {}
        }
      ]
    },
    {
      "cell_type": "code",
      "source": [
        "finalRoute"
      ],
      "metadata": {
        "colab": {
          "base_uri": "https://localhost:8080/",
          "height": 332
        },
        "id": "TBDmQtnd1Kf9",
        "outputId": "42fe6768-11dc-413d-ece8-1815278fe38a"
      },
      "execution_count": 44,
      "outputs": [
        {
          "output_type": "execute_result",
          "data": {
            "text/plain": [
              "          lon        lat height\n",
              "0   18.068531  59.328982   30.0\n",
              "2   18.415089  59.358584      6\n",
              "16  18.673459  59.376314   30.0\n",
              "0   18.673459  59.376314   30.0\n",
              "4   18.565901  59.207756      7\n",
              "35  18.409850  59.113394      3\n",
              "40  18.186326  58.978232      7\n",
              "54  17.928323  58.877950      3\n",
              "59  17.840492  58.834266   30.0"
            ],
            "text/html": [
              "\n",
              "  <div id=\"df-624b775f-f3f1-4fb9-a7be-523b04661ab9\">\n",
              "    <div class=\"colab-df-container\">\n",
              "      <div>\n",
              "<style scoped>\n",
              "    .dataframe tbody tr th:only-of-type {\n",
              "        vertical-align: middle;\n",
              "    }\n",
              "\n",
              "    .dataframe tbody tr th {\n",
              "        vertical-align: top;\n",
              "    }\n",
              "\n",
              "    .dataframe thead th {\n",
              "        text-align: right;\n",
              "    }\n",
              "</style>\n",
              "<table border=\"1\" class=\"dataframe\">\n",
              "  <thead>\n",
              "    <tr style=\"text-align: right;\">\n",
              "      <th></th>\n",
              "      <th>lon</th>\n",
              "      <th>lat</th>\n",
              "      <th>height</th>\n",
              "    </tr>\n",
              "  </thead>\n",
              "  <tbody>\n",
              "    <tr>\n",
              "      <th>0</th>\n",
              "      <td>18.068531</td>\n",
              "      <td>59.328982</td>\n",
              "      <td>30.0</td>\n",
              "    </tr>\n",
              "    <tr>\n",
              "      <th>2</th>\n",
              "      <td>18.415089</td>\n",
              "      <td>59.358584</td>\n",
              "      <td>6</td>\n",
              "    </tr>\n",
              "    <tr>\n",
              "      <th>16</th>\n",
              "      <td>18.673459</td>\n",
              "      <td>59.376314</td>\n",
              "      <td>30.0</td>\n",
              "    </tr>\n",
              "    <tr>\n",
              "      <th>0</th>\n",
              "      <td>18.673459</td>\n",
              "      <td>59.376314</td>\n",
              "      <td>30.0</td>\n",
              "    </tr>\n",
              "    <tr>\n",
              "      <th>4</th>\n",
              "      <td>18.565901</td>\n",
              "      <td>59.207756</td>\n",
              "      <td>7</td>\n",
              "    </tr>\n",
              "    <tr>\n",
              "      <th>35</th>\n",
              "      <td>18.409850</td>\n",
              "      <td>59.113394</td>\n",
              "      <td>3</td>\n",
              "    </tr>\n",
              "    <tr>\n",
              "      <th>40</th>\n",
              "      <td>18.186326</td>\n",
              "      <td>58.978232</td>\n",
              "      <td>7</td>\n",
              "    </tr>\n",
              "    <tr>\n",
              "      <th>54</th>\n",
              "      <td>17.928323</td>\n",
              "      <td>58.877950</td>\n",
              "      <td>3</td>\n",
              "    </tr>\n",
              "    <tr>\n",
              "      <th>59</th>\n",
              "      <td>17.840492</td>\n",
              "      <td>58.834266</td>\n",
              "      <td>30.0</td>\n",
              "    </tr>\n",
              "  </tbody>\n",
              "</table>\n",
              "</div>\n",
              "      <button class=\"colab-df-convert\" onclick=\"convertToInteractive('df-624b775f-f3f1-4fb9-a7be-523b04661ab9')\"\n",
              "              title=\"Convert this dataframe to an interactive table.\"\n",
              "              style=\"display:none;\">\n",
              "        \n",
              "  <svg xmlns=\"http://www.w3.org/2000/svg\" height=\"24px\"viewBox=\"0 0 24 24\"\n",
              "       width=\"24px\">\n",
              "    <path d=\"M0 0h24v24H0V0z\" fill=\"none\"/>\n",
              "    <path d=\"M18.56 5.44l.94 2.06.94-2.06 2.06-.94-2.06-.94-.94-2.06-.94 2.06-2.06.94zm-11 1L8.5 8.5l.94-2.06 2.06-.94-2.06-.94L8.5 2.5l-.94 2.06-2.06.94zm10 10l.94 2.06.94-2.06 2.06-.94-2.06-.94-.94-2.06-.94 2.06-2.06.94z\"/><path d=\"M17.41 7.96l-1.37-1.37c-.4-.4-.92-.59-1.43-.59-.52 0-1.04.2-1.43.59L10.3 9.45l-7.72 7.72c-.78.78-.78 2.05 0 2.83L4 21.41c.39.39.9.59 1.41.59.51 0 1.02-.2 1.41-.59l7.78-7.78 2.81-2.81c.8-.78.8-2.07 0-2.86zM5.41 20L4 18.59l7.72-7.72 1.47 1.35L5.41 20z\"/>\n",
              "  </svg>\n",
              "      </button>\n",
              "      \n",
              "  <style>\n",
              "    .colab-df-container {\n",
              "      display:flex;\n",
              "      flex-wrap:wrap;\n",
              "      gap: 12px;\n",
              "    }\n",
              "\n",
              "    .colab-df-convert {\n",
              "      background-color: #E8F0FE;\n",
              "      border: none;\n",
              "      border-radius: 50%;\n",
              "      cursor: pointer;\n",
              "      display: none;\n",
              "      fill: #1967D2;\n",
              "      height: 32px;\n",
              "      padding: 0 0 0 0;\n",
              "      width: 32px;\n",
              "    }\n",
              "\n",
              "    .colab-df-convert:hover {\n",
              "      background-color: #E2EBFA;\n",
              "      box-shadow: 0px 1px 2px rgba(60, 64, 67, 0.3), 0px 1px 3px 1px rgba(60, 64, 67, 0.15);\n",
              "      fill: #174EA6;\n",
              "    }\n",
              "\n",
              "    [theme=dark] .colab-df-convert {\n",
              "      background-color: #3B4455;\n",
              "      fill: #D2E3FC;\n",
              "    }\n",
              "\n",
              "    [theme=dark] .colab-df-convert:hover {\n",
              "      background-color: #434B5C;\n",
              "      box-shadow: 0px 1px 3px 1px rgba(0, 0, 0, 0.15);\n",
              "      filter: drop-shadow(0px 1px 2px rgba(0, 0, 0, 0.3));\n",
              "      fill: #FFFFFF;\n",
              "    }\n",
              "  </style>\n",
              "\n",
              "      <script>\n",
              "        const buttonEl =\n",
              "          document.querySelector('#df-624b775f-f3f1-4fb9-a7be-523b04661ab9 button.colab-df-convert');\n",
              "        buttonEl.style.display =\n",
              "          google.colab.kernel.accessAllowed ? 'block' : 'none';\n",
              "\n",
              "        async function convertToInteractive(key) {\n",
              "          const element = document.querySelector('#df-624b775f-f3f1-4fb9-a7be-523b04661ab9');\n",
              "          const dataTable =\n",
              "            await google.colab.kernel.invokeFunction('convertToInteractive',\n",
              "                                                     [key], {});\n",
              "          if (!dataTable) return;\n",
              "\n",
              "          const docLinkHtml = 'Like what you see? Visit the ' +\n",
              "            '<a target=\"_blank\" href=https://colab.research.google.com/notebooks/data_table.ipynb>data table notebook</a>'\n",
              "            + ' to learn more about interactive tables.';\n",
              "          element.innerHTML = '';\n",
              "          dataTable['output_type'] = 'display_data';\n",
              "          await google.colab.output.renderOutput(dataTable, element);\n",
              "          const docLink = document.createElement('div');\n",
              "          docLink.innerHTML = docLinkHtml;\n",
              "          element.appendChild(docLink);\n",
              "        }\n",
              "      </script>\n",
              "    </div>\n",
              "  </div>\n",
              "  "
            ]
          },
          "metadata": {},
          "execution_count": 44
        }
      ]
    },
    {
      "cell_type": "code",
      "source": [
        "finalRoute = finalRoute.drop_duplicates()\n",
        "finalRoute = finalRoute.reset_index()\n",
        "finalRoute = finalRoute.drop(['index'], axis=1)\n",
        "finalRoute"
      ],
      "metadata": {
        "colab": {
          "base_uri": "https://localhost:8080/",
          "height": 300
        },
        "id": "gieggwyI1NZV",
        "outputId": "da45fe4c-3f10-4f78-a3c5-6f8cf5e986f9"
      },
      "execution_count": 45,
      "outputs": [
        {
          "output_type": "execute_result",
          "data": {
            "text/plain": [
              "         lon        lat height\n",
              "0  18.068531  59.328982   30.0\n",
              "1  18.415089  59.358584      6\n",
              "2  18.673459  59.376314   30.0\n",
              "3  18.565901  59.207756      7\n",
              "4  18.409850  59.113394      3\n",
              "5  18.186326  58.978232      7\n",
              "6  17.928323  58.877950      3\n",
              "7  17.840492  58.834266   30.0"
            ],
            "text/html": [
              "\n",
              "  <div id=\"df-95825027-f036-46a1-b1f1-dd80b983e088\">\n",
              "    <div class=\"colab-df-container\">\n",
              "      <div>\n",
              "<style scoped>\n",
              "    .dataframe tbody tr th:only-of-type {\n",
              "        vertical-align: middle;\n",
              "    }\n",
              "\n",
              "    .dataframe tbody tr th {\n",
              "        vertical-align: top;\n",
              "    }\n",
              "\n",
              "    .dataframe thead th {\n",
              "        text-align: right;\n",
              "    }\n",
              "</style>\n",
              "<table border=\"1\" class=\"dataframe\">\n",
              "  <thead>\n",
              "    <tr style=\"text-align: right;\">\n",
              "      <th></th>\n",
              "      <th>lon</th>\n",
              "      <th>lat</th>\n",
              "      <th>height</th>\n",
              "    </tr>\n",
              "  </thead>\n",
              "  <tbody>\n",
              "    <tr>\n",
              "      <th>0</th>\n",
              "      <td>18.068531</td>\n",
              "      <td>59.328982</td>\n",
              "      <td>30.0</td>\n",
              "    </tr>\n",
              "    <tr>\n",
              "      <th>1</th>\n",
              "      <td>18.415089</td>\n",
              "      <td>59.358584</td>\n",
              "      <td>6</td>\n",
              "    </tr>\n",
              "    <tr>\n",
              "      <th>2</th>\n",
              "      <td>18.673459</td>\n",
              "      <td>59.376314</td>\n",
              "      <td>30.0</td>\n",
              "    </tr>\n",
              "    <tr>\n",
              "      <th>3</th>\n",
              "      <td>18.565901</td>\n",
              "      <td>59.207756</td>\n",
              "      <td>7</td>\n",
              "    </tr>\n",
              "    <tr>\n",
              "      <th>4</th>\n",
              "      <td>18.409850</td>\n",
              "      <td>59.113394</td>\n",
              "      <td>3</td>\n",
              "    </tr>\n",
              "    <tr>\n",
              "      <th>5</th>\n",
              "      <td>18.186326</td>\n",
              "      <td>58.978232</td>\n",
              "      <td>7</td>\n",
              "    </tr>\n",
              "    <tr>\n",
              "      <th>6</th>\n",
              "      <td>17.928323</td>\n",
              "      <td>58.877950</td>\n",
              "      <td>3</td>\n",
              "    </tr>\n",
              "    <tr>\n",
              "      <th>7</th>\n",
              "      <td>17.840492</td>\n",
              "      <td>58.834266</td>\n",
              "      <td>30.0</td>\n",
              "    </tr>\n",
              "  </tbody>\n",
              "</table>\n",
              "</div>\n",
              "      <button class=\"colab-df-convert\" onclick=\"convertToInteractive('df-95825027-f036-46a1-b1f1-dd80b983e088')\"\n",
              "              title=\"Convert this dataframe to an interactive table.\"\n",
              "              style=\"display:none;\">\n",
              "        \n",
              "  <svg xmlns=\"http://www.w3.org/2000/svg\" height=\"24px\"viewBox=\"0 0 24 24\"\n",
              "       width=\"24px\">\n",
              "    <path d=\"M0 0h24v24H0V0z\" fill=\"none\"/>\n",
              "    <path d=\"M18.56 5.44l.94 2.06.94-2.06 2.06-.94-2.06-.94-.94-2.06-.94 2.06-2.06.94zm-11 1L8.5 8.5l.94-2.06 2.06-.94-2.06-.94L8.5 2.5l-.94 2.06-2.06.94zm10 10l.94 2.06.94-2.06 2.06-.94-2.06-.94-.94-2.06-.94 2.06-2.06.94z\"/><path d=\"M17.41 7.96l-1.37-1.37c-.4-.4-.92-.59-1.43-.59-.52 0-1.04.2-1.43.59L10.3 9.45l-7.72 7.72c-.78.78-.78 2.05 0 2.83L4 21.41c.39.39.9.59 1.41.59.51 0 1.02-.2 1.41-.59l7.78-7.78 2.81-2.81c.8-.78.8-2.07 0-2.86zM5.41 20L4 18.59l7.72-7.72 1.47 1.35L5.41 20z\"/>\n",
              "  </svg>\n",
              "      </button>\n",
              "      \n",
              "  <style>\n",
              "    .colab-df-container {\n",
              "      display:flex;\n",
              "      flex-wrap:wrap;\n",
              "      gap: 12px;\n",
              "    }\n",
              "\n",
              "    .colab-df-convert {\n",
              "      background-color: #E8F0FE;\n",
              "      border: none;\n",
              "      border-radius: 50%;\n",
              "      cursor: pointer;\n",
              "      display: none;\n",
              "      fill: #1967D2;\n",
              "      height: 32px;\n",
              "      padding: 0 0 0 0;\n",
              "      width: 32px;\n",
              "    }\n",
              "\n",
              "    .colab-df-convert:hover {\n",
              "      background-color: #E2EBFA;\n",
              "      box-shadow: 0px 1px 2px rgba(60, 64, 67, 0.3), 0px 1px 3px 1px rgba(60, 64, 67, 0.15);\n",
              "      fill: #174EA6;\n",
              "    }\n",
              "\n",
              "    [theme=dark] .colab-df-convert {\n",
              "      background-color: #3B4455;\n",
              "      fill: #D2E3FC;\n",
              "    }\n",
              "\n",
              "    [theme=dark] .colab-df-convert:hover {\n",
              "      background-color: #434B5C;\n",
              "      box-shadow: 0px 1px 3px 1px rgba(0, 0, 0, 0.15);\n",
              "      filter: drop-shadow(0px 1px 2px rgba(0, 0, 0, 0.3));\n",
              "      fill: #FFFFFF;\n",
              "    }\n",
              "  </style>\n",
              "\n",
              "      <script>\n",
              "        const buttonEl =\n",
              "          document.querySelector('#df-95825027-f036-46a1-b1f1-dd80b983e088 button.colab-df-convert');\n",
              "        buttonEl.style.display =\n",
              "          google.colab.kernel.accessAllowed ? 'block' : 'none';\n",
              "\n",
              "        async function convertToInteractive(key) {\n",
              "          const element = document.querySelector('#df-95825027-f036-46a1-b1f1-dd80b983e088');\n",
              "          const dataTable =\n",
              "            await google.colab.kernel.invokeFunction('convertToInteractive',\n",
              "                                                     [key], {});\n",
              "          if (!dataTable) return;\n",
              "\n",
              "          const docLinkHtml = 'Like what you see? Visit the ' +\n",
              "            '<a target=\"_blank\" href=https://colab.research.google.com/notebooks/data_table.ipynb>data table notebook</a>'\n",
              "            + ' to learn more about interactive tables.';\n",
              "          element.innerHTML = '';\n",
              "          dataTable['output_type'] = 'display_data';\n",
              "          await google.colab.output.renderOutput(dataTable, element);\n",
              "          const docLink = document.createElement('div');\n",
              "          docLink.innerHTML = docLinkHtml;\n",
              "          element.appendChild(docLink);\n",
              "        }\n",
              "      </script>\n",
              "    </div>\n",
              "  </div>\n",
              "  "
            ]
          },
          "metadata": {},
          "execution_count": 45
        }
      ]
    },
    {
      "cell_type": "code",
      "source": [
        "distance, finalRoute, routeDistance, routePassage = calculateDistanceBetweenTwoDestinations(finalRoute)"
      ],
      "metadata": {
        "colab": {
          "base_uri": "https://localhost:8080/",
          "height": 0
        },
        "id": "niOSKZ9J1Tnu",
        "outputId": "d0ab8813-943f-4d91-b592-35fc2e55d2a1"
      },
      "execution_count": 46,
      "outputs": [
        {
          "output_type": "stream",
          "name": "stdout",
          "text": [
            "         lon        lat height\n",
            "0  18.068531  59.328982   30.0\n",
            "1  18.415089  59.358584      6\n",
            "2  18.673459  59.376314   30.0\n",
            "3  18.565901  59.207756      7\n",
            "4  18.409850  59.113394      3\n",
            "5  18.186326  58.978232      7\n",
            "6  17.928323  58.877950      3\n",
            "7  17.840492  58.834266   30.0\n"
          ]
        }
      ]
    },
    {
      "cell_type": "markdown",
      "source": [
        "### Distance In Total"
      ],
      "metadata": {
        "id": "hm1rAt9Y73Bm"
      }
    },
    {
      "cell_type": "markdown",
      "source": [
        "Below output shows the distance from point1 to point2 in the cell in kilometers units"
      ],
      "metadata": {
        "id": "IWlESu9h781E"
      }
    },
    {
      "cell_type": "markdown",
      "source": [
        "routeDistance[0][7] prints the longest the farthest drone has to travel"
      ],
      "metadata": {
        "id": "ZATVFZE58Os2"
      }
    },
    {
      "cell_type": "code",
      "source": [
        "pd.DataFrame(routeDistance)"
      ],
      "metadata": {
        "colab": {
          "base_uri": "https://localhost:8080/",
          "height": 300
        },
        "id": "Ie6GuPql1ahp",
        "outputId": "636cee31-36d7-4c77-d5cb-c4d0f0b31882"
      },
      "execution_count": 47,
      "outputs": [
        {
          "output_type": "execute_result",
          "data": {
            "text/plain": [
              "           0          1          2          3          4          5  \\\n",
              "0   0.000000  19.993434  34.816948  38.867196  52.658215  72.439730   \n",
              "1  19.993434   0.000000  14.823514  18.873762  32.664781  52.446295   \n",
              "2  34.816948  14.823514   0.000000  19.752549  33.543568  53.325083   \n",
              "3  38.867196  18.873762  19.752549   0.000000  13.791019  33.572534   \n",
              "4  52.658215  32.664781  33.543568  13.791019   0.000000  19.781514   \n",
              "5  72.439730  52.446295  53.325083  33.572534  19.781514   0.000000   \n",
              "6  91.029943  71.036509  71.915296  52.162747  38.371728  18.590213   \n",
              "7  98.056666  78.063231  78.942019  59.189470  45.398450  25.616936   \n",
              "\n",
              "           6          7  \n",
              "0  91.029943  98.056666  \n",
              "1  71.036509  78.063231  \n",
              "2  71.915296  78.942019  \n",
              "3  52.162747  59.189470  \n",
              "4  38.371728  45.398450  \n",
              "5  18.590213  25.616936  \n",
              "6   0.000000   7.026723  \n",
              "7   7.026723   0.000000  "
            ],
            "text/html": [
              "\n",
              "  <div id=\"df-638ebf28-7f2b-4499-bd29-3f4af21b34f8\">\n",
              "    <div class=\"colab-df-container\">\n",
              "      <div>\n",
              "<style scoped>\n",
              "    .dataframe tbody tr th:only-of-type {\n",
              "        vertical-align: middle;\n",
              "    }\n",
              "\n",
              "    .dataframe tbody tr th {\n",
              "        vertical-align: top;\n",
              "    }\n",
              "\n",
              "    .dataframe thead th {\n",
              "        text-align: right;\n",
              "    }\n",
              "</style>\n",
              "<table border=\"1\" class=\"dataframe\">\n",
              "  <thead>\n",
              "    <tr style=\"text-align: right;\">\n",
              "      <th></th>\n",
              "      <th>0</th>\n",
              "      <th>1</th>\n",
              "      <th>2</th>\n",
              "      <th>3</th>\n",
              "      <th>4</th>\n",
              "      <th>5</th>\n",
              "      <th>6</th>\n",
              "      <th>7</th>\n",
              "    </tr>\n",
              "  </thead>\n",
              "  <tbody>\n",
              "    <tr>\n",
              "      <th>0</th>\n",
              "      <td>0.000000</td>\n",
              "      <td>19.993434</td>\n",
              "      <td>34.816948</td>\n",
              "      <td>38.867196</td>\n",
              "      <td>52.658215</td>\n",
              "      <td>72.439730</td>\n",
              "      <td>91.029943</td>\n",
              "      <td>98.056666</td>\n",
              "    </tr>\n",
              "    <tr>\n",
              "      <th>1</th>\n",
              "      <td>19.993434</td>\n",
              "      <td>0.000000</td>\n",
              "      <td>14.823514</td>\n",
              "      <td>18.873762</td>\n",
              "      <td>32.664781</td>\n",
              "      <td>52.446295</td>\n",
              "      <td>71.036509</td>\n",
              "      <td>78.063231</td>\n",
              "    </tr>\n",
              "    <tr>\n",
              "      <th>2</th>\n",
              "      <td>34.816948</td>\n",
              "      <td>14.823514</td>\n",
              "      <td>0.000000</td>\n",
              "      <td>19.752549</td>\n",
              "      <td>33.543568</td>\n",
              "      <td>53.325083</td>\n",
              "      <td>71.915296</td>\n",
              "      <td>78.942019</td>\n",
              "    </tr>\n",
              "    <tr>\n",
              "      <th>3</th>\n",
              "      <td>38.867196</td>\n",
              "      <td>18.873762</td>\n",
              "      <td>19.752549</td>\n",
              "      <td>0.000000</td>\n",
              "      <td>13.791019</td>\n",
              "      <td>33.572534</td>\n",
              "      <td>52.162747</td>\n",
              "      <td>59.189470</td>\n",
              "    </tr>\n",
              "    <tr>\n",
              "      <th>4</th>\n",
              "      <td>52.658215</td>\n",
              "      <td>32.664781</td>\n",
              "      <td>33.543568</td>\n",
              "      <td>13.791019</td>\n",
              "      <td>0.000000</td>\n",
              "      <td>19.781514</td>\n",
              "      <td>38.371728</td>\n",
              "      <td>45.398450</td>\n",
              "    </tr>\n",
              "    <tr>\n",
              "      <th>5</th>\n",
              "      <td>72.439730</td>\n",
              "      <td>52.446295</td>\n",
              "      <td>53.325083</td>\n",
              "      <td>33.572534</td>\n",
              "      <td>19.781514</td>\n",
              "      <td>0.000000</td>\n",
              "      <td>18.590213</td>\n",
              "      <td>25.616936</td>\n",
              "    </tr>\n",
              "    <tr>\n",
              "      <th>6</th>\n",
              "      <td>91.029943</td>\n",
              "      <td>71.036509</td>\n",
              "      <td>71.915296</td>\n",
              "      <td>52.162747</td>\n",
              "      <td>38.371728</td>\n",
              "      <td>18.590213</td>\n",
              "      <td>0.000000</td>\n",
              "      <td>7.026723</td>\n",
              "    </tr>\n",
              "    <tr>\n",
              "      <th>7</th>\n",
              "      <td>98.056666</td>\n",
              "      <td>78.063231</td>\n",
              "      <td>78.942019</td>\n",
              "      <td>59.189470</td>\n",
              "      <td>45.398450</td>\n",
              "      <td>25.616936</td>\n",
              "      <td>7.026723</td>\n",
              "      <td>0.000000</td>\n",
              "    </tr>\n",
              "  </tbody>\n",
              "</table>\n",
              "</div>\n",
              "      <button class=\"colab-df-convert\" onclick=\"convertToInteractive('df-638ebf28-7f2b-4499-bd29-3f4af21b34f8')\"\n",
              "              title=\"Convert this dataframe to an interactive table.\"\n",
              "              style=\"display:none;\">\n",
              "        \n",
              "  <svg xmlns=\"http://www.w3.org/2000/svg\" height=\"24px\"viewBox=\"0 0 24 24\"\n",
              "       width=\"24px\">\n",
              "    <path d=\"M0 0h24v24H0V0z\" fill=\"none\"/>\n",
              "    <path d=\"M18.56 5.44l.94 2.06.94-2.06 2.06-.94-2.06-.94-.94-2.06-.94 2.06-2.06.94zm-11 1L8.5 8.5l.94-2.06 2.06-.94-2.06-.94L8.5 2.5l-.94 2.06-2.06.94zm10 10l.94 2.06.94-2.06 2.06-.94-2.06-.94-.94-2.06-.94 2.06-2.06.94z\"/><path d=\"M17.41 7.96l-1.37-1.37c-.4-.4-.92-.59-1.43-.59-.52 0-1.04.2-1.43.59L10.3 9.45l-7.72 7.72c-.78.78-.78 2.05 0 2.83L4 21.41c.39.39.9.59 1.41.59.51 0 1.02-.2 1.41-.59l7.78-7.78 2.81-2.81c.8-.78.8-2.07 0-2.86zM5.41 20L4 18.59l7.72-7.72 1.47 1.35L5.41 20z\"/>\n",
              "  </svg>\n",
              "      </button>\n",
              "      \n",
              "  <style>\n",
              "    .colab-df-container {\n",
              "      display:flex;\n",
              "      flex-wrap:wrap;\n",
              "      gap: 12px;\n",
              "    }\n",
              "\n",
              "    .colab-df-convert {\n",
              "      background-color: #E8F0FE;\n",
              "      border: none;\n",
              "      border-radius: 50%;\n",
              "      cursor: pointer;\n",
              "      display: none;\n",
              "      fill: #1967D2;\n",
              "      height: 32px;\n",
              "      padding: 0 0 0 0;\n",
              "      width: 32px;\n",
              "    }\n",
              "\n",
              "    .colab-df-convert:hover {\n",
              "      background-color: #E2EBFA;\n",
              "      box-shadow: 0px 1px 2px rgba(60, 64, 67, 0.3), 0px 1px 3px 1px rgba(60, 64, 67, 0.15);\n",
              "      fill: #174EA6;\n",
              "    }\n",
              "\n",
              "    [theme=dark] .colab-df-convert {\n",
              "      background-color: #3B4455;\n",
              "      fill: #D2E3FC;\n",
              "    }\n",
              "\n",
              "    [theme=dark] .colab-df-convert:hover {\n",
              "      background-color: #434B5C;\n",
              "      box-shadow: 0px 1px 3px 1px rgba(0, 0, 0, 0.15);\n",
              "      filter: drop-shadow(0px 1px 2px rgba(0, 0, 0, 0.3));\n",
              "      fill: #FFFFFF;\n",
              "    }\n",
              "  </style>\n",
              "\n",
              "      <script>\n",
              "        const buttonEl =\n",
              "          document.querySelector('#df-638ebf28-7f2b-4499-bd29-3f4af21b34f8 button.colab-df-convert');\n",
              "        buttonEl.style.display =\n",
              "          google.colab.kernel.accessAllowed ? 'block' : 'none';\n",
              "\n",
              "        async function convertToInteractive(key) {\n",
              "          const element = document.querySelector('#df-638ebf28-7f2b-4499-bd29-3f4af21b34f8');\n",
              "          const dataTable =\n",
              "            await google.colab.kernel.invokeFunction('convertToInteractive',\n",
              "                                                     [key], {});\n",
              "          if (!dataTable) return;\n",
              "\n",
              "          const docLinkHtml = 'Like what you see? Visit the ' +\n",
              "            '<a target=\"_blank\" href=https://colab.research.google.com/notebooks/data_table.ipynb>data table notebook</a>'\n",
              "            + ' to learn more about interactive tables.';\n",
              "          element.innerHTML = '';\n",
              "          dataTable['output_type'] = 'display_data';\n",
              "          await google.colab.output.renderOutput(dataTable, element);\n",
              "          const docLink = document.createElement('div');\n",
              "          docLink.innerHTML = docLinkHtml;\n",
              "          element.appendChild(docLink);\n",
              "        }\n",
              "      </script>\n",
              "    </div>\n",
              "  </div>\n",
              "  "
            ]
          },
          "metadata": {},
          "execution_count": 47
        }
      ]
    },
    {
      "cell_type": "markdown",
      "source": [
        "For clarity : The below table \n",
        "\n",
        "*   val[i][j] = -1  means the drone flies directly\n",
        "*   val[i][j] = k  means the drone flies by stopping at k between i and j\n",
        "*   val[i][j] = -inf  same location\n",
        "\n"
      ],
      "metadata": {
        "id": "P2Q8LL5l1it4"
      }
    },
    {
      "cell_type": "code",
      "source": [
        "pd.DataFrame(routePassage)"
      ],
      "metadata": {
        "colab": {
          "base_uri": "https://localhost:8080/",
          "height": 300
        },
        "id": "57oK4FLl1bJh",
        "outputId": "3310ae65-5493-4f80-b0f9-239a651c0407"
      },
      "execution_count": 48,
      "outputs": [
        {
          "output_type": "execute_result",
          "data": {
            "text/plain": [
              "     0    1    2    3    4    5    6    7\n",
              "0 -inf -1.0  1.0  1.0  3.0  4.0  5.0  6.0\n",
              "1 -1.0 -inf -1.0 -1.0  3.0  4.0  5.0  6.0\n",
              "2  1.0 -1.0 -inf -1.0  3.0  4.0  5.0  6.0\n",
              "3  1.0 -1.0 -1.0 -inf -1.0  4.0  5.0  6.0\n",
              "4  3.0  3.0  3.0 -1.0 -inf -1.0  5.0  6.0\n",
              "5  4.0  4.0  4.0  4.0 -1.0 -inf -1.0  6.0\n",
              "6  5.0  5.0  5.0  5.0  5.0 -1.0 -inf -1.0\n",
              "7  6.0  6.0  6.0  6.0  6.0  6.0 -1.0 -inf"
            ],
            "text/html": [
              "\n",
              "  <div id=\"df-1dcc86f4-935a-4709-8f2d-8fd233511d30\">\n",
              "    <div class=\"colab-df-container\">\n",
              "      <div>\n",
              "<style scoped>\n",
              "    .dataframe tbody tr th:only-of-type {\n",
              "        vertical-align: middle;\n",
              "    }\n",
              "\n",
              "    .dataframe tbody tr th {\n",
              "        vertical-align: top;\n",
              "    }\n",
              "\n",
              "    .dataframe thead th {\n",
              "        text-align: right;\n",
              "    }\n",
              "</style>\n",
              "<table border=\"1\" class=\"dataframe\">\n",
              "  <thead>\n",
              "    <tr style=\"text-align: right;\">\n",
              "      <th></th>\n",
              "      <th>0</th>\n",
              "      <th>1</th>\n",
              "      <th>2</th>\n",
              "      <th>3</th>\n",
              "      <th>4</th>\n",
              "      <th>5</th>\n",
              "      <th>6</th>\n",
              "      <th>7</th>\n",
              "    </tr>\n",
              "  </thead>\n",
              "  <tbody>\n",
              "    <tr>\n",
              "      <th>0</th>\n",
              "      <td>-inf</td>\n",
              "      <td>-1.0</td>\n",
              "      <td>1.0</td>\n",
              "      <td>1.0</td>\n",
              "      <td>3.0</td>\n",
              "      <td>4.0</td>\n",
              "      <td>5.0</td>\n",
              "      <td>6.0</td>\n",
              "    </tr>\n",
              "    <tr>\n",
              "      <th>1</th>\n",
              "      <td>-1.0</td>\n",
              "      <td>-inf</td>\n",
              "      <td>-1.0</td>\n",
              "      <td>-1.0</td>\n",
              "      <td>3.0</td>\n",
              "      <td>4.0</td>\n",
              "      <td>5.0</td>\n",
              "      <td>6.0</td>\n",
              "    </tr>\n",
              "    <tr>\n",
              "      <th>2</th>\n",
              "      <td>1.0</td>\n",
              "      <td>-1.0</td>\n",
              "      <td>-inf</td>\n",
              "      <td>-1.0</td>\n",
              "      <td>3.0</td>\n",
              "      <td>4.0</td>\n",
              "      <td>5.0</td>\n",
              "      <td>6.0</td>\n",
              "    </tr>\n",
              "    <tr>\n",
              "      <th>3</th>\n",
              "      <td>1.0</td>\n",
              "      <td>-1.0</td>\n",
              "      <td>-1.0</td>\n",
              "      <td>-inf</td>\n",
              "      <td>-1.0</td>\n",
              "      <td>4.0</td>\n",
              "      <td>5.0</td>\n",
              "      <td>6.0</td>\n",
              "    </tr>\n",
              "    <tr>\n",
              "      <th>4</th>\n",
              "      <td>3.0</td>\n",
              "      <td>3.0</td>\n",
              "      <td>3.0</td>\n",
              "      <td>-1.0</td>\n",
              "      <td>-inf</td>\n",
              "      <td>-1.0</td>\n",
              "      <td>5.0</td>\n",
              "      <td>6.0</td>\n",
              "    </tr>\n",
              "    <tr>\n",
              "      <th>5</th>\n",
              "      <td>4.0</td>\n",
              "      <td>4.0</td>\n",
              "      <td>4.0</td>\n",
              "      <td>4.0</td>\n",
              "      <td>-1.0</td>\n",
              "      <td>-inf</td>\n",
              "      <td>-1.0</td>\n",
              "      <td>6.0</td>\n",
              "    </tr>\n",
              "    <tr>\n",
              "      <th>6</th>\n",
              "      <td>5.0</td>\n",
              "      <td>5.0</td>\n",
              "      <td>5.0</td>\n",
              "      <td>5.0</td>\n",
              "      <td>5.0</td>\n",
              "      <td>-1.0</td>\n",
              "      <td>-inf</td>\n",
              "      <td>-1.0</td>\n",
              "    </tr>\n",
              "    <tr>\n",
              "      <th>7</th>\n",
              "      <td>6.0</td>\n",
              "      <td>6.0</td>\n",
              "      <td>6.0</td>\n",
              "      <td>6.0</td>\n",
              "      <td>6.0</td>\n",
              "      <td>6.0</td>\n",
              "      <td>-1.0</td>\n",
              "      <td>-inf</td>\n",
              "    </tr>\n",
              "  </tbody>\n",
              "</table>\n",
              "</div>\n",
              "      <button class=\"colab-df-convert\" onclick=\"convertToInteractive('df-1dcc86f4-935a-4709-8f2d-8fd233511d30')\"\n",
              "              title=\"Convert this dataframe to an interactive table.\"\n",
              "              style=\"display:none;\">\n",
              "        \n",
              "  <svg xmlns=\"http://www.w3.org/2000/svg\" height=\"24px\"viewBox=\"0 0 24 24\"\n",
              "       width=\"24px\">\n",
              "    <path d=\"M0 0h24v24H0V0z\" fill=\"none\"/>\n",
              "    <path d=\"M18.56 5.44l.94 2.06.94-2.06 2.06-.94-2.06-.94-.94-2.06-.94 2.06-2.06.94zm-11 1L8.5 8.5l.94-2.06 2.06-.94-2.06-.94L8.5 2.5l-.94 2.06-2.06.94zm10 10l.94 2.06.94-2.06 2.06-.94-2.06-.94-.94-2.06-.94 2.06-2.06.94z\"/><path d=\"M17.41 7.96l-1.37-1.37c-.4-.4-.92-.59-1.43-.59-.52 0-1.04.2-1.43.59L10.3 9.45l-7.72 7.72c-.78.78-.78 2.05 0 2.83L4 21.41c.39.39.9.59 1.41.59.51 0 1.02-.2 1.41-.59l7.78-7.78 2.81-2.81c.8-.78.8-2.07 0-2.86zM5.41 20L4 18.59l7.72-7.72 1.47 1.35L5.41 20z\"/>\n",
              "  </svg>\n",
              "      </button>\n",
              "      \n",
              "  <style>\n",
              "    .colab-df-container {\n",
              "      display:flex;\n",
              "      flex-wrap:wrap;\n",
              "      gap: 12px;\n",
              "    }\n",
              "\n",
              "    .colab-df-convert {\n",
              "      background-color: #E8F0FE;\n",
              "      border: none;\n",
              "      border-radius: 50%;\n",
              "      cursor: pointer;\n",
              "      display: none;\n",
              "      fill: #1967D2;\n",
              "      height: 32px;\n",
              "      padding: 0 0 0 0;\n",
              "      width: 32px;\n",
              "    }\n",
              "\n",
              "    .colab-df-convert:hover {\n",
              "      background-color: #E2EBFA;\n",
              "      box-shadow: 0px 1px 2px rgba(60, 64, 67, 0.3), 0px 1px 3px 1px rgba(60, 64, 67, 0.15);\n",
              "      fill: #174EA6;\n",
              "    }\n",
              "\n",
              "    [theme=dark] .colab-df-convert {\n",
              "      background-color: #3B4455;\n",
              "      fill: #D2E3FC;\n",
              "    }\n",
              "\n",
              "    [theme=dark] .colab-df-convert:hover {\n",
              "      background-color: #434B5C;\n",
              "      box-shadow: 0px 1px 3px 1px rgba(0, 0, 0, 0.15);\n",
              "      filter: drop-shadow(0px 1px 2px rgba(0, 0, 0, 0.3));\n",
              "      fill: #FFFFFF;\n",
              "    }\n",
              "  </style>\n",
              "\n",
              "      <script>\n",
              "        const buttonEl =\n",
              "          document.querySelector('#df-1dcc86f4-935a-4709-8f2d-8fd233511d30 button.colab-df-convert');\n",
              "        buttonEl.style.display =\n",
              "          google.colab.kernel.accessAllowed ? 'block' : 'none';\n",
              "\n",
              "        async function convertToInteractive(key) {\n",
              "          const element = document.querySelector('#df-1dcc86f4-935a-4709-8f2d-8fd233511d30');\n",
              "          const dataTable =\n",
              "            await google.colab.kernel.invokeFunction('convertToInteractive',\n",
              "                                                     [key], {});\n",
              "          if (!dataTable) return;\n",
              "\n",
              "          const docLinkHtml = 'Like what you see? Visit the ' +\n",
              "            '<a target=\"_blank\" href=https://colab.research.google.com/notebooks/data_table.ipynb>data table notebook</a>'\n",
              "            + ' to learn more about interactive tables.';\n",
              "          element.innerHTML = '';\n",
              "          dataTable['output_type'] = 'display_data';\n",
              "          await google.colab.output.renderOutput(dataTable, element);\n",
              "          const docLink = document.createElement('div');\n",
              "          docLink.innerHTML = docLinkHtml;\n",
              "          element.appendChild(docLink);\n",
              "        }\n",
              "      </script>\n",
              "    </div>\n",
              "  </div>\n",
              "  "
            ]
          },
          "metadata": {},
          "execution_count": 48
        }
      ]
    },
    {
      "cell_type": "markdown",
      "metadata": {
        "id": "0yWe_8Vu54CI"
      },
      "source": [
        "# Part 3: Get drones from Stockholm to the docks!\n",
        "\n",
        "Let's say we installed empty docks into each of the selected lighthouses. How long would it take to fill every dock if we are dispatching the drones from Stockholm, and a drone takes 45 minutes to fully charge its battery in the dock?\n",
        "\n",
        "You may choose to write code here at any level of depth for this problem, or you can provide a ballpark estimate with a few written sentences."
      ]
    },
    {
      "cell_type": "markdown",
      "source": [
        "![](https://drive.google.com/uc?export=view&id=1WbGVXfwI_K2A_bnJwJATGpzvsH58fQBH)\n"
      ],
      "metadata": {
        "id": "mh_O7S_mDPza"
      }
    },
    {
      "cell_type": "markdown",
      "source": [
        "We see that we have to send 7 drones from Stockholm, the above picture shows the connections.\n",
        "\n",
        "At each lighthouse the drone will spend 45 mins to charge on its way to the end of the line.\n",
        "\n",
        "* L1 : All the 7 drones will pass here, we have to consider 6 charging time\n",
        "* L2 : Only one drone reaches here, and no charging to consider\n",
        "* L3 : 5 drones passes here and 4 drone stops for charging.\n",
        "* L4 : 4 drones passes here and 3 drone stops for charging.\n",
        "* L5 : 3 drones passes here and 2 drone stops for charging.\n",
        "* L6 : 2 drones passes here and 1 drone stops for charging.\n",
        "* L7 : Only one drone reaches here, and no charging to consider"
      ],
      "metadata": {
        "id": "RGEhQCtwFe4e"
      }
    },
    {
      "cell_type": "markdown",
      "source": [
        "\n",
        "And to make things efficient we start a drone from stockholm every 17th minute after releasing the first one. So that the travel time from second drone onwards comes under the charging time of the previous drone at lighthouse 1.\n",
        "\n"
      ],
      "metadata": {
        "id": "4-9LH5iTH_Q6"
      }
    },
    {
      "cell_type": "markdown",
      "source": [
        "Further on the configurations are here such that we can make sure that a drone reaches the lighthouse, when the previous drone is fully charged and ready go to next lighthouse"
      ],
      "metadata": {
        "id": "nsVmrGTIJB-7"
      }
    },
    {
      "cell_type": "markdown",
      "source": [
        "![](https://drive.google.com/uc?export=view&id=1QfyMt1cH61-_y5FK3YltlapjN9Cdxw2j)\n"
      ],
      "metadata": {
        "id": "udqadq39YjeE"
      }
    },
    {
      "cell_type": "markdown",
      "source": [
        "The above image shows two ways of calculating the time to install all the lighthouses with drones.\n",
        "First Calculation it takes **361** mins and in the Second calculation it takes **406** mins, thats because in the first scenario when we are flying the drone to closest lighthouse in a different stem(LH2), there are other drone flying consecutively in the bottom path to Toro as shown in the figure. "
      ],
      "metadata": {
        "id": "oa1VNec2YuX7"
      }
    },
    {
      "cell_type": "markdown",
      "source": [
        "**361** minutes"
      ],
      "metadata": {
        "id": "q222ReP2aQ53"
      }
    },
    {
      "cell_type": "markdown",
      "source": [
        "We can come up with a generic algorithm where we send drones to the longest sub-tree first and follow a descending order.\n",
        "This way we can overlap flying time of multiple drones"
      ],
      "metadata": {
        "id": "prOJfDdjZmoe"
      }
    },
    {
      "cell_type": "markdown",
      "metadata": {
        "id": "OR6eCBGQ9eDo"
      },
      "source": [
        "# Discussion\n",
        "\n",
        "Describe roughly the amount of time you spent on this challenge and any notes you would like to share about your approach."
      ]
    },
    {
      "cell_type": "markdown",
      "metadata": {
        "id": "ACF8lAFO9h-A"
      },
      "source": [
        "* Time Spend 15 hrs across 4 days.\n",
        "* Initial challenges were to understand the pydeck layouts and plot the map.\n",
        "* Initially my thought process was to find a path from Stockholm to Vindo and then to Toro and then back to Stockholm. Even though the initial thought process was little off the track but it did not affect my visualization of the lighthouses.\n",
        "* As the drone has a flight time of 30 mins I was trying to develop a generic usecase to figure out the bounding boxes inside which we need to find the lighthouses. Even though in the given scenario it dosent effect that much, but if we want to move the project to differnt location this will be useful.\n",
        "* Calculating the optimal path, required a DP solution and to traceback on how to reach the destination required some manual tracing to see how it flow.\n",
        "* Finding the time to setup the whole drone system (PartC), it was hard to find the correlation on how taking a particular part is faster. But later I was able to figure out if we send the drone to the longest path first, the time for the drone to reach the final spot would be an approx time to setup the whole system in **most cases**.\n"
      ]
    },
    {
      "cell_type": "markdown",
      "metadata": {
        "id": "YxB_pwgt56kY"
      },
      "source": [
        "# Stretch goal (optional)\n",
        "\n",
        "Analyze and visualize any other interesting aspect of this proposal. What is some problem we might run into or information the customer could want to know about using this network of docked drones for search and rescue?"
      ]
    },
    {
      "cell_type": "markdown",
      "source": [
        "\n",
        "\n",
        "*   We will have to build a system in the docking station to store any drone if gone bad, and this system should be connected to the docking station.\n",
        "  \n",
        "  If suppose a drone, dosent respond or stops working when docked we need a mechanism to dispose it without manual intervention, so that the new incoming drone can take its place.\n",
        "*   The customer would probably want to know about the coverage map of all the drones combined, so that during search and rescue, the drone warns when it flies off the region and cant make it back to the docking station.\n",
        "\n",
        "*   The battery, flight time are all considered here as an ideal time, this may vary based on the environment and usage of the drone, this also should be processed during the drone flight and the coverage map should be updated based on that.\n",
        "\n"
      ],
      "metadata": {
        "id": "210FHCKZdKF7"
      }
    }
  ]
}